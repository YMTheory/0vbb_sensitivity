{
 "cells": [
  {
   "cell_type": "markdown",
   "metadata": {},
   "source": [
    "# Import and Setup"
   ]
  },
  {
   "cell_type": "markdown",
   "metadata": {},
   "source": [
    "### Import useful libraries for analysis"
   ]
  },
  {
   "cell_type": "code",
   "execution_count": 1,
   "metadata": {},
   "outputs": [],
   "source": [
    "import os\n",
    "import pandas as pd\n",
    "import numpy as np\n",
    "import scipy.stats as st"
   ]
  },
  {
   "cell_type": "markdown",
   "metadata": {},
   "source": [
    "### Choose version of Discovery Potential Calculation to run"
   ]
  },
  {
   "cell_type": "code",
   "execution_count": 2,
   "metadata": {},
   "outputs": [],
   "source": [
    "version = 44\n",
    "Livetime = 10.0"
   ]
  },
  {
   "cell_type": "code",
   "execution_count": 3,
   "metadata": {},
   "outputs": [],
   "source": [
    "SensPath = '/p/lustre1/jamil1/'\n",
    "SensPath = '/gpfs/slac/staas/fs1/g/exo/exo_data8/exo_data/users/akojamil/nexo/'"
   ]
  },
  {
   "cell_type": "code",
   "execution_count": 4,
   "metadata": {},
   "outputs": [],
   "source": [
    "import pandas as pd \n",
    "dp_csv = pd.read_csv(SensPath+'sensitivity/work/SensitivityPaper2020_scripts/DiscoveryPotential/dp_versions.csv', \n",
    "                     usecols=[0,1,2,3,4,8])\n",
    "dp_version = dp_csv[dp_csv['Name'].str.contains(\"Version %d\" % version)]"
   ]
  },
  {
   "cell_type": "code",
   "execution_count": 5,
   "metadata": {},
   "outputs": [],
   "source": [
    "PlotDir = SensPath+'sensitivity/work/SensitivityPaper2020_scripts/DiscoveryPotential/plots/version%d/' % version\n",
    "DataDir = str(dp_version['Data Directory'].to_numpy()[0])+'/h5/'\n",
    "\n",
    "if not os.path.isdir(PlotDir):\n",
    "    os.makedirs(PlotDir)"
   ]
  },
  {
   "cell_type": "markdown",
   "metadata": {},
   "source": [
    "### Import the nEXO sensitivity classes"
   ]
  },
  {
   "cell_type": "code",
   "execution_count": 6,
   "metadata": {},
   "outputs": [],
   "source": [
    "import sys\n",
    "sys.path.append(SensPath+'sensitivity/modules')\n",
    "\n",
    "import nEXOFitWorkspace\n",
    "import nEXOFitModel\n",
    "import nEXOFitLikelihood"
   ]
  },
  {
   "cell_type": "markdown",
   "metadata": {},
   "source": [
    "### Adjusting plots"
   ]
  },
  {
   "cell_type": "code",
   "execution_count": 7,
   "metadata": {},
   "outputs": [],
   "source": [
    "from matplotlib import pyplot as plt\n",
    "plt.style.use('../PaperPlots/sensitivity.mplstyle')\n",
    "colors = plt.rcParams['axes.prop_cycle'].by_key()['color']"
   ]
  },
  {
   "cell_type": "markdown",
   "metadata": {},
   "source": [
    "### Useful functions"
   ]
  },
  {
   "cell_type": "markdown",
   "metadata": {},
   "source": [
    "This function sorts a list of strings in a natural way, i.e. '10' comes after '1'. "
   ]
  },
  {
   "cell_type": "code",
   "execution_count": 8,
   "metadata": {},
   "outputs": [],
   "source": [
    "import re\n",
    "\n",
    "def natural_sort(l): \n",
    "    convert = lambda text: int(text) if text.isdigit() else text.lower() \n",
    "    alphanum_key = lambda key: [ convert(c) for c in re.split('([0-9]+)', key) ] \n",
    "    return sorted(l, key = alphanum_key)"
   ]
  },
  {
   "cell_type": "markdown",
   "metadata": {},
   "source": [
    "This function uses the isotopic abundance of Xe-136 and Xe-134 and their respective molar masses to calculate the number of Xe-136 atoms in any given fiducial mass. Combined with a predetermined signal efficiency it returns the expected lower limit on the half-life."
   ]
  },
  {
   "cell_type": "code",
   "execution_count": 9,
   "metadata": {},
   "outputs": [],
   "source": [
    "mmass_xe136 = 135.907214 # in gram/mol \n",
    "mmass_xe134 = 133.905393 # in gram/mol \n",
    "Avogadro = 6.02214076E23 # in 1/mol\n",
    "bb0n_eff = 0.963\n",
    "XeMass_fiducial = 3281.0*1000.0 # in gram\n",
    "frac_136 = 0.9\n",
    "frac_134 = 0.1\n",
    "\n",
    "def GetLivetime(Num, Livetime):\n",
    "    NXenon136 = (XeMass_fiducial * Avogadro * frac_136) / (frac_136 * mmass_xe136 + frac_134  * mmass_xe134)\n",
    "    return bb0n_eff * NXenon136 * Livetime  * np.log(2.0) / Num\n",
    "\n",
    "def GetSignalCount(Halflife, Livetime): \n",
    "    NXenon136 = (XeMass_fiducial * Avogadro * frac_136) / (frac_136 * mmass_xe136 + frac_134  * mmass_xe134)\n",
    "    return bb0n_eff * NXenon136 * Livetime  * np.log(2.0) / Halflife"
   ]
  },
  {
   "cell_type": "markdown",
   "metadata": {},
   "source": [
    "# Data Read-In\n",
    "Define directory from where to read in the data and select only HDF5 files."
   ]
  },
  {
   "cell_type": "code",
   "execution_count": 10,
   "metadata": {},
   "outputs": [
    {
     "name": "stdout",
     "output_type": "stream",
     "text": [
      "Number of files 10250\n"
     ]
    }
   ],
   "source": [
    "AllFiles = os.listdir(DataDir)\n",
    "H5Files = [filename for filename in AllFiles if filename.endswith('.h5')]\n",
    "print('Number of files {}'.format(len(H5Files)))"
   ]
  },
  {
   "cell_type": "markdown",
   "metadata": {},
   "source": [
    "For all HDF5 files that were found in the above directory we want to sort them by simulated Scaling of the experiment and mean number of signal counts that were used in the toy datasets. The filename follows this naming convention: DiscoverPotential_bb0n_[num]ct_[Scaling]yrs.h5 where num is the mean number of signal counts in the toy datasets and Scaling is the simulated Scaling of nEXO."
   ]
  },
  {
   "cell_type": "code",
   "execution_count": 11,
   "metadata": {},
   "outputs": [
    {
     "name": "stdout",
     "output_type": "stream",
     "text": [
      "{10.0: ['DiscoveryPotential_bb0n_0ct_10.0yrs_g10.0', 'DiscoveryPotential_bb0n_1ct_10.0yrs_g10.0', 'DiscoveryPotential_bb0n_2ct_10.0yrs_g10.0', 'DiscoveryPotential_bb0n_4ct_10.0yrs_g10.0', 'DiscoveryPotential_bb0n_6ct_10.0yrs_g10.0', 'DiscoveryPotential_bb0n_8ct_10.0yrs_g10.0', 'DiscoveryPotential_bb0n_10ct_10.0yrs_g10.0', 'DiscoveryPotential_bb0n_12ct_10.0yrs_g10.0', 'DiscoveryPotential_bb0n_14ct_10.0yrs_g10.0', 'DiscoveryPotential_bb0n_16ct_10.0yrs_g10.0', 'DiscoveryPotential_bb0n_18ct_10.0yrs_g10.0', 'DiscoveryPotential_bb0n_20ct_10.0yrs_g10.0', 'DiscoveryPotential_bb0n_22ct_10.0yrs_g10.0', 'DiscoveryPotential_bb0n_24ct_10.0yrs_g10.0', 'DiscoveryPotential_bb0n_26ct_10.0yrs_g10.0', 'DiscoveryPotential_bb0n_28ct_10.0yrs_g10.0', 'DiscoveryPotential_bb0n_30ct_10.0yrs_g10.0', 'DiscoveryPotential_bb0n_32ct_10.0yrs_g10.0', 'DiscoveryPotential_bb0n_34ct_10.0yrs_g10.0', 'DiscoveryPotential_bb0n_36ct_10.0yrs_g10.0', 'DiscoveryPotential_bb0n_38ct_10.0yrs_g10.0', 'DiscoveryPotential_bb0n_40ct_10.0yrs_g10.0']}\n"
     ]
    }
   ],
   "source": [
    "BkgScaling = [10.0]\n",
    "Tags = {}\n",
    "for ii,Scaling in enumerate(BkgScaling):\n",
    "    Tags[Scaling] = natural_sort(np.unique(['_'.join(x.split('_')[:3])\n",
    "                                 +'_10.0yrs_g%.1f' % Scaling for x in H5Files if 'g%.1f' % Scaling in x]))\n",
    "print(Tags)"
   ]
  },
  {
   "cell_type": "markdown",
   "metadata": {},
   "source": [
    "Sorting by mean number of signal counts and Scaling we read in the data into a python dictionary of pandas DataFrames. "
   ]
  },
  {
   "cell_type": "code",
   "execution_count": 12,
   "metadata": {},
   "outputs": [
    {
     "name": "stdout",
     "output_type": "stream",
     "text": [
      "===============   10.0 scaling of backgrounds   ===============\n",
      "Number of file for DiscoveryPotential_bb0n_0ct_10.0yrs_g10.0: 1000\n",
      "Number of file for DiscoveryPotential_bb0n_1ct_10.0yrs_g10.0: 50\n",
      "Number of file for DiscoveryPotential_bb0n_2ct_10.0yrs_g10.0: 50\n",
      "Number of file for DiscoveryPotential_bb0n_4ct_10.0yrs_g10.0: 50\n",
      "Number of file for DiscoveryPotential_bb0n_6ct_10.0yrs_g10.0: 50\n",
      "Number of file for DiscoveryPotential_bb0n_8ct_10.0yrs_g10.0: 50\n",
      "Number of file for DiscoveryPotential_bb0n_10ct_10.0yrs_g10.0: 50\n",
      "Number of file for DiscoveryPotential_bb0n_12ct_10.0yrs_g10.0: 50\n",
      "Number of file for DiscoveryPotential_bb0n_14ct_10.0yrs_g10.0: 50\n",
      "Number of file for DiscoveryPotential_bb0n_16ct_10.0yrs_g10.0: 50\n",
      "Number of file for DiscoveryPotential_bb0n_18ct_10.0yrs_g10.0: 50\n",
      "Number of file for DiscoveryPotential_bb0n_20ct_10.0yrs_g10.0: 50\n",
      "Number of file for DiscoveryPotential_bb0n_22ct_10.0yrs_g10.0: 50\n",
      "Number of file for DiscoveryPotential_bb0n_24ct_10.0yrs_g10.0: 50\n",
      "Number of file for DiscoveryPotential_bb0n_26ct_10.0yrs_g10.0: 50\n",
      "Number of file for DiscoveryPotential_bb0n_28ct_10.0yrs_g10.0: 50\n",
      "Number of file for DiscoveryPotential_bb0n_30ct_10.0yrs_g10.0: 50\n",
      "Number of file for DiscoveryPotential_bb0n_32ct_10.0yrs_g10.0: 50\n",
      "Number of file for DiscoveryPotential_bb0n_34ct_10.0yrs_g10.0: 50\n",
      "Number of file for DiscoveryPotential_bb0n_36ct_10.0yrs_g10.0: 50\n",
      "Number of file for DiscoveryPotential_bb0n_38ct_10.0yrs_g10.0: 50\n",
      "Number of file for DiscoveryPotential_bb0n_40ct_10.0yrs_g10.0: 50\n"
     ]
    }
   ],
   "source": [
    "dfdict = {}\n",
    "\n",
    "for Scaling in BkgScaling:\n",
    "    print('='*15 + '   {} scaling of backgrounds   '.format(Scaling) + '='*15)\n",
    "    dfdict[Scaling] = {}\n",
    "    for category in Tags[Scaling]:\n",
    "        df_list = [pd.read_hdf(DataDir+filename) for filename in H5Files if category in filename]\n",
    "        print('Number of file for {}: {}'.format(category, len(df_list)))\n",
    "        dfdict[Scaling][category] = pd.concat(df_list,ignore_index=True)\n",
    "        "
   ]
  },
  {
   "cell_type": "markdown",
   "metadata": {},
   "source": [
    "# Selection Cut\n",
    "Prevent datasets from entering the distribution of test statistics for which either one of the hypothesis test fits with a fixed number of bb0n counts or the global best fit did not converge. For each tag the percentage of converged datasets will be printed."
   ]
  },
  {
   "cell_type": "code",
   "execution_count": 13,
   "metadata": {
    "scrolled": false,
    "tags": []
   },
   "outputs": [
    {
     "name": "stdout",
     "output_type": "stream",
     "text": [
      "===============   10.0 scaling for backgrounds  ===============\n",
      "Running DiscoveryPotential_bb0n_0ct_10.0yrs_g10.0\n",
      "-> Convergence fraction: 0.9947\n",
      "Running DiscoveryPotential_bb0n_1ct_10.0yrs_g10.0\n",
      "-> Convergence fraction: 0.9934\n",
      "Running DiscoveryPotential_bb0n_2ct_10.0yrs_g10.0\n",
      "-> Convergence fraction: 0.9938\n",
      "Running DiscoveryPotential_bb0n_4ct_10.0yrs_g10.0\n",
      "-> Convergence fraction: 0.9918\n",
      "Running DiscoveryPotential_bb0n_6ct_10.0yrs_g10.0\n",
      "-> Convergence fraction: 0.989\n",
      "Running DiscoveryPotential_bb0n_8ct_10.0yrs_g10.0\n",
      "-> Convergence fraction: 0.988\n",
      "Running DiscoveryPotential_bb0n_10ct_10.0yrs_g10.0\n",
      "-> Convergence fraction: 0.9852\n",
      "Running DiscoveryPotential_bb0n_12ct_10.0yrs_g10.0\n",
      "-> Convergence fraction: 0.983\n",
      "Running DiscoveryPotential_bb0n_14ct_10.0yrs_g10.0\n",
      "-> Convergence fraction: 0.9834\n",
      "Running DiscoveryPotential_bb0n_16ct_10.0yrs_g10.0\n",
      "-> Convergence fraction: 0.9826\n",
      "Running DiscoveryPotential_bb0n_18ct_10.0yrs_g10.0\n",
      "-> Convergence fraction: 0.9802\n",
      "Running DiscoveryPotential_bb0n_20ct_10.0yrs_g10.0\n",
      "-> Convergence fraction: 0.9856\n",
      "Running DiscoveryPotential_bb0n_22ct_10.0yrs_g10.0\n",
      "-> Convergence fraction: 0.9846\n",
      "Running DiscoveryPotential_bb0n_24ct_10.0yrs_g10.0\n",
      "-> Convergence fraction: 0.9878\n",
      "Running DiscoveryPotential_bb0n_26ct_10.0yrs_g10.0\n",
      "-> Convergence fraction: 0.9868\n",
      "Running DiscoveryPotential_bb0n_28ct_10.0yrs_g10.0\n",
      "-> Convergence fraction: 0.9852\n",
      "Running DiscoveryPotential_bb0n_30ct_10.0yrs_g10.0\n",
      "-> Convergence fraction: 0.9868\n",
      "Running DiscoveryPotential_bb0n_32ct_10.0yrs_g10.0\n",
      "-> Convergence fraction: 0.988\n",
      "Running DiscoveryPotential_bb0n_34ct_10.0yrs_g10.0\n",
      "-> Convergence fraction: 0.9878\n",
      "Running DiscoveryPotential_bb0n_36ct_10.0yrs_g10.0\n",
      "-> Convergence fraction: 0.9898\n",
      "Running DiscoveryPotential_bb0n_38ct_10.0yrs_g10.0\n",
      "-> Convergence fraction: 0.9918\n",
      "Running DiscoveryPotential_bb0n_40ct_10.0yrs_g10.0\n",
      "-> Convergence fraction: 0.9924\n"
     ]
    }
   ],
   "source": [
    "maskdict = {}\n",
    "for Scaling in BkgScaling:\n",
    "    print('='*15 + '   {} scaling for backgrounds  '.format(Scaling) + '='*15)\n",
    "    maskdict[Scaling] = {} \n",
    "    for key, df in dfdict[Scaling].items():\n",
    "        shape_error = []\n",
    "        print('Running {}'.format(key))\n",
    "        good_fit_mask = []\n",
    "        for index,row in df.iterrows():\n",
    "            if np.sum(row['fixed_fit_acc_covar']) < len(row['fixed_fit_acc_covar'])-1 \\\n",
    "                or np.sum(row['fixed_fit_converged']) < len(row['num_signal']) \\\n",
    "                or not row['best_fit_covar'] \\\n",
    "                or not row['best_fit_converged'] \\\n",
    "                or np.min(row['lambda'])<-0.1:\n",
    "                good_fit_mask.append(False)\n",
    "            else:\n",
    "                good_fit_mask.append(True)\n",
    "\n",
    "        maskdict[Scaling][key] = np.array(good_fit_mask)\n",
    "        print('-> Convergence fraction: {:3.4}'.format(np.sum(maskdict[Scaling][key])/len(maskdict[Scaling][key])))"
   ]
  },
  {
   "cell_type": "markdown",
   "metadata": {},
   "source": [
    "# Analysis\n",
    "Here we go through all the toy datasets that have passed the above selection cut and record the value of the test statistic for which the mean number of signal events in the toy dataset is 0, hence we look at the first element in the $\\lambda$ curve. Since $\\lambda = 2\\cdot \\Delta \\mathrm{NNL}$ we will divide the test statistic value in the data by 2 to compute the signficance based on the $\\Delta \\mathrm{NNL}$ distribution. "
   ]
  },
  {
   "cell_type": "code",
   "execution_count": 14,
   "metadata": {
    "scrolled": false,
    "tags": []
   },
   "outputs": [],
   "source": [
    "DeltaNLL = {}\n",
    "import matplotlib.patches as mpatches\n",
    "for Scaling in BkgScaling: \n",
    "    DeltaNLL[Scaling] = {} \n",
    "    for key, df in dfdict[Scaling].items():\n",
    "        DeltaNLL[Scaling][key] = []\n",
    "        for ii,(x,y) in enumerate(zip(dfdict[Scaling][key]['num_signal'].loc[maskdict[Scaling][key]],\n",
    "                                      dfdict[Scaling][key]['lambda'].loc[maskdict[Scaling][key]])):\n",
    "            DeltaNLL[Scaling][key].append(y[0]/2.0)"
   ]
  },
  {
   "cell_type": "markdown",
   "metadata": {},
   "source": [
    "The below cell does a couple of things: \n",
    "- it plots the distribution of $\\Delta \\mathrm{NNL}$ for all the toy datasets in which the mean number of signal in the toy dataset is 0 (shown as gray shaded histogram). This will be the distribution of our null hypothesis based on which we will compute the p-value of the alternative hypothesis for which the mean number of signal counts in the toy dataset is greater than 0.\n",
    "- the distribution of $\\Delta \\mathrm{NNL}$ for the alternative hypotheses are plotted as colored histograms. \n",
    "- The median of each of those distributions is computed and plotted in the same color as vertical solid lines. \n",
    "- Given the median we calculate its p-value based on the null distribution (grey histogram), i.e. what is the median probability of getting a result as extreme or more extreme as this alternative hypothesis assuming the null hypothesis is true. \n",
    "- This will give a list of pairs of p-value and "
   ]
  },
  {
   "cell_type": "code",
   "execution_count": 15,
   "metadata": {
    "scrolled": false,
    "tags": []
   },
   "outputs": [
    {
     "name": "stdout",
     "output_type": "stream",
     "text": [
      "0 DiscoveryPotential_bb0n_1ct_10.0yrs_g10.0 9.014766910819816e-05\n",
      "1 DiscoveryPotential_bb0n_2ct_10.0yrs_g10.0 0.020786277245287366\n",
      "2 DiscoveryPotential_bb0n_4ct_10.0yrs_g10.0 0.27969345712028204\n",
      "3 DiscoveryPotential_bb0n_6ct_10.0yrs_g10.0 0.6292878880589505\n",
      "4 DiscoveryPotential_bb0n_8ct_10.0yrs_g10.0 1.1450095138309895\n",
      "5 DiscoveryPotential_bb0n_10ct_10.0yrs_g10.0 1.8016250795711117\n",
      "6 DiscoveryPotential_bb0n_12ct_10.0yrs_g10.0 2.409974397766205\n",
      "7 DiscoveryPotential_bb0n_14ct_10.0yrs_g10.0 3.192645302254844\n",
      "8 DiscoveryPotential_bb0n_16ct_10.0yrs_g10.0 3.9449896633245505\n",
      "9 DiscoveryPotential_bb0n_18ct_10.0yrs_g10.0 4.885715786901014\n",
      "10 DiscoveryPotential_bb0n_20ct_10.0yrs_g10.0 5.732671160843498\n",
      "11 DiscoveryPotential_bb0n_22ct_10.0yrs_g10.0 6.7302133407846885\n",
      "12 DiscoveryPotential_bb0n_24ct_10.0yrs_g10.0 7.796227938886033\n",
      "13 DiscoveryPotential_bb0n_26ct_10.0yrs_g10.0 8.918125621460481\n",
      "14 DiscoveryPotential_bb0n_28ct_10.0yrs_g10.0 10.022740301702221\n",
      "15 DiscoveryPotential_bb0n_30ct_10.0yrs_g10.0 11.177453171267837\n",
      "16 DiscoveryPotential_bb0n_32ct_10.0yrs_g10.0 12.217249593732278\n",
      "17 DiscoveryPotential_bb0n_34ct_10.0yrs_g10.0 13.584608508149309\n"
     ]
    },
    {
     "ename": "IndexError",
     "evalue": "list index out of range",
     "output_type": "error",
     "traceback": [
      "\u001b[0;31m---------------------------------------------------------------------------\u001b[0m",
      "\u001b[0;31mIndexError\u001b[0m                                Traceback (most recent call last)",
      "\u001b[0;32m<ipython-input-15-4e1c6e94ad8d>\u001b[0m in \u001b[0;36m<module>\u001b[0;34m\u001b[0m\n\u001b[1;32m     28\u001b[0m                             \u001b[0mlabel\u001b[0m\u001b[0;34m=\u001b[0m\u001b[0;34mr'$\\langle0\\nu\\beta\\beta\\rangle$ = %s'\u001b[0m \u001b[0;34m%\u001b[0m \u001b[0mlabel\u001b[0m\u001b[0;34m[\u001b[0m\u001b[0mii\u001b[0m\u001b[0;34m]\u001b[0m\u001b[0;34m,\u001b[0m\u001b[0;34m\u001b[0m\u001b[0;34m\u001b[0m\u001b[0m\n\u001b[1;32m     29\u001b[0m                             \u001b[0mhisttype\u001b[0m\u001b[0;34m=\u001b[0m\u001b[0;34m'step'\u001b[0m\u001b[0;34m,\u001b[0m\u001b[0;34m\u001b[0m\u001b[0;34m\u001b[0m\u001b[0m\n\u001b[0;32m---> 30\u001b[0;31m                             \u001b[0mcolor\u001b[0m\u001b[0;34m=\u001b[0m\u001b[0mcolors\u001b[0m\u001b[0;34m[\u001b[0m\u001b[0mii\u001b[0m\u001b[0;34m]\u001b[0m\u001b[0;34m,\u001b[0m\u001b[0;34m\u001b[0m\u001b[0;34m\u001b[0m\u001b[0m\n\u001b[0m\u001b[1;32m     31\u001b[0m                             lw=1.5)\n\u001b[1;32m     32\u001b[0m         \u001b[0mmedian\u001b[0m \u001b[0;34m=\u001b[0m \u001b[0mnp\u001b[0m\u001b[0;34m.\u001b[0m\u001b[0mmedian\u001b[0m\u001b[0;34m(\u001b[0m\u001b[0mDeltaNLL\u001b[0m\u001b[0;34m[\u001b[0m\u001b[0mScaling\u001b[0m\u001b[0;34m]\u001b[0m\u001b[0;34m[\u001b[0m\u001b[0mkey\u001b[0m\u001b[0;34m]\u001b[0m\u001b[0;34m)\u001b[0m\u001b[0;34m\u001b[0m\u001b[0;34m\u001b[0m\u001b[0m\n",
      "\u001b[0;31mIndexError\u001b[0m: list index out of range"
     ]
    },
    {
     "data": {
      "image/png": "[encoded data removed]",
      "text/plain": [
       "<Figure size 800x600 with 1 Axes>"
      ]
     },
     "metadata": {
      "needs_background": "light"
     },
     "output_type": "display_data"
    }
   ],
   "source": [
    "hist = {}\n",
    "medians = {}\n",
    "cl_68_low = {}\n",
    "cl_68_high = {}\n",
    "medians = {}\n",
    "for Scaling in BkgScaling:\n",
    "    fig = plt.figure(figsize=(8,6))\n",
    "    \n",
    "    # get number of counts from tag name\n",
    "    label = [x[len('DiscoveryPotential_bb0n_'):x.find('ct_')] for x in list(DeltaNLL[Scaling].keys())][1:] \n",
    "    FoundNull = np.char.find(list(DeltaNLL[Scaling].keys()), '_0ct_')\n",
    "    NullIndex = np.where(FoundNull > 0)[0][0]\n",
    "    NullSet = list(DeltaNLL[Scaling].keys())[NullIndex]\n",
    "    \n",
    "    hist[NullSet] = plt.hist(DeltaNLL[Scaling][NullSet], \n",
    "                            bins=np.arange(0,100,0.1), \n",
    "                            label=r'No $0\\nu\\beta\\beta$', \n",
    "                            histtype='stepfilled', \n",
    "                            color='grey', \n",
    "                            alpha=0.5)\n",
    "\n",
    "    medians[Scaling] = []\n",
    "    cl_68_low[Scaling] = []\n",
    "    cl_68_high[Scaling] = []\n",
    "    for ii,key in enumerate(list(DeltaNLL[Scaling].keys())[1:]):\n",
    "        hist[key] = plt.hist(DeltaNLL[Scaling][key], \n",
    "                            bins=np.arange(0,100,0.5), \n",
    "                            label=r'$\\langle0\\nu\\beta\\beta\\rangle$ = %s' % label[ii], \n",
    "                            histtype='step', \n",
    "                            color=colors[ii],\n",
    "                            lw=1.5)\n",
    "        median = np.median(DeltaNLL[Scaling][key])\n",
    "        print(ii, key, median)\n",
    "        plt.axvline(x=median, ymin=0, ymax=1000, ls='-', color=colors[ii])\n",
    "        medians[Scaling].append(median)\n",
    "        sortedpdf = sorted(DeltaNLL[Scaling][key])\n",
    "        median_index = np.where(np.abs(sortedpdf-median) == np.min(np.abs(sortedpdf-median)))[0][0]\n",
    "        cl_68_low[Scaling].append(sortedpdf[median_index-int(0.34*len(sortedpdf)) ])\n",
    "        cl_68_high[Scaling].append(sortedpdf[median_index+int(0.34*len(sortedpdf)) ] )\n",
    "        \n",
    "\n",
    "    xmax = 20\n",
    "    plt.xlim(0,xmax)\n",
    "    plt.xticks(np.arange(0,xmax+0.1,xmax/10.0))\n",
    "    plt.yscale('log')\n",
    "    plt.xlabel(r'Significance of $0\\nu\\beta\\beta$ signal, $\\Delta$NNL', fontsize=16)\n",
    "    plt.ylabel('Counts/bin', fontsize=16)\n",
    "    plt.legend(loc='upper right', fontsize=10)\n",
    "\n",
    "    for ii in [1,2,3]:\n",
    "        index = int(np.ceil(st.norm.cdf(ii)*len(DeltaNLL[Scaling][NullSet])))\n",
    "        print(ii, index)\n",
    "        signif = sorted(DeltaNLL[Scaling][NullSet])[index]\n",
    "        print(ii, index, st.norm.cdf(ii), signif)\n",
    "        plt.axvline(x=signif, ymin=0, ymax=1000, ls='--', color='grey')\n",
    "        plt.text(signif+0.1, np.max(hist[NullSet][0])*0.3,r'%d $\\sigma$' % (ii),rotation=90, color='grey')\n",
    "\n",
    "    # Significance assuming Wilks' theorem for sigma > 3\n",
    "    # see slide 11 in \n",
    "    # https://indico.cern.ch/event/162087/contributions/235303/attachments/189340/265790/cowan_cargese_2.pdf\n",
    "    for sigma in [4]:\n",
    "        plt.axvline(x=sigma**2/2.0, ymin=0, ymax=1000, ls='--', color='grey')\n",
    "        plt.text(sigma**2/2.0+0.1, np.max(hist[NullSet][0])*0.3,r'%d $\\sigma$' % (sigma),rotation=90, color='grey')\n",
    "\n",
    "\n",
    "    plt.savefig(PlotDir+'null_hypothesis_%.2fscale_%s.png' % (Scaling,version), bbox_inches='tight', dpi=300)"
   ]
  },
  {
   "cell_type": "code",
   "execution_count": null,
   "metadata": {},
   "outputs": [],
   "source": [
    "sigma = {}\n",
    "sigma_68CL_low = {}\n",
    "sigma_68CL_high = {}\n",
    "Cut = {}\n",
    "XInterp = {}\n",
    "Interpolation = {}\n",
    "\n",
    "def GetSigma(val, dist):\n",
    "    diff_abs = np.abs(dist - val)\n",
    "    nll_val = np.min(diff_abs)\n",
    "    cut = np.where(diff_abs == nll_val)[0][0]\n",
    "    sign = st.norm.ppf((cut+1)/len(sorted_nll))\n",
    "    if np.isinf(sign) or sign > 3.5: \n",
    "        sign = np.sqrt(2 * val)\n",
    "    return sign\n",
    "\n",
    "for Scaling in BkgScaling:\n",
    "    # get number of counts from tag name\n",
    "    label = [x[len('DiscoveryPotential_bb0n_'):x.find('ct_')] for x in list(DeltaNLL[Scaling].keys())][1:]\n",
    "    FoundNull = np.char.find(list(DeltaNLL[Scaling].keys()), '_0ct_')\n",
    "    NullIndex = np.where(FoundNull > 0)[0][0]\n",
    "    NullSet = list(DeltaNLL[Scaling].keys())[NullIndex]\n",
    "    \n",
    "    sorted_nll = sorted(DeltaNLL[Scaling][NullSet])\n",
    "    sigma[Scaling] = []\n",
    "    sigma_68CL_low[Scaling] = []\n",
    "    sigma_68CL_high[Scaling] = []\n",
    "    for ii,key in enumerate(list(DeltaNLL[Scaling].keys())[1:]):\n",
    "        diff_abs = np.abs(sorted_nll - medians[Scaling][ii])\n",
    "        nll_val = np.min(diff_abs)\n",
    "        cut = np.where(diff_abs == nll_val)[0][0]\n",
    "\n",
    "        \n",
    "        sigma[Scaling].append(GetSigma(medians[Scaling][ii], sorted_nll))\n",
    "        sigma_68CL_low[Scaling].append(GetSigma(cl_68_low[Scaling][ii], sorted_nll))\n",
    "        sigma_68CL_high[Scaling].append(GetSigma(cl_68_high[Scaling][ii], sorted_nll))\n",
    "\n",
    "        # sigma[Scaling].append(st.norm.ppf((cut+1)/len(sorted_nll)))    \n",
    "    \n",
    "    XInterp[Scaling] = np.linspace(int(label[0]),int(label[-1]),1000)\n",
    "    Interpolation[Scaling] = np.interp(XInterp[Scaling], np.array(label).astype(int), sigma[Scaling])\n",
    "    Diff = np.abs(Interpolation[Scaling] - 3.0)\n",
    "    Cut[Scaling] = np.where(Diff == np.min(Diff))[0][0]"
   ]
  },
  {
   "cell_type": "code",
   "execution_count": null,
   "metadata": {
    "scrolled": false
   },
   "outputs": [],
   "source": [
    "for Scaling in BkgScaling:\n",
    "\n",
    "    def GetT(x):\n",
    "        return GetLivetime(x,Livetime)\n",
    "    def GetN(x):\n",
    "        return GetSignalCount(x,Livetime)\n",
    "    \n",
    "    # get number of counts from tag name\n",
    "    label = [x[len('DiscoveryPotential_bb0n_'):x.find('ct_')] for x in list(DeltaNLL[Scaling].keys())][1:]\n",
    "\n",
    "    fig, ax = plt.subplots(figsize=(9,6))\n",
    "    ax.fill_between(GetT(np.array(label).astype(int)), sigma_68CL_low[Scaling], sigma_68CL_high[Scaling], \n",
    "                    color='grey', alpha=0.5)\n",
    "    ax.plot(GetT(XInterp[Scaling]), Interpolation[Scaling], label='', ls=':', color='k')\n",
    "    ax.scatter(GetT(np.array(label).astype(int)), sigma[Scaling], color='k', marker='.', s=80)\n",
    "    \n",
    "    Cut_5sigma = np.where( np.abs(Interpolation[Scaling]-5) == np.min(np.abs(Interpolation[Scaling]-5)) )\n",
    "    ax.hlines(Interpolation[Scaling][Cut_5sigma], xmin=1e27, xmax=GetT(XInterp[Scaling][Cut_5sigma]), \n",
    "              color=colors[1], ls='--')\n",
    "    ax.vlines(GetT(XInterp[Scaling][Cut_5sigma]), ymin=0, ymax=Interpolation[Scaling][Cut_5sigma], \n",
    "              color=colors[1], ls='--', label='Half-life at 5$\\sigma$ Discovery Significance')\n",
    "\n",
    "    print(np.round(XInterp[Scaling][Cut[Scaling]], 2))\n",
    "    ax.hlines(3, xmin=0, xmax=GetT(XInterp[Scaling][Cut[Scaling]]), color=colors[0], ls='--')\n",
    "    ax.vlines(GetT(XInterp[Scaling][Cut[Scaling]]), ymin=0, ymax=3, color=colors[0], ls='--', \n",
    "              label='Half-life at 3$\\sigma$ Discovery Significance')\n",
    "\n",
    "    Cut_10to28 = np.where( np.abs(GetT(XInterp[Scaling])-1E28) == np.min(np.abs(GetT(XInterp[Scaling])-1E28)) )\n",
    "    ax.hlines(Interpolation[Scaling][Cut_10to28], xmin=1e20, xmax=1e28, color=colors[2], ls='--')\n",
    "    ax.vlines(1E28, ymin=0, ymax=Interpolation[Scaling][Cut_10to28], color=colors[2], ls='--', \n",
    "              label='Discovery Significance at $10^{28}$ yr')\n",
    "\n",
    "    ax.text(x=GetT(XInterp[Scaling][Cut[Scaling]])*1.2, y=3.2, \n",
    "            s=r'$T_{1/2}=$%.2e' % GetLivetime(XInterp[Scaling][Cut[Scaling]], Livetime), \n",
    "            color=colors[0], fontsize=12, bbox=dict(facecolor='w', edgecolor=colors[0], alpha=1))\n",
    "    ax.text(x=GetT(XInterp[Scaling][Cut_5sigma])*1.2, y=5.2, \n",
    "            s=r'$T_{1/2}=$%.2e' % GetT(XInterp[Scaling][Cut_5sigma]), color=colors[1], \n",
    "            fontsize=12, bbox=dict(facecolor='w', edgecolor=colors[1], alpha=1))\n",
    "    ax.text(x=1E28*1.2, y=Interpolation[Scaling][Cut_10to28]+0.2, \n",
    "            s=r'$\\sigma=$%.2f' % Interpolation[Scaling][Cut_10to28], color=colors[2], \n",
    "            fontsize=12, bbox=dict(facecolor='w', edgecolor=colors[2], alpha=1))\n",
    "    \n",
    "\n",
    "    ax.set_xscale('log')\n",
    "    ax.set_xlim(1e25, 1e29)\n",
    "    ax.set_ylim(0,6)\n",
    "    ax.set_xlabel('Half-life [yr]')\n",
    "    ax.set_ylabel(r'Significance $\\sigma$ ', fontsize=16)\n",
    "    ax.legend(loc='upper right', fontsize=11)\n",
    "    \n",
    "    secax = ax.secondary_xaxis('top', functions=(GetN, GetT))\n",
    "    secax.set_xlabel(r'Mean number of $0\\nu\\beta\\beta$ events', fontsize=16)\n",
    "\n",
    "    plt.savefig(PlotDir+'sigma_vs_bb0n_%.2fscale_%s.pdf' % (Scaling,version), bbox_inches='tight', dpi=300)"
   ]
  },
  {
   "cell_type": "code",
   "execution_count": null,
   "metadata": {},
   "outputs": [],
   "source": []
  },
  {
   "cell_type": "code",
   "execution_count": null,
   "metadata": {},
   "outputs": [],
   "source": []
  }
 ],
 "metadata": {
  "kernelspec": {
   "display_name": "Python 3",
   "language": "python",
   "name": "python3"
  },
  "language_info": {
   "codemirror_mode": {
    "name": "ipython",
    "version": 3
   },
   "file_extension": ".py",
   "mimetype": "text/x-python",
   "name": "python",
   "nbconvert_exporter": "python",
   "pygments_lexer": "ipython3",
   "version": "3.7.2"
  }
 },
 "nbformat": 4,
 "nbformat_minor": 4
}
