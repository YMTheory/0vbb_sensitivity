{
 "cells": [
  {
   "cell_type": "code",
   "execution_count": null,
   "metadata": {
    "id": "soh740hO0NIs",
    "pycharm": {
     "name": "#%%\n"
    }
   },
   "outputs": [],
   "source": [
    "import pandas as pd\n",
    "import scipy.stats as st\n",
    "import numpy as np\n",
    "import matplotlib.pyplot as plt\n",
    "from matplotlib.ticker import NullFormatter"
   ]
  },
  {
   "cell_type": "code",
   "execution_count": null,
   "metadata": {
    "id": "WWibT_dG9rMQ",
    "pycharm": {
     "name": "#%%\n"
    }
   },
   "outputs": [],
   "source": [
    "plt.style.use('sensitivity.mplstyle')\n",
    "colors = plt.rcParams['axes.prop_cycle'].by_key()['color']"
   ]
  },
  {
   "cell_type": "code",
   "execution_count": null,
   "metadata": {
    "id": "9mYg9D_j1Du8",
    "pycharm": {
     "name": "#%%\n"
    }
   },
   "outputs": [],
   "source": [
    "data_short = pd.read_csv('matrix_elements_short.csv', header=None)\n",
    "NME = np.array(data_short[0])\n",
    "Iso = np.array(data_short[1])\n",
    "Names = np.unique(np.array(data_short[1]))\n",
    "Method = np.array(data_short[2])\n",
    "Year = np.array([float(x[-4:]) for x in np.array(data_short[3])])\n",
    "\n",
    "CUPID = np.where(Iso=='100Mo')\n",
    "nEXO = np.where(Iso=='136Xe')\n",
    "LEGEND = np.where(Iso=='76Ge')\n",
    "Cuts = [nEXO, LEGEND, CUPID]"
   ]
  },
  {
   "cell_type": "code",
   "execution_count": null,
   "metadata": {
    "id": "WE3CQWS5mheT",
    "pycharm": {
     "name": "#%%\n"
    }
   },
   "outputs": [],
   "source": [
    "data_long = pd.read_csv('matrix_elements_all.csv', header=None)\n",
    "NME_long = np.array(data_long[0])\n",
    "Iso_long = np.array(data_long[1])\n",
    "Names_long = np.unique(np.array(data_long[1]))\n",
    "Method_long = np.array(data_long[2])\n",
    "Year_long = np.array([float(x[-4:]) for x in np.array(data_long[3])])\n",
    "\n",
    "CUPID_long = np.where(Iso_long=='100Mo')\n",
    "nEXO_long = np.where(Iso_long=='136Xe')\n",
    "LEGEND_long = np.where(Iso_long=='76Ge')\n",
    "Cuts_long = [nEXO_long, LEGEND_long, CUPID_long]"
   ]
  },
  {
   "cell_type": "code",
   "execution_count": null,
   "metadata": {
    "id": "j27opnlxVT98",
    "pycharm": {
     "name": "#%%\n"
    }
   },
   "outputs": [],
   "source": [
    "Exp = pd.read_csv('comparison.csv')\n",
    "discover = np.array([7.4e27, 1.3e28, 1.1e27])\n",
    "disc_tg = discover*np.array(Exp['PhaseSpace'])[:3]*1e-15\n",
    "sens_tg = np.array(Exp['Sensitivity'])[:3]*np.array(Exp['PhaseSpace'])[:3]*1e-15\n",
    "Labels = ['nEXO', 'LEGEND-1000', 'CUPID']"
   ]
  },
  {
   "cell_type": "code",
   "execution_count": null,
   "metadata": {
    "colab": {
     "base_uri": "https://localhost:8080/",
     "height": 455
    },
    "id": "f71Fqt8o4xNB",
    "outputId": "33ed8fa7-6b4e-4544-8286-540805106192",
    "pycharm": {
     "name": "#%%\n"
    }
   },
   "outputs": [],
   "source": [
    "fig, ax = plt.subplots(figsize=(20,5), ncols=5, nrows=1, sharey=True, facecolor='white')\n",
    "\n",
    "ax[0].set_ylabel('Number of NMEs')\n",
    "scale = 1\n",
    "for i,name in enumerate(Names):\n",
    "  Cut = np.where(Iso==name)\n",
    "  logbins = np.logspace(np.log10(1),np.log10(100),15)\n",
    "\n",
    "  ax[i].set_ylim(0,8)\n",
    "  ax[i].set_xscale('log')\n",
    "  ax[i].set_xlabel(r'NME $|\\mathcal{M}^{0\\nu}|^2$')\n",
    "  h = ax[i].hist(NME[Cut]**2, logbins, histtype='stepfilled', alpha=0.5, color=colors[i], label=r\"${{}}^{{{}}} \\mathrm{{{}}} $\".format(int(name[:-2]), name[-2:]))\n",
    "\n",
    "  ax[i].vlines(x=np.median(NME[Cut]**2), ymin=0, ymax=8, color=colors[i], ls='--' )\n",
    "  ax[i].text(x=np.median(NME[Cut]**2)*1.1, y=7.9, s='Median=$({:.1f})^2$'.format(np.median(NME[Cut])), color=colors[i], fontsize=14, rotation=270, va='top')\n",
    "\n",
    "  kde = st.gaussian_kde(np.log10(NME[Cut]**2), bw_method=0.35)\n",
    "  nme = np.linspace(1,100,10000)\n",
    "  ax[i].plot(nme, kde(np.log10(nme))/np.max(kde(np.log10(nme)))*np.max(h[0]), color=colors[i])\n",
    "  \n",
    "  ax[i].legend(loc='upper left', fontsize=12)\n",
    "plt.savefig('nme_hist.pdf')\n",
    "plt.show()"
   ]
  },
  {
   "cell_type": "code",
   "execution_count": null,
   "metadata": {
    "colab": {
     "base_uri": "https://localhost:8080/",
     "height": 475
    },
    "id": "ptzzUcz_3f_C",
    "outputId": "1850f60b-1c29-4cfa-db79-4929f10b160a",
    "pycharm": {
     "name": "#%%\n"
    }
   },
   "outputs": [],
   "source": [
    "fig, ax = plt.subplots(figsize=(20,5), ncols=5,nrows=1,sharey=True,facecolor='white')\n",
    "\n",
    "ax[0].set_ylabel(r'Nuclear Matrix Element $\\mathcal{M}^{0\\nu}$')\n",
    "for i,name in enumerate(Names):\n",
    "  Cut = np.where(Iso==name)\n",
    "\n",
    "  SortedNME = [x for _, x in sorted(zip(Year[Cut], NME[Cut]))]\n",
    "  ax[i].set_xticklabels(labels=[2005,2010,2015,2020], rotation=45)\n",
    "  ax[i].set_ylim(0,8)\n",
    "  ax[i].set_xlabel('Year')\n",
    "  ax[i].scatter(sorted(Year[Cut]), NME[Cut], color=colors[i], label=r\"${{}}^{{{}}} \\mathrm{{{}}} $\".format(int(name[:-2]), name[-2:]), s=30)\n",
    "  ax[i].hlines(y=np.median(NME[Cut]), xmin=2005, xmax=2020, color=colors[i], ls='--' )\n",
    "  ax[i].legend(loc='upper right')\n",
    "\n",
    "plt.savefig('nme_time.pdf')\n",
    "plt.show()"
   ]
  },
  {
   "cell_type": "code",
   "execution_count": null,
   "metadata": {
    "id": "AQInMK14nxev",
    "pycharm": {
     "name": "#%%\n"
    }
   },
   "outputs": [],
   "source": [
    "m_e = 511e6 # in meV\n",
    "g_A = 1.27 \n",
    "def Getmbb(NME, TG):\n",
    "  m_bb = m_e**2/(TG * NME**2 * g_A**4)\n",
    "  return np.sqrt(m_bb)\n",
    "\n",
    "def GetNME(mbb, TG):\n",
    "  NME = m_e**2/(TG * mbb**2 * g_A**4)\n",
    "  return np.sqrt(NME)"
   ]
  },
  {
   "cell_type": "code",
   "execution_count": null,
   "metadata": {
    "colab": {
     "base_uri": "https://localhost:8080/",
     "height": 599
    },
    "id": "Xolp1Ev9r1h3",
    "outputId": "5ba7d1ce-b531-45ce-b1c7-09ba9cf688e2",
    "pycharm": {
     "name": "#%%\n"
    }
   },
   "outputs": [],
   "source": [
    "fig, ax1 = plt.subplots()\n",
    "size = fig.get_size_inches()*fig.dpi\n",
    "\n",
    "\n",
    "ax1.set_xlim(1e13, 1e15)\n",
    "ax1.set_ylim(0,50)\n",
    "ax1.set_xlabel(r'$T_{1/2}^{0\\nu} \\times \\mathrm{G}$', fontsize=20)\n",
    "ax1.set_ylabel(r'Nuclear Matrix Element $|\\mathcal{M}^{0\\nu}|^2$', fontsize=20)\n",
    "ax1.set_xscale('log')\n",
    "# ax1.set_yscale('log')\n",
    "ax1.set_title(r'Median Sensitivity at the 90% C.L.', fontweight='bold')\n",
    "# ax1.tick_params(left=False, which='both')\n",
    "ax1.yaxis.set_minor_formatter(NullFormatter())\n",
    "\n",
    "for i,cut in enumerate(Cuts):\n",
    "  ax1.scatter([sens_tg[i]]*len(NME[cut]), NME[cut]**2, label=Labels[i], color=colors[i], s=25, alpha=1, ec=colors[i])\n",
    "\n",
    "rot = [290,290,291,310]\n",
    "for i,x in enumerate([5,10,15,20]):\n",
    "  NME_x = GetNME(x, np.linspace(1e13,1e15,1000))\n",
    "  ax1.plot(np.linspace(1e13,1e15,1000), NME_x**2, ls=':', lw=1, color='grey', zorder=0)\n",
    "  if np.max(NME_x**2) > 50: \n",
    "    NME_diff = np.abs(NME_x**2-50)\n",
    "    xloc = np.linspace(1e13,1e15,1000)[np.where(NME_diff==np.min(NME_diff))]\n",
    "  else:\n",
    "    xloc = np.linspace(1e13,1e15,1000)[np.where(NME_x**2==np.max(NME_x**2))]\n",
    "\n",
    "  ax1.text(x=xloc, \n",
    "          y=GetNME(x, xloc)**2, \n",
    "          s=r'$\\langle m_{{\\beta\\beta}}\\rangle ={}\\;$meV'.format(x), \n",
    "          rotation=rot[i], \n",
    "          fontsize=12, \n",
    "          ha='left', \n",
    "          va='top', \n",
    "          color='grey')\n",
    "\n",
    "ax1.fill_between(np.linspace(1e13,1e15,1000), GetNME(15, np.linspace(1e13,1e15,1000))**2, color='grey', alpha=0.1)\n",
    "ax1.text(x=1.5e13, y=1.5, s='Inverted Neutrino Mass Ordering', rotation=0, fontsize=10, color='grey', ma='center', alpha=1)\n",
    "ax1.legend(loc='upper right', framealpha=1.0, facecolor='white', fontsize=14)\n",
    "\n",
    "xpos = [-12, -6, -14]\n",
    "\n",
    "for i,cut in enumerate(Cuts): \n",
    "  ax2 = fig.add_axes([ax1.transData.transform((sens_tg[i], 10))[0]/size[0]-7/8*0.05, 0.125, 0.05, 0.755])\n",
    "  # ax2.set_yscale('log')\n",
    "  ax2.set_ylim(0,50)\n",
    "  ax2.set_xlim(-7,1)\n",
    "  ax2.axis('off')\n",
    "\n",
    "#   ax2.plot([0]*10, np.linspace(int(np.min(NME[cut]**2)), int(np.max(NME[cut]**2))+2,10, endpoint=True), lw=1.2, color='grey', zorder=0)\n",
    "#   ax2.plot(np.linspace(-7,0,10, endpoint=True), [int(np.max(NME[cut]**2))+2]*10 ,  lw=1.2, color='grey', zorder=10)\n",
    "#   ax2.text(x=xpos[i], y=np.max(NME[cut]**2)*1.17, s='# NMEs', fontsize=14, backgroundcolor='white')\n",
    "\n",
    "#   logbins = np.logspace(np.log10(int(np.min(NME[cut]**2))),np.log10(np.max(NME[cut]**2)+1),9-i)\n",
    "#   h_nexo, hx_nexo = np.histogram( NME[cut]**2, bins=logbins)\n",
    "#   ax2.barh(hx_nexo[:-1], -h_nexo, color='None', alpha=1, align='edge', height=np.diff(logbins), ec=colors[i])\n",
    "#   ax2.barh(hx_nexo[:-1], -h_nexo, color=colors[i], alpha=0.5, align='edge', height=np.diff(logbins))\n",
    "#   ax2.scatter([0]*len(NME[cut]), NME[cut]**2, label=Labels[i], color=colors[i], s=25, alpha=1, ec=colors[i], zorder=10)\n",
    "  ax2.scatter([0], np.median(NME[cut]**2), label=Labels[i], color=colors[i], s=30, alpha=1, ec=colors[i], facecolor='white',zorder=10)\n",
    "\n",
    "plt.savefig('short_hist_sens_with_axes.pdf')\n",
    "plt.savefig('short_hist_sens_with_axes.png')"
   ]
  },
  {
   "cell_type": "code",
   "execution_count": null,
   "metadata": {
    "colab": {
     "base_uri": "https://localhost:8080/",
     "height": 647
    },
    "id": "hyir-ncZCH-4",
    "outputId": "6f414e51-856d-4969-cb4a-73337d3fd0d8",
    "pycharm": {
     "name": "#%%\n"
    }
   },
   "outputs": [],
   "source": [
    "fig, ax1 = plt.subplots()\n",
    "size = fig.get_size_inches()*fig.dpi\n",
    "\n",
    "ax1.set_xlim(1e13, 1e15)\n",
    "ax1.set_ylim(1,100)\n",
    "ax1.set_xlabel(r'$T_{1/2}^{0\\nu} \\times \\mathrm{G}$')\n",
    "ax1.set_ylabel(r'Nuclear Matrix Element $|\\mathcal{M}^{0\\nu}|^2$')\n",
    "ax1.set_xscale('log')\n",
    "ax1.set_yscale('log')\n",
    "ax1.set_title(r'Median Discovery Potential at $3\\sigma$', fontweight='bold')\n",
    "\n",
    "for i,cut in enumerate(Cuts):\n",
    "  ax1.scatter([disc_tg[i]]*len(NME[cut]), NME[cut]**2, label=Labels[i], color=colors[i], s=25, alpha=1, ec=colors[i])\n",
    "\n",
    "for i,x in enumerate([5,10,15]):\n",
    "  NME_x = GetNME(x, np.linspace(1e13,1e15,1000))\n",
    "  ax1.plot(np.linspace(1e13,1e15,1000), NME_x**2, ls=':', lw=1,color='grey', zorder=0)\n",
    "  ax1.text(x=3.5e14, \n",
    "          y=GetNME(x, 3e14)**2, \n",
    "          s=r'$\\langle m_{{\\beta\\beta}}\\rangle={}\\;$meV'.format(x), \n",
    "          rotation=323, \n",
    "          fontsize=14, \n",
    "          ha='center', \n",
    "          va='center', \n",
    "          color='grey')\n",
    "\n",
    "ax1.fill_between(np.linspace(1e13,1e15,1000), GetNME(15, np.linspace(1e13,1e15,1000))**2, color='grey', alpha=0.1)\n",
    "ax1.text(x=1e13, y=1, s='Inverted Neutrino Mass Ordering \\n'+r'$m_{{\\beta\\beta}}\\geq15\\;$meV', rotation=323, fontsize=12, color='grey', ma='center')\n",
    "ax1.legend(loc='upper right', framealpha=1.0, facecolor='white', fontsize=12)\n",
    "\n",
    "for i,cut in enumerate(Cuts): \n",
    "  ax2 = fig.add_axes([ax1.transData.transform((disc_tg[i], 10))[0]/size[0]-7/8*0.05, 0.125, 0.05, 0.755])\n",
    "  ax2.set_yscale('log')\n",
    "  ax2.set_ylim(1,100)\n",
    "  ax2.set_xlim(-7,1)\n",
    "  ax2.axis('off')\n",
    "  print(i, (i%3))\n",
    "  ax2.plot([0]*10, np.linspace(int(np.min(NME[cut]**2)), int(np.max(NME[cut]**2))+2,10, endpoint=True), lw=1.2, color='grey')\n",
    "  ax2.plot(np.linspace(-7,0,10, endpoint=True), [int(np.max(NME[cut]**2))+2]*10 ,  lw=1.2, color='grey', zorder=0)\n",
    "  ax2.text(x=-7.5, y=np.max(NME[cut]**2)*1.15-0.02*i, s='# NMEs', fontsize=8, bbox=dict(facecolor='white', edgecolor='None'))\n",
    "\n",
    "  logbins = np.logspace(np.log10(int(np.min(NME[cut]**2))),np.log10(np.max(NME[cut]**2)+1),9-i)\n",
    "  h_nexo, hx_nexo = np.histogram( NME[cut]**2, bins=logbins)\n",
    "  ax2.barh(hx_nexo[:-1], -h_nexo, color='None', alpha=1, align='edge', height=np.diff(logbins), ec=colors[i])\n",
    "  ax2.barh(hx_nexo[:-1], -h_nexo, color=colors[i], alpha=0.5, align='edge', height=np.diff(logbins))\n",
    "  ax2.scatter([0]*len(NME[cut]), NME[cut]**2, label=Labels[i], color=colors[i], s=25, alpha=1, ec=colors[i], zorder=10)\n",
    "  ax2.scatter([0], np.median(NME[cut]**2), label=Labels[i], color=colors[i], s=30, alpha=1, ec=colors[i], facecolor='white',zorder=10)\n",
    "\n",
    "plt.savefig('short_hist_disc_with_axes.pdf')\n",
    "# files.download('short_hist_disc_with_axes.pdf')"
   ]
  },
  {
   "cell_type": "code",
   "execution_count": null,
   "metadata": {
    "colab": {
     "base_uri": "https://localhost:8080/",
     "height": 710
    },
    "id": "p7vmHeZKPqJC",
    "outputId": "a9332d14-c59b-45e3-c6eb-dd1da1f882b9",
    "pycharm": {
     "name": "#%%\n"
    }
   },
   "outputs": [],
   "source": [
    "fig, ax = plt.subplots(ncols=2, nrows=3, sharex=True, sharey=True, facecolor='white')\n",
    "plt.subplots_adjust(wspace=0, hspace=0)\n",
    "\n",
    "ymax = 10\n",
    "\n",
    "title = ['Median Sensitivity \\n at the 90% C.L.', 'Median Discovery \\n Potential at $3\\sigma$']\n",
    "for i,t_tg in enumerate([sens_tg, disc_tg]): \n",
    "  ax[0,i].set_title(title[i], fontsize=16, fontweight='bold')\n",
    "  ax[2, i].set_xlabel(r'$\\langle m_{\\beta\\beta}\\rangle$ [meV]')\n",
    "  for j,x in enumerate(Cuts): \n",
    "    hist, histbins = np.histogram(Getmbb(NME[x], t_tg[j]), bins=np.arange(1,40,2))\n",
    "\n",
    "\n",
    "    hist_long, histbins_long = np.histogram(Getmbb(NME_long[Cuts_long[j]], t_tg[j]), bins=np.arange(1,40,2))\n",
    "    # ax[j,i].fill_between(histbins_long[:-1], hist_long, step='post', alpha=0.2, label='All', color=colors[j])\n",
    "\n",
    "    ax[j,i].fill_between(histbins[:-1], hist, step='post', alpha=0.5, label=Labels[j], color=colors[j])\n",
    "    ax[j,i].step(histbins[:-1], hist, where='post', color=colors[j], label='')\n",
    "\n",
    "    # ax[j,i].fill_between(histbins[:-1], hist, step='post', alpha=0.5, label=Labels[j], color=colors[j])\n",
    "    # ax[j,i].step(histbins[:-1], hist, where='post', color=colors[j])\n",
    "    ax[j,i].vlines(x=np.median(Getmbb(NME[x], t_tg[j])), ymin=0, ymax=ymax, ls='--', color=colors[j])\n",
    "    # ax[j,i].vlines(x=np.median(Getmbb(NME_long[Cuts_long[j]], t_tg[j])), ymin=0, ymax=ymax, ls=':', color=colors[j])\n",
    "\n",
    "    print(np.median(Getmbb(NME[x], t_tg[j])))\n",
    "    # print(Labels[j])\n",
    "    # for z in NME[x]:\n",
    "    #   print(z, Getmbb(z, t_tg[j]), t_tg[j])\n",
    "    # for k,y in enumerate(Cuts): \n",
    "    #   ax[j,i].vlines(x=np.median(Getmbb(NME[y], t_tg[k])), ymin=0, ymax=ymax, ls='--', color=colors[k])\n",
    "    #   ax[j,i].vlines(x=np.median(Getmbb(NME_long[Cuts_long[k]], t_tg[k])), ymin=0, ymax=ymax, ls=':', color=colors[k])\n",
    "\n",
    "    ax[j,i].fill_between(x=np.linspace(15,32,10), y1=0, y2=ymax, color='grey', alpha=0.2)\n",
    "\n",
    "    if j==1:\n",
    "      ax[j,i].text(16, 3.5, 'Inverted Neutrino \\n Mass Ordering', fontsize=12, color='grey', ma='center')\n",
    "\n",
    "    ax[j,i].set_xlim(0,32)\n",
    "    ax[j,i].set_ylim(0,ymax)\n",
    "    if i==0:\n",
    "      ax[j,i].set_xticks([0,5,10,15,20,25])\n",
    "      if j==1:\n",
    "        ax[j,i].set_ylabel('Number of Models')\n",
    "      ax[j,i].set_yticks(np.arange(0,ymax,4))\n",
    "    ax[j,i].legend(loc='upper right', fontsize=12)\n",
    "plt.savefig('short_mbb_6panel_serif.pdf')"
   ]
  },
  {
   "cell_type": "code",
   "execution_count": null,
   "metadata": {
    "colab": {
     "base_uri": "https://localhost:8080/",
     "height": 1000
    },
    "id": "DSBmL-XnUkYQ",
    "outputId": "85972db6-9853-4b56-d9a5-7a0fbf69f987",
    "pycharm": {
     "name": "#%%\n"
    }
   },
   "outputs": [],
   "source": [
    "ymax = 7\n",
    "title = ['Median Sensitivity at the 90% C.L.', 'Median Discovery Potential at $3\\sigma$']\n",
    "tag = ['sens', 'disc']\n",
    "\n",
    "for i,t_tg in enumerate([sens_tg, disc_tg]): \n",
    "  fig, ax = plt.subplots(figsize=(6,10), ncols=1, nrows=3, sharex=True, sharey=False, facecolor='white')\n",
    "  plt.subplots_adjust(wspace=0.2, hspace=0)\n",
    "  ax[0].set_title(title[i])\n",
    "  ax[2].set_xlabel(r'$m_{\\beta\\beta}$ [meV]')\n",
    "  for j,x in enumerate([nEXO,LEGEND,CUPID]): \n",
    "    hist, histbins = np.histogram(Getmbb(NME[x], t_tg[j]), bins=np.arange(0,40,2))\n",
    "    \n",
    "    ax[j].fill_between(histbins[:-1], hist, step='post', alpha=0.5, label=Labels[j], color=colors[j])\n",
    "    ax[j].step(histbins[:-1], hist, where='post', color=colors[j])\n",
    "    ax[j].vlines(x=np.median(Getmbb(NME[x], t_tg[j])), ymin=0, ymax=ymax, ls='--', color=colors[j])\n",
    "\n",
    "    ax[j].fill_between(x=np.linspace(15,32,10), y1=0, y2=ymax, color='grey', alpha=0.2)\n",
    "    ax[j].text(18, 3, 'Inverted Neutrino \\n Mass Ordering', fontsize=14, color='grey', ma='center')\n",
    "\n",
    "    ax[j].set_xlim(0,32)\n",
    "    ax[j].set_ylim(0,ymax)\n",
    "    ax[j].set_ylabel('Counts')\n",
    "    ax[j].set_yticks(np.arange(0,ymax,1))\n",
    "    ax[j].legend(loc='upper right', fontsize=14)\n",
    "  plt.savefig('mbb_3panel_{}.pdf'.format(tag[i]))"
   ]
  },
  {
   "cell_type": "code",
   "execution_count": null,
   "metadata": {
    "colab": {
     "base_uri": "https://localhost:8080/",
     "height": 531
    },
    "id": "xjANNVllwSX7",
    "outputId": "8866b45d-80c0-48b1-9b42-148e58bf428d",
    "pycharm": {
     "name": "#%%\n"
    }
   },
   "outputs": [],
   "source": [
    "from matplotlib.lines import Line2D\n",
    "\n",
    "data_short = pd.read_csv('matrix_elements_short.csv', header=None)\n",
    "Authors = np.array(data_short[3])\n",
    "Authors_single = np.unique(np.array(data_short[3]))\n",
    "\n",
    "fig, ax = plt.subplots(figsize=(12,5), ncols=2, nrows=1, sharex=False, sharey=True, facecolor='white')\n",
    "size = fig.get_size_inches()*fig.dpi\n",
    "\n",
    "max_range = 35\n",
    "ax[0].set_ylim(0,max_range)\n",
    "ax[0].set_xlim(0,max_range)\n",
    "ax[1].set_xlim(0,max_range)\n",
    "\n",
    "ax[0].set_ylabel(r'$\\langle m_{\\beta\\beta}\\rangle$ for nEXO', fontsize=20)\n",
    "ax[0].set_xlabel(r'$\\langle m_{\\beta\\beta}\\rangle$ for LEGEND-1000', fontsize=20)\n",
    "ax[1].set_xlabel(r'$\\langle m_{\\beta\\beta}\\rangle$ for CUPID', fontsize=20)\n",
    "\n",
    "for auth in Authors_single:\n",
    "  cut = np.where(Authors==auth)\n",
    "  cut_iso = Iso[cut]\n",
    "  cut_val = NME[cut]\n",
    "  cut_method = Method[cut][0]\n",
    "  nexo_val = cut_val[cut_iso=='136Xe']\n",
    "  legend_val = cut_val[cut_iso=='76Ge']\n",
    "  cupid_val = cut_val[cut_iso=='100Mo']\n",
    "\n",
    "  if len(nexo_val)==0 and len(legend_val)==0 and len(cupid_val)==0:\n",
    "    continue \n",
    "  if len(nexo_val)==0:\n",
    "    nexo_val = [0]\n",
    "  if len(legend_val)==0:\n",
    "    legend_val = [0]\n",
    "  if len(cupid_val)==0:\n",
    "    cupid_val = [0]\n",
    "  \n",
    "  if cut_method == 'IBM':\n",
    "    marker = 'o'\n",
    "  if cut_method == 'NSM':\n",
    "    marker = 'x'\n",
    "  if cut_method == 'QRPA':\n",
    "    marker = '^'\n",
    "  if cut_method == 'EDF':\n",
    "    marker = 'D'\n",
    "\n",
    "  nexo_val = Getmbb(nexo_val[0], sens_tg[0])\n",
    "  legend_val = Getmbb(legend_val[0], sens_tg[1])\n",
    "  cupid_val = Getmbb(cupid_val[0], sens_tg[2])\n",
    "\n",
    "  ax[0].scatter(legend_val, nexo_val, color=colors[0], marker=marker, fc='white', ec=colors[0])\n",
    "  ax[1].scatter(cupid_val, nexo_val, color=colors[1], marker=marker, fc='white', ec=colors[1])\n",
    "\n",
    "\n",
    "ax[0].plot([0,max_range], [0,max_range], ls=':', color=colors[0])\n",
    "ax[1].plot([0,max_range], [0,max_range], ls=':', color=colors[1])\n",
    "\n",
    "ibm = Line2D([0], [0], marker='o', label='IBM', mfc='white', mec=colors[0], ls='None')\n",
    "nsm = Line2D([0], [0], marker='x', label='NSM', mfc='white', mec=colors[0], ls='None')\n",
    "qrpa = Line2D([0], [0], marker='^', label='QRPA', mfc='white', mec=colors[0], ls='None')\n",
    "edf = Line2D([0], [0], marker='D', label='EDF', mfc='white', mec=colors[0], ls='None')\n",
    "legend_elements = [ibm, nsm, qrpa, edf]\n",
    "ax[0].legend(handles=legend_elements, loc='upper left', ncol=4, fontsize=11)\n",
    "\n",
    "ibm = Line2D([0], [0], marker='o', label='IBM', mfc='white', mec=colors[1], ls='None')\n",
    "qrpa = Line2D([0], [0], marker='^', label='QRPA', mfc='white', mec=colors[1], ls='None')\n",
    "edf = Line2D([0], [0], marker='D', label='EDF', mfc='white', mec=colors[1], ls='None')\n",
    "legend_elements = [ibm, qrpa, edf]\n",
    "ax[1].legend(handles=legend_elements, loc='upper left', ncol=4, fontsize=11)\n",
    "plt.savefig('mbb_scatter_sens.pdf')"
   ]
  },
  {
   "cell_type": "code",
   "execution_count": null,
   "metadata": {
    "id": "hJ8GzWFJ3b0W",
    "pycharm": {
     "name": "#%%\n"
    }
   },
   "outputs": [],
   "source": [
    "nexo_mbb = Getmbb(NME[nEXO], disc_tg[0])\n",
    "legend_mbb = Getmbb(NME[LEGEND], disc_tg[1])\n",
    "cupid_mbb = Getmbb(NME[CUPID], disc_tg[2])\n",
    "for l, v in zip([\"nEXO\", \"LEGEND\", \"CUORE\"], [nexo_mbb, legend_mbb, cupid_mbb]):\n",
    "    print(f\"{l}\\t\", min(v), max(v), len(v))"
   ]
  },
  {
   "cell_type": "code",
   "execution_count": null,
   "metadata": {
    "pycharm": {
     "name": "#%%\n"
    }
   },
   "outputs": [],
   "source": []
  }
 ],
 "metadata": {
  "colab": {
   "collapsed_sections": [],
   "name": "NME_Plots_Downselect.ipynb",
   "provenance": []
  },
  "kernelspec": {
   "display_name": "nexo",
   "language": "python",
   "name": "nexo"
  },
  "language_info": {
   "codemirror_mode": {
    "name": "ipython",
    "version": 3
   },
   "file_extension": ".py",
   "mimetype": "text/x-python",
   "name": "python",
   "nbconvert_exporter": "python",
   "pygments_lexer": "ipython3",
   "version": "3.9.13"
  }
 },
 "nbformat": 4,
 "nbformat_minor": 4
}
