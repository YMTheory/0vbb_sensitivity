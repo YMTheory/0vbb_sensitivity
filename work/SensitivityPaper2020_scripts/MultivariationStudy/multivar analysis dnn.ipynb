{
 "cells": [
  {
   "cell_type": "code",
   "execution_count": 1,
   "metadata": {},
   "outputs": [],
   "source": [
    "# Import sys, then tell python where to find the nEXO-specific classes\n",
    "import sys\n",
    "sys.path.append('../../../modules')"
   ]
  },
  {
   "cell_type": "code",
   "execution_count": 2,
   "metadata": {},
   "outputs": [],
   "source": [
    "# Import useful libraries for analysis\n",
    "\n",
    "import pandas as pd\n",
    "import hist\n",
    "from hist import Hist\n",
    "import numpy as np\n",
    "from matplotlib import pyplot as plt\n",
    "import os\n",
    "from pathlib import Path \n",
    "\n",
    "plt.rcParams.update({'font.size': 18})\n",
    "plt.rcParams['figure.figsize'] = (10,8)\n",
    "\n",
    "from cycler import cycler\n",
    "plt.rcParams['axes.prop_cycle'] = cycler(color='bgrcmyk')"
   ]
  },
  {
   "cell_type": "code",
   "execution_count": 3,
   "metadata": {},
   "outputs": [],
   "source": [
    "# Import the nEXO sensitivity classes\n",
    "\n",
    "import nEXOFitWorkspace\n",
    "import nEXOFitModel\n",
    "import nEXOFitLikelihood"
   ]
  },
  {
   "cell_type": "code",
   "execution_count": 4,
   "metadata": {},
   "outputs": [],
   "source": [
    "tag_dnn_dict={'800AAD':'0.0', 'EBF57F':'0.15', '83BAFF':'0.2', 'F4CBD6':'0.25'}"
   ]
  },
  {
   "cell_type": "code",
   "execution_count": 5,
   "metadata": {},
   "outputs": [
    {
     "name": "stdout",
     "output_type": "stream",
     "text": [
      "Loading data for tag 800AAD\n",
      "---> Loaded 5000 toy datasets\n",
      "Loading data for tag EBF57F\n",
      "---> Loaded 5000 toy datasets\n",
      "Loading data for tag 83BAFF\n",
      "---> Loaded 5000 toy datasets\n",
      "Loading data for tag F4CBD6\n",
      "---> Loaded 5000 toy datasets\n"
     ]
    }
   ],
   "source": [
    "outputdir = Path('/p/lustre2/nexouser/samuele/multivarstudy/output')\n",
    "\n",
    "import glob\n",
    "h5_files = glob.glob(f'{outputdir}/*.h5')\n",
    "\n",
    "dfdict = dict()\n",
    "for tag in tag_dnn_dict.keys():\n",
    "    print(f'Loading data for tag {tag}')\n",
    "    df_list = [pd.read_hdf(outputdir/Path(filename)) for filename in h5_files if tag in filename]\n",
    "    dfdict[tag] = pd.concat(df_list, ignore_index=True)\n",
    "    print('---> Loaded {} toy datasets'.format(len(dfdict[tag])))\n"
   ]
  },
  {
   "cell_type": "code",
   "execution_count": 6,
   "metadata": {},
   "outputs": [
    {
     "data": {
      "text/html": [
       "<div>\n",
       "<style scoped>\n",
       "    .dataframe tbody tr th:only-of-type {\n",
       "        vertical-align: middle;\n",
       "    }\n",
       "\n",
       "    .dataframe tbody tr th {\n",
       "        vertical-align: top;\n",
       "    }\n",
       "\n",
       "    .dataframe thead th {\n",
       "        text-align: right;\n",
       "    }\n",
       "</style>\n",
       "<table border=\"1\" class=\"dataframe\">\n",
       "  <thead>\n",
       "    <tr style=\"text-align: right;\">\n",
       "      <th></th>\n",
       "      <th>num_signal</th>\n",
       "      <th>lambda</th>\n",
       "      <th>fixed_fit_converged</th>\n",
       "      <th>fixed_fit_acc_covar</th>\n",
       "      <th>90CL_crossing</th>\n",
       "      <th>num_iterations</th>\n",
       "      <th>best_fit_converged</th>\n",
       "      <th>best_fit_covar</th>\n",
       "      <th>best_fit_iterations</th>\n",
       "      <th>best_fit_parameters</th>\n",
       "      <th>best_fit_errors</th>\n",
       "      <th>best_fit_nll</th>\n",
       "      <th>fixed_fit_parameters</th>\n",
       "      <th>fixed_fit_errors</th>\n",
       "      <th>input_parameters</th>\n",
       "    </tr>\n",
       "  </thead>\n",
       "  <tbody>\n",
       "    <tr>\n",
       "      <th>0</th>\n",
       "      <td>[1e-06, 1.4000009999999998, 2.800001, 4.200000...</td>\n",
       "      <td>[5.2137080450265216e-05, 1.1236100236646749, 2...</td>\n",
       "      <td>[True, True, True, True, True, True, True, Tru...</td>\n",
       "      <td>[True, True, True, True, True, True, True, Tru...</td>\n",
       "      <td>3.290329</td>\n",
       "      <td>[2.0, 1.0, 1.0, 1.0, 1.0, 5.0, 3.0, 1.0, 1.0, ...</td>\n",
       "      <td>True</td>\n",
       "      <td>True</td>\n",
       "      <td>1</td>\n",
       "      <td>{'Num_Far': 5434.479457904304, 'Num_Vessel_U23...</td>\n",
       "      <td>{513.5034978875342: 513.5034978875342, 713.204...</td>\n",
       "      <td>-4.217485</td>\n",
       "      <td>{'Num_Far': 5457.198466984231, 'Num_Vessel_U23...</td>\n",
       "      <td>{455.7569122530658: 455.7569122530658, 1010.46...</td>\n",
       "      <td>[5512.894290842072, 840.7484208702666, 259.766...</td>\n",
       "    </tr>\n",
       "    <tr>\n",
       "      <th>1</th>\n",
       "      <td>[1e-06, 1.4000009999999998, 2.800001, 4.200000...</td>\n",
       "      <td>[2.121764047174434, 1.1191463367368435, 0.5170...</td>\n",
       "      <td>[True, True, True, True, True, True, True, Tru...</td>\n",
       "      <td>[True, True, True, True, True, True, True, Tru...</td>\n",
       "      <td>17.311731</td>\n",
       "      <td>[1.0, 1.0, 1.0, 3.0, 2.0, 1.0, 1.0, 1.0, 1.0, ...</td>\n",
       "      <td>True</td>\n",
       "      <td>True</td>\n",
       "      <td>1</td>\n",
       "      <td>{'Num_Far': 5093.436093937176, 'Num_Vessel_U23...</td>\n",
       "      <td>{467.07032552022383: 467.07032552022383, 11181...</td>\n",
       "      <td>-5.291287</td>\n",
       "      <td>{'Num_Far': 5080.888446950185, 'Num_Vessel_U23...</td>\n",
       "      <td>{1795.0285099351718: 1795.0285099351718, 12580...</td>\n",
       "      <td>[5645.795888459387, 3031.8962731471347, 642.80...</td>\n",
       "    </tr>\n",
       "    <tr>\n",
       "      <th>2</th>\n",
       "      <td>[1e-06, 1.4000009999999998, 2.800001, 4.200000...</td>\n",
       "      <td>[1.9837720096292362, 0.07203676899642986, 0.10...</td>\n",
       "      <td>[True, True, True, True, True, True, True, Tru...</td>\n",
       "      <td>[True, True, True, True, True, True, True, Tru...</td>\n",
       "      <td>7.760776</td>\n",
       "      <td>[3.0, 1.0, 1.0, 1.0, 2.0, 1.0, 1.0, 2.0, 1.0, ...</td>\n",
       "      <td>True</td>\n",
       "      <td>True</td>\n",
       "      <td>2</td>\n",
       "      <td>{'Num_Far': 5105.205313060828, 'Num_Vessel_U23...</td>\n",
       "      <td>{266.85239169417946: 266.85239169417946, 645.3...</td>\n",
       "      <td>-4.700549</td>\n",
       "      <td>{'Num_Far': 5106.675083276464, 'Num_Vessel_U23...</td>\n",
       "      <td>{610.126448869978: 610.126448869978, 1481.7434...</td>\n",
       "      <td>[5661.075724708782, 1023.1906367339307, 551.47...</td>\n",
       "    </tr>\n",
       "    <tr>\n",
       "      <th>3</th>\n",
       "      <td>[1e-06, 1.4000009999999998, 2.800001, 4.200000...</td>\n",
       "      <td>[2.6153270393791672e-06, 0.5848675498885907, 1...</td>\n",
       "      <td>[True, True, True, True, True, True, True, Tru...</td>\n",
       "      <td>[True, True, True, True, True, True, True, Tru...</td>\n",
       "      <td>5.650565</td>\n",
       "      <td>[1.0, 1.0, 1.0, 1.0, 1.0, 1.0, 4.0, 2.0, 3.0, ...</td>\n",
       "      <td>True</td>\n",
       "      <td>True</td>\n",
       "      <td>1</td>\n",
       "      <td>{'Num_Far': 3284.946606990379, 'Num_Vessel_U23...</td>\n",
       "      <td>{840.0935517387279: 840.0935517387279, 1248.78...</td>\n",
       "      <td>-5.961176</td>\n",
       "      <td>{'Num_Far': 3289.2342006992703, 'Num_Vessel_U2...</td>\n",
       "      <td>{663.1329537645252: 663.1329537645252, 1115.42...</td>\n",
       "      <td>[4260.805441903569, 888.9746534640293, 1243.79...</td>\n",
       "    </tr>\n",
       "    <tr>\n",
       "      <th>4</th>\n",
       "      <td>[1e-06, 1.4000009999999998, 2.800001, 4.200000...</td>\n",
       "      <td>[8.417105597935404e-05, 1.0372865186498998, 2....</td>\n",
       "      <td>[True, True, True, True, True, True, True, Tru...</td>\n",
       "      <td>[True, True, True, True, True, True, True, Tru...</td>\n",
       "      <td>3.600360</td>\n",
       "      <td>[1.0, 1.0, 1.0, 1.0, 1.0, 2.0, 1.0, 1.0, 1.0, ...</td>\n",
       "      <td>True</td>\n",
       "      <td>True</td>\n",
       "      <td>1</td>\n",
       "      <td>{'Num_Far': 6470.9457972462405, 'Num_Vessel_U2...</td>\n",
       "      <td>{886.4149116646322: 886.4149116646322, 13444.2...</td>\n",
       "      <td>-6.438485</td>\n",
       "      <td>{'Num_Far': 6491.291364093635, 'Num_Vessel_U23...</td>\n",
       "      <td>{477.6432147379651: 477.6432147379651, 11811.9...</td>\n",
       "      <td>[5889.895943584261, 1121.2340137408082, 1559.8...</td>\n",
       "    </tr>\n",
       "  </tbody>\n",
       "</table>\n",
       "</div>"
      ],
      "text/plain": [
       "                                          num_signal  \\\n",
       "0  [1e-06, 1.4000009999999998, 2.800001, 4.200000...   \n",
       "1  [1e-06, 1.4000009999999998, 2.800001, 4.200000...   \n",
       "2  [1e-06, 1.4000009999999998, 2.800001, 4.200000...   \n",
       "3  [1e-06, 1.4000009999999998, 2.800001, 4.200000...   \n",
       "4  [1e-06, 1.4000009999999998, 2.800001, 4.200000...   \n",
       "\n",
       "                                              lambda  \\\n",
       "0  [5.2137080450265216e-05, 1.1236100236646749, 2...   \n",
       "1  [2.121764047174434, 1.1191463367368435, 0.5170...   \n",
       "2  [1.9837720096292362, 0.07203676899642986, 0.10...   \n",
       "3  [2.6153270393791672e-06, 0.5848675498885907, 1...   \n",
       "4  [8.417105597935404e-05, 1.0372865186498998, 2....   \n",
       "\n",
       "                                 fixed_fit_converged  \\\n",
       "0  [True, True, True, True, True, True, True, Tru...   \n",
       "1  [True, True, True, True, True, True, True, Tru...   \n",
       "2  [True, True, True, True, True, True, True, Tru...   \n",
       "3  [True, True, True, True, True, True, True, Tru...   \n",
       "4  [True, True, True, True, True, True, True, Tru...   \n",
       "\n",
       "                                 fixed_fit_acc_covar  90CL_crossing  \\\n",
       "0  [True, True, True, True, True, True, True, Tru...       3.290329   \n",
       "1  [True, True, True, True, True, True, True, Tru...      17.311731   \n",
       "2  [True, True, True, True, True, True, True, Tru...       7.760776   \n",
       "3  [True, True, True, True, True, True, True, Tru...       5.650565   \n",
       "4  [True, True, True, True, True, True, True, Tru...       3.600360   \n",
       "\n",
       "                                      num_iterations  best_fit_converged  \\\n",
       "0  [2.0, 1.0, 1.0, 1.0, 1.0, 5.0, 3.0, 1.0, 1.0, ...                True   \n",
       "1  [1.0, 1.0, 1.0, 3.0, 2.0, 1.0, 1.0, 1.0, 1.0, ...                True   \n",
       "2  [3.0, 1.0, 1.0, 1.0, 2.0, 1.0, 1.0, 2.0, 1.0, ...                True   \n",
       "3  [1.0, 1.0, 1.0, 1.0, 1.0, 1.0, 4.0, 2.0, 3.0, ...                True   \n",
       "4  [1.0, 1.0, 1.0, 1.0, 1.0, 2.0, 1.0, 1.0, 1.0, ...                True   \n",
       "\n",
       "   best_fit_covar  best_fit_iterations  \\\n",
       "0            True                    1   \n",
       "1            True                    1   \n",
       "2            True                    2   \n",
       "3            True                    1   \n",
       "4            True                    1   \n",
       "\n",
       "                                 best_fit_parameters  \\\n",
       "0  {'Num_Far': 5434.479457904304, 'Num_Vessel_U23...   \n",
       "1  {'Num_Far': 5093.436093937176, 'Num_Vessel_U23...   \n",
       "2  {'Num_Far': 5105.205313060828, 'Num_Vessel_U23...   \n",
       "3  {'Num_Far': 3284.946606990379, 'Num_Vessel_U23...   \n",
       "4  {'Num_Far': 6470.9457972462405, 'Num_Vessel_U2...   \n",
       "\n",
       "                                     best_fit_errors  best_fit_nll  \\\n",
       "0  {513.5034978875342: 513.5034978875342, 713.204...     -4.217485   \n",
       "1  {467.07032552022383: 467.07032552022383, 11181...     -5.291287   \n",
       "2  {266.85239169417946: 266.85239169417946, 645.3...     -4.700549   \n",
       "3  {840.0935517387279: 840.0935517387279, 1248.78...     -5.961176   \n",
       "4  {886.4149116646322: 886.4149116646322, 13444.2...     -6.438485   \n",
       "\n",
       "                                fixed_fit_parameters  \\\n",
       "0  {'Num_Far': 5457.198466984231, 'Num_Vessel_U23...   \n",
       "1  {'Num_Far': 5080.888446950185, 'Num_Vessel_U23...   \n",
       "2  {'Num_Far': 5106.675083276464, 'Num_Vessel_U23...   \n",
       "3  {'Num_Far': 3289.2342006992703, 'Num_Vessel_U2...   \n",
       "4  {'Num_Far': 6491.291364093635, 'Num_Vessel_U23...   \n",
       "\n",
       "                                    fixed_fit_errors  \\\n",
       "0  {455.7569122530658: 455.7569122530658, 1010.46...   \n",
       "1  {1795.0285099351718: 1795.0285099351718, 12580...   \n",
       "2  {610.126448869978: 610.126448869978, 1481.7434...   \n",
       "3  {663.1329537645252: 663.1329537645252, 1115.42...   \n",
       "4  {477.6432147379651: 477.6432147379651, 11811.9...   \n",
       "\n",
       "                                    input_parameters  \n",
       "0  [5512.894290842072, 840.7484208702666, 259.766...  \n",
       "1  [5645.795888459387, 3031.8962731471347, 642.80...  \n",
       "2  [5661.075724708782, 1023.1906367339307, 551.47...  \n",
       "3  [4260.805441903569, 888.9746534640293, 1243.79...  \n",
       "4  [5889.895943584261, 1121.2340137408082, 1559.8...  "
      ]
     },
     "execution_count": 6,
     "metadata": {},
     "output_type": "execute_result"
    }
   ],
   "source": [
    "df = dfdict['EBF57F']\n",
    "df.head()"
   ]
  },
  {
   "cell_type": "code",
   "execution_count": 7,
   "metadata": {},
   "outputs": [
    {
     "name": "stdout",
     "output_type": "stream",
     "text": [
      "Number of Toys: 5000\n"
     ]
    }
   ],
   "source": [
    "print(\"Number of Toys:\", len(df))"
   ]
  },
  {
   "cell_type": "code",
   "execution_count": 8,
   "metadata": {},
   "outputs": [
    {
     "name": "stdout",
     "output_type": "stream",
     "text": [
      "Tag 800AAD convergence fraction: 0.994\n",
      "Tag EBF57F convergence fraction: 0.994\n",
      "Tag 83BAFF convergence fraction: 0.993\n",
      "Tag F4CBD6 convergence fraction: 0.995\n"
     ]
    }
   ],
   "source": [
    "# Compute the convergence fraction\n",
    "good_fit_mask_dict = {}\n",
    "for tag, df in dfdict.items():\n",
    "    good_fit_mask = []\n",
    "    for index,row in df.iterrows():\n",
    "        if np.sum(row['fixed_fit_acc_covar']) < len(row['fixed_fit_acc_covar'])-2 \\\n",
    "            or not row['best_fit_covar'] \\\n",
    "            or row['90CL_crossing'] < 0.01\\\n",
    "            or row['best_fit_nll'] > 0.:\n",
    "            good_fit_mask.append(False)\n",
    "        else:\n",
    "            good_fit_mask.append(True)\n",
    "    print(f'Tag {tag} convergence fraction: {np.sum(good_fit_mask)/len(df):3.3}')\n",
    "    good_fit_mask_dict[tag] = good_fit_mask"
   ]
  },
  {
   "cell_type": "code",
   "execution_count": 9,
   "metadata": {},
   "outputs": [],
   "source": [
    "def ComputeHalflifeFromNumCounts( counts, enrichment_fraction=0.9 ):\n",
    "    '''Returns the half life which would give (on average) the input number of signal counts'''\n",
    "    \n",
    "    N_A = 6.02e23 # atoms/mol\n",
    "    FidMass = 3281 # kg\n",
    "    AtomicMass = 135.8 # g/mol\n",
    "    SigEfficiency = 0.96\n",
    "    Livetime = 10 # years\n",
    "    return FidMass*1.e3 / AtomicMass * N_A * enrichment_fraction * Livetime * \\\n",
    "            SigEfficiency * np.log(2) / counts\n"
   ]
  },
  {
   "cell_type": "code",
   "execution_count": 10,
   "metadata": {},
   "outputs": [
    {
     "name": "stdout",
     "output_type": "stream",
     "text": [
      "800AAD - DNN smear: 0.0\n",
      "   Median 90%CL on signal counts: 6.195619561956196\n",
      "   Sensitivity: 1.406e+28 years\n",
      "EBF57F - DNN smear: 0.15\n",
      "   Median 90%CL on signal counts: 6.630663066306631\n",
      "   Sensitivity: 1.314e+28 years\n",
      "83BAFF - DNN smear: 0.2\n",
      "   Median 90%CL on signal counts: 7.305730573057306\n",
      "   Sensitivity: 1.192e+28 years\n",
      "F4CBD6 - DNN smear: 0.25\n",
      "   Median 90%CL on signal counts: 8.540854085408542\n",
      "   Sensitivity: 1.020e+28 years\n"
     ]
    },
    {
     "data": {
      "image/png": "[encoded data removed]",
      "text/plain": [
       "<Figure size 720x576 with 1 Axes>"
      ]
     },
     "metadata": {
      "needs_background": "light"
     },
     "output_type": "display_data"
    }
   ],
   "source": [
    "median_dict = {}\n",
    "sens_dict = {}\n",
    "fig, ax = plt.subplots()\n",
    "for tag, df in dfdict.items():\n",
    "    h = Hist.new.Regular(61, 0, 60, name=\"signal_counts\").Double()\n",
    "    values = df['90CL_crossing'].loc[good_fit_mask_dict[tag]]\n",
    "    h.fill(values)\n",
    "    median = np.median(values)\n",
    "    median_dict[tag] = median\n",
    "    sens_dict[tag] = ComputeHalflifeFromNumCounts(median)\n",
    "    print(f'{tag} - DNN smear: {tag_dnn_dict[tag]}')\n",
    "    print(f'   Median 90%CL on signal counts: {median}')\n",
    "    print(f'   Sensitivity: {sens_dict[tag]:.3e} years')\n",
    "\n",
    "    h.plot1d(ax=ax, label=f'DNN smear: {tag_dnn_dict[tag]}')\n",
    "\n",
    "plt.legend()\n",
    "plt.xlabel('90% CL on signal counts for given toy')\n",
    "plt.yscale('log')"
   ]
  },
  {
   "cell_type": "code",
   "execution_count": 16,
   "metadata": {},
   "outputs": [
    {
     "name": "stdout",
     "output_type": "stream",
     "text": [
      "dnn_smear\tsens\trel sens change\n",
      "0.0 \t 1.406e+28 \t 1.000\n",
      "0.15 \t 1.314e+28 \t 0.934\n",
      "0.2 \t 1.192e+28 \t 0.848\n",
      "0.25 \t 1.020e+28 \t 0.725\n"
     ]
    },
    {
     "data": {
      "image/png": "[encoded data removed]",
      "text/plain": [
       "<Figure size 720x576 with 1 Axes>"
      ]
     },
     "metadata": {
      "needs_background": "light"
     },
     "output_type": "display_data"
    }
   ],
   "source": [
    "x_points = np.array(list(tag_dnn_dict.values()), dtype=float)\n",
    "y_points = np.array(list(sens_dict.values()), dtype=float)\n",
    "r_points = median_dict['800AAD']/np.array(list(median_dict.values()))\n",
    "\n",
    "    \n",
    "plt.plot(x_points, y_points/1.e28,'-or', markersize=10, linewidth=3, label=\"Xe enrichment: 90%\")\n",
    "plt.plot(x_points, y_points/0.9*0.8/1.e28,'-ob', markersize=10, linewidth=3, label=\"Xe enrichment: 80%\")\n",
    "# plt.xscale('log')\n",
    "# plt.ylim(0.2,1.2)\n",
    "plt.ylabel(r'Computed sensitivity [$\\times 10^{28}$ yrs]')\n",
    "plt.xlabel('DNN Smear factor')\n",
    "plt.legend()\n",
    "\n",
    "# plt.savefig('sensitivity_vs_dnn_smear.png', dpi=200, bbox_inches='tight')\n",
    "\n",
    "print('dnn_smear\\tsens\\trel sens change')\n",
    "for x, y, r in zip(x_points, y_points, r_points):\n",
    "    print(x, \"\\t\", f'{y:.3e}', \"\\t\", f'{r:.3f}')"
   ]
  },
  {
   "cell_type": "code",
   "execution_count": null,
   "metadata": {},
   "outputs": [],
   "source": []
  }
 ],
 "metadata": {
  "kernelspec": {
   "display_name": "nEXO VirtualEnv",
   "language": "python",
   "name": "nexo_venv"
  },
  "language_info": {
   "codemirror_mode": {
    "name": "ipython",
    "version": 3
   },
   "file_extension": ".py",
   "mimetype": "text/x-python",
   "name": "python",
   "nbconvert_exporter": "python",
   "pygments_lexer": "ipython3",
   "version": "3.8.2"
  }
 },
 "nbformat": 4,
 "nbformat_minor": 5
}
