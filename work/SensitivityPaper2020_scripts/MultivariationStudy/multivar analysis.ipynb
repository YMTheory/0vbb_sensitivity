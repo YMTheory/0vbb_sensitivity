{
 "cells": [
  {
   "cell_type": "code",
   "execution_count": 1,
   "id": "13544d16-925a-426e-817f-d2cc4da4050d",
   "metadata": {},
   "outputs": [],
   "source": [
    "# Import sys, then tell python where to find the nEXO-specific classes\n",
    "import sys\n",
    "sys.path.append('/Users/sangiorgio1/SoftwareRepositories/sensitivity/modules')"
   ]
  },
  {
   "cell_type": "code",
   "execution_count": 15,
   "id": "d70310db-5652-45e1-964c-2c3ac14e5731",
   "metadata": {},
   "outputs": [],
   "source": [
    "# Import useful libraries for analysis\n",
    "\n",
    "import pandas as pd\n",
    "import hist\n",
    "from hist import Hist\n",
    "import numpy as np\n",
    "from matplotlib import pyplot as plt\n",
    "import os\n",
    "from pathlib import Path \n",
    "\n",
    "plt.rcParams.update({'font.size': 18})\n",
    "plt.rcParams['figure.figsize'] = (10,8)\n",
    "\n",
    "from cycler import cycler\n",
    "plt.rcParams['axes.prop_cycle'] = cycler(color='bgrcmyk')"
   ]
  },
  {
   "cell_type": "code",
   "execution_count": 3,
   "id": "423a3bc4-c98c-455c-93d4-00748a70a0b9",
   "metadata": {},
   "outputs": [],
   "source": [
    "# Import the nEXO sensitivity classes\n",
    "\n",
    "import nEXOFitWorkspace\n",
    "import nEXOFitModel\n",
    "import nEXOFitLikelihood"
   ]
  },
  {
   "cell_type": "code",
   "execution_count": 10,
   "id": "0abe370e-20c7-4fa0-8313-c6cf297d0a48",
   "metadata": {},
   "outputs": [],
   "source": [
    "outputdir = Path('/Users/sangiorgio1/scratch/21_11_24/')\n",
    "filename = Path('sens_output_file_multivarstudy_1.0000x_90CL_001_D024.h5')\n",
    "df = pd.read_hdf(outputdir/filename)\n"
   ]
  },
  {
   "cell_type": "code",
   "execution_count": 11,
   "id": "008eca06-ef34-4de6-a648-9f95384f3324",
   "metadata": {},
   "outputs": [
    {
     "data": {
      "text/html": [
       "<div>\n",
       "<style scoped>\n",
       "    .dataframe tbody tr th:only-of-type {\n",
       "        vertical-align: middle;\n",
       "    }\n",
       "\n",
       "    .dataframe tbody tr th {\n",
       "        vertical-align: top;\n",
       "    }\n",
       "\n",
       "    .dataframe thead th {\n",
       "        text-align: right;\n",
       "    }\n",
       "</style>\n",
       "<table border=\"1\" class=\"dataframe\">\n",
       "  <thead>\n",
       "    <tr style=\"text-align: right;\">\n",
       "      <th></th>\n",
       "      <th>num_signal</th>\n",
       "      <th>lambda</th>\n",
       "      <th>fixed_fit_converged</th>\n",
       "      <th>fixed_fit_acc_covar</th>\n",
       "      <th>90CL_crossing</th>\n",
       "      <th>num_iterations</th>\n",
       "      <th>best_fit_converged</th>\n",
       "      <th>best_fit_covar</th>\n",
       "      <th>best_fit_iterations</th>\n",
       "      <th>best_fit_parameters</th>\n",
       "      <th>best_fit_errors</th>\n",
       "      <th>best_fit_nll</th>\n",
       "      <th>fixed_fit_parameters</th>\n",
       "      <th>fixed_fit_errors</th>\n",
       "      <th>input_parameters</th>\n",
       "    </tr>\n",
       "  </thead>\n",
       "  <tbody>\n",
       "    <tr>\n",
       "      <th>0</th>\n",
       "      <td>[1e-06, 1.4000009999999998, 2.800001, 4.200000...</td>\n",
       "      <td>[-9.427919442472898e-06, 0.7637512434857703, 1...</td>\n",
       "      <td>[True, True, True, True, True, True, True, Tru...</td>\n",
       "      <td>[True, True, True, True, True, True, True, Tru...</td>\n",
       "      <td>4.480448</td>\n",
       "      <td>[1.0, 1.0, 2.0, 1.0, 1.0, 1.0, 1.0, 4.0, 1.0, ...</td>\n",
       "      <td>True</td>\n",
       "      <td>True</td>\n",
       "      <td>2</td>\n",
       "      <td>{'Num_Far': 5880.219493458902, 'Num_Vessel_U23...</td>\n",
       "      <td>{447.0377261894987: 447.0377261894987, 1045.89...</td>\n",
       "      <td>-4.145641</td>\n",
       "      <td>{'Num_Far': 5883.22327420278, 'Num_Vessel_U238...</td>\n",
       "      <td>{416.0695982756961: 416.0695982756961, 1596.71...</td>\n",
       "      <td>[5320.123204785061, 995.0406482092784, 719.074...</td>\n",
       "    </tr>\n",
       "    <tr>\n",
       "      <th>1</th>\n",
       "      <td>[1e-06, 1.4000009999999998, 2.800001, 4.200000...</td>\n",
       "      <td>[-9.65937673065298e-05, 0.15030125914516823, 0...</td>\n",
       "      <td>[True, True, True, True, True, True, True, Tru...</td>\n",
       "      <td>[True, True, True, True, True, True, True, Tru...</td>\n",
       "      <td>8.430843</td>\n",
       "      <td>[1.0, 1.0, 2.0, 2.0, 2.0, 1.0, 1.0, 2.0, 2.0, ...</td>\n",
       "      <td>True</td>\n",
       "      <td>True</td>\n",
       "      <td>1</td>\n",
       "      <td>{'Num_Far': 4905.107082327902, 'Num_Vessel_U23...</td>\n",
       "      <td>{1585.3487973519507: 1585.3487973519507, 7356....</td>\n",
       "      <td>-4.583710</td>\n",
       "      <td>{'Num_Far': 4909.617698808087, 'Num_Vessel_U23...</td>\n",
       "      <td>{468.1460373880541: 468.1460373880541, 1298.03...</td>\n",
       "      <td>[4705.991576771266, 3274.4390874058627, 285.57...</td>\n",
       "    </tr>\n",
       "    <tr>\n",
       "      <th>2</th>\n",
       "      <td>[1e-06, 1.4000009999999998, 2.800001, 4.200000...</td>\n",
       "      <td>[-7.075699810421554e-05, 1.291381483193458, 2....</td>\n",
       "      <td>[True, True, True, True, True, True, True, Tru...</td>\n",
       "      <td>[True, True, True, True, True, True, True, Tru...</td>\n",
       "      <td>2.860286</td>\n",
       "      <td>[1.0, 1.0, 1.0, 1.0, 2.0, 2.0, 2.0, 1.0, 1.0, ...</td>\n",
       "      <td>True</td>\n",
       "      <td>True</td>\n",
       "      <td>1</td>\n",
       "      <td>{'Num_Far': 3732.1613731509874, 'Num_Vessel_U2...</td>\n",
       "      <td>{445.64468682940515: 445.64468682940515, 723.3...</td>\n",
       "      <td>-8.742176</td>\n",
       "      <td>{'Num_Far': 3732.799060404417, 'Num_Vessel_U23...</td>\n",
       "      <td>{518.195558380057: 518.195558380057, 726.71698...</td>\n",
       "      <td>[4804.931644315876, 666.3880737459614, 335.027...</td>\n",
       "    </tr>\n",
       "    <tr>\n",
       "      <th>3</th>\n",
       "      <td>[1e-06, 1.4000009999999998, 2.800001, 4.200000...</td>\n",
       "      <td>[0.008187341438846474, 0.05900683106498583, 0....</td>\n",
       "      <td>[True, True, True, True, True, True, True, Tru...</td>\n",
       "      <td>[True, True, True, True, True, True, True, Tru...</td>\n",
       "      <td>8.630863</td>\n",
       "      <td>[1.0, 1.0, 1.0, 1.0, 1.0, 1.0, 1.0, 2.0, 1.0, ...</td>\n",
       "      <td>True</td>\n",
       "      <td>True</td>\n",
       "      <td>2</td>\n",
       "      <td>{'Num_Far': 4975.35408708711, 'Num_Vessel_U238...</td>\n",
       "      <td>{599.4952731690842: 599.4952731690842, 475.629...</td>\n",
       "      <td>-5.653156</td>\n",
       "      <td>{'Num_Far': 4916.6133723241255, 'Num_Vessel_U2...</td>\n",
       "      <td>{563.8193871293688: 563.8193871293688, 476.830...</td>\n",
       "      <td>[3992.6873438453968, 1866.1240252639946, 1215....</td>\n",
       "    </tr>\n",
       "    <tr>\n",
       "      <th>4</th>\n",
       "      <td>[1e-06, 1.4000009999999998, 2.800001, 4.200000...</td>\n",
       "      <td>[-1.6495508602609732e-05, 0.22983967957275897,...</td>\n",
       "      <td>[True, True, True, True, True, True, True, Tru...</td>\n",
       "      <td>[True, True, True, True, True, True, True, Tru...</td>\n",
       "      <td>7.890789</td>\n",
       "      <td>[1.0, 3.0, 4.0, 1.0, 3.0, 3.0, 3.0, 2.0, 2.0, ...</td>\n",
       "      <td>True</td>\n",
       "      <td>True</td>\n",
       "      <td>2</td>\n",
       "      <td>{'Num_Far': 3624.3409607445396, 'Num_Vessel_U2...</td>\n",
       "      <td>{522.4899304917058: 522.4899304917058, 11905.0...</td>\n",
       "      <td>-0.632750</td>\n",
       "      <td>{'Num_Far': 3598.4746132151145, 'Num_Vessel_U2...</td>\n",
       "      <td>{497.79186912176556: 497.79186912176556, 1672....</td>\n",
       "      <td>[4147.027019327185, 1227.507837458484, 243.682...</td>\n",
       "    </tr>\n",
       "  </tbody>\n",
       "</table>\n",
       "</div>"
      ],
      "text/plain": [
       "                                          num_signal  \\\n",
       "0  [1e-06, 1.4000009999999998, 2.800001, 4.200000...   \n",
       "1  [1e-06, 1.4000009999999998, 2.800001, 4.200000...   \n",
       "2  [1e-06, 1.4000009999999998, 2.800001, 4.200000...   \n",
       "3  [1e-06, 1.4000009999999998, 2.800001, 4.200000...   \n",
       "4  [1e-06, 1.4000009999999998, 2.800001, 4.200000...   \n",
       "\n",
       "                                              lambda  \\\n",
       "0  [-9.427919442472898e-06, 0.7637512434857703, 1...   \n",
       "1  [-9.65937673065298e-05, 0.15030125914516823, 0...   \n",
       "2  [-7.075699810421554e-05, 1.291381483193458, 2....   \n",
       "3  [0.008187341438846474, 0.05900683106498583, 0....   \n",
       "4  [-1.6495508602609732e-05, 0.22983967957275897,...   \n",
       "\n",
       "                                 fixed_fit_converged  \\\n",
       "0  [True, True, True, True, True, True, True, Tru...   \n",
       "1  [True, True, True, True, True, True, True, Tru...   \n",
       "2  [True, True, True, True, True, True, True, Tru...   \n",
       "3  [True, True, True, True, True, True, True, Tru...   \n",
       "4  [True, True, True, True, True, True, True, Tru...   \n",
       "\n",
       "                                 fixed_fit_acc_covar  90CL_crossing  \\\n",
       "0  [True, True, True, True, True, True, True, Tru...       4.480448   \n",
       "1  [True, True, True, True, True, True, True, Tru...       8.430843   \n",
       "2  [True, True, True, True, True, True, True, Tru...       2.860286   \n",
       "3  [True, True, True, True, True, True, True, Tru...       8.630863   \n",
       "4  [True, True, True, True, True, True, True, Tru...       7.890789   \n",
       "\n",
       "                                      num_iterations  best_fit_converged  \\\n",
       "0  [1.0, 1.0, 2.0, 1.0, 1.0, 1.0, 1.0, 4.0, 1.0, ...                True   \n",
       "1  [1.0, 1.0, 2.0, 2.0, 2.0, 1.0, 1.0, 2.0, 2.0, ...                True   \n",
       "2  [1.0, 1.0, 1.0, 1.0, 2.0, 2.0, 2.0, 1.0, 1.0, ...                True   \n",
       "3  [1.0, 1.0, 1.0, 1.0, 1.0, 1.0, 1.0, 2.0, 1.0, ...                True   \n",
       "4  [1.0, 3.0, 4.0, 1.0, 3.0, 3.0, 3.0, 2.0, 2.0, ...                True   \n",
       "\n",
       "   best_fit_covar  best_fit_iterations  \\\n",
       "0            True                    2   \n",
       "1            True                    1   \n",
       "2            True                    1   \n",
       "3            True                    2   \n",
       "4            True                    2   \n",
       "\n",
       "                                 best_fit_parameters  \\\n",
       "0  {'Num_Far': 5880.219493458902, 'Num_Vessel_U23...   \n",
       "1  {'Num_Far': 4905.107082327902, 'Num_Vessel_U23...   \n",
       "2  {'Num_Far': 3732.1613731509874, 'Num_Vessel_U2...   \n",
       "3  {'Num_Far': 4975.35408708711, 'Num_Vessel_U238...   \n",
       "4  {'Num_Far': 3624.3409607445396, 'Num_Vessel_U2...   \n",
       "\n",
       "                                     best_fit_errors  best_fit_nll  \\\n",
       "0  {447.0377261894987: 447.0377261894987, 1045.89...     -4.145641   \n",
       "1  {1585.3487973519507: 1585.3487973519507, 7356....     -4.583710   \n",
       "2  {445.64468682940515: 445.64468682940515, 723.3...     -8.742176   \n",
       "3  {599.4952731690842: 599.4952731690842, 475.629...     -5.653156   \n",
       "4  {522.4899304917058: 522.4899304917058, 11905.0...     -0.632750   \n",
       "\n",
       "                                fixed_fit_parameters  \\\n",
       "0  {'Num_Far': 5883.22327420278, 'Num_Vessel_U238...   \n",
       "1  {'Num_Far': 4909.617698808087, 'Num_Vessel_U23...   \n",
       "2  {'Num_Far': 3732.799060404417, 'Num_Vessel_U23...   \n",
       "3  {'Num_Far': 4916.6133723241255, 'Num_Vessel_U2...   \n",
       "4  {'Num_Far': 3598.4746132151145, 'Num_Vessel_U2...   \n",
       "\n",
       "                                    fixed_fit_errors  \\\n",
       "0  {416.0695982756961: 416.0695982756961, 1596.71...   \n",
       "1  {468.1460373880541: 468.1460373880541, 1298.03...   \n",
       "2  {518.195558380057: 518.195558380057, 726.71698...   \n",
       "3  {563.8193871293688: 563.8193871293688, 476.830...   \n",
       "4  {497.79186912176556: 497.79186912176556, 1672....   \n",
       "\n",
       "                                    input_parameters  \n",
       "0  [5320.123204785061, 995.0406482092784, 719.074...  \n",
       "1  [4705.991576771266, 3274.4390874058627, 285.57...  \n",
       "2  [4804.931644315876, 666.3880737459614, 335.027...  \n",
       "3  [3992.6873438453968, 1866.1240252639946, 1215....  \n",
       "4  [4147.027019327185, 1227.507837458484, 243.682...  "
      ]
     },
     "execution_count": 11,
     "metadata": {},
     "output_type": "execute_result"
    }
   ],
   "source": [
    "df.head()"
   ]
  },
  {
   "cell_type": "code",
   "execution_count": 13,
   "id": "bf09f719-8c96-41fa-b194-3abc967aac18",
   "metadata": {},
   "outputs": [
    {
     "name": "stdout",
     "output_type": "stream",
     "text": [
      "Number of Toys: 10\n"
     ]
    }
   ],
   "source": [
    "print(\"Number of Toys:\", len(df))"
   ]
  },
  {
   "cell_type": "code",
   "execution_count": 14,
   "id": "8b05065f-9746-4996-a153-3ee337d2232e",
   "metadata": {},
   "outputs": [
    {
     "name": "stdout",
     "output_type": "stream",
     "text": [
      "Convergence fraction: 1.0\n"
     ]
    }
   ],
   "source": [
    "# Compute the convergence fraction\n",
    "good_fit_mask = []\n",
    "for index,row in df.iterrows():\n",
    "    if np.sum(row['fixed_fit_acc_covar']) < len(row['fixed_fit_acc_covar'])-2 \\\n",
    "        or not row['best_fit_covar'] \\\n",
    "        or row['90CL_crossing'] < 0.01\\\n",
    "        or row['best_fit_nll'] > 0.:\n",
    "        good_fit_mask.append(False)\n",
    "    else:\n",
    "        good_fit_mask.append(True)\n",
    "print(f'Convergence fraction: {np.sum(good_fit_mask)/len(df):3.3}')\n"
   ]
  },
  {
   "cell_type": "code",
   "execution_count": 18,
   "id": "fa1374ac-6573-4c6b-b65d-48d8adff5f63",
   "metadata": {},
   "outputs": [],
   "source": [
    "def ComputeHalflifeFromNumCounts( counts ):\n",
    "    '''Returns the half life which would give (on average) the input number of signal counts'''\n",
    "    \n",
    "    N_A = 6.02e23 # atoms/mol\n",
    "    FidMass = 3281 # kg\n",
    "    AtomicMass = 135.8 # g/mol\n",
    "    EnrichmentFraction = 0.9\n",
    "    SigEfficiency = 0.96\n",
    "    Livetime = 10 # years\n",
    "    return FidMass*1.e3 / AtomicMass * N_A * EnrichmentFraction * Livetime * \\\n",
    "            SigEfficiency * np.log(2) / counts\n"
   ]
  },
  {
   "cell_type": "code",
   "execution_count": 20,
   "id": "9f85d869-522d-4821-9a7e-75ec91e0efe3",
   "metadata": {},
   "outputs": [
    {
     "name": "stdout",
     "output_type": "stream",
     "text": [
      "Median 90%CL on signal counts: 7.195719571957197\n",
      "Sensitivity: 1.21e+28 years\n"
     ]
    },
    {
     "data": {
      "image/png": "[encoded data removed]",
      "text/plain": [
       "<Figure size 720x576 with 1 Axes>"
      ]
     },
     "metadata": {
      "needs_background": "light"
     },
     "output_type": "display_data"
    }
   ],
   "source": [
    "h = Hist.new.Regular(61, 0, 60, name=\"signal_counts\").Double()\n",
    "h.fill(df['90CL_crossing'].loc[good_fit_mask])\n",
    "median = np.median(df['90CL_crossing'].loc[good_fit_mask])\n",
    "print(f'Median 90%CL on signal counts: {median}')\n",
    "print(f'Sensitivity: {ComputeHalflifeFromNumCounts(median):.2e} years')\n",
    "\n",
    "fig, ax = plt.subplots()\n",
    "h.plot1d(ax=ax)\n",
    "plt.xlabel('90% CL on signal counts for given toy')\n",
    "plt.yscale('log')"
   ]
  },
  {
   "cell_type": "code",
   "execution_count": null,
   "id": "82d77d06-3535-448f-abc4-45518aac7c4d",
   "metadata": {},
   "outputs": [],
   "source": []
  }
 ],
 "metadata": {
  "kernelspec": {
   "display_name": "nexo",
   "language": "python",
   "name": "nexo"
  },
  "language_info": {
   "codemirror_mode": {
    "name": "ipython",
    "version": 3
   },
   "file_extension": ".py",
   "mimetype": "text/x-python",
   "name": "python",
   "nbconvert_exporter": "python",
   "pygments_lexer": "ipython3",
   "version": "3.9.9"
  }
 },
 "nbformat": 4,
 "nbformat_minor": 5
}
