{
 "cells": [
  {
   "cell_type": "code",
   "execution_count": 1,
   "id": "13544d16-925a-426e-817f-d2cc4da4050d",
   "metadata": {},
   "outputs": [],
   "source": [
    "# Import sys, then tell python where to find the nEXO-specific classes\n",
    "import sys\n",
    "sys.path.append('/Users/sangiorgio1/SoftwareRepositories/sensitivity/modules')"
   ]
  },
  {
   "cell_type": "code",
   "execution_count": 2,
   "id": "d70310db-5652-45e1-964c-2c3ac14e5731",
   "metadata": {},
   "outputs": [],
   "source": [
    "# Import useful libraries for analysis\n",
    "\n",
    "import pandas as pd\n",
    "import hist\n",
    "from hist import Hist\n",
    "import numpy as np\n",
    "from matplotlib import pyplot as plt\n",
    "import os\n",
    "from pathlib import Path \n",
    "\n",
    "plt.rcParams.update({'font.size': 18})\n",
    "plt.rcParams['figure.figsize'] = (10,8)\n",
    "\n",
    "from cycler import cycler\n",
    "plt.rcParams['axes.prop_cycle'] = cycler(color='bgrcmyk')"
   ]
  },
  {
   "cell_type": "code",
   "execution_count": 3,
   "id": "423a3bc4-c98c-455c-93d4-00748a70a0b9",
   "metadata": {},
   "outputs": [],
   "source": [
    "# Import the nEXO sensitivity classes\n",
    "\n",
    "import nEXOFitWorkspace\n",
    "import nEXOFitModel\n",
    "import nEXOFitLikelihood"
   ]
  },
  {
   "cell_type": "code",
   "execution_count": 38,
   "id": "9d0f7909-9d9a-4873-86b4-2dbc62e7a4bb",
   "metadata": {},
   "outputs": [],
   "source": [
    "tag_dnn_dict={'800AAD':'0.0', 'EBF57F':'0.15', '83BAFF':'0.2'}"
   ]
  },
  {
   "cell_type": "code",
   "execution_count": 39,
   "id": "0abe370e-20c7-4fa0-8313-c6cf297d0a48",
   "metadata": {},
   "outputs": [
    {
     "name": "stdout",
     "output_type": "stream",
     "text": [
      "Loading data for tag 800AAD\n",
      "---> Loaded 5000 toy datasets\n",
      "Loading data for tag EBF57F\n",
      "---> Loaded 5000 toy datasets\n",
      "Loading data for tag 83BAFF\n",
      "---> Loaded 5000 toy datasets\n"
     ]
    }
   ],
   "source": [
    "outputdir = Path('/Users/sangiorgio1/OneDrive - LLNL/nEXO/Simulations/sensitivity/sensitivity2020/multi_variations_study/output')\n",
    "\n",
    "import glob\n",
    "h5_files = glob.glob(f'{outputdir}/*.h5')\n",
    "\n",
    "dfdict = dict()\n",
    "for tag in tag_dnn_dict.keys():\n",
    "    print(f'Loading data for tag {tag}')\n",
    "    df_list = [pd.read_hdf(outputdir/Path(filename)) for filename in h5_files if tag in filename]\n",
    "    dfdict[tag] = pd.concat(df_list, ignore_index=True)\n",
    "    print('---> Loaded {} toy datasets'.format(len(dfdict[tag])))\n"
   ]
  },
  {
   "cell_type": "code",
   "execution_count": 30,
   "id": "008eca06-ef34-4de6-a648-9f95384f3324",
   "metadata": {},
   "outputs": [
    {
     "data": {
      "text/html": [
       "<div>\n",
       "<style scoped>\n",
       "    .dataframe tbody tr th:only-of-type {\n",
       "        vertical-align: middle;\n",
       "    }\n",
       "\n",
       "    .dataframe tbody tr th {\n",
       "        vertical-align: top;\n",
       "    }\n",
       "\n",
       "    .dataframe thead th {\n",
       "        text-align: right;\n",
       "    }\n",
       "</style>\n",
       "<table border=\"1\" class=\"dataframe\">\n",
       "  <thead>\n",
       "    <tr style=\"text-align: right;\">\n",
       "      <th></th>\n",
       "      <th>num_signal</th>\n",
       "      <th>lambda</th>\n",
       "      <th>fixed_fit_converged</th>\n",
       "      <th>fixed_fit_acc_covar</th>\n",
       "      <th>90CL_crossing</th>\n",
       "      <th>num_iterations</th>\n",
       "      <th>best_fit_converged</th>\n",
       "      <th>best_fit_covar</th>\n",
       "      <th>best_fit_iterations</th>\n",
       "      <th>best_fit_parameters</th>\n",
       "      <th>best_fit_errors</th>\n",
       "      <th>best_fit_nll</th>\n",
       "      <th>fixed_fit_parameters</th>\n",
       "      <th>fixed_fit_errors</th>\n",
       "      <th>input_parameters</th>\n",
       "    </tr>\n",
       "  </thead>\n",
       "  <tbody>\n",
       "    <tr>\n",
       "      <th>0</th>\n",
       "      <td>[1e-06, 1.4000009999999998, 2.800001, 4.200000...</td>\n",
       "      <td>[2.7225773269063076, 0.8001498949237709, 0.176...</td>\n",
       "      <td>[True, True, True, True, True, True, True, Tru...</td>\n",
       "      <td>[True, True, True, True, True, True, True, Tru...</td>\n",
       "      <td>13.311331</td>\n",
       "      <td>[2.0, 1.0, 2.0, 2.0, 2.0, 1.0, 1.0, 1.0, 1.0, ...</td>\n",
       "      <td>True</td>\n",
       "      <td>True</td>\n",
       "      <td>2</td>\n",
       "      <td>{'Num_Far': 4586.501286878452, 'Num_Vessel_U23...</td>\n",
       "      <td>{388.6384664353973: 388.6384664353973, 686.274...</td>\n",
       "      <td>-3.104210</td>\n",
       "      <td>{'Num_Far': 4562.762380824492, 'Num_Vessel_U23...</td>\n",
       "      <td>{372.41660858565774: 372.41660858565774, 550.3...</td>\n",
       "      <td>[4830.0892668184, 4520.348460104411, 475.72015...</td>\n",
       "    </tr>\n",
       "    <tr>\n",
       "      <th>1</th>\n",
       "      <td>[1e-06, 1.4000009999999998, 2.800001, 4.200000...</td>\n",
       "      <td>[0.00033258830731774935, 0.7976152097411839, 1...</td>\n",
       "      <td>[True, True, True, True, True, True, True, Tru...</td>\n",
       "      <td>[True, True, True, True, True, True, True, Tru...</td>\n",
       "      <td>4.480448</td>\n",
       "      <td>[1.0, 1.0, 2.0, 2.0, 2.0, 3.0, 2.0, 4.0, 2.0, ...</td>\n",
       "      <td>True</td>\n",
       "      <td>True</td>\n",
       "      <td>1</td>\n",
       "      <td>{'Num_Far': 6577.019383385373, 'Num_Vessel_U23...</td>\n",
       "      <td>{847.7143386991115: 847.7143386991115, 980.982...</td>\n",
       "      <td>-3.839375</td>\n",
       "      <td>{'Num_Far': 6591.778506048152, 'Num_Vessel_U23...</td>\n",
       "      <td>{441.74470721123316: 441.74470721123316, 4568....</td>\n",
       "      <td>[6246.497928087152, 5220.287156871215, 246.854...</td>\n",
       "    </tr>\n",
       "    <tr>\n",
       "      <th>2</th>\n",
       "      <td>[1e-06, 1.4000009999999998, 2.800001, 4.200000...</td>\n",
       "      <td>[0.05609649045357301, 0.005023374205396891, 0....</td>\n",
       "      <td>[True, True, True, True, True, True, True, Tru...</td>\n",
       "      <td>[True, True, True, True, True, True, True, Tru...</td>\n",
       "      <td>10.331033</td>\n",
       "      <td>[1.0, 1.0, 1.0, 1.0, 1.0, 1.0, 1.0, 1.0, 1.0, ...</td>\n",
       "      <td>True</td>\n",
       "      <td>True</td>\n",
       "      <td>3</td>\n",
       "      <td>{'Num_Far': 4588.122775189221, 'Num_Vessel_U23...</td>\n",
       "      <td>{496.01844298568403: 496.01844298568403, 13101...</td>\n",
       "      <td>-8.124169</td>\n",
       "      <td>{'Num_Far': 4496.509587364289, 'Num_Vessel_U23...</td>\n",
       "      <td>{918.6740900402963: 918.6740900402963, 2835.66...</td>\n",
       "      <td>[4822.803179392356, 1147.1525543507566, 899.81...</td>\n",
       "    </tr>\n",
       "    <tr>\n",
       "      <th>3</th>\n",
       "      <td>[1e-06, 1.4000009999999998, 2.800001, 4.200000...</td>\n",
       "      <td>[0.810427749659766, 0.3746498604979678, 0.1205...</td>\n",
       "      <td>[True, True, True, True, True, True, True, Tru...</td>\n",
       "      <td>[True, True, True, True, True, True, True, Tru...</td>\n",
       "      <td>16.561656</td>\n",
       "      <td>[1.0, 1.0, 1.0, 1.0, 1.0, 1.0, 2.0, 1.0, 2.0, ...</td>\n",
       "      <td>True</td>\n",
       "      <td>True</td>\n",
       "      <td>1</td>\n",
       "      <td>{'Num_Far': 4234.094353754664, 'Num_Vessel_U23...</td>\n",
       "      <td>{496.05556240580813: 496.05556240580813, 1347....</td>\n",
       "      <td>-4.161134</td>\n",
       "      <td>{'Num_Far': 4264.789096795459, 'Num_Vessel_U23...</td>\n",
       "      <td>{372.21205885850486: 372.21205885850486, 544.6...</td>\n",
       "      <td>[4732.746070850742, 1149.7353649244276, 248.72...</td>\n",
       "    </tr>\n",
       "    <tr>\n",
       "      <th>4</th>\n",
       "      <td>[1e-06, 1.4000009999999998, 2.800001, 4.200000...</td>\n",
       "      <td>[0.04201015991172952, 0.004673240408196833, 0....</td>\n",
       "      <td>[True, True, True, True, True, True, True, Tru...</td>\n",
       "      <td>[True, True, True, True, True, True, True, Tru...</td>\n",
       "      <td>11.341134</td>\n",
       "      <td>[3.0, 1.0, 1.0, 1.0, 1.0, 1.0, 2.0, 1.0, 2.0, ...</td>\n",
       "      <td>True</td>\n",
       "      <td>True</td>\n",
       "      <td>3</td>\n",
       "      <td>{'Num_Far': 5724.446120457882, 'Num_Vessel_U23...</td>\n",
       "      <td>{365.325476703656: 365.325476703656, 779.51792...</td>\n",
       "      <td>-4.426884</td>\n",
       "      <td>{'Num_Far': 5731.060971261335, 'Num_Vessel_U23...</td>\n",
       "      <td>{444.95018019119243: 444.95018019119243, 777.9...</td>\n",
       "      <td>[5680.030638513752, 1281.2295682152962, 402.85...</td>\n",
       "    </tr>\n",
       "  </tbody>\n",
       "</table>\n",
       "</div>"
      ],
      "text/plain": [
       "                                          num_signal  \\\n",
       "0  [1e-06, 1.4000009999999998, 2.800001, 4.200000...   \n",
       "1  [1e-06, 1.4000009999999998, 2.800001, 4.200000...   \n",
       "2  [1e-06, 1.4000009999999998, 2.800001, 4.200000...   \n",
       "3  [1e-06, 1.4000009999999998, 2.800001, 4.200000...   \n",
       "4  [1e-06, 1.4000009999999998, 2.800001, 4.200000...   \n",
       "\n",
       "                                              lambda  \\\n",
       "0  [2.7225773269063076, 0.8001498949237709, 0.176...   \n",
       "1  [0.00033258830731774935, 0.7976152097411839, 1...   \n",
       "2  [0.05609649045357301, 0.005023374205396891, 0....   \n",
       "3  [0.810427749659766, 0.3746498604979678, 0.1205...   \n",
       "4  [0.04201015991172952, 0.004673240408196833, 0....   \n",
       "\n",
       "                                 fixed_fit_converged  \\\n",
       "0  [True, True, True, True, True, True, True, Tru...   \n",
       "1  [True, True, True, True, True, True, True, Tru...   \n",
       "2  [True, True, True, True, True, True, True, Tru...   \n",
       "3  [True, True, True, True, True, True, True, Tru...   \n",
       "4  [True, True, True, True, True, True, True, Tru...   \n",
       "\n",
       "                                 fixed_fit_acc_covar  90CL_crossing  \\\n",
       "0  [True, True, True, True, True, True, True, Tru...      13.311331   \n",
       "1  [True, True, True, True, True, True, True, Tru...       4.480448   \n",
       "2  [True, True, True, True, True, True, True, Tru...      10.331033   \n",
       "3  [True, True, True, True, True, True, True, Tru...      16.561656   \n",
       "4  [True, True, True, True, True, True, True, Tru...      11.341134   \n",
       "\n",
       "                                      num_iterations  best_fit_converged  \\\n",
       "0  [2.0, 1.0, 2.0, 2.0, 2.0, 1.0, 1.0, 1.0, 1.0, ...                True   \n",
       "1  [1.0, 1.0, 2.0, 2.0, 2.0, 3.0, 2.0, 4.0, 2.0, ...                True   \n",
       "2  [1.0, 1.0, 1.0, 1.0, 1.0, 1.0, 1.0, 1.0, 1.0, ...                True   \n",
       "3  [1.0, 1.0, 1.0, 1.0, 1.0, 1.0, 2.0, 1.0, 2.0, ...                True   \n",
       "4  [3.0, 1.0, 1.0, 1.0, 1.0, 1.0, 2.0, 1.0, 2.0, ...                True   \n",
       "\n",
       "   best_fit_covar  best_fit_iterations  \\\n",
       "0            True                    2   \n",
       "1            True                    1   \n",
       "2            True                    3   \n",
       "3            True                    1   \n",
       "4            True                    3   \n",
       "\n",
       "                                 best_fit_parameters  \\\n",
       "0  {'Num_Far': 4586.501286878452, 'Num_Vessel_U23...   \n",
       "1  {'Num_Far': 6577.019383385373, 'Num_Vessel_U23...   \n",
       "2  {'Num_Far': 4588.122775189221, 'Num_Vessel_U23...   \n",
       "3  {'Num_Far': 4234.094353754664, 'Num_Vessel_U23...   \n",
       "4  {'Num_Far': 5724.446120457882, 'Num_Vessel_U23...   \n",
       "\n",
       "                                     best_fit_errors  best_fit_nll  \\\n",
       "0  {388.6384664353973: 388.6384664353973, 686.274...     -3.104210   \n",
       "1  {847.7143386991115: 847.7143386991115, 980.982...     -3.839375   \n",
       "2  {496.01844298568403: 496.01844298568403, 13101...     -8.124169   \n",
       "3  {496.05556240580813: 496.05556240580813, 1347....     -4.161134   \n",
       "4  {365.325476703656: 365.325476703656, 779.51792...     -4.426884   \n",
       "\n",
       "                                fixed_fit_parameters  \\\n",
       "0  {'Num_Far': 4562.762380824492, 'Num_Vessel_U23...   \n",
       "1  {'Num_Far': 6591.778506048152, 'Num_Vessel_U23...   \n",
       "2  {'Num_Far': 4496.509587364289, 'Num_Vessel_U23...   \n",
       "3  {'Num_Far': 4264.789096795459, 'Num_Vessel_U23...   \n",
       "4  {'Num_Far': 5731.060971261335, 'Num_Vessel_U23...   \n",
       "\n",
       "                                    fixed_fit_errors  \\\n",
       "0  {372.41660858565774: 372.41660858565774, 550.3...   \n",
       "1  {441.74470721123316: 441.74470721123316, 4568....   \n",
       "2  {918.6740900402963: 918.6740900402963, 2835.66...   \n",
       "3  {372.21205885850486: 372.21205885850486, 544.6...   \n",
       "4  {444.95018019119243: 444.95018019119243, 777.9...   \n",
       "\n",
       "                                    input_parameters  \n",
       "0  [4830.0892668184, 4520.348460104411, 475.72015...  \n",
       "1  [6246.497928087152, 5220.287156871215, 246.854...  \n",
       "2  [4822.803179392356, 1147.1525543507566, 899.81...  \n",
       "3  [4732.746070850742, 1149.7353649244276, 248.72...  \n",
       "4  [5680.030638513752, 1281.2295682152962, 402.85...  "
      ]
     },
     "execution_count": 30,
     "metadata": {},
     "output_type": "execute_result"
    }
   ],
   "source": [
    "df = dfdict['EBF57F']\n",
    "df.head()"
   ]
  },
  {
   "cell_type": "code",
   "execution_count": 31,
   "id": "bf09f719-8c96-41fa-b194-3abc967aac18",
   "metadata": {},
   "outputs": [
    {
     "name": "stdout",
     "output_type": "stream",
     "text": [
      "Number of Toys: 5000\n"
     ]
    }
   ],
   "source": [
    "print(\"Number of Toys:\", len(df))"
   ]
  },
  {
   "cell_type": "code",
   "execution_count": 36,
   "id": "8b05065f-9746-4996-a153-3ee337d2232e",
   "metadata": {},
   "outputs": [
    {
     "name": "stdout",
     "output_type": "stream",
     "text": [
      "Tag 800AAD convergence fraction: 0.994\n",
      "Tag EBF57F convergence fraction: 0.994\n",
      "Tag 83BAFF convergence fraction: 0.993\n"
     ]
    }
   ],
   "source": [
    "# Compute the convergence fraction\n",
    "for tag, df in dfdict.items():\n",
    "    good_fit_mask = []\n",
    "    for index,row in df.iterrows():\n",
    "        if np.sum(row['fixed_fit_acc_covar']) < len(row['fixed_fit_acc_covar'])-2 \\\n",
    "            or not row['best_fit_covar'] \\\n",
    "            or row['90CL_crossing'] < 0.01\\\n",
    "            or row['best_fit_nll'] > 0.:\n",
    "            good_fit_mask.append(False)\n",
    "        else:\n",
    "            good_fit_mask.append(True)\n",
    "    print(f'Tag {tag} convergence fraction: {np.sum(good_fit_mask)/len(df):3.3}')\n"
   ]
  },
  {
   "cell_type": "code",
   "execution_count": 33,
   "id": "fa1374ac-6573-4c6b-b65d-48d8adff5f63",
   "metadata": {},
   "outputs": [],
   "source": [
    "def ComputeHalflifeFromNumCounts( counts ):\n",
    "    '''Returns the half life which would give (on average) the input number of signal counts'''\n",
    "    \n",
    "    N_A = 6.02e23 # atoms/mol\n",
    "    FidMass = 3281 # kg\n",
    "    AtomicMass = 135.8 # g/mol\n",
    "    EnrichmentFraction = 0.9\n",
    "    SigEfficiency = 0.96\n",
    "    Livetime = 10 # years\n",
    "    return FidMass*1.e3 / AtomicMass * N_A * EnrichmentFraction * Livetime * \\\n",
    "            SigEfficiency * np.log(2) / counts\n"
   ]
  },
  {
   "cell_type": "code",
   "execution_count": 49,
   "id": "9f85d869-522d-4821-9a7e-75ec91e0efe3",
   "metadata": {},
   "outputs": [
    {
     "name": "stdout",
     "output_type": "stream",
     "text": [
      "800AAD - DNN smear: 0.0\n",
      "   Median 90%CL on signal counts: 6.200620062006201\n",
      "   Sensitivity: 1.405e+28 years\n",
      "EBF57F - DNN smear: 0.15\n",
      "   Median 90%CL on signal counts: 6.640664066406641\n",
      "   Sensitivity: 1.312e+28 years\n",
      "83BAFF - DNN smear: 0.2\n",
      "   Median 90%CL on signal counts: 7.305730573057306\n",
      "   Sensitivity: 1.192e+28 years\n"
     ]
    },
    {
     "data": {
      "image/png": "[encoded data removed]",
      "text/plain": [
       "<Figure size 720x576 with 1 Axes>"
      ]
     },
     "metadata": {
      "needs_background": "light"
     },
     "output_type": "display_data"
    }
   ],
   "source": [
    "median_dict = {}\n",
    "sens_dict = {}\n",
    "fig, ax = plt.subplots()\n",
    "for tag, df in dfdict.items():\n",
    "    h = Hist.new.Regular(61, 0, 60, name=\"signal_counts\").Double()\n",
    "    values = df['90CL_crossing'].loc[good_fit_mask]\n",
    "    h.fill(values)\n",
    "    median = np.median(values)\n",
    "    median_dict[tag] = median\n",
    "    sens_dict[tag] = ComputeHalflifeFromNumCounts(median)\n",
    "    print(f'{tag} - DNN smear: {tag_dnn_dict[tag]}')\n",
    "    print(f'   Median 90%CL on signal counts: {median}')\n",
    "    print(f'   Sensitivity: {sens_dict[tag]:.3e} years')\n",
    "\n",
    "    h.plot1d(ax=ax, label=f'DNN smear: {tag_dnn_dict[tag]}')\n",
    "\n",
    "plt.legend()\n",
    "plt.xlabel('90% CL on signal counts for given toy')\n",
    "plt.yscale('log')"
   ]
  },
  {
   "cell_type": "code",
   "execution_count": 81,
   "id": "82d77d06-3535-448f-abc4-45518aac7c4d",
   "metadata": {},
   "outputs": [
    {
     "name": "stdout",
     "output_type": "stream",
     "text": [
      "dnn_smear\tsens\trel sens change\n",
      "0.0 \t 1.405e+28 \t 1.000\n",
      "0.15 \t 1.312e+28 \t 0.934\n",
      "0.2 \t 1.192e+28 \t 0.849\n"
     ]
    },
    {
     "data": {
      "image/png": "[encoded data removed]",
      "text/plain": [
       "<Figure size 720x576 with 1 Axes>"
      ]
     },
     "metadata": {
      "needs_background": "light"
     },
     "output_type": "display_data"
    }
   ],
   "source": [
    "x_points = np.array(list(tag_dnn_dict.values()), dtype=float)\n",
    "y_points = np.array(list(sens_dict.values()), dtype=float)\n",
    "r_points = median_dict['800AAD']/np.array(list(median_dict.values()))\n",
    "\n",
    "    \n",
    "plt.plot(x_points, y_points/1.e28,'-or', markersize=10, linewidth=3)\n",
    "# plt.xscale('log')\n",
    "# plt.ylim(0.2,1.2)\n",
    "plt.ylabel(r'Computed sensitivity [$\\times 10^{28}$ yrs]')\n",
    "plt.xlabel('DNN Smear factor')\n",
    "\n",
    "# plt.savefig('sensitivity_vs_dnn_smear.png', dpi=200, bbox_inches='tight')\n",
    "\n",
    "print('dnn_smear\\tsens\\trel sens change')\n",
    "for x, y, r in zip(x_points, y_points, r_points):\n",
    "    print(x, \"\\t\", f'{y:.3e}', \"\\t\", f'{r:.3f}')\n"
   ]
  },
  {
   "cell_type": "code",
   "execution_count": null,
   "id": "be1aa4a2-e887-4223-8b4d-1109dd5800c9",
   "metadata": {},
   "outputs": [],
   "source": []
  }
 ],
 "metadata": {
  "kernelspec": {
   "display_name": "nexo_offline_venv",
   "language": "python",
   "name": "nexo_offline_venv"
  },
  "language_info": {
   "codemirror_mode": {
    "name": "ipython",
    "version": 3
   },
   "file_extension": ".py",
   "mimetype": "text/x-python",
   "name": "python",
   "nbconvert_exporter": "python",
   "pygments_lexer": "ipython3",
   "version": "3.9.9"
  }
 },
 "nbformat": 4,
 "nbformat_minor": 5
}
