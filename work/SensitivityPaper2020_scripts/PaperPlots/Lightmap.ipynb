{
 "metadata": {
  "language_info": {
   "codemirror_mode": {
    "name": "ipython",
    "version": 3
   },
   "file_extension": ".py",
   "mimetype": "text/x-python",
   "name": "python",
   "nbconvert_exporter": "python",
   "pygments_lexer": "ipython3",
   "version": "3.7.2"
  },
  "orig_nbformat": 2,
  "kernelspec": {
   "name": "python37264bitsensitivity2020conda0949ef0fd7b84951badf389606bd554d",
   "display_name": "Python 3.7.2 64-bit ('sensitivity2020': conda)",
   "language": "python"
  }
 },
 "nbformat": 4,
 "nbformat_minor": 2,
 "cells": [
  {
   "cell_type": "code",
   "execution_count": 1,
   "metadata": {},
   "outputs": [],
   "source": [
    "import numpy as np\n",
    "import matplotlib.pyplot as plt \n",
    "from mpl_toolkits.axes_grid1 import make_axes_locatable\n",
    "from scipy.ndimage import gaussian_filter\n",
    "plt.style.use('sensitivity.mplstyle')\n",
    "colors = plt.rcParams['axes.prop_cycle'].by_key()['color']"
   ]
  },
  {
   "cell_type": "code",
   "execution_count": 2,
   "metadata": {},
   "outputs": [],
   "source": [
    "G4Offset = -894.59\n",
    "\n",
    "minR = 0.0\n",
    "maxR = 627.0458\n",
    "minZ = -767.883544921875 + 3.0 + G4Offset + 1581\n",
    "maxZ = 513.116455078125 + G4Offset + 1581\n",
    "\n",
    "with open('/gpfs/slac/staas/fs1/g/exo/exo_data8/exo_data/users/akojamil/chroma/sensitivity2020/20200528_sensitivity_lightmap_raw_data.npy', 'rb') as f:\n",
    "    Radius = np.load(f)\n",
    "    Height = np.load(f)\n",
    "    Eff = np.load(f)\n",
    "Height = Height + G4Offset + 1581\n",
    "\n",
    "cut0 = np.where(Eff > 0.0)\n",
    "Radius = Radius[cut0]\n",
    "Height = Height[cut0]\n",
    "Eff = Eff[cut0]"
   ]
  },
  {
   "cell_type": "code",
   "execution_count": 3,
   "metadata": {},
   "outputs": [],
   "source": [
    "bins = 0.5\n",
    "\n",
    "maxR = np.around(maxR, 1)\n",
    "minZ = np.around(minZ, -1)\n",
    "maxZ = np.around(maxZ, -1)\n",
    "\n",
    "binR = np.linspace(0.0,maxR,int(maxR/float(bins)))\n",
    "binZ = np.linspace(minZ,maxZ,int((maxZ-minZ)/float(bins)))"
   ]
  },
  {
   "cell_type": "code",
   "execution_count": 4,
   "metadata": {},
   "outputs": [],
   "source": [
    "HistC, XEdges, YEdges =  np.histogram2d(x=Radius, y=Height, bins=(binR, binZ))\n",
    "HistEff, XEdges, YEdges =  np.histogram2d(x=Radius, y=Height, weights=Eff, bins=(binR, binZ))\n",
    "\n",
    "X, Y = np.meshgrid(XEdges, YEdges)\n",
    "\n",
    "HistC[HistC==0] = 1.0 # prevent division by zero\n",
    "\n",
    "Hist = (HistEff/HistC).T\n",
    "\n",
    "# replace empty bin with average over adjacent 8 bins\n",
    "Cut = np.where((X[:-1,:-1]<550) & (Y[:-1,:-1]<1150) & (Y[:-1,:-1]>0) & (Hist==0))\n",
    "XCut = Cut[0]\n",
    "YCut = Cut[1]\n",
    "for x,y in zip(XCut,YCut):\n",
    "    HistMean = np.mean([Hist[x+1,y], Hist[x-1,y], Hist[x,y+1], Hist[x,y-1], Hist[x+1,y+1], Hist[x-1,y-1], Hist[x+1,y-1], Hist[x-1,y+1]])\n",
    "    Hist[x,y] = HistMean\n",
    "\n",
    "Hist = gaussian_filter(Hist, sigma=1.0)"
   ]
  },
  {
   "cell_type": "code",
   "execution_count": 5,
   "metadata": {},
   "outputs": [],
   "source": [
    "fig, ax = plt.subplots(figsize=(6, 12))    \n",
    "\n",
    "ax.set_xlabel('Radius [mm]')\n",
    "ax.set_ylabel('Z [mm]')\n",
    "\n",
    "ax.set_xlim(0, maxR)\n",
    "ax.set_ylim(minZ, maxZ)\n",
    "\n",
    "im = ax.pcolormesh(X, Y, Hist, cmap = 'viridis')\n",
    "\n",
    "divider = make_axes_locatable(ax)\n",
    "cax = divider.append_axes('right', size='5%', pad=0.05)\n",
    "cb = fig.colorbar(im, cax=cax, orientation='vertical')\n",
    "cb.ax.tick_params(labelsize=16)\n",
    "cb.set_label(label=r'Photon Transport Efficiency [$\\%$]', fontsize=16)\n",
    "im.set_clim(vmin=0.0, vmax=50.0)\n",
    "\n",
    "plt.savefig('lightmap.png')\n",
    "plt.close()\n"
   ]
  }
 ]
}