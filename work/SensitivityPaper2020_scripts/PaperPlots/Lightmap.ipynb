{
 "cells": [
  {
   "cell_type": "code",
   "execution_count": 1,
   "metadata": {},
   "outputs": [],
   "source": [
    "import numpy as np\n",
    "import matplotlib.pyplot as plt \n",
    "from mpl_toolkits.axes_grid1 import make_axes_locatable\n",
    "from scipy.ndimage import gaussian_filter\n",
    "plt.style.use('sensitivity.mplstyle')\n",
    "colors = plt.rcParams['axes.prop_cycle'].by_key()['color']"
   ]
  },
  {
   "cell_type": "code",
   "execution_count": 2,
   "metadata": {},
   "outputs": [
    {
     "ename": "FileNotFoundError",
     "evalue": "[Errno 2] No such file or directory: '/gpfs/slac/staas/fs1/g/exo/exo_data8/exo_data/users/akojamil/chroma/sensitivity2020/20200528_sensitivity_lightmap_raw_data.npy'",
     "output_type": "error",
     "traceback": [
      "\u001b[0;31m---------------------------------------------------------------------------\u001b[0m",
      "\u001b[0;31mFileNotFoundError\u001b[0m                         Traceback (most recent call last)",
      "\u001b[0;32m<ipython-input-2-ad6420e3ab74>\u001b[0m in \u001b[0;36m<module>\u001b[0;34m\u001b[0m\n\u001b[1;32m      6\u001b[0m \u001b[0mmaxZ\u001b[0m \u001b[0;34m=\u001b[0m \u001b[0;36m513.116455078125\u001b[0m \u001b[0;34m+\u001b[0m \u001b[0mG4Offset\u001b[0m \u001b[0;34m+\u001b[0m \u001b[0;36m1581\u001b[0m\u001b[0;34m\u001b[0m\u001b[0;34m\u001b[0m\u001b[0m\n\u001b[1;32m      7\u001b[0m \u001b[0;34m\u001b[0m\u001b[0m\n\u001b[0;32m----> 8\u001b[0;31m \u001b[0;32mwith\u001b[0m \u001b[0mopen\u001b[0m\u001b[0;34m(\u001b[0m\u001b[0;34m'/gpfs/slac/staas/fs1/g/exo/exo_data8/exo_data/users/akojamil/chroma/sensitivity2020/20200528_sensitivity_lightmap_raw_data.npy'\u001b[0m\u001b[0;34m,\u001b[0m \u001b[0;34m'rb'\u001b[0m\u001b[0;34m)\u001b[0m \u001b[0;32mas\u001b[0m \u001b[0mf\u001b[0m\u001b[0;34m:\u001b[0m\u001b[0;34m\u001b[0m\u001b[0;34m\u001b[0m\u001b[0m\n\u001b[0m\u001b[1;32m      9\u001b[0m     \u001b[0mRadius\u001b[0m \u001b[0;34m=\u001b[0m \u001b[0mnp\u001b[0m\u001b[0;34m.\u001b[0m\u001b[0mload\u001b[0m\u001b[0;34m(\u001b[0m\u001b[0mf\u001b[0m\u001b[0;34m)\u001b[0m\u001b[0;34m\u001b[0m\u001b[0;34m\u001b[0m\u001b[0m\n\u001b[1;32m     10\u001b[0m     \u001b[0mHeight\u001b[0m \u001b[0;34m=\u001b[0m \u001b[0mnp\u001b[0m\u001b[0;34m.\u001b[0m\u001b[0mload\u001b[0m\u001b[0;34m(\u001b[0m\u001b[0mf\u001b[0m\u001b[0;34m)\u001b[0m\u001b[0;34m\u001b[0m\u001b[0;34m\u001b[0m\u001b[0m\n",
      "\u001b[0;31mFileNotFoundError\u001b[0m: [Errno 2] No such file or directory: '/gpfs/slac/staas/fs1/g/exo/exo_data8/exo_data/users/akojamil/chroma/sensitivity2020/20200528_sensitivity_lightmap_raw_data.npy'"
     ]
    }
   ],
   "source": [
    "G4Offset = -894.59\n",
    "\n",
    "minR = 0.0\n",
    "maxR = 627.0458\n",
    "minZ = -767.883544921875 + 3.0 + G4Offset + 1581\n",
    "maxZ = 513.116455078125 + G4Offset + 1581\n",
    "\n",
    "with open('/gpfs/slac/staas/fs1/g/exo/exo_data8/exo_data/users/akojamil/chroma/sensitivity2020/20200528_sensitivity_lightmap_raw_data.npy', 'rb') as f:\n",
    "    Radius = np.load(f)\n",
    "    Height = np.load(f)\n",
    "    Eff = np.load(f)\n",
    "Height = Height + G4Offset + 1581\n",
    "\n",
    "cut0 = np.where(Eff > 0.0)\n",
    "Radius = Radius[cut0]\n",
    "Height = Height[cut0]\n",
    "Eff = Eff[cut0]"
   ]
  },
  {
   "cell_type": "code",
   "execution_count": null,
   "metadata": {},
   "outputs": [],
   "source": [
    "bins = 0.5\n",
    "\n",
    "maxR = np.around(maxR, 1)\n",
    "minZ = np.around(minZ, -1)\n",
    "maxZ = np.around(maxZ, -1)\n",
    "\n",
    "binR = np.linspace(0.0,maxR,int(maxR/float(bins)))\n",
    "binZ = np.linspace(minZ,maxZ,int((maxZ-minZ)/float(bins)))"
   ]
  },
  {
   "cell_type": "code",
   "execution_count": null,
   "metadata": {},
   "outputs": [],
   "source": [
    "HistC, XEdges, YEdges =  np.histogram2d(x=Radius, y=Height, bins=(binR, binZ))\n",
    "HistEff, XEdges, YEdges =  np.histogram2d(x=Radius, y=Height, weights=Eff, bins=(binR, binZ))\n",
    "\n",
    "X, Y = np.meshgrid(XEdges, YEdges)\n",
    "\n",
    "HistC[HistC==0] = 1.0 # prevent division by zero\n",
    "\n",
    "Hist = (HistEff/HistC).T\n",
    "\n",
    "# replace empty bin with average over adjacent 8 bins\n",
    "Cut = np.where((X[:-1,:-1]<550) & (Y[:-1,:-1]<1150) & (Y[:-1,:-1]>0) & (Hist==0))\n",
    "XCut = Cut[0]\n",
    "YCut = Cut[1]\n",
    "for x,y in zip(XCut,YCut):\n",
    "    HistMean = np.mean([Hist[x+1,y], Hist[x-1,y], Hist[x,y+1], Hist[x,y-1], Hist[x+1,y+1], Hist[x-1,y-1], Hist[x+1,y-1], Hist[x-1,y+1]])\n",
    "    Hist[x,y] = HistMean\n",
    "\n",
    "Hist = gaussian_filter(Hist, sigma=1.0)"
   ]
  },
  {
   "cell_type": "code",
   "execution_count": null,
   "metadata": {},
   "outputs": [],
   "source": [
    "fig, ax = plt.subplots(figsize=(6, 12))    \n",
    "\n",
    "plt.xlabel('Radius [mm]')\n",
    "plt.ylabel('Z [mm]')\n",
    "\n",
    "plt.xlim(0, maxR)\n",
    "plt.ylim(minZ, maxZ)\n",
    "\n",
    "im = plt.imshow(Hist, origin='lower', aspect='auto', extent=[minR, maxR, minZ, maxZ], cmap='viridis')\n",
    "\n",
    "divider = make_axes_locatable(ax)\n",
    "cax = divider.append_axes('right', size='5%', pad=0.05)\n",
    "cb = fig.colorbar(im, cax=cax, orientation='vertical')\n",
    "cb.ax.tick_params(labelsize=16)\n",
    "cb.set_label(label=r'Photon Transport Efficiency [$\\%$]', fontsize=16)\n",
    "im.set_clim(vmin=0.0, vmax=50.0)\n",
    "\n",
    "plt.savefig('lightmap.png')\n",
    "plt.show()"
   ]
  },
  {
   "cell_type": "code",
   "execution_count": 27,
   "metadata": {},
   "outputs": [],
   "source": [
    "import uproot as up\n",
    "import pandas as pd\n",
    "\n",
    "thisfile = up.open('/usr/gapps/nexo/nexo-offline/data/20200528_lightmap_0.50_0.50.root')\n",
    "myhist = thisfile['lightmap']\n"
   ]
  },
  {
   "cell_type": "code",
   "execution_count": 5,
   "metadata": {},
   "outputs": [],
   "source": [
    "histnp = myhist.numpy()"
   ]
  },
  {
   "cell_type": "code",
   "execution_count": 8,
   "metadata": {},
   "outputs": [],
   "source": [
    "edges = histnp[0]\n",
    "vals = histnp[1]"
   ]
  },
  {
   "cell_type": "code",
   "execution_count": 21,
   "metadata": {},
   "outputs": [
    {
     "name": "stdout",
     "output_type": "stream",
     "text": [
      "2560\n",
      "1\n"
     ]
    }
   ],
   "source": [
    "print(len(edges[0]))\n",
    "print(len(vals))"
   ]
  },
  {
   "cell_type": "code",
   "execution_count": 22,
   "metadata": {},
   "outputs": [
    {
     "data": {
      "text/plain": [
       "[(array([0.000e+00, 5.000e-01, 1.000e+00, ..., 6.260e+02, 6.265e+02,\n",
       "         6.270e+02]),\n",
       "  array([-1660. , -1659.5, -1659. , ...,  -381. ,  -380.5,  -380. ]))]"
      ]
     },
     "execution_count": 22,
     "metadata": {},
     "output_type": "execute_result"
    }
   ],
   "source": [
    "vals"
   ]
  },
  {
   "cell_type": "code",
   "execution_count": 24,
   "metadata": {},
   "outputs": [],
   "source": [
    "data = myhist.pandas()"
   ]
  },
  {
   "cell_type": "code",
   "execution_count": 25,
   "metadata": {},
   "outputs": [
    {
     "data": {
      "text/html": [
       "<div>\n",
       "<style scoped>\n",
       "    .dataframe tbody tr th:only-of-type {\n",
       "        vertical-align: middle;\n",
       "    }\n",
       "\n",
       "    .dataframe tbody tr th {\n",
       "        vertical-align: top;\n",
       "    }\n",
       "\n",
       "    .dataframe thead th {\n",
       "        text-align: right;\n",
       "    }\n",
       "</style>\n",
       "<table border=\"1\" class=\"dataframe\">\n",
       "  <thead>\n",
       "    <tr style=\"text-align: right;\">\n",
       "      <th></th>\n",
       "      <th></th>\n",
       "      <th>count</th>\n",
       "      <th>variance</th>\n",
       "    </tr>\n",
       "  </thead>\n",
       "  <tbody>\n",
       "    <tr>\n",
       "      <th rowspan=\"5\" valign=\"top\">[-inf, 0.0)</th>\n",
       "      <th>[-inf, -1660.0)</th>\n",
       "      <td>0.0</td>\n",
       "      <td>0.0</td>\n",
       "    </tr>\n",
       "    <tr>\n",
       "      <th>[-1660.0, -1659.5)</th>\n",
       "      <td>0.0</td>\n",
       "      <td>0.0</td>\n",
       "    </tr>\n",
       "    <tr>\n",
       "      <th>[-1659.5, -1659.0)</th>\n",
       "      <td>0.0</td>\n",
       "      <td>0.0</td>\n",
       "    </tr>\n",
       "    <tr>\n",
       "      <th>[-1659.0, -1658.5)</th>\n",
       "      <td>0.0</td>\n",
       "      <td>0.0</td>\n",
       "    </tr>\n",
       "    <tr>\n",
       "      <th>[-1658.5, -1658.0)</th>\n",
       "      <td>0.0</td>\n",
       "      <td>0.0</td>\n",
       "    </tr>\n",
       "  </tbody>\n",
       "</table>\n",
       "</div>"
      ],
      "text/plain": [
       "                                count  variance\n",
       "[-inf, 0.0) [-inf, -1660.0)       0.0       0.0\n",
       "            [-1660.0, -1659.5)    0.0       0.0\n",
       "            [-1659.5, -1659.0)    0.0       0.0\n",
       "            [-1659.0, -1658.5)    0.0       0.0\n",
       "            [-1658.5, -1658.0)    0.0       0.0"
      ]
     },
     "execution_count": 25,
     "metadata": {},
     "output_type": "execute_result"
    }
   ],
   "source": [
    "data.head()"
   ]
  },
  {
   "cell_type": "code",
   "execution_count": 29,
   "metadata": {},
   "outputs": [],
   "source": [
    "newdata = data.unstack()"
   ]
  },
  {
   "cell_type": "code",
   "execution_count": 40,
   "metadata": {
    "scrolled": false
   },
   "outputs": [
    {
     "name": "stdout",
     "output_type": "stream",
     "text": [
      "             [-inf, -1660.0)  [-1660.0, -1659.5)  [-1659.5, -1659.0)  \\\n",
      "[-inf, 0.0)              0.0            0.000000            0.000000   \n",
      "[0.0, 0.5)               0.0            1.171105            1.184282   \n",
      "[0.5, 1.0)               0.0            1.166797            1.173705   \n",
      "[1.0, 1.5)               0.0            1.171014            1.169253   \n",
      "[1.5, 2.0)               0.0            1.176571            1.169740   \n",
      "\n",
      "             [-1659.0, -1658.5)  [-1658.5, -1658.0)  [-1658.0, -1657.5)  \\\n",
      "[-inf, 0.0)            0.000000            0.000000            0.000000   \n",
      "[0.0, 0.5)             1.196720            1.201756            1.201591   \n",
      "[0.5, 1.0)             1.180489            1.187698            1.198081   \n",
      "[1.0, 1.5)             1.172541            1.184728            1.197689   \n",
      "[1.5, 2.0)             1.172188            1.187298            1.198075   \n",
      "\n",
      "             [-1657.5, -1657.0)  [-1657.0, -1656.5)  [-1656.5, -1656.0)  \\\n",
      "[-inf, 0.0)            0.000000            0.000000            0.000000   \n",
      "[0.0, 0.5)             1.203555            1.199903            1.196985   \n",
      "[0.5, 1.0)             1.209207            1.208015            1.202659   \n",
      "[1.0, 1.5)             1.208059            1.208384            1.204124   \n",
      "[1.5, 2.0)             1.204005            1.207060            1.206812   \n",
      "\n",
      "             [-1656.0, -1655.5)  ...  [-384.5, -384.0)  [-384.0, -383.5)  \\\n",
      "[-inf, 0.0)            0.000000  ...          0.000000          0.000000   \n",
      "[0.0, 0.5)             1.210541  ...          0.005606          0.001981   \n",
      "[0.5, 1.0)             1.210684  ...          0.005234          0.001458   \n",
      "[1.0, 1.5)             1.207690  ...          0.004703          0.001034   \n",
      "[1.5, 2.0)             1.208401  ...          0.003851          0.000772   \n",
      "\n",
      "             [-383.5, -383.0)  [-383.0, -382.5)  [-382.5, -382.0)  \\\n",
      "[-inf, 0.0)          0.000000          0.000000      0.000000e+00   \n",
      "[0.0, 0.5)           0.000344          0.000025      7.205020e-07   \n",
      "[0.5, 1.0)           0.000202          0.000013      3.327144e-07   \n",
      "[1.0, 1.5)           0.000099          0.000004      6.567779e-08   \n",
      "[1.5, 2.0)           0.000062          0.000002      5.283097e-09   \n",
      "\n",
      "             [-382.0, -381.5)  [-381.5, -381.0)  [-381.0, -380.5)  \\\n",
      "[-inf, 0.0)               0.0               0.0               0.0   \n",
      "[0.0, 0.5)                0.0               0.0               0.0   \n",
      "[0.5, 1.0)                0.0               0.0               0.0   \n",
      "[1.0, 1.5)                0.0               0.0               0.0   \n",
      "[1.5, 2.0)                0.0               0.0               0.0   \n",
      "\n",
      "             [-380.5, -380.0)  [-380.0, inf)  \n",
      "[-inf, 0.0)               0.0            0.0  \n",
      "[0.0, 0.5)                0.0            0.0  \n",
      "[0.5, 1.0)                0.0            0.0  \n",
      "[1.0, 1.5)                0.0            0.0  \n",
      "[1.5, 2.0)                0.0            0.0  \n",
      "\n",
      "[5 rows x 2562 columns]\n"
     ]
    }
   ],
   "source": [
    "print(newdata['count'].head())"
   ]
  },
  {
   "cell_type": "code",
   "execution_count": 38,
   "metadata": {},
   "outputs": [
    {
     "data": {
      "text/plain": [
       "[-inf, -1660.0)       0.000000e+00\n",
       "[-1660.0, -1659.5)    1.171014e+00\n",
       "[-1659.5, -1659.0)    1.169253e+00\n",
       "[-1659.0, -1658.5)    1.172541e+00\n",
       "[-1658.5, -1658.0)    1.184728e+00\n",
       "[-1658.0, -1657.5)    1.197689e+00\n",
       "[-1657.5, -1657.0)    1.208059e+00\n",
       "[-1657.0, -1656.5)    1.208384e+00\n",
       "[-1656.5, -1656.0)    1.204124e+00\n",
       "[-1656.0, -1655.5)    1.207690e+00\n",
       "[-1655.5, -1655.0)    1.215693e+00\n",
       "[-1655.0, -1654.5)    1.219773e+00\n",
       "[-1654.5, -1654.0)    1.224070e+00\n",
       "[-1654.0, -1653.5)    1.230199e+00\n",
       "[-1653.5, -1653.0)    1.237711e+00\n",
       "[-1653.0, -1652.5)    1.242646e+00\n",
       "[-1652.5, -1652.0)    1.240775e+00\n",
       "[-1652.0, -1651.5)    1.240553e+00\n",
       "[-1651.5, -1651.0)    1.245190e+00\n",
       "[-1651.0, -1650.5)    1.247623e+00\n",
       "[-1650.5, -1650.0)    1.248637e+00\n",
       "[-1650.0, -1649.5)    1.247760e+00\n",
       "[-1649.5, -1649.0)    1.248130e+00\n",
       "[-1649.0, -1648.5)    1.251933e+00\n",
       "[-1648.5, -1648.0)    1.257785e+00\n",
       "[-1648.0, -1647.5)    1.261871e+00\n",
       "[-1647.5, -1647.0)    1.263959e+00\n",
       "[-1647.0, -1646.5)    1.263286e+00\n",
       "[-1646.5, -1646.0)    1.262021e+00\n",
       "[-1646.0, -1645.5)    1.263524e+00\n",
       "                          ...     \n",
       "[-394.5, -394.0)      1.119256e-02\n",
       "[-394.0, -393.5)      1.071656e-02\n",
       "[-393.5, -393.0)      1.065179e-02\n",
       "[-393.0, -392.5)      1.127319e-02\n",
       "[-392.5, -392.0)      1.165912e-02\n",
       "[-392.0, -391.5)      1.136481e-02\n",
       "[-391.5, -391.0)      1.125917e-02\n",
       "[-391.0, -390.5)      1.142470e-02\n",
       "[-390.5, -390.0)      1.134326e-02\n",
       "[-390.0, -389.5)      1.076164e-02\n",
       "[-389.5, -389.0)      1.014215e-02\n",
       "[-389.0, -388.5)      1.025432e-02\n",
       "[-388.5, -388.0)      1.062177e-02\n",
       "[-388.0, -387.5)      1.080524e-02\n",
       "[-387.5, -387.0)      1.087249e-02\n",
       "[-387.0, -386.5)      1.069109e-02\n",
       "[-386.5, -386.0)      1.066569e-02\n",
       "[-386.0, -385.5)      1.085007e-02\n",
       "[-385.5, -385.0)      1.130586e-02\n",
       "[-385.0, -384.5)      9.711768e-03\n",
       "[-384.5, -384.0)      4.703488e-03\n",
       "[-384.0, -383.5)      1.034116e-03\n",
       "[-383.5, -383.0)      9.906557e-05\n",
       "[-383.0, -382.5)      4.323188e-06\n",
       "[-382.5, -382.0)      6.567779e-08\n",
       "[-382.0, -381.5)      0.000000e+00\n",
       "[-381.5, -381.0)      0.000000e+00\n",
       "[-381.0, -380.5)      0.000000e+00\n",
       "[-380.5, -380.0)      0.000000e+00\n",
       "[-380.0, inf)         0.000000e+00\n",
       "Name: [1.0, 1.5), Length: 2562, dtype: float64"
      ]
     },
     "execution_count": 38,
     "metadata": {},
     "output_type": "execute_result"
    }
   ],
   "source": [
    "newdata['count'].loc[1]"
   ]
  },
  {
   "cell_type": "code",
   "execution_count": null,
   "metadata": {},
   "outputs": [],
   "source": []
  },
  {
   "cell_type": "code",
   "execution_count": null,
   "metadata": {},
   "outputs": [],
   "source": []
  },
  {
   "cell_type": "code",
   "execution_count": null,
   "metadata": {},
   "outputs": [],
   "source": []
  }
 ],
 "metadata": {
  "kernelspec": {
   "display_name": "localpythonpackages",
   "language": "python",
   "name": "localpythonpackages"
  },
  "language_info": {
   "codemirror_mode": {
    "name": "ipython",
    "version": 3
   },
   "file_extension": ".py",
   "mimetype": "text/x-python",
   "name": "python",
   "nbconvert_exporter": "python",
   "pygments_lexer": "ipython3",
   "version": "3.7.2"
  }
 },
 "nbformat": 4,
 "nbformat_minor": 2
}
