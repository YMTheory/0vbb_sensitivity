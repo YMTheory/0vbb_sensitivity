{
 "cells": [
  {
   "cell_type": "code",
   "execution_count": 1,
   "metadata": {},
   "outputs": [
    {
     "name": "stdout",
     "output_type": "stream",
     "text": [
      "/g/g92/samuele/nEXO/sensitivity/work/SensitivityPaper2020_scripts/PaperPlots\r\n"
     ]
    }
   ],
   "source": [
    "# Import sys, then tell python where to find the nEXO-specific classes\n",
    "# I'll assume you're in the sensitivity/work directory, as shown here by !pwd\n",
    "\n",
    "import sys\n",
    "!pwd\n",
    "sys.path.append('../../../modules')"
   ]
  },
  {
   "cell_type": "code",
   "execution_count": 2,
   "metadata": {},
   "outputs": [],
   "source": [
    "# Import useful libraries for analysis\n",
    "\n",
    "import pandas as pd\n",
    "import histlite as hl\n",
    "import numpy as np\n",
    "from matplotlib import pyplot as plt\n",
    "import os\n",
    "from cycler import cycler\n",
    "plt.rcParams[\"font.family\"] = \"serif\"\n",
    "plt.rcParams[\"mathtext.fontset\"] = \"dejavuserif\"\n",
    "\n",
    "import matplotlib\n",
    "from matplotlib.backends.backend_pdf import PdfPages\n",
    "\n",
    "plt.rcParams.update({'font.size': 18})\n",
    "plt.rcParams['figure.figsize'] = (10,8)"
   ]
  },
  {
   "cell_type": "code",
   "execution_count": 3,
   "metadata": {},
   "outputs": [
    {
     "data": {
      "text/plain": [
       "<module 'nEXOFitModel' from '../../../modules/nEXOFitModel.py'>"
      ]
     },
     "execution_count": 3,
     "metadata": {},
     "output_type": "execute_result"
    }
   ],
   "source": [
    "# Import the nEXO sensitivity classes\n",
    "\n",
    "plt.rcParams.update({'font.size': 18})\n",
    "plt.rcParams['figure.figsize'] = (10,8)\n",
    "\n",
    "import nEXOFitWorkspace\n",
    "import nEXOFitModel\n",
    "import nEXOFitLikelihood\n",
    "import nEXOMaterialsDBInterface\n",
    "\n",
    "import importlib\n",
    "importlib.reload( nEXOMaterialsDBInterface )\n",
    "importlib.reload( nEXOFitWorkspace )\n",
    "importlib.reload( nEXOFitModel )"
   ]
  },
  {
   "cell_type": "code",
   "execution_count": 4,
   "metadata": {},
   "outputs": [
    {
     "name": "stdout",
     "output_type": "stream",
     "text": [
      "\n",
      "Loading input data froma previously-generated components table....\n",
      "\n",
      "Loaded dataframe with 138 components.\n",
      "Contains the following quantities of interest:\n",
      "\tPDFName\n",
      "\tComponent\n",
      "\tIsotope\n",
      "\tMaterial\n",
      "\tRadioassay ID\n",
      "\tMC ID\n",
      "\tTotal Mass or Area\n",
      "\tActivity ID\n",
      "\tSpecActiv\n",
      "\tSpecActivErr\n",
      "\tSpecActivErrorType\n",
      "\tRawActiv\n",
      "\tRawActivErr\n",
      "\tTotalHitEff_N\n",
      "\tHistogram\n",
      "\tHistogramAxisNames\n",
      "\tTotalHitEff_K\n",
      "\tGroup\n",
      "\tExpected Counts\n",
      "\n",
      "Fit variables:\n",
      "\t['DNN', 'Energy (keV)', 'Standoff (mm)']\n",
      "\n",
      "Loading input data froma previously-generated components table....\n",
      "\n",
      "Loaded dataframe with 138 components.\n",
      "Contains the following quantities of interest:\n",
      "\tPDFName\n",
      "\tComponent\n",
      "\tIsotope\n",
      "\tMaterial\n",
      "\tRadioassay ID\n",
      "\tMC ID\n",
      "\tTotal Mass or Area\n",
      "\tActivity ID\n",
      "\tSpecActiv\n",
      "\tSpecActivErr\n",
      "\tSpecActivErrorType\n",
      "\tRawActiv\n",
      "\tRawActivErr\n",
      "\tTotalHitEff_N\n",
      "\tHistogram\n",
      "\tHistogramAxisNames\n",
      "\tTotalHitEff_K\n",
      "\tGroup\n",
      "\tExpected Counts\n",
      "\n",
      "Fit variables:\n",
      "\t['DNN', 'Energy (keV)', 'Standoff (mm)']\n"
     ]
    }
   ],
   "source": [
    "optimized_binning_yaml = '../../config/Sensitivity2020_Optimized_DNN_Standoff_Binning_version1_no_n_xy_ch_abovenoise_cut.yaml'\n",
    "workspace2020_d024 = nEXOFitWorkspace.nEXOFitWorkspace(config=optimized_binning_yaml)\n",
    "workspace2020_d024_ind = nEXOFitWorkspace.nEXOFitWorkspace(config=optimized_binning_yaml)\n",
    "\n",
    "optimized_binning_components_table = '/p/vast1/nexo/sensitivity2020/pdfs/component_tables/ComponentsTable_D-024_merged-v11_Optimized_DNN_Standoff_Binning_version1_no_n_xy_ch_abovenoise_cut.h5'\n",
    "workspace2020_d024.LoadComponentsTableFromFile(optimized_binning_components_table)\n",
    "workspace2020_d024_ind.LoadComponentsTableFromFile(optimized_binning_components_table)\n",
    "\n"
   ]
  },
  {
   "cell_type": "code",
   "execution_count": 5,
   "metadata": {},
   "outputs": [
    {
     "name": "stdout",
     "output_type": "stream",
     "text": [
      "\n",
      "Creating grouped PDFs....\n",
      "no sigma for Rn222_HFE (R-053.9.1.1)\n",
      "no sigma for Ar42_ActiveLXeAr-42 (R-088.2.3.1)\n",
      "no sigma for Ar42_InactiveLXeAr-42 (R-088.3.3.1)\n",
      "\n",
      "ERROR: No histogram available for K40_OuterCryostatWTSupport\n",
      "\n",
      "ERROR: No histogram available for Co60_OuterCryostatWTSupport\n",
      "\tGroup:                              \tExpected Counts:\n",
      "\tFar                                 \t      6558.0678\n",
      "\tVessel_U238                         \t      2291.3914\n",
      "\tVessel_Th232                        \t       642.1091\n",
      "\tInternals_U238                      \t      6466.9496\n",
      "\tInternals_Th232                     \t      2878.5627\n",
      "\tRn222                               \t     23574.8031\n",
      "\tFullTPC_K40                         \t  49139854.5092\n",
      "\tB8nu                                \t        13.6009\n",
      "\tFullLXeBb2n                         \t  16325786.5724\n",
      "\tFullLXeBb0n                         \t         0.0001\n",
      "\tXe137_and_Ar42                      \t        23.4207\n",
      "\tTotal Sum                           \t  65508089.9870\n"
     ]
    },
    {
     "data": {
      "text/plain": [
       "Hist(14 bins in [0.0,1.0], 250 bins in [1000.0,3500.0], 22 bins in [0.0,650.0], with sum 65508089.98704756, 7466 empty bins, and 0 non-finite values)"
      ]
     },
     "execution_count": 5,
     "metadata": {},
     "output_type": "execute_result"
    }
   ],
   "source": [
    "#Create the PDFs for the standard model\n",
    "workspace2020_d024.CreateGroupedPDFs()\n",
    "model2020_d024 = nEXOFitModel.nEXOFitModel()\n",
    "model2020_d024.AddPDFsFromDataframe(workspace2020_d024.df_group_pdfs,\\\n",
    "                               workspace2020_d024.histogram_axis_names)\n",
    "model2020_d024.GenerateModelDistribution()"
   ]
  },
  {
   "cell_type": "code",
   "execution_count": 6,
   "metadata": {},
   "outputs": [
    {
     "name": "stdout",
     "output_type": "stream",
     "text": [
      "DNN:\n",
      "\tInput ROI boundaries:      0.86,      1.0\n",
      "\tActual ROI boundaries:     0.86,      1.0\n",
      "Energy (keV):\n",
      "\tInput ROI boundaries:    2434.0,   2480.0\n",
      "\tActual ROI boundaries:   2430.0,   2480.0\n",
      "Standoff (mm):\n",
      "\tInput ROI boundaries:     104.5,    650.0\n",
      "\tActual ROI boundaries:    100.0,    650.0\n"
     ]
    }
   ],
   "source": [
    "roi_cut_dict_2020_d024 = {'DNN': (0.86,1.),\n",
    "                    'Energy (keV)': (2434., 2480.),\n",
    "                    'Standoff (mm)': (104.5, 650.)\n",
    "                    }\n",
    "\n",
    "workspace2020_d024.DefineROI( roi_cut_dict_2020_d024 )"
   ]
  },
  {
   "cell_type": "code",
   "execution_count": 7,
   "metadata": {},
   "outputs": [
    {
     "name": "stdout",
     "output_type": "stream",
     "text": [
      "Variable name:          Value:       IsFixed:  FitError   InputError:   IsConstrained: Limits:      \n",
      "Num_Far                 6.558e+03    False     None       80.98         False          (None,None)\n",
      "Num_Vessel_U238         2.291e+03    False     None       47.87         False          (None,None)\n",
      "Num_Vessel_Th232        642.1        False     None       25.34         False          (None,None)\n",
      "Num_Internals_U238      6.467e+03    False     None       80.42         False          (None,None)\n",
      "Num_Internals_Th232     2.879e+03    False     None       53.65         False          (None,None)\n",
      "Num_Rn222               2.357e+04    False     None       153.5         False          (None,None)\n",
      "Num_FullTPC_K40         4.914e+07    False     None       7.01e+03      False          (None,None)\n",
      "Num_B8nu                13.6         False     None       3.688         False          (None,None)\n",
      "Num_FullLXeBb2n         1.633e+07    False     None       4.041e+03     False          (None,None)\n",
      "Num_FullLXeBb0n         11.81        False     None       0.01          False          (None,None)\n",
      "Num_Xe137_and_Ar42      23.42        False     None       4.839         False          (None,None)\n"
     ]
    }
   ],
   "source": [
    "likelihood2020 = nEXOFitLikelihood.nEXOFitLikelihood()\n",
    "likelihood2020.AddPDFDataframeToModel(workspace2020_d024.df_group_pdfs,\\\n",
    "                                      axis_names=workspace2020_d024.histogram_axis_names)\n",
    "\n",
    "sig_idx = likelihood2020.model.GetVariableIndexByName('Bb0n')\n",
    "likelihood2020.model.variable_list[sig_idx]['Value'] = 11.81\n",
    "\n",
    "\n",
    "likelihood2020.AddDataset( likelihood2020.model.GenerateDataset() )\n",
    "\n",
    "likelihood2020.PrintVariableList()\n"
   ]
  },
  {
   "cell_type": "code",
   "execution_count": 8,
   "metadata": {},
   "outputs": [],
   "source": [
    "# Set up the plotting parameters\n",
    "initial_cycler = plt.rcParams['axes.prop_cycle']\n",
    "plt.rcParams.update({'font.size': 14})\n",
    "custom_cycler = cycler( color = [ (1.,0.5,0.),\\\n",
    "                                 (0.,0.,1.,0.5),\\\n",
    "                                 (0.,0.8,0.),\\\n",
    "                                 (1.,0.,0.),\\\n",
    "                                 (0.5,1.,0.5),\\\n",
    "                                 (0.,0.8,0.8),\\\n",
    "                                 (0.1,0.6,0.5),\\\n",
    "                                 (1.,0.,1.),\\\n",
    "                                 (0.5,0.,0.5) ] ) \n",
    "plt.rc('axes', prop_cycle=custom_cycler)\n",
    "\n",
    "\n",
    "labels_dict = {\"Far\": \"Far components\",\n",
    "\"VesselU238\": r'$^{238}$U TPC Vessel',\n",
    "\"VesselTh232\": r'$^{232}$Th TPC Vessel',\n",
    "\"InternalsU238\": r'$^{238}$U Internals',\n",
    "\"InternalsTh232\": r'$^{232}$Th Internals',\n",
    "\"Rn222\": r'Internal $^{222}$Rn',\n",
    "\"FullTPCK40\": r'$^{40}$K (all)',\n",
    "\"B8nu\": r'Solar $\\nu$',\n",
    "\"FullLXeBb2n\": r'$^{136}$Xe $2\\nu\\beta\\beta$',\n",
    "\"FullLXeBb0n\": r'$^{136}$Xe $0\\nu\\beta\\beta$',\n",
    "\"Xe137andAr42\": r'$^{137}$Xe and $^{42}$Ar'}\n",
    "\n",
    "\n",
    "colors_dict = {\"Far\": (1.,0.5,0.),\n",
    "\"VesselU238\": (0.6,0.2,0.3),\n",
    "\"VesselTh232\": (0.,0.8,0.),\n",
    "\"InternalsU238\": (1.,0.,0.),\n",
    "\"InternalsTh232\": (0.5,1.,0.5),\n",
    "\"Rn222\": (0.,0.8,0.8),\n",
    "\"FullTPCK40\": (0.8,0.7,0.),\n",
    "\"B8nu\": (0.5,0.,0.5),\n",
    "\"FullLXeBb2n\": (0.7,0.7,0.7),\n",
    "\"FullLXeBb0n\": (0.1,0.1,1.0),\n",
    "\"Xe137andAr42\": (1.,0.,1.)}\n",
    "\n",
    "categories_dict = {\"Far\": 'External',\n",
    "\"VesselU238\": 'External',\n",
    "\"VesselTh232\": 'External',\n",
    "\"InternalsU238\": 'External',\n",
    "\"InternalsTh232\": 'External',\n",
    "\"Rn222\": 'External',\n",
    "\"FullTPCK40\": 'External',\n",
    "\"B8nu\": 'Internal',\n",
    "\"FullLXeBb2n\": 'Bb2n',\n",
    "\"FullLXeBb0n\": 'Bb0n',\n",
    "\"Xe137andAr42\": 'Internal'}\n",
    "\n",
    "\n",
    "from scipy.interpolate import interp1d\n",
    "\n",
    "def fiducial_mass( standoff ):\n",
    "    \n",
    "    rho = 0.003057/1.e6 # g/cm3\n",
    "    rfsr = 71.85 # mm\n",
    "    dtpc = 1277 # mm\n",
    "    zdrift = 1183 # mm\n",
    "    \n",
    "    return rho * ( np.pi * (dtpc/2 - rfsr - standoff)**2 * (zdrift - 2*standoff) )\n",
    "\n",
    "standoffs = np.linspace(0.,650.,100000)\n",
    "masses = fiducial_mass(standoffs)*1000.\n",
    "\n",
    "standoff_vs_mass = interp1d(masses,standoffs)\n",
    "\n",
    "\n",
    "\n"
   ]
  },
  {
   "cell_type": "code",
   "execution_count": 9,
   "metadata": {},
   "outputs": [
    {
     "name": "stdout",
     "output_type": "stream",
     "text": [
      "3281.0kg \t 19.96mm\n",
      "3000.0kg \t 36.27mm\n",
      "2500.0kg \t 68.02mm\n",
      "2000.0kg \t 104.3mm\n",
      "1500.0kg \t 147.3mm\n",
      "1000.0kg \t 201.4mm\n",
      " 500.0kg \t 278.3mm\n"
     ]
    }
   ],
   "source": [
    "masses = [3281.,3000.,2500.,2000.,1500.,1000.,500.]\n",
    "\n",
    "for mass in masses:\n",
    "    print('{:6.6}kg \\t {:4.4}mm'.format(mass,standoff_vs_mass(mass)))"
   ]
  },
  {
   "cell_type": "markdown",
   "metadata": {},
   "source": [
    "# LIGO plot"
   ]
  },
  {
   "cell_type": "code",
   "execution_count": 10,
   "metadata": {
    "scrolled": false
   },
   "outputs": [],
   "source": [
    "# thislambda = 0.\n",
    "\n",
    "# counter = 1\n",
    "\n",
    "\n",
    "# #while (thislambda < 8.)|(thislambda>9.):\n",
    "# #while False:\n",
    "# while counter == 1:\n",
    "    \n",
    "#     print('\\n\\nAttempt {}\\n'.format(counter))\n",
    "\n",
    "#     workspace2020_d024.CreateGroupedPDFs()\n",
    "\n",
    "#     likelihood2020 = nEXOFitLikelihood.nEXOFitLikelihood()\n",
    "#     likelihood2020.AddPDFDataframeToModel(workspace2020_d024.df_group_pdfs,\\\n",
    "#                                           axis_names=workspace2020_d024.histogram_axis_names)\n",
    "\n",
    "#     sig_idx = likelihood2020.model.GetVariableIndexByName('Bb0n')\n",
    "#     likelihood2020.model.variable_list[sig_idx]['Value'] = 11.81 * 10\n",
    "\n",
    "#     likelihood2020.model.GenerateModelDistribution()\n",
    "\n",
    "#     dataset = likelihood2020.model.GenerateDataset()\n",
    "#     likelihood2020.AddDataset( dataset )\n",
    "\n",
    "#     likelihood2020.PrintVariableList()\n",
    "\n",
    "#     initial_guess = np.copy(likelihood2020.GetVariableValues())\n",
    "\n",
    "\n",
    "#     for var in likelihood2020.model.variable_list:\n",
    "#                 if 'Bb0n' in var['Name']:\n",
    "#                     likelihood2020.SetVariableLimits( var['Name'], \\\n",
    "#                                               lower_limit = -15., \\\n",
    "#                                               upper_limit = 100.)\n",
    "#                 elif 'Co60' in var['Name']:\n",
    "#                     likelihood2020.SetVariableLimits( var['Name'], \\\n",
    "#                                               lower_limit = 0., \\\n",
    "#                                               upper_limit = var['Value']*10.)\n",
    "#                 else: \n",
    "#                     likelihood2020.SetVariableLimits( var['Name'], \\\n",
    "#                                               lower_limit = var['Value']*0.1, \\\n",
    "#                                               upper_limit = var['Value']*10.)\n",
    "\n",
    "#     likelihood2020.SetFractionalMinuitInputError('Num_FullLXeBb0n', 0.01/0.0001)\n",
    "#     likelihood2020.SetAllVariablesFloating()\n",
    "\n",
    "#     rn222_idx = likelihood2020.model.GetVariableIndexByName('Rn222')\n",
    "#     # Fluctuate Rn222 constraint\n",
    "#     rn222_constraint_val = (np.random.randn()*0.1 + 1)*initial_guess[rn222_idx]\n",
    "#     # Set Rn222 constraint\n",
    "#     likelihood2020.SetGaussianConstraintAbsolute(likelihood2020.model.variable_list[rn222_idx]['Name'],\\\n",
    "#                                              rn222_constraint_val, \\\n",
    "#                                              0.1 * initial_guess[rn222_idx])\n",
    "#     b8_idx = likelihood2020.model.GetVariableIndexByName('B8')\n",
    "#     # Fluctuate B8nu constraint\n",
    "#     b8_constraint_val = (np.random.randn()*0.1 + 1)*initial_guess[b8_idx]\n",
    "#     # Set B8nu constraint\n",
    "#     likelihood2020.SetGaussianConstraintAbsolute(likelihood2020.model.variable_list[b8_idx]['Name'],\\\n",
    "#                                              b8_constraint_val, \\\n",
    "#                                              0.1 * initial_guess[b8_idx])\n",
    "\n",
    "\n",
    "#     lambda_fit_result = likelihood2020.ComputeLambdaForPositiveSignal(\\\n",
    "#                                                                     initial_values=initial_guess,\\\n",
    "#                                                                     signal_name='Bb0n',\\\n",
    "#                                                                     signal_expectation=0.,\\\n",
    "#                                                                     print_level=1,\\\n",
    "#                                                                     fixed_fit_signal_value=0.)\n",
    "#     print('\\nLambda: {:4.4}\\n'.format(lambda_fit_result['lambda']))\n",
    "    \n",
    "#     thislambda = lambda_fit_result['lambda']\n",
    "\n",
    "\n",
    "#     likelihood2020.PrintVariableList()\n",
    "    \n",
    "#     counter += 1\n",
    "\n"
   ]
  },
  {
   "cell_type": "code",
   "execution_count": 11,
   "metadata": {},
   "outputs": [],
   "source": [
    "thisdataset = likelihood2020.dataset"
   ]
  },
  {
   "cell_type": "code",
   "execution_count": 12,
   "metadata": {},
   "outputs": [],
   "source": [
    "import pickle\n",
    "\n",
    "# with open('Data/example_toy_datset_0.74e26years.pkl','wb') as pklfile:\n",
    "#     pickle.dump(thisdataset,pklfile)\n",
    "\n",
    "with open('Data/example_toy_datset.pkl','rb') as pklfile:\n",
    "    likelihood2020.dataset = pickle.load(pklfile)\n",
    "\n",
    "    dataset = likelihood2020.dataset"
   ]
  },
  {
   "cell_type": "code",
   "execution_count": 13,
   "metadata": {},
   "outputs": [
    {
     "name": "stdout",
     "output_type": "stream",
     "text": [
      "Hist(14 bins in [0.0,1.0], 250 bins in [1000.0,3500.0], 22 bins in [0.0,650.0], with sum 55444250, 42933 empty bins, and 0 non-finite values)\n"
     ]
    }
   ],
   "source": [
    "print(likelihood2020.dataset)"
   ]
  },
  {
   "cell_type": "code",
   "execution_count": 14,
   "metadata": {},
   "outputs": [],
   "source": [
    "# def fiducial_mass(standoff):\n",
    "#     density = 3.01 # g/cm3\n",
    "#     d = 113.3 # cm\n",
    "#     max_drift = 118.3 # cm\n",
    "#     return density * (np.pi * (d/2. - standoff)**2 * (max_drift - 2*standoff)) / 1000."
   ]
  },
  {
   "cell_type": "code",
   "execution_count": 15,
   "metadata": {},
   "outputs": [],
   "source": [
    "# print(fiducial_mass(19.9))"
   ]
  },
  {
   "cell_type": "markdown",
   "metadata": {},
   "source": [
    "## LXe mass dependence plot"
   ]
  },
  {
   "cell_type": "markdown",
   "metadata": {},
   "source": [
    "The plot below shows the signal and background curves as a function of the LXe mass. The `n_ch_x_abovenoise` and `n_ch_y_abovenoise` cuts make the 0nbb curve appears non-flat. Make sure the plots are made after loading the specific histograms and components table w/o these cuts.  \n",
    "\n",
    "The background curve have also non-gamma backgrounds but they have a very small impact. Note that the background curve is expected approximately exponential in standoff units but not technically exponential in mass units. It is a bit surprising that it fits so well with an exponential. The function `exp(-lambda*r^1/3)` does drop quickly but with a behaviour different than an exponential"
   ]
  },
  {
   "cell_type": "code",
   "execution_count": 35,
   "metadata": {},
   "outputs": [
    {
     "name": "stdout",
     "output_type": "stream",
     "text": [
      "Num_Far 6558.067754412289\n",
      "Total Num_Far counts in spectrum:  3.3861557435415683\n",
      "Num_Vessel_U238 2291.391373052515\n",
      "Total Num_Vessel_U238 counts in spectrum:  1.4765038154464696\n",
      "Num_Vessel_Th232 642.1091130888757\n",
      "Total Num_Vessel_Th232 counts in spectrum:  0.6758018239769711\n",
      "Num_Internals_U238 6466.949639259376\n",
      "Total Num_Internals_U238 counts in spectrum:  4.22461867437163\n",
      "Num_Internals_Th232 2878.5627289392723\n",
      "Total Num_Internals_Th232 counts in spectrum:  0.9219299557627877\n",
      "Num_Rn222 23574.803111733214\n",
      "Total Num_Rn222 counts in spectrum:  16.212815655057895\n",
      "Num_FullTPC_K40 49139854.50924045\n",
      "Total Num_FullTPC_K40 counts in spectrum:  0.0\n",
      "Num_B8nu 13.600884184211834\n",
      "Total Num_B8nu counts in spectrum:  0.1929569696930858\n",
      "Num_FullLXeBb2n 16325786.572434425\n",
      "Total Num_FullLXeBb2n counts in spectrum:  0.11231669341803723\n",
      "Num_FullLXeBb0n 11.81\n",
      "Total Num_FullLXeBb0n counts in spectrum:  7.360112737868595\n",
      "Num_Xe137_and_Ar42 23.42066801948178\n",
      "Total Num_Xe137_and_Ar42 counts in spectrum:  0.24564802151625276\n",
      "Total background counts:  27.448747352784704\n"
     ]
    },
    {
     "data": {
      "image/png": "[encoded data removed]",
      "text/plain": [
       "<Figure size 576x504 with 1 Axes>"
      ]
     },
     "metadata": {
      "needs_background": "light"
     },
     "output_type": "display_data"
    }
   ],
   "source": [
    "categories_dict = {\n",
    "\"Far\": 'Other bkgs',\n",
    "\"VesselU238\": 'Other bkgs',\n",
    "\"VesselTh232\": 'Other bkgs',\n",
    "\"InternalsU238\": 'Other bkgs',\n",
    "\"InternalsTh232\": 'Other bkgs',\n",
    "\"Rn222\": 'Other bkgs',\n",
    "\"FullTPCK40\": 'Other bkgs',\n",
    "\"B8nu\": 'Other bkgs',\n",
    "\"FullLXeBb2n\": 'Bb2n',\n",
    "\"FullLXeBb0n\": 'Bb0n',\n",
    "\"Xe137andAr42\": 'Other bkgs'}\n",
    "\n",
    "ss_cut_dict_list = [{'DNN': (0.85,1.),\n",
    "                    'Energy (keV)': (2434., 2480.),\n",
    "#                     'Energy (keV)': (0, 4000),\n",
    "                    'Standoff (mm)': (0., 650.)\n",
    "                    }]\n",
    "\n",
    "\n",
    "plot_data = False      # add toy data set \n",
    "differential = True   # normalize by unit mass (kg)\n",
    "multiple_0nbb_cases = False # draw 0nbb curve for multiple half-lives values\n",
    "show_legend = True\n",
    "\n",
    "def fiducial_mass_kg(standoff):\n",
    "    return fiducial_mass(standoff)*1000\n",
    "\n",
    "plt.rcParams.update({'font.size': 15})\n",
    "\n",
    "fig, ax = plt.subplots (1, 1, figsize=(8, 7), sharex=True, sharey = True, gridspec_kw={'wspace':0.0,'hspace':0.0})\n",
    "\n",
    "# Loop over components and create the summed pdfs\n",
    "for i in range(len(likelihood2020.model.variable_list)):\n",
    "    var = likelihood2020.model.variable_list[i]\n",
    "    if 'Num' in var['Name']:\n",
    "\n",
    "        weight = var['Value']\n",
    "        print(var['Name'], var['Value'])\n",
    "\n",
    "        cut_pdf = likelihood2020.model.GetSlicedDistribution( ss_cut_dict_list[0], var_name=var['Name'], verbose=False )\n",
    "        component_name = ''.join( var['Name'].split('_')[1:] )\n",
    "        #print('Plotting {}'.format(component_name))\n",
    "\n",
    "        if i == 0:\n",
    "            # Initialize the summed histograms      \n",
    "            cut_sum = hl.hist( [np.array([0.]),np.array([0.]),np.array([0.])] , \\\n",
    "                           bins=cut_pdf.bins)\n",
    "            backgrounds_sum = hl.hist( [np.array([0.]),np.array([0.]),np.array([0.])] , \\\n",
    "                           bins=cut_pdf.bins)\n",
    "\n",
    "        cut_pdf_single_axis = cut_pdf.project([2])\n",
    "        new_cut_pdf_single_axis = hl.Hist(cut_pdf_single_axis.bins, cut_pdf_single_axis.values)\n",
    "        if 'Bb0n' not in component_name:\n",
    "            backgrounds_sum += ( weight * cut_pdf )\n",
    "        else: \n",
    "#             weight = weight\n",
    "#             print(cut_pdf_single_axis.bins)\n",
    "        #         print(bin_widths)\n",
    "        #         print(np.sum(new_cut_pdf_single_axis.values))\n",
    "            new_cut_pdf_single_axis_t = new_cut_pdf_single_axis.transform_bins(fiducial_mass_kg)\n",
    "#             print(new_cut_pdf_single_axis_t.bins)\n",
    "            h0 = hl.Hist(new_cut_pdf_single_axis_t.bins, new_cut_pdf_single_axis.values)\n",
    "#             print(np.sum(h0.values))\n",
    "        print(f\"Total {var['Name']} counts in spectrum: \", np.sum((weight * new_cut_pdf_single_axis).values))\n",
    "        cut_sum += ( weight * cut_pdf )\n",
    "\n",
    "    \n",
    "if differential: \n",
    "    bin_widths_t = -(h0.bins[0][1:] - h0.bins[0][:-1])\n",
    "#     print(bin_widths_t)\n",
    "else: \n",
    "    bin_widths_t = 1\n",
    "    \n",
    "if multiple_0nbb_cases:\n",
    "    hl.plot1d( ax, (118.1 * h0 / bin_widths_t), label=r'$^{136}$Xe $0\\nu\\beta\\beta$ @ $0.74\\times 10^{27}$ y', \\\n",
    "                                    color=(0.4,0.,0.), alpha=1, zorder=-3 )\n",
    "#     hl.plot1d( ax, (29.22 * h0 / bin_widths_t), label=r'$^{136}$Xe $0\\nu\\beta\\beta$ @ $5.0\\times 10^{27}$ y', \\\n",
    "#                                     color=(0.6,0.,0.), alpha=1, zorder=-3 )\n",
    "hl.plot1d( ax, (11.81 * h0 / bin_widths_t), label=r'$^{136}$Xe $0\\nu\\beta\\beta$ @ $7.4\\times 10^{27}$ y', \\\n",
    "                                color=(0.8,0.,0.), alpha=1, zorder=-3 )\n",
    "\n",
    "\n",
    "this_label=r'Background-only'\n",
    "\n",
    "backgrounds_sum_single_axis = backgrounds_sum.project([2])\n",
    "backgrounds_sum_single_axis = hl.Hist(backgrounds_sum_single_axis.bins,\\\n",
    "                                              backgrounds_sum_single_axis.values,\\\n",
    "                                              )\n",
    "backgrounds_sum_single_axis_t = backgrounds_sum_single_axis.transform_bins(fiducial_mass_kg)\n",
    "# print(backgrounds_sum_single_axis_t.bins)\n",
    "\n",
    "# bin_widths_t = -(backgrounds_sum_single_axis_t.bins[0][1:] - backgrounds_sum_single_axis_t.bins[0][:-1])\n",
    "\n",
    "#     hl.plot1d(ax[0,j],backgrounds_sum_single_axis,color=(0.,.4,0),linewidth=2,\\\n",
    "#               label='',linestyle='-',zorder=-2)\n",
    "# hl.fill_between( ax, 0, backgrounds_sum_single_axis_t/bin_widths_t, label=this_label, color=(0.,0.4,0.), alpha=0.5, zorder=-2 )\n",
    "hl.plot1d( ax, backgrounds_sum_single_axis_t/bin_widths_t, label=this_label, color=(0.,0.4,0.), alpha=1, zorder=-2 )\n",
    "print(\"Total background counts: \", np.sum(backgrounds_sum_single_axis_t.values))\n",
    "\n",
    "\n",
    "if plot_data:\n",
    "    cut_sum_single_axis = cut_sum.project([2])\n",
    "    new_cut_sum_single_axis = hl.Hist(cut_sum_single_axis.bins, cut_sum_single_axis.values)\n",
    "    new_cut_sum_single_axis_t = new_cut_sum_single_axis.transform_bins(fiducial_mass_kg)\n",
    "    hl.plot1d(ax, new_cut_sum_single_axis_t/bin_widths_t,color='k',label=r'Signal+Background',linewidth=2)\n",
    "\n",
    "    cut_data = likelihood2020.GetSlicedDataset( ss_cut_dict_list[0], verbose=True )\n",
    "\n",
    "    cut_data_1d = cut_data.project([2])\n",
    "    bin_centers = (backgrounds_sum_single_axis_t.bins[0][:-1]+backgrounds_sum_single_axis_t.bins[0][1:])/2.\n",
    "    ax.errorbar(bin_centers,cut_data_1d.values/bin_widths_t,yerr=np.sqrt(cut_data_1d.values)/bin_widths_t,\\\n",
    "                                              fmt='ok',markersize=5,label='Toy Data Sample')\n",
    "\n",
    "    \n",
    "# ax.set_yscale('log')\n",
    "# ax.set_xscale('log')\n",
    "ax.set_xlim(3281.,0.)\n",
    "# ax.set_xlim(0.,3281.)\n",
    "#ax[1,j].set_xlabel('{}'.format(likelihood2020.model.axis_names[1]))\n",
    "ax.set_ylabel(f'SS Counts / FWHM{\"·kg \" if differential else \"\"} in 10 years', labelpad=10, fontsize=22)\n",
    "ax.set_xlabel('LXe mass [kg]', fontsize=22)\n",
    "#ax[j].yaxis.set_label_coords(-0.13,0.8)\n",
    "ax.tick_params(axis='both', which='major', pad=3, labelsize=18)\n",
    "# ax.set_xticks([1000.,1500.,2000.,2500.,3000.])\n",
    "# ax.set_xticklabels(['1.0','1.5','2.0','2.5','3.0'])\n",
    "ax.legend(framealpha=1.)\n",
    "\n",
    "# ax.set_ylim(1e-4,8)\n",
    "# ax.set_ylim(1e-4,3e-2)\n",
    "ax.set_ylim(0, None)\n",
    "\n",
    "# def mass_from_sd() = standoff_vs_mass/1000.\n",
    "\n",
    "# second x-axis with standoff\n",
    "ax2 = ax.secondary_xaxis('top', functions=(lambda x: standoff_vs_mass(x), fiducial_mass_kg))\n",
    "\n",
    "standoffs = [0, 20, 50, 100, 200, 300, 600]\n",
    "standoffs_labels = [f'{standoff}' for standoff in standoffs]\n",
    "mass_standoffs = [fiducial_mass_kg(standoff) for standoff in standoffs]\n",
    "# print(mass_standoffs)\n",
    "ax2.set_xlim(0.,3281.)\n",
    "ax2.set_xticks(standoffs)\n",
    "# ax2.set_xticklabels(standoffs_labels)\n",
    "ax2.set_xlabel('Standoff [mm]',labelpad=10, fontsize=18)\n",
    "# plt.setp(ax2.get_xticklabels())\n",
    "\n",
    "def exponent(x, a, x0, tau):\n",
    "    return a * np.exp(-(-x-x0)/tau)\n",
    "\n",
    "from scipy import stats, optimize\n",
    "bb = backgrounds_sum_single_axis_t.bins[0]\n",
    "bw = bin_widths_t\n",
    "vv = backgrounds_sum_single_axis_t.values\n",
    "hhh = hl.Hist(bb,vv/bw)\n",
    "# params, cov = hhh.curve_fit(lambda x, a, loc, scale: stats.expon.pdf(x, loc, scale), p0=(1e6,20,50))\n",
    "# params, cov = hhh.curve_fit(exponent, p0=(0.035,-3281,0.1))\n",
    "bin_centers = (hhh.bins[0][:-1]+hhh.bins[0][1:])/2.\n",
    "# ax.plot(bin_centers, params[0]*stats.expon.pdf(bin_centers, *params[1:]), zorder=10)\n",
    "# ax.plot(np.linspace(0,3500,100), exponent(np.linspace(0,3500,100), *params), zorder=10)\n",
    "ax.plot(np.linspace(0,3500,100), exponent(np.linspace(0,3500,100), 0.035, -3281, 790), color='green', linestyle=':', zorder=10)\n",
    "\n",
    "ax.plot(np.linspace(0,3500,100), np.full(100,0.00225), color=(0.8,0.,0.), linestyle=':', zorder=10)\n",
    "if multiple_0nbb_cases: ax.plot(np.linspace(0,3500,100), np.full(100,0.0225), color=(0.4,0.,0.), linestyle=':', zorder=10)\n",
    "\n",
    "plt.savefig('volume_distribution_with_event_groupings_dnn_gt_0p85_energy_fwhm.pdf',\\\n",
    "           dpi=200,bbox_inches='tight')\n",
    "\n"
   ]
  },
  {
   "cell_type": "code",
   "execution_count": null,
   "metadata": {},
   "outputs": [],
   "source": []
  }
 ],
 "metadata": {
  "kernelspec": {
   "display_name": "workspace mypyenv",
   "language": "python",
   "name": "mypyenv"
  },
  "language_info": {
   "codemirror_mode": {
    "name": "ipython",
    "version": 3
   },
   "file_extension": ".py",
   "mimetype": "text/x-python",
   "name": "python",
   "nbconvert_exporter": "python",
   "pygments_lexer": "ipython3",
   "version": "3.7.2"
  }
 },
 "nbformat": 4,
 "nbformat_minor": 4
}
