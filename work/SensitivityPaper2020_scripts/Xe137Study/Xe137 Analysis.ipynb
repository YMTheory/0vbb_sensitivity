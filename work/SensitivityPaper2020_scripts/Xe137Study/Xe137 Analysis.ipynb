{
 "cells": [
  {
   "cell_type": "code",
   "execution_count": 1,
   "metadata": {},
   "outputs": [
    {
     "name": "stdout",
     "output_type": "stream",
     "text": [
      "/g/g20/lenardo1/nEXO/sensitivity/work/SensitivityPaper2020_scripts/Xe137Study\r\n"
     ]
    }
   ],
   "source": [
    "# Import sys, then tell python where to find the nEXO-specific classes\n",
    "# I'll assume you're in the sensitivity/work directory, as shown here by !pwd\n",
    "\n",
    "import sys\n",
    "!pwd\n",
    "sys.path.append('../../../modules')"
   ]
  },
  {
   "cell_type": "code",
   "execution_count": 2,
   "metadata": {},
   "outputs": [],
   "source": [
    "# Import useful libraries for analysis\n",
    "\n",
    "import pandas as pd\n",
    "import histlite as hl\n",
    "import numpy as np\n",
    "from matplotlib import pyplot as plt\n",
    "import os\n",
    "\n",
    "plt.rcParams.update({'font.size': 18})\n",
    "plt.rcParams['figure.figsize'] = (10,8)\n",
    "\n",
    "from cycler import cycler\n",
    "plt.rcParams['axes.prop_cycle'] = cycler(color='bgrcmyk')"
   ]
  },
  {
   "cell_type": "code",
   "execution_count": 3,
   "metadata": {},
   "outputs": [],
   "source": [
    "# Import the nEXO sensitivity classes\n",
    "\n",
    "import nEXOFitWorkspace\n",
    "import nEXOFitModel\n",
    "import nEXOFitLikelihood"
   ]
  },
  {
   "cell_type": "code",
   "execution_count": null,
   "metadata": {},
   "outputs": [],
   "source": []
  },
  {
   "cell_type": "code",
   "execution_count": 4,
   "metadata": {},
   "outputs": [
    {
     "name": "stdout",
     "output_type": "stream",
     "text": [
      "Loading data for 0.01x\n",
      "---> Loaded 5000 toy datasets\n",
      "Loading data for 0.1x\n",
      "---> Loaded 5000 toy datasets\n",
      "Loading data for 0.3x\n",
      "---> Loaded 5000 toy datasets\n",
      "Loading data for 1x\n",
      "---> Loaded 5000 toy datasets\n",
      "Loading data for 3.0x\n",
      "---> Loaded 5000 toy datasets\n",
      "Loading data for 10x\n",
      "---> Loaded 5000 toy datasets\n",
      "Loading data for 30.0x\n",
      "---> Loaded 5000 toy datasets\n",
      "Loading data for 1e+02x\n",
      "---> Loaded 4300 toy datasets\n"
     ]
    }
   ],
   "source": [
    "categories_list = ['0.01x','0.1x','0.3x','1x','3.0x','10x','30.0x','1e+02x']\n",
    "outputdir = '/p/lustre1/lenardo1/sensitivity_output/June23_2020_Xe137_test/'\n",
    "\n",
    "all_files = os.listdir(outputdir)\n",
    "h5_files = [filename for filename in all_files if filename.endswith('.h5')]\n",
    "\n",
    "dfdict = dict()\n",
    "\n",
    "for category in categories_list:\n",
    "    print('Loading data for {}'.format(category))\n",
    "    df_list = [pd.read_hdf(outputdir+filename) for filename in h5_files if '_'+category+'_' in filename]\n",
    "    dfdict[category] = pd.concat(df_list,ignore_index=True)\n",
    "    print('---> Loaded {} toy datasets'.format(len(dfdict[category])))\n"
   ]
  },
  {
   "cell_type": "code",
   "execution_count": 5,
   "metadata": {},
   "outputs": [],
   "source": [
    "baselinedir = '/p/lustre1/lenardo1/sensitivity_output/June23_2020_Xe137_test/'\n",
    "all_files = os.listdir(baselinedir)\n",
    "h5_files = [filename for filename in all_files if (filename.endswith('.h5') and '_1x_' in filename)]\n",
    "df_list = [pd.read_hdf(baselinedir+filename) for filename in h5_files]\n",
    "baselinedf = pd.concat(df_list,ignore_index=True)\n",
    "\n",
    "dfdict['Baseline'] = baselinedf\n",
    "\n",
    "\n"
   ]
  },
  {
   "cell_type": "code",
   "execution_count": 6,
   "metadata": {},
   "outputs": [
    {
     "name": "stdout",
     "output_type": "stream",
     "text": [
      "Running 0.01x\n",
      "---> Convergence fraction: 1.0\n",
      "Running 0.1x\n",
      "---> Convergence fraction: 1.0\n",
      "Running 0.3x\n",
      "---> Convergence fraction: 0.997\n",
      "Running 1x\n",
      "---> Convergence fraction: 0.969\n",
      "Running 3.0x\n",
      "---> Convergence fraction: 0.963\n",
      "Running 10x\n",
      "---> Convergence fraction: 0.955\n",
      "Running 30.0x\n",
      "---> Convergence fraction: 0.921\n",
      "Running 1e+02x\n",
      "---> Convergence fraction: 0.88\n",
      "Running Baseline\n",
      "---> Convergence fraction: 0.969\n"
     ]
    }
   ],
   "source": [
    "# Get the median values of lambda\n",
    "\n",
    "maskdict = dict()\n",
    "\n",
    "for key, df in dfdict.items():\n",
    "    print('Running {}'.format(key))\n",
    "    \n",
    "    good_fit_mask = []\n",
    "    \n",
    "    for index,row in df.iterrows():\n",
    "        if np.sum(row['fixed_fit_acc_covar']) < len(row['fixed_fit_acc_covar'])-1:\n",
    "            good_fit_mask.append(False)\n",
    "        else:\n",
    "            good_fit_mask.append(True)\n",
    "            \n",
    "    maskdict[key] = np.array(good_fit_mask)\n",
    "    print('---> Convergence fraction: {:3.3}'.format(np.sum(maskdict[key])/len(maskdict[key])))\n",
    "            \n",
    "    \n",
    "        "
   ]
  },
  {
   "cell_type": "code",
   "execution_count": 7,
   "metadata": {},
   "outputs": [
    {
     "name": "stdout",
     "output_type": "stream",
     "text": [
      "Running 0.01x\n",
      "---> Median 90%CL on signal counts: 8.10675562969141\n",
      "Running 0.1x\n",
      "---> Median 90%CL on signal counts: 8.206839032527107\n",
      "Running 0.3x\n",
      "---> Median 90%CL on signal counts: 8.206839032527107\n",
      "Running 1x\n",
      "---> Median 90%CL on signal counts: 8.607172643869891\n",
      "Running 3.0x\n",
      "---> Median 90%CL on signal counts: 9.658048373644704\n",
      "Running 10x\n",
      "---> Median 90%CL on signal counts: 12.110091743119266\n",
      "Running 30.0x\n",
      "---> Median 90%CL on signal counts: 15.963302752293579\n",
      "Running 1e+02x\n",
      "---> Median 90%CL on signal counts: 24.220183486238533\n",
      "Running Baseline\n",
      "---> Median 90%CL on signal counts: 8.607172643869891\n"
     ]
    },
    {
     "data": {
      "text/plain": [
       "Text(0.5, 0, '90% CL on signal counts for given toy')"
      ]
     },
     "execution_count": 7,
     "metadata": {},
     "output_type": "execute_result"
    },
    {
     "data": {
      "image/png": "[encoded data removed]",
      "text/plain": [
       "<Figure size 432x288 with 1 Axes>"
      ]
     },
     "metadata": {
      "needs_background": "light"
     },
     "output_type": "display_data"
    }
   ],
   "source": [
    "histdict = dict()\n",
    "mediandict = dict()\n",
    "\n",
    "for key, df in dfdict.items():\n",
    "    print('Running {}'.format(key))\n",
    "    \n",
    "    histdict[key] = hl.hist(dfdict[key]['90CL_crossing'].loc[maskdict[key]], bins=np.linspace(0.,60.,61))\n",
    "    \n",
    "    mediandict[key] = np.median(dfdict[key]['90CL_crossing'].loc[maskdict[key]])\n",
    "    \n",
    "    print('---> Median 90%CL on signal counts: {}'.format(mediandict[key]))\n",
    "    \n",
    "    hl.plot1d(histdict[key],label=key,linewidth=3)\n",
    "\n",
    "    \n",
    "plt.legend()\n",
    "plt.xlabel('90% CL on signal counts for given toy')\n",
    "            \n",
    " "
   ]
  },
  {
   "cell_type": "code",
   "execution_count": 18,
   "metadata": {},
   "outputs": [
    {
     "name": "stdout",
     "output_type": "stream",
     "text": [
      "0.01\t1.062\n",
      " 0.1\t1.049\n",
      " 0.3\t1.049\n",
      " 1.0\t 1.0\n",
      " 1.0\t 1.0\n",
      " 3.0\t0.8912\n",
      "10.0\t0.7107\n",
      "30.0\t0.5392\n",
      "100.0\t0.3554\n"
     ]
    },
    {
     "data": {
      "image/png": "[encoded data removed]",
      "text/plain": [
       "<Figure size 720x576 with 1 Axes>"
      ]
     },
     "metadata": {
      "needs_background": "light"
     },
     "output_type": "display_data"
    }
   ],
   "source": [
    "#plt.plot(1.,1.,'ob',markersize=10)\n",
    "\n",
    "x_points = [1.]\n",
    "y_points = [1.]\n",
    "\n",
    "for key,value in mediandict.items():\n",
    "    \n",
    "    if key == 'Baseline': continue\n",
    "    \n",
    "    factor = float(key.replace('x',''))\n",
    "   \n",
    "    #plt.plot(factor,(1/value)/(1/mediandict['Baseline']),'ob',markersize=10)\n",
    "    \n",
    "    x_points.append(factor)\n",
    "    y_points.append((1/value)/(1/mediandict['Baseline']))\n",
    "    \n",
    "x_points = np.array(x_points)\n",
    "y_points = np.array(y_points)\n",
    "    \n",
    "sorted_idxs = np.argsort(x_points)\n",
    "\n",
    "x_points = x_points[sorted_idxs]\n",
    "y_points = y_points[sorted_idxs]\n",
    "    \n",
    "plt.plot(x_points,y_points,'-ob',markersize=10)\n",
    "plt.xscale('log')\n",
    "plt.ylim(0.2,1.2)\n",
    "plt.ylabel('Computed sensitivity / baseline value')\n",
    "plt.xlabel('Xe137 background scaling')\n",
    "plt.xticks([0.01,0.1,1.,10.,100.,],['0.01','0.1','1','10','100'])\n",
    "\n",
    "plt.savefig('xe137_sensitivity_vs_scale_factor.png',dpi=200,bbox_inches='tight')\n",
    "\n",
    "for i in range(len(x_points)):\n",
    "\n",
    "    print('{:4.4}\\t{:4.4}'.format(x_points[i],y_points[i]))\n",
    "    "
   ]
  },
  {
   "cell_type": "code",
   "execution_count": null,
   "metadata": {},
   "outputs": [],
   "source": []
  },
  {
   "cell_type": "code",
   "execution_count": null,
   "metadata": {},
   "outputs": [],
   "source": []
  },
  {
   "cell_type": "code",
   "execution_count": null,
   "metadata": {},
   "outputs": [],
   "source": []
  },
  {
   "cell_type": "code",
   "execution_count": null,
   "metadata": {},
   "outputs": [],
   "source": []
  },
  {
   "cell_type": "code",
   "execution_count": null,
   "metadata": {},
   "outputs": [],
   "source": []
  },
  {
   "cell_type": "code",
   "execution_count": null,
   "metadata": {},
   "outputs": [],
   "source": []
  }
 ],
 "metadata": {
  "kernelspec": {
   "display_name": "localpythonpackages",
   "language": "python",
   "name": "localpythonpackages"
  },
  "language_info": {
   "codemirror_mode": {
    "name": "ipython",
    "version": 3
   },
   "file_extension": ".py",
   "mimetype": "text/x-python",
   "name": "python",
   "nbconvert_exporter": "python",
   "pygments_lexer": "ipython3",
   "version": "3.7.2"
  }
 },
 "nbformat": 4,
 "nbformat_minor": 4
}
