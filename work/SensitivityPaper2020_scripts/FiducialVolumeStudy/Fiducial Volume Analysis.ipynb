{
 "cells": [
  {
   "cell_type": "code",
   "execution_count": null,
   "metadata": {},
   "outputs": [],
   "source": []
  },
  {
   "cell_type": "code",
   "execution_count": null,
   "metadata": {},
   "outputs": [],
   "source": []
  },
  {
   "cell_type": "code",
   "execution_count": 3,
   "metadata": {},
   "outputs": [
    {
     "name": "stdout",
     "output_type": "stream",
     "text": [
      "/g/g20/lenardo1/nEXO/sensitivity/work/SensitivityPaper2020_scripts/FiducialVolumeStudy\r\n"
     ]
    }
   ],
   "source": [
    "# Import sys, then tell python where to find the nEXO-specific classes\n",
    "# I'll assume you're in the sensitivity/work directory, as shown here by !pwd\n",
    "\n",
    "import sys\n",
    "!pwd\n",
    "sys.path.append('../../../modules')"
   ]
  },
  {
   "cell_type": "code",
   "execution_count": 4,
   "metadata": {},
   "outputs": [],
   "source": [
    "# Import useful libraries for analysis\n",
    "\n",
    "import pandas as pd\n",
    "import histlite as hl\n",
    "import numpy as np\n",
    "from matplotlib import pyplot as plt\n",
    "import os\n",
    "\n",
    "plt.rcParams.update({'font.size': 18})\n",
    "plt.rcParams['figure.figsize'] = (10,8)\n",
    "\n",
    "from cycler import cycler\n",
    "plt.rcParams['axes.prop_cycle'] = cycler(color='bgrcmyk')"
   ]
  },
  {
   "cell_type": "code",
   "execution_count": 5,
   "metadata": {},
   "outputs": [],
   "source": [
    "# Import the nEXO sensitivity classes\n",
    "\n",
    "import nEXOFitWorkspace\n",
    "import nEXOFitModel\n",
    "import nEXOFitLikelihood"
   ]
  },
  {
   "cell_type": "code",
   "execution_count": 7,
   "metadata": {},
   "outputs": [
    {
     "name": "stdout",
     "output_type": "stream",
     "text": [
      "Loading data for 1000kg\n",
      "---> Loaded 5000 toy datasets\n",
      "Loading data for 1500kg\n",
      "---> Loaded 5000 toy datasets\n",
      "Loading data for 2000kg\n",
      "---> Loaded 5000 toy datasets\n",
      "Loading data for 2500kg\n",
      "---> Loaded 5000 toy datasets\n"
     ]
    }
   ],
   "source": [
    "categories_list = ['1000kg','1500kg','2000kg','2500kg']\n",
    "outputdir = '/p/lustre2/lenardo1/sensitivity_output/Apr10_SensitivityVsFiducialVolume_D024/'\n",
    "\n",
    "\n",
    "all_files = os.listdir(outputdir)\n",
    "h5_files = [filename for filename in all_files if filename.endswith('.h5') and 'reanalyzed' in filename]\n",
    "\n",
    "dfdict = dict()\n",
    "\n",
    "for category in categories_list:\n",
    "    print('Loading data for {}'.format(category))\n",
    "    df_list = [pd.read_hdf(outputdir+filename) for filename in h5_files if '_'+category+'_' in filename]\n",
    "    dfdict[category] = pd.concat(df_list,ignore_index=True)\n",
    "    print('---> Loaded {} toy datasets'.format(len(dfdict[category])))"
   ]
  },
  {
   "cell_type": "code",
   "execution_count": 17,
   "metadata": {},
   "outputs": [
    {
     "data": {
      "text/plain": [
       "Index(['90CL_crossing', 'best_fit_converged', 'best_fit_covar',\n",
       "       'best_fit_errors', 'best_fit_iterations', 'best_fit_nll',\n",
       "       'best_fit_parameters', 'fixed_fit_acc_covar', 'fixed_fit_converged',\n",
       "       'fixed_fit_errors', 'fixed_fit_parameters', 'input_parameters',\n",
       "       'lambda', 'num_iterations', 'num_signal', '90CL_crossing_EXACT'],\n",
       "      dtype='object')"
      ]
     },
     "execution_count": 17,
     "metadata": {},
     "output_type": "execute_result"
    }
   ],
   "source": [
    "dfdict['1000kg'].columns"
   ]
  },
  {
   "cell_type": "code",
   "execution_count": 21,
   "metadata": {},
   "outputs": [
    {
     "name": "stdout",
     "output_type": "stream",
     "text": [
      "Running 1000kg\n",
      "---> Convergence fraction: 1.0\n",
      "Running 1500kg\n",
      "---> Convergence fraction: 1.0\n",
      "Running 2000kg\n",
      "---> Convergence fraction: 1.0\n",
      "Running 2500kg\n",
      "---> Convergence fraction: 0.999\n"
     ]
    }
   ],
   "source": [
    "# Get the median values of lambda\n",
    "\n",
    "maskdict = dict()\n",
    "\n",
    "for key, df in dfdict.items():\n",
    "    print('Running {}'.format(key))\n",
    "    \n",
    "    good_fit_mask = []\n",
    "    \n",
    "    for index,row in df.iterrows():\n",
    "        if np.sum(row['fixed_fit_acc_covar']) < len(row['fixed_fit_acc_covar'])-2 \\\n",
    "            or np.sum(row['fixed_fit_converged']) < len(row['fixed_fit_converged'])-2 \\\n",
    "            or not row['best_fit_covar'] \\\n",
    "            or not row['best_fit_converged'] \\\n",
    "            or row['90CL_crossing'] < 0.01\\\n",
    "            or np.min(row['lambda']) < -0.1\\\n",
    "            or row['best_fit_nll']>5.:\n",
    "            good_fit_mask.append(False)\n",
    "        else:\n",
    "            good_fit_mask.append(True)\n",
    "            \n",
    "    maskdict[key] = np.array(good_fit_mask)\n",
    "    print('---> Convergence fraction: {:3.3}'.format(np.sum(maskdict[key])/len(maskdict[key])))\n",
    "            \n",
    "    "
   ]
  },
  {
   "cell_type": "code",
   "execution_count": 22,
   "metadata": {},
   "outputs": [
    {
     "name": "stdout",
     "output_type": "stream",
     "text": [
      "Running 1000kg\n",
      "---> Median 90%CL on signal counts: 2.7402740274027404\n",
      "Running 1500kg\n",
      "---> Median 90%CL on signal counts: 3.4603460346034605\n",
      "Running 2000kg\n",
      "---> Median 90%CL on signal counts: 4.2004200420042\n",
      "Running 2500kg\n",
      "---> Median 90%CL on signal counts: 5.140514051405141\n"
     ]
    },
    {
     "data": {
      "image/png": "[encoded data removed]",
      "text/plain": [
       "<Figure size 720x576 with 1 Axes>"
      ]
     },
     "metadata": {
      "needs_background": "light"
     },
     "output_type": "display_data"
    }
   ],
   "source": [
    "histdict = dict()\n",
    "mediandict = dict()\n",
    "\n",
    "for key, df in dfdict.items():\n",
    "    print('Running {}'.format(key))\n",
    "    histdict[key] = hl.hist(dfdict[key]['90CL_crossing_EXACT'].loc[maskdict[key]], bins=np.linspace(0.,60.,61))\n",
    "    \n",
    "    mediandict[key] = np.median(dfdict[key]['90CL_crossing_EXACT'].loc[maskdict[key]])  \n",
    "\n",
    "#     histdict[key] = hl.hist(dfdict[key]['90CL_crossing_EXACT'].loc[maskdict[key]], bins=np.linspace(0.,60.,61))\n",
    "    \n",
    "#     mediandict[key] = np.median(dfdict[key]['90CL_crossing_EXACT'].loc[maskdict[key]])\n",
    "    \n",
    "    print('---> Median 90%CL on signal counts: {}'.format(mediandict[key]))\n",
    "    \n",
    "    hl.plot1d(histdict[key],label=key,linewidth=3)\n",
    "\n",
    "    \n",
    "plt.legend()\n",
    "plt.xlabel('90% CL on signal counts for given toy')\n",
    "plt.yscale('log')"
   ]
  },
  {
   "cell_type": "code",
   "execution_count": 29,
   "metadata": {},
   "outputs": [],
   "source": [
    "def ComputeHalflifeFromNumCounts( counts, fiducial_mass_kg ):\n",
    "    \n",
    "    # Returns the half life which would give (on average) the input number of signal counts\n",
    "    \n",
    "    N_A = 6.02e23 # atoms/mol\n",
    "    FidMass = fiducial_mass_kg # kg\n",
    "    AtomicMass = 135.8 # g/mol\n",
    "    EnrichmentFraction = 0.9\n",
    "    SigEfficiency = 0.96\n",
    "    Livetime = 10 # years\n",
    "    \n",
    "    return FidMass*1.e3 / AtomicMass * N_A * EnrichmentFraction * Livetime * \\\n",
    "            SigEfficiency * np.log(2) / counts"
   ]
  },
  {
   "cell_type": "code",
   "execution_count": 30,
   "metadata": {},
   "outputs": [],
   "source": [
    "xvals = []\n",
    "yvals = []\n",
    "\n",
    "for key,median in mediandict.items():\n",
    "    mass = float(key[:-2])\n",
    "    xvals.append(mass)\n",
    "    yvals.append(ComputeHalflifeFromNumCounts(median,mass))\n",
    "    \n",
    "xvals.append(3281)\n",
    "yvals.append(1.32e28)"
   ]
  },
  {
   "cell_type": "code",
   "execution_count": 31,
   "metadata": {},
   "outputs": [
    {
     "data": {
      "text/plain": [
       "[<matplotlib.lines.Line2D at 0x2aab44e05438>]"
      ]
     },
     "execution_count": 31,
     "metadata": {},
     "output_type": "execute_result"
    },
    {
     "data": {
      "image/png": "[encoded data removed]",
      "text/plain": [
       "<Figure size 720x576 with 1 Axes>"
      ]
     },
     "metadata": {
      "needs_background": "light"
     },
     "output_type": "display_data"
    }
   ],
   "source": [
    "plt.plot(xvals,yvals,'-b')"
   ]
  },
  {
   "cell_type": "code",
   "execution_count": 34,
   "metadata": {},
   "outputs": [],
   "source": [
    "output_array = np.vstack((np.array(xvals),np.array(yvals)))\n",
    "\n",
    "np.savetxt('../PaperPlots/SensitivityVsFiducialVolume.txt',np.transpose(output_array))"
   ]
  },
  {
   "cell_type": "code",
   "execution_count": null,
   "metadata": {},
   "outputs": [],
   "source": []
  }
 ],
 "metadata": {
  "kernelspec": {
   "display_name": "localpythonpackages",
   "language": "python",
   "name": "localpythonpackages"
  },
  "language_info": {
   "codemirror_mode": {
    "name": "ipython",
    "version": 3
   },
   "file_extension": ".py",
   "mimetype": "text/x-python",
   "name": "python",
   "nbconvert_exporter": "python",
   "pygments_lexer": "ipython3",
   "version": "3.7.2"
  }
 },
 "nbformat": 4,
 "nbformat_minor": 4
}
