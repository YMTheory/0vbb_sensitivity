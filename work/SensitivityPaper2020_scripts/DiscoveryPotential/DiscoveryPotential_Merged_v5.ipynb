{
 "cells": [
  {
   "cell_type": "markdown",
   "metadata": {},
   "source": [
    "# Import and Setup"
   ]
  },
  {
   "cell_type": "code",
   "execution_count": 1,
   "metadata": {},
   "outputs": [
    {
     "data": {
      "text/html": [
       "<style>.container { width:90% !important; }</style>"
      ],
      "text/plain": [
       "<IPython.core.display.HTML object>"
      ]
     },
     "metadata": {},
     "output_type": "display_data"
    }
   ],
   "source": [
    "from IPython.core.display import display, HTML\n",
    "display(HTML(\"<style>.container { width:90% !important; }</style>\"))"
   ]
  },
  {
   "cell_type": "code",
   "execution_count": 2,
   "metadata": {},
   "outputs": [
    {
     "name": "stdout",
     "output_type": "stream",
     "text": [
      "/p/lustre1/jamil1/sensitivity/work/SensitivityPaper2020_scripts/DiscoveryPotential\r\n"
     ]
    }
   ],
   "source": [
    "import sys\n",
    "!pwd\n",
    "sys.path.append('/g/g99/jamil1/lustre1/sensitivity/modules')"
   ]
  },
  {
   "cell_type": "markdown",
   "metadata": {},
   "source": [
    "Import useful libraries for analysis"
   ]
  },
  {
   "cell_type": "code",
   "execution_count": 3,
   "metadata": {},
   "outputs": [],
   "source": [
    "import pandas as pd\n",
    "import histlite as hl\n",
    "import numpy as np\n",
    "from matplotlib import pyplot as plt\n",
    "import matplotlib.patches as mpatches\n",
    "params = {'font.size':16,'font.family':'serif'}\n",
    "plt.rcParams.update(params) \n",
    "import os\n",
    "\n",
    "plt.rcParams.update({'font.size': 18})\n",
    "plt.rcParams['figure.figsize'] = (10,8)\n",
    "\n",
    "from cycler import cycler\n",
    "plt.rcParams['axes.prop_cycle'] = cycler(color='bgrcmyk')"
   ]
  },
  {
   "cell_type": "markdown",
   "metadata": {},
   "source": [
    "Import the nEXO sensitivity classes"
   ]
  },
  {
   "cell_type": "code",
   "execution_count": 4,
   "metadata": {},
   "outputs": [],
   "source": [
    "import nEXOFitWorkspace\n",
    "import nEXOFitModel\n",
    "import nEXOFitLikelihood"
   ]
  },
  {
   "cell_type": "markdown",
   "metadata": {},
   "source": [
    "Useful functions"
   ]
  },
  {
   "cell_type": "code",
   "execution_count": 5,
   "metadata": {},
   "outputs": [],
   "source": [
    "from decimal import Decimal\n",
    "\n",
    "def ProgressBar(count, total, phrase):\n",
    "    barLength = 15 # Modify this to change the length of the progress bar\n",
    "    status = '%d/%d' % (count+1, total)\n",
    "    progress = (count+1)/float(total)\n",
    "    if isinstance(progress, int):\n",
    "        progress = float(progress)\n",
    "    if not isinstance(progress, float):\n",
    "        progress = 0\n",
    "        status = \"error: progress var must be float\\r\\n\"\n",
    "    if progress < 0:\n",
    "        progress = 0\n",
    "        status = \"Halt...\\r\\n\"\n",
    "    if count == total-1:\n",
    "        progress = 1\n",
    "        status = status+\"           \\n\"\n",
    "    block = int(round(barLength*progress))\n",
    "    text = '\\r%-*s [%s] %-*s %s' % (47,phrase,\"#\"*block+\"-\"*(barLength-block),8,'%.2f%%'%Decimal(progress*100),status)\n",
    "    sys.stdout.write(text)\n",
    "    sys.stdout.flush()"
   ]
  },
  {
   "cell_type": "code",
   "execution_count": 6,
   "metadata": {},
   "outputs": [],
   "source": [
    "import re\n",
    "\n",
    "def natural_sort(l): \n",
    "    convert = lambda text: int(text) if text.isdigit() else text.lower() \n",
    "    alphanum_key = lambda key: [ convert(c) for c in re.split('([0-9]+)', key) ] \n",
    "    return sorted(l, key = alphanum_key)"
   ]
  },
  {
   "cell_type": "code",
   "execution_count": 7,
   "metadata": {},
   "outputs": [],
   "source": [
    "mmass_xe136 = 135.907214 # in g/mol \n",
    "mmass_xe134 = 133.905393 # in g/mol \n",
    "Avogadro = 6.022E23 # in 1/mol\n",
    "bb0n_eff = 0.963\n",
    "XeMass_fiducial = 3281.0 # in kg\n",
    "frac_136 = 0.9\n",
    "frac_134 = 0.1\n",
    "\n",
    "def GetLivetime(Num, Livetime):\n",
    "    print(Num,Livetime)\n",
    "    return bb0n_eff * XeMass_fiducial*1000.0 * (frac_136/mmass_xe136 + frac_134/mmass_xe134) * Avogadro * Livetime * np.log(2.0) / Num"
   ]
  },
  {
   "cell_type": "markdown",
   "metadata": {},
   "source": [
    "# Data Read-In"
   ]
  },
  {
   "cell_type": "code",
   "execution_count": 8,
   "metadata": {},
   "outputs": [
    {
     "name": "stdout",
     "output_type": "stream",
     "text": [
      "Number of files 4000\n"
     ]
    }
   ],
   "source": [
    "OutputDir = '/g/g99/jamil1/lustre1/sensitivity/work/SensitivityPaper2020_scripts/DiscoveryPotential/Data/version1/h5/'\n",
    "\n",
    "AllFiles = os.listdir(OutputDir)\n",
    "H5Files = [filename for filename in AllFiles if filename.endswith('.h5')]\n",
    "print('Number of files {}'.format(len(H5Files)))\n"
   ]
  },
  {
   "cell_type": "code",
   "execution_count": 9,
   "metadata": {},
   "outputs": [
    {
     "name": "stdout",
     "output_type": "stream",
     "text": [
      "['DiscoveryPotential_bb0n_0ct_10.0yrs', 'DiscoveryPotential_bb0n_7ct_10.0yrs', 'DiscoveryPotential_bb0n_12ct_10.0yrs', 'DiscoveryPotential_bb0n_18ct_10.0yrs', 'DiscoveryPotential_bb0n_20ct_10.0yrs', 'DiscoveryPotential_bb0n_22ct_10.0yrs', 'DiscoveryPotential_bb0n_25ct_10.0yrs']\n"
     ]
    }
   ],
   "source": [
    "Livetimes = [1.0,5.0,10.0]\n",
    "Livetimes = [10.0]\n",
    "\n",
    "Tags = {}\n",
    "for Livetime in Livetimes: \n",
    "    Tags[Livetime] = natural_sort(np.unique(['_'.join(x.split('_')[:3])+'_%.1fyrs' % Livetime for x in H5Files if '%.1fyrs' % Livetime in x]))\n",
    "    print(Tags[Livetime])"
   ]
  },
  {
   "cell_type": "code",
   "execution_count": 10,
   "metadata": {},
   "outputs": [
    {
     "name": "stdout",
     "output_type": "stream",
     "text": [
      "Loading data for DiscoveryPotential_bb0n_0ct_10.0yrs\n",
      "Number of file for DiscoveryPotential_bb0n_0ct_10.0yrs: 1000\n",
      "Loading data for DiscoveryPotential_bb0n_7ct_10.0yrs\n",
      "Number of file for DiscoveryPotential_bb0n_7ct_10.0yrs: 500\n",
      "Loading data for DiscoveryPotential_bb0n_12ct_10.0yrs\n",
      "Number of file for DiscoveryPotential_bb0n_12ct_10.0yrs: 500\n",
      "Loading data for DiscoveryPotential_bb0n_18ct_10.0yrs\n",
      "Number of file for DiscoveryPotential_bb0n_18ct_10.0yrs: 500\n",
      "Loading data for DiscoveryPotential_bb0n_20ct_10.0yrs\n",
      "Number of file for DiscoveryPotential_bb0n_20ct_10.0yrs: 500\n",
      "Loading data for DiscoveryPotential_bb0n_22ct_10.0yrs\n",
      "Number of file for DiscoveryPotential_bb0n_22ct_10.0yrs: 500\n",
      "Loading data for DiscoveryPotential_bb0n_25ct_10.0yrs\n",
      "Number of file for DiscoveryPotential_bb0n_25ct_10.0yrs: 500\n"
     ]
    }
   ],
   "source": [
    "dfdict = {}\n",
    "\n",
    "for Livetime in Livetimes: \n",
    "    dfdict[Livetime] = {}\n",
    "    for category in Tags[Livetime]:\n",
    "        print('Loading data for {}'.format(category))\n",
    "        df_list = [pd.read_hdf(OutputDir+filename) for filename in H5Files if category in filename]\n",
    "        dfdict[Livetime][category] = pd.concat(df_list,ignore_index=True)\n",
    "        print('Number of file for {}: {}'.format(category, len(df_list)))"
   ]
  },
  {
   "cell_type": "markdown",
   "metadata": {},
   "source": [
    "# Selection Cut\n",
    "Prevent datasets from entering the distribution of test statistics for which either one of the hypothesis test fits with a fixed number of bb0n counts or the global best fit did not converge"
   ]
  },
  {
   "cell_type": "code",
   "execution_count": 11,
   "metadata": {
    "scrolled": false
   },
   "outputs": [
    {
     "name": "stdout",
     "output_type": "stream",
     "text": [
      "Running DiscoveryPotential_bb0n_0ct_10.0yrs\n",
      "0.19%\n",
      "---> Convergence fraction: 0.9981\n",
      "Running DiscoveryPotential_bb0n_7ct_10.0yrs\n",
      "0.23%\n",
      "---> Convergence fraction: 0.9977\n",
      "Running DiscoveryPotential_bb0n_12ct_10.0yrs\n",
      "0.20%\n",
      "---> Convergence fraction: 0.998\n",
      "Running DiscoveryPotential_bb0n_18ct_10.0yrs\n",
      "0.22%\n",
      "---> Convergence fraction: 0.9978\n",
      "Running DiscoveryPotential_bb0n_20ct_10.0yrs\n",
      "0.12%\n",
      "---> Convergence fraction: 0.9988\n",
      "Running DiscoveryPotential_bb0n_22ct_10.0yrs\n",
      "0.13%\n",
      "---> Convergence fraction: 0.9987\n",
      "Running DiscoveryPotential_bb0n_25ct_10.0yrs\n",
      "0.18%\n",
      "---> Convergence fraction: 0.9982\n"
     ]
    }
   ],
   "source": [
    "maskdict = {}\n",
    "\n",
    "\n",
    "for Livetime in Livetimes: \n",
    "    maskdict[Livetime] = {} \n",
    "    for key, df in dfdict[Livetime].items():\n",
    "        print('Running {}'.format(key))\n",
    "        good_fit_mask = []\n",
    "        counts = 0\n",
    "        for index,row in df.iterrows():\n",
    "            if np.sum(row['fixed_fit_acc_covar']) < len(row['fixed_fit_acc_covar'])-1 or not row['best_fit_covar'] or not row['best_fit_converged'] or np.min(row['lambda']) < -0.1:\n",
    "#             if np.sum(row['fixed_fit_acc_covar']) < len(row['fixed_fit_acc_covar'])-1 or not row['best_fit_covar'] or not row['best_fit_converged']:\n",
    "                counts += 1\n",
    "                good_fit_mask.append(False)\n",
    "            else:\n",
    "                good_fit_mask.append(True)\n",
    "\n",
    "        maskdict[Livetime][key] = np.array(good_fit_mask)\n",
    "        print(\"%.2f%%\" % (counts/len(maskdict[Livetime][key])*100.0))\n",
    "        print('---> Convergence fraction: {:3.4}'.format(np.sum(maskdict[Livetime][key])/len(maskdict[Livetime][key])))     "
   ]
  },
  {
   "cell_type": "markdown",
   "metadata": {},
   "source": [
    "# Analysis"
   ]
  },
  {
   "cell_type": "code",
   "execution_count": 12,
   "metadata": {
    "scrolled": false
   },
   "outputs": [
    {
     "name": "stdout",
     "output_type": "stream",
     "text": [
      "Running DiscoveryPotential_bb0n_0ct_10.0yrs\n",
      "Running DiscoveryPotential_bb0n_7ct_10.0yrs\n",
      "Running DiscoveryPotential_bb0n_12ct_10.0yrs\n",
      "Running DiscoveryPotential_bb0n_18ct_10.0yrs\n",
      "Running DiscoveryPotential_bb0n_20ct_10.0yrs\n",
      "Running DiscoveryPotential_bb0n_22ct_10.0yrs\n",
      "Running DiscoveryPotential_bb0n_25ct_10.0yrs\n"
     ]
    }
   ],
   "source": [
    "DeltaNLL = {}\n",
    "\n",
    "for Livetime in Livetimes: \n",
    "    DeltaNLL[Livetime] = {} \n",
    "\n",
    "    for key, df in dfdict[Livetime].items():\n",
    "        print('Running {}'.format(key))\n",
    "        DeltaNLL[Livetime][key] = []\n",
    "\n",
    "#         fig, ax  = plt.subplots(figsize=(8,6))\n",
    "        indeces = np.array(dfdict[Livetime][key]['lambda'].loc[maskdict[Livetime][key]].index)\n",
    "        for ii,x in enumerate(dfdict[Livetime][key]['lambda'].loc[maskdict[Livetime][key]]): \n",
    "#             ProgressBar(ii,len(dfdict[Livetime][key]['lambda'].loc[maskdict[Livetime][key]]),'going through toy datasets')\n",
    "            DeltaNLL[Livetime][key].append(x[0])\n",
    "#             if ii<1000:\n",
    "#                 if np.abs(x[0]-np.min(x)) < 0.01: \n",
    "#                     plt.plot(dfdict[Livetime][key]['num_signal'].loc[maskdict[Livetime][key]][indeces[ii]], x, label='toy %d' % ii, lw=0.3, color='k')\n",
    "#                 else:\n",
    "#                     plt.plot(dfdict[Livetime][key]['num_signal'].loc[maskdict[Livetime][key]][indeces[ii]], x, label='toy %d' % ii, lw=0.3, color='r')\n",
    "\n",
    "\n",
    "#         ax.set_xlabel(r'Number of $0\\nu\\beta\\beta$ events', fontsize=16)\n",
    "#         ax.set_ylabel(r'Test statistics, $\\lambda = -2\\Delta\\mathrm{NLL}$', fontsize=16)\n",
    "#         ax.set_xlim(0, np.max(dfdict[Livetime][key]['num_signal'].loc[maskdict[Livetime][key]][indeces[ii]]))\n",
    "#         ax.set_ylim(0,20)\n",
    "#         red_patch = mpatches.Patch(color='red', label=r'Agreement with $0\\nu\\beta\\beta>0$ ')\n",
    "#         black_patch = mpatches.Patch(color='k', label=r'Agreement with $0\\nu\\beta\\beta=0$ ')\n",
    "#         ax.legend(handles=[red_patch, black_patch], fontsize=12, loc='upper left')\n",
    "#         plt.savefig('profile_likelihood_%dyrs_%s.pdf' % (Livetime,key), bbox_inches='tight')\n",
    "#         plt.close()"
   ]
  },
  {
   "cell_type": "code",
   "execution_count": 13,
   "metadata": {},
   "outputs": [],
   "source": [
    "zvals = 1 - np.array([0.158655, 0.02275, 0.00135])"
   ]
  },
  {
   "cell_type": "code",
   "execution_count": 14,
   "metadata": {},
   "outputs": [],
   "source": [
    "for Livetime in Livetimes: \n",
    "    for key in DeltaNLL[Livetime].keys():  \n",
    "        DeltaNLL[Livetime][key] = np.array(DeltaNLL[Livetime][key])/2.0"
   ]
  },
  {
   "cell_type": "code",
   "execution_count": 17,
   "metadata": {},
   "outputs": [],
   "source": [
    "colors = ['blue', 'red', 'green', 'orange', 'violet','magenta']"
   ]
  },
  {
   "cell_type": "code",
   "execution_count": 18,
   "metadata": {
    "scrolled": false
   },
   "outputs": [
    {
     "name": "stdout",
     "output_type": "stream",
     "text": [
      "0 DiscoveryPotential_bb0n_7ct_10.0yrs\n",
      "1 DiscoveryPotential_bb0n_12ct_10.0yrs\n",
      "2 DiscoveryPotential_bb0n_18ct_10.0yrs\n",
      "3 DiscoveryPotential_bb0n_20ct_10.0yrs\n",
      "4 DiscoveryPotential_bb0n_22ct_10.0yrs\n",
      "5 DiscoveryPotential_bb0n_25ct_10.0yrs\n"
     ]
    },
    {
     "name": "stderr",
     "output_type": "stream",
     "text": [
      "/g/g99/jamil1/local/toss_3_x86_64/lib/python3.7/site-packages/numpy/ma/core.py:6717: RuntimeWarning: overflow encountered in power\n",
      "  result = np.where(m, fa, umath.power(fa, fb)).view(basetype)\n"
     ]
    },
    {
     "data": {
      "image/png": "[encoded data removed]",
      "text/plain": [
       "<Figure size 576x432 with 1 Axes>"
      ]
     },
     "metadata": {
      "needs_background": "light"
     },
     "output_type": "display_data"
    }
   ],
   "source": [
    "from scipy.stats import chi2\n",
    "import scipy.stats as st\n",
    "\n",
    "\n",
    "\n",
    "hist = {}\n",
    "medians = {}\n",
    "for Livetime in Livetimes:\n",
    "    fig = plt.figure(figsize=(8,6))\n",
    "    \n",
    "    label = [x[len('DiscoveryPotential_bb0n_'):x.find('ct_')] for x in list(DeltaNLL[Livetime].keys())][1:] # get number of counts from tag name\n",
    "    FoundNull = np.char.find(list(DeltaNLL[Livetime].keys()), '_0ct_')\n",
    "    NullIndex = np.where(FoundNull > 0)[0][0]\n",
    "    NullSet = list(DeltaNLL[Livetime].keys())[NullIndex]\n",
    "    \n",
    "    hist[NullSet] = plt.hist(np.abs(DeltaNLL[Livetime][NullSet]), \n",
    "                                                         bins=np.linspace(0,100,1000), \n",
    "                                                         label=r'No $0\\nu\\beta\\beta$', \n",
    "                                                         histtype='stepfilled', \n",
    "                                                         color='grey', \n",
    "                                                         alpha=0.5)\n",
    "\n",
    "    medians[Livetime] = []\n",
    "    for ii,key in enumerate(list(DeltaNLL[Livetime].keys())[1:]):\n",
    "        print(ii,key)\n",
    "        hist[key] = plt.hist(np.abs(DeltaNLL[Livetime][key]), \n",
    "                             bins=np.linspace(0,100,1000), \n",
    "                             label=r'Number of $0\\nu\\beta\\beta$ events = %s' % label[ii], \n",
    "                             histtype='step', \n",
    "                             color=colors[ii])\n",
    "        plt.axvline(x=np.median(sorted(np.abs(DeltaNLL[Livetime][key]))), ymin=0, ymax=1000, ls='-', color=colors[ii])\n",
    "        medians[Livetime].append(np.median(sorted(np.abs(DeltaNLL[Livetime][key]))))\n",
    "\n",
    "    xmax = 10\n",
    "    plt.xlim(0,xmax)\n",
    "    plt.xticks(np.arange(0,xmax+0.1,xmax/10.0))\n",
    "    plt.yscale('log')\n",
    "    plt.xlabel(r'Significance of $0\\nu\\beta\\beta$ signal, $\\Delta$NNL', fontsize=16)\n",
    "    plt.ylabel('Counts/bin', fontsize=16)\n",
    "    plt.legend(loc='upper right', fontsize=10)\n",
    "\n",
    "    for ii,zval in enumerate(zvals):  \n",
    "        index = int(st.norm.cdf(ii+1)*len(np.abs(DeltaNLL[Livetime][NullSet])))\n",
    "        xpos = sorted(np.abs(DeltaNLL[Livetime][NullSet]))[index]\n",
    "        plt.axvline(x=xpos, ymin=0, ymax=1000, ls='--', color='grey')\n",
    "        plt.text(xpos+0.1, np.max(hist[NullSet][0])*0.3,r'%d $\\sigma$' % (ii+1),rotation=90, color='grey')\n",
    "\n",
    "    # Significance assuming Wilks' theorem for sigma > 3\n",
    "    # see slide 11 in https://indico.cern.ch/event/162087/contributions/235303/attachments/189340/265790/cowan_cargese_2.pdf\n",
    "    for sigma in [4]:\n",
    "        plt.axvline(x=sigma**2/2.0, ymin=0, ymax=1000, ls='--', color='grey')\n",
    "        plt.text(sigma**2/2.0+0.1, np.max(hist[NullSet][0])*0.3,r'%d $\\sigma$' % (sigma),rotation=90, color='grey')\n",
    "\n",
    "\n",
    "    plt.savefig('null_hypothesis_%dyrs.pdf' % Livetime, bbox_inches='tight')"
   ]
  },
  {
   "cell_type": "code",
   "execution_count": 19,
   "metadata": {},
   "outputs": [
    {
     "name": "stdout",
     "output_type": "stream",
     "text": [
      "DiscoveryPotential_bb0n_7ct_10.0yrs 5.970045424863457e-05 17976 0.9005109708446047 1.2844685575996437 0.9975533680188174\n",
      "DiscoveryPotential_bb0n_12ct_10.0yrs 8.316303022626315e-05 19551 0.9794108806732792 2.0417308318337835 1.7501326480445585\n",
      "DiscoveryPotential_bb0n_18ct_10.0yrs 0.012810877251566488 19919 0.9978459072237251 2.8546678794730127 2.5596526673436766\n",
      "DiscoveryPotential_bb0n_20ct_10.0yrs 0.0016163690636918915 19950 0.9993988578298768 3.238337632390029 2.8518908383919723\n",
      "DiscoveryPotential_bb0n_22ct_10.0yrs 0.047378751459390855 19958 0.9997996192766256 3.5395818673143498 3.062334566458394\n",
      "DiscoveryPotential_bb0n_25ct_10.0yrs 0.514031524277331 19961 0.9999499048191564 3.8901304165394506 3.425126359292005\n",
      "18.765765765765764\n",
      "18.765765765765764 10.0\n",
      "5.178913927688243e+27\n"
     ]
    }
   ],
   "source": [
    "import scipy.stats as st\n",
    "\n",
    "sigma = {}\n",
    "Cut = {}\n",
    "XInterp = {}\n",
    "Interpolation = {}\n",
    "\n",
    "for Livetime in Livetimes:\n",
    "    label = [x[len('DiscoveryPotential_bb0n_'):x.find('ct_')] for x in list(DeltaNLL[Livetime].keys())][1:] # get number of counts from tag name\n",
    "    FoundNull = np.char.find(list(DeltaNLL[Livetime].keys()), '_0ct_')\n",
    "    NullIndex = np.where(FoundNull > 0)[0][0]\n",
    "    NullSet = list(DeltaNLL[Livetime].keys())[NullIndex]\n",
    "    \n",
    "    sorted_nll = sorted(np.abs(DeltaNLL[Livetime][NullSet]))\n",
    "    sigma[Livetime] = []\n",
    "    for ii,key in enumerate(list(DeltaNLL[Livetime].keys())[1:]):\n",
    "        diff_abs = np.abs(sorted_nll - medians[Livetime][ii])\n",
    "        nll_val = np.min(diff_abs)\n",
    "        cut = np.where(diff_abs == nll_val)[0][0]\n",
    "        print(key, nll_val, cut, cut/len(sorted_nll), st.norm.ppf(cut/len(sorted_nll)), np.sqrt(2*medians[Livetime][ii]))\n",
    "\n",
    "        sigma[Livetime].append(st.norm.ppf(cut/len(sorted_nll)))\n",
    "    \n",
    "    \n",
    "    XInterp[Livetime] = np.linspace(int(label[0]),int(label[-1]),1000)\n",
    "    Interpolation[Livetime] = np.interp(XInterp[Livetime], np.array(label).astype(int), sigma[Livetime])\n",
    "    Diff = np.abs(Interpolation[Livetime] - 3.0)\n",
    "    Cut[Livetime] = np.where(Diff == np.min(Diff))[0][0]\n",
    "    print(XInterp[Livetime][Cut[Livetime]])\n",
    "    print(GetLivetime(XInterp[Livetime][Cut[Livetime]], Livetime))"
   ]
  },
  {
   "cell_type": "code",
   "execution_count": 20,
   "metadata": {},
   "outputs": [
    {
     "data": {
      "image/png": "[encoded data removed]",
      "text/plain": [
       "<Figure size 576x432 with 1 Axes>"
      ]
     },
     "metadata": {
      "needs_background": "light"
     },
     "output_type": "display_data"
    }
   ],
   "source": [
    "for Livetime in Livetimes:\n",
    "    label = [x[len('DiscoveryPotential_bb0n_'):x.find('ct_')] for x in list(DeltaNLL[Livetime].keys())][1:] # get number of counts from tag name\n",
    "    \n",
    "#     print(XInterp[Livetime])\n",
    "    fig = plt.figure(figsize=(8,6))\n",
    "    plt.plot(XInterp[Livetime], Interpolation[Livetime], label='%d yrs livetime' % Livetime, ls='--', color='k')\n",
    "    plt.scatter(np.array(label).astype(int), sigma[Livetime], color='k')\n",
    "    plt.axhline(3, color='r', ls=':')\n",
    "    plt.axvline(XInterp[Livetime][Cut[Livetime]], color='r', ls=':')\n",
    "\n",
    "    plt.xlim(0,30)\n",
    "    plt.ylim(0,4)\n",
    "    plt.xlabel(r'Number of $0\\nu\\beta\\beta$ events', fontsize=16)\n",
    "    plt.ylabel(r'Significance $\\sigma$ ', fontsize=16)\n",
    "    plt.legend(loc='upper left', fontsize=10)\n",
    "    plt.savefig('sigma_vs_bb0n_%dyrs.pdf' % Livetime, bbox_inches='tight')"
   ]
  },
  {
   "cell_type": "code",
   "execution_count": null,
   "metadata": {},
   "outputs": [],
   "source": []
  }
 ],
 "metadata": {
  "kernelspec": {
   "display_name": "sensitivity",
   "language": "python",
   "name": "sensitivity"
  },
  "language_info": {
   "codemirror_mode": {
    "name": "ipython",
    "version": 3
   },
   "file_extension": ".py",
   "mimetype": "text/x-python",
   "name": "python",
   "nbconvert_exporter": "python",
   "pygments_lexer": "ipython3",
   "version": "3.7.2"
  }
 },
 "nbformat": 4,
 "nbformat_minor": 4
}
