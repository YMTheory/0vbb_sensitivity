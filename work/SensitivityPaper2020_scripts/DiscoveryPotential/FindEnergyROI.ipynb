{
 "cells": [
  {
   "cell_type": "code",
   "execution_count": 1,
   "metadata": {},
   "outputs": [
    {
     "data": {
      "text/html": [
       "<style>.container { width:95% !important; }</style>"
      ],
      "text/plain": [
       "<IPython.core.display.HTML object>"
      ]
     },
     "metadata": {},
     "output_type": "display_data"
    }
   ],
   "source": [
    "from IPython.core.display import display, HTML\n",
    "display(HTML(\"<style>.container { width:95% !important; }</style>\"))"
   ]
  },
  {
   "cell_type": "code",
   "execution_count": 2,
   "metadata": {},
   "outputs": [
    {
     "name": "stdout",
     "output_type": "stream",
     "text": [
      "Welcome to JupyROOT 6.22/02\n"
     ]
    }
   ],
   "source": [
    "import matplotlib.pyplot as plt\n",
    "import ROOT\n",
    "import numpy as np\n",
    "from scipy.optimize import curve_fit\n",
    "import root_numpy as rnp\n",
    "from mpl_toolkits.axes_grid1 import make_axes_locatable\n",
    "from matplotlib.colors import LogNorm\n",
    "import uproot # uproot examples: https://indico.cern.ch/event/686641/contributions/2894906/attachments/1606247/2548596/pivarski-uproot.pdf"
   ]
  },
  {
   "cell_type": "code",
   "execution_count": 3,
   "metadata": {},
   "outputs": [],
   "source": [
    "def GetCut(tree):\n",
    "    cut = np.where((tree['passed_xy_thresh'].array() == True) \\\n",
    "               & (tree['passed_z_thresh'].array() == True) \\\n",
    "               & (tree['n_x_ch_abovenoise'].array() > 0) \\\n",
    "               & (tree['n_y_ch_abovenoise'].array() > 0) \\\n",
    "               & (tree['m_nOPCal'].array() < (1.077*tree['m_nQ'].array()+313)) \\\n",
    "               & (tree['m_nOPCal'].array() > (0.597*tree['m_nQ'].array()-216)) \\\n",
    "               & (tree['standoff'].array() > 0) \\\n",
    "               & (tree['m_DNNvalue'].array() > 0.0) \\\n",
    "               & (tree['energy'].array() > 700) \\\n",
    "               & (tree['energy'].array() < 3500) \\\n",
    "              )\n",
    "    return cut         "
   ]
  },
  {
   "cell_type": "code",
   "execution_count": 4,
   "metadata": {},
   "outputs": [],
   "source": [
    "def gaus(x,a,x0,sigma):\n",
    "    return a*np.exp(-(x-x0)**2/(2*sigma**2))"
   ]
  },
  {
   "cell_type": "code",
   "execution_count": 5,
   "metadata": {},
   "outputs": [],
   "source": [
    "File = \"/p/vast1/nexo/data/merged-v4/Baseline2019_%s_%s.root\""
   ]
  },
  {
   "cell_type": "code",
   "execution_count": 6,
   "metadata": {},
   "outputs": [],
   "source": [
    "bb0n = uproot.open(\"/p/vast1/nexo/data/merged-v4/Baseline2019_%s_%s.root\" % ('bb0n', 'FullLXe'))['tree']"
   ]
  },
  {
   "cell_type": "code",
   "execution_count": 7,
   "metadata": {},
   "outputs": [],
   "source": [
    "bb0n_cut = GetCut(bb0n)"
   ]
  },
  {
   "cell_type": "code",
   "execution_count": 8,
   "metadata": {},
   "outputs": [
    {
     "data": {
      "text/plain": [
       "[b'passed_z_thresh',\n",
       " b'passed_xy_thresh',\n",
       " b'n_x_ch_abovenoise',\n",
       " b'n_y_ch_abovenoise',\n",
       " b'r_max_simple',\n",
       " b'r_max_3d',\n",
       " b'lower_z',\n",
       " b'upper_z',\n",
       " b'standoff',\n",
       " b'standoff_r',\n",
       " b'standoff_z',\n",
       " b'max_r_mctruth',\n",
       " b'lower_z_mctruth',\n",
       " b'upper_z_mctruth',\n",
       " b'standoff_mctruth',\n",
       " b'standoff_r_mctruth',\n",
       " b'standoff_z_mctruth',\n",
       " b'max_r_active_mctruth',\n",
       " b'lower_z_active_mctruth',\n",
       " b'upper_z_active_mctruth',\n",
       " b'standoff_active_mctruth',\n",
       " b'standoff_r_active_mctruth',\n",
       " b'standoff_z_active_mctruth',\n",
       " b'energy',\n",
       " b'energy_mctruth_allLXe',\n",
       " b'energy_mctruth_inTPC',\n",
       " b'm_nQ',\n",
       " b'm_nOPCal',\n",
       " b'm_nOPCollected',\n",
       " b'm_DNNvalue',\n",
       " b'NESTBugFound',\n",
       " b'ratio',\n",
       " b'weight',\n",
       " b'isotope']"
      ]
     },
     "execution_count": 8,
     "metadata": {},
     "output_type": "execute_result"
    }
   ],
   "source": [
    "bb0n.keys()"
   ]
  },
  {
   "cell_type": "code",
   "execution_count": 9,
   "metadata": {},
   "outputs": [],
   "source": [
    "h,hx = np.histogram(bb0n['energy'].array()[bb0n_cut], bins=np.linspace(700,3500,1000))"
   ]
  },
  {
   "cell_type": "code",
   "execution_count": 17,
   "metadata": {},
   "outputs": [],
   "source": [
    "Xmin = 2410.0\n",
    "Xmax = 2510.0\n",
    "cut = np.where((hx>Xmin) & (hx<Xmax))\n",
    "popt, pcov = curve_fit(gaus, hx[cut], h[cut], p0=[1E7,2458,10])"
   ]
  },
  {
   "cell_type": "code",
   "execution_count": 18,
   "metadata": {},
   "outputs": [
    {
     "name": "stdout",
     "output_type": "stream",
     "text": [
      "Energy ROI: 2456.5±19.3 = 2437.2 - 2475.7\n"
     ]
    },
    {
     "data": {
      "image/png": "[encoded data removed]",
      "text/plain": [
       "<Figure size 576x432 with 1 Axes>"
      ]
     },
     "metadata": {
      "needs_background": "light"
     },
     "output_type": "display_data"
    }
   ],
   "source": [
    "fig, ax = plt.subplots(figsize=(8, 6))\n",
    "plt.xticks(fontsize=16)\n",
    "plt.yticks(fontsize=16)\n",
    "plt.xlabel('Energy [keV]', fontsize=16)\n",
    "plt.ylabel('Counts/bin', fontsize=16)\n",
    "\n",
    "plt.step(hx[:-1],h, label='bb0n' , color='k', where='mid')\n",
    "plt.plot(np.linspace(Xmin,Xmax,500), gaus(np.linspace(Xmin,Xmax,500), *popt), lw=1.5, label = 'Fit', color='red')\n",
    "print(\"Energy ROI: %.1f±%.1f = %.1f - %.1f\" % (popt[1], popt[2], popt[1]-popt[2], popt[1]+popt[2]))\n",
    "\n",
    "plt.xlim(1000,3000)\n",
    "plt.xlim(2300,2600)\n",
    "plt.yscale('log')\n",
    "plt.legend(loc='upper left')\n",
    "fig.tight_layout()"
   ]
  },
  {
   "cell_type": "code",
   "execution_count": null,
   "metadata": {},
   "outputs": [],
   "source": []
  }
 ],
 "metadata": {
  "kernelspec": {
   "display_name": "py37",
   "language": "python",
   "name": "py37"
  },
  "language_info": {
   "codemirror_mode": {
    "name": "ipython",
    "version": 3
   },
   "file_extension": ".py",
   "mimetype": "text/x-python",
   "name": "python",
   "nbconvert_exporter": "python",
   "pygments_lexer": "ipython3",
   "version": "3.7.8"
  }
 },
 "nbformat": 4,
 "nbformat_minor": 4
}
