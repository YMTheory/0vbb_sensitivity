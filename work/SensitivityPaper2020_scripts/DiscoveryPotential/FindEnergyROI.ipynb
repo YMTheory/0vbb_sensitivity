{
 "cells": [
  {
   "cell_type": "code",
   "execution_count": 1,
   "metadata": {},
   "outputs": [
    {
     "data": {
      "text/html": [
       "<style>.container { width:95% !important; }</style>"
      ],
      "text/plain": [
       "<IPython.core.display.HTML object>"
      ]
     },
     "metadata": {},
     "output_type": "display_data"
    }
   ],
   "source": [
    "from IPython.core.display import display, HTML\n",
    "display(HTML(\"<style>.container { width:95% !important; }</style>\"))"
   ]
  },
  {
   "cell_type": "code",
   "execution_count": 2,
   "metadata": {},
   "outputs": [],
   "source": [
    "import matplotlib.pyplot as plt\n",
    "import numpy as np\n",
    "from scipy.optimize import curve_fit\n",
    "import uproot # uproot examples: https://indico.cern.ch/event/686641/contributions/2894906/attachments/1606247/2548596/pivarski-uproot.pdf"
   ]
  },
  {
   "cell_type": "code",
   "execution_count": 3,
   "metadata": {},
   "outputs": [],
   "source": [
    "def GetCut(tree):\n",
    "    cut = np.where((tree['passed_xy_thresh'].array() == True) \\\n",
    "               & (tree['passed_z_thresh'].array() == True) \\\n",
    "               & (tree['n_x_ch_abovenoise'].array() > 0) \\\n",
    "               & (tree['n_y_ch_abovenoise'].array() > 0) \\\n",
    "               & (tree['m_nOPCal'].array() < (1.077*tree['m_nQ'].array()+313)) \\\n",
    "               & (tree['m_nOPCal'].array() > (0.597*tree['m_nQ'].array()-216)) \\\n",
    "               & (tree['standoff'].array() > 0) \\\n",
    "               & (tree['m_DNNvalue'].array() > 0.85) \\\n",
    "               & (tree['energy'].array() > 700) \\\n",
    "               & (tree['energy'].array() < 3500) \\\n",
    "              )\n",
    "    return cut         "
   ]
  },
  {
   "cell_type": "code",
   "execution_count": 4,
   "metadata": {},
   "outputs": [],
   "source": [
    "def gaus(x,a,x0,sigma):\n",
    "    return a*np.exp(-(x-x0)**2/(2*sigma**2))"
   ]
  },
  {
   "cell_type": "code",
   "execution_count": 5,
   "metadata": {},
   "outputs": [],
   "source": [
    "File = \"/p/vast1/nexo/data/merged-v4/Baseline2019_%s_%s.root\""
   ]
  },
  {
   "cell_type": "code",
   "execution_count": 6,
   "metadata": {},
   "outputs": [],
   "source": [
    "bb0n = uproot.open(\"/p/vast1/nexo/data/merged-v4/Baseline2019_bb0n_FullLXe.root\")['tree']"
   ]
  },
  {
   "cell_type": "code",
   "execution_count": 7,
   "metadata": {},
   "outputs": [],
   "source": [
    "bb0n_cut = GetCut(bb0n)"
   ]
  },
  {
   "cell_type": "code",
   "execution_count": 8,
   "metadata": {},
   "outputs": [],
   "source": [
    "h,hx = np.histogram(bb0n['energy'].array()[bb0n_cut], bins=np.linspace(2000,3000,10000))"
   ]
  },
  {
   "cell_type": "code",
   "execution_count": 9,
   "metadata": {},
   "outputs": [],
   "source": [
    "Xmin = 2400.0\n",
    "Xmax = 2520.0\n",
    "cut = np.where((hx>Xmin) & (hx<Xmax))\n",
    "popt, pcov = curve_fit(gaus, hx[cut], h[cut], p0=[1E7,2458,10])"
   ]
  },
  {
   "cell_type": "code",
   "execution_count": 10,
   "metadata": {},
   "outputs": [
    {
     "data": {
      "image/png": "[encoded data removed]",
      "text/plain": [
       "<Figure size 576x432 with 1 Axes>"
      ]
     },
     "metadata": {
      "needs_background": "light"
     },
     "output_type": "display_data"
    }
   ],
   "source": [
    "fig, ax = plt.subplots(figsize=(8, 6))\n",
    "plt.xticks(fontsize=16)\n",
    "plt.yticks(fontsize=16)\n",
    "plt.xlabel('Energy [keV]', fontsize=16)\n",
    "plt.ylabel('Counts/bin', fontsize=16)\n",
    "\n",
    "plt.step(hx[:-1],h, label='bb0n' , color='k', where='mid')\n",
    "plt.plot(np.linspace(Xmin,Xmax,500), gaus(np.linspace(Xmin,Xmax,500), *popt), lw=1.5, label = r'$\\mu = %.1f, \\sigma = %.1f$' % (popt[1], popt[2]), color='red')\n",
    "\n",
    "plt.xlim(2300,2600)\n",
    "plt.yscale('log')\n",
    "plt.legend(loc='upper left')\n",
    "plt.savefig('energy_ROI_bb0n.pdf', bbox_inches='tight')"
   ]
  },
  {
   "cell_type": "code",
   "execution_count": 11,
   "metadata": {},
   "outputs": [
    {
     "name": "stdout",
     "output_type": "stream",
     "text": [
      "Amplitude: 114581.42 ± 16.47099\n",
      "Mean: 2457.87 ± 0.00319\n",
      "Sigma: 19.23 ± 0.00319\n",
      "----------\n",
      "Energy ROI in FWHM: 2457.87±45.28 = 2412.59 - 2503.14\n",
      "Energy ROI in Sigma: 2457.87±19.23 = 2438.64 - 2477.09\n"
     ]
    }
   ],
   "source": [
    "print(\"Amplitude: %.2f ± %.5f\" % (popt[0], np.sqrt(np.diag(pcov))[0]))\n",
    "print(\"Mean: %.2f ± %.5f\" % (popt[1], np.sqrt(np.diag(pcov))[1]))\n",
    "print(\"Sigma: %.2f ± %.5f\" % (popt[2], np.sqrt(np.diag(pcov))[2]))\n",
    "print(\"-\"*10)\n",
    "print(\"Energy ROI in FWHM: %.2f±%.2f = %.2f - %.2f\" % (popt[1], popt[2]*2*np.sqrt(2*np.log(2)), popt[1]-popt[2]*2*np.sqrt(2*np.log(2)), popt[1]+popt[2]*2*np.sqrt(2*np.log(2))))\n",
    "print(\"Energy ROI in Sigma: %.2f±%.2f = %.2f - %.2f\" % (popt[1], popt[2], popt[1]-popt[2], popt[1]+popt[2]))"
   ]
  },
  {
   "cell_type": "code",
   "execution_count": null,
   "metadata": {},
   "outputs": [],
   "source": []
  }
 ],
 "metadata": {
  "kernelspec": {
   "display_name": "py37",
   "language": "python",
   "name": "py37"
  },
  "language_info": {
   "codemirror_mode": {
    "name": "ipython",
    "version": 3
   },
   "file_extension": ".py",
   "mimetype": "text/x-python",
   "name": "python",
   "nbconvert_exporter": "python",
   "pygments_lexer": "ipython3",
   "version": "3.7.8"
  }
 },
 "nbformat": 4,
 "nbformat_minor": 4
}
