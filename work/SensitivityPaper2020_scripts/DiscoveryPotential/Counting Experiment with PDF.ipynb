{
 "cells": [
  {
   "cell_type": "code",
   "execution_count": 1,
   "metadata": {},
   "outputs": [
    {
     "data": {
      "text/html": [
       "<style>.container { width:95% !important; }</style>"
      ],
      "text/plain": [
       "<IPython.core.display.HTML object>"
      ]
     },
     "metadata": {},
     "output_type": "display_data"
    }
   ],
   "source": [
    "from IPython.core.display import display, HTML\n",
    "display(HTML(\"<style>.container { width:95% !important; }</style>\"))"
   ]
  },
  {
   "cell_type": "markdown",
   "metadata": {},
   "source": [
    "# Intro\n",
    "This notebook calculates the discovery potential of nEXO assuming that nEXO operates as counting experiment, i.e. how many background events vs signal events there are in the ROI instead of our standard multi-dimensional binned maximum log-likelihood fit. "
   ]
  },
  {
   "cell_type": "markdown",
   "metadata": {},
   "source": [
    "# Packages and Setup"
   ]
  },
  {
   "cell_type": "code",
   "execution_count": 2,
   "metadata": {},
   "outputs": [],
   "source": [
    "import numpy as np\n",
    "import matplotlib.pyplot as plt\n",
    "import scipy.constants as const\n",
    "import scipy.stats as st"
   ]
  },
  {
   "cell_type": "code",
   "execution_count": 3,
   "metadata": {},
   "outputs": [],
   "source": [
    "import matplotlib as mpl\n",
    "# print(mpl.rcParams.keys())\n",
    "mpl.rcParams['lines.linewidth'] = 1\n",
    "mpl.rcParams['xtick.labelsize'] = 16\n",
    "mpl.rcParams['ytick.labelsize'] = 16\n",
    "mpl.rcParams['legend.fontsize'] = 12\n",
    "mpl.rcParams['legend.loc'] = 'upper right'\n",
    "mpl.rcParams['axes.labelsize'] = 16\n",
    "mpl.rcParams['font.family'] = 'serif'"
   ]
  },
  {
   "cell_type": "code",
   "execution_count": 4,
   "metadata": {},
   "outputs": [],
   "source": [
    "colors = ['#1f78b4', '#e66101', '#33a02c', '#984ea3', 'grey', \n",
    "          'k', '#F27781', '#18298C', '#04BF8A', '#F2CF1D', \n",
    "          '#F29F05', '#7155D9', '#8D07F6', '#9E91F2', '#F29B9B', \n",
    "          '#F25764', '#6FB7BF', '#B6ECF2', '#5D1314', '#B3640F']"
   ]
  },
  {
   "cell_type": "markdown",
   "metadata": {},
   "source": [
    "# Parameters"
   ]
  },
  {
   "cell_type": "code",
   "execution_count": 5,
   "metadata": {},
   "outputs": [],
   "source": [
    "XenonMass = [500.0, 1000.0, 1500.0, 2000.0, 2500.0, 3000.0, 4000.0] # in kg \n",
    "BkgIndexRaw = np.array([1.0, 1.2, 2.0, 3.2, 4.5, 8.0, 20.0])*1E-4 # in cts/FWHM/kg/yr \n",
    "UpperTestNumber = [10, 10, 15, 20, 20, 30, 50]\n",
    "\n",
    "BkgIndex = {}\n",
    "for ii,Mass in enumerate(XenonMass):\n",
    "    BkgIndex[Mass] = BkgIndexRaw[ii]\n",
    "\n",
    "Livetime = np.linspace(1,10,10) # in yrs\n",
    "XenonMolarMass = 136.0 # in g/mol \n",
    "Bb0nEfficiency = 0.99 \n",
    "\n",
    "zvals = 1 - np.array([0.158655, 0.02275, 0.00135])"
   ]
  },
  {
   "cell_type": "markdown",
   "metadata": {},
   "source": [
    "# Functions"
   ]
  },
  {
   "cell_type": "code",
   "execution_count": 6,
   "metadata": {},
   "outputs": [],
   "source": [
    "def GetNumberOfXeAtoms(XenonMass): \n",
    "    return XenonMass*1000.0 / XenonMolarMass * const.N_A"
   ]
  },
  {
   "cell_type": "code",
   "execution_count": 7,
   "metadata": {},
   "outputs": [],
   "source": [
    "def GetNumberOfSignals(Halflife, Efficiency, NXenonAtoms, Livetime): \n",
    "    return Efficiency * NXenonAtoms * Livetime * np.log(2) / Halflife"
   ]
  },
  {
   "cell_type": "code",
   "execution_count": 8,
   "metadata": {},
   "outputs": [],
   "source": [
    "def GetHalflifeFromSignalCount(Signal, Efficiency, NXenonAtoms, Livetime): \n",
    "    return Efficiency * NXenonAtoms * Livetime * np.log(2) / Signal"
   ]
  },
  {
   "cell_type": "code",
   "execution_count": 9,
   "metadata": {},
   "outputs": [],
   "source": [
    "def GetBkgCounts(BkgIndex, XenonMass, Livetime, Size=100000): \n",
    "    BkgIndexTotal = BkgIndex * XenonMass * Livetime\n",
    "    BkgOnlyCounts = np.random.poisson(lam=BkgIndexTotal, size=Size)\n",
    "    return BkgIndexTotal, BkgOnlyCounts"
   ]
  },
  {
   "cell_type": "code",
   "execution_count": 36,
   "metadata": {},
   "outputs": [],
   "source": [
    "def Get3SigmaCounts(Counts): \n",
    "    ThreeSigma = st.norm.cdf(3)\n",
    "    Vals = []\n",
    "    XVals = np.linspace(0,100,101)\n",
    "    for x in XVals:\n",
    "        Vals.append(st.poisson.cdf(k=x, mu=Counts))\n",
    "    \n",
    "    Diff = np.abs(np.array(Vals)-ThreeSigma)\n",
    "    Index = np.where(Diff == np.min(Diff))[0][0]\n",
    "    return XVals[Index]"
   ]
  },
  {
   "cell_type": "code",
   "execution_count": 11,
   "metadata": {},
   "outputs": [],
   "source": [
    "def GetMedianSignificance(Background, Median):\n",
    "    Diff = np.abs(sorted(Background) - Median)\n",
    "    MinVal = np.min(Diff)\n",
    "    Cut = np.where(Diff == MinVal)[0][0]\n",
    "    return st.norm.ppf(Cut/len(Background))"
   ]
  },
  {
   "cell_type": "code",
   "execution_count": 12,
   "metadata": {},
   "outputs": [],
   "source": [
    "def PlotDistribution(Background, Signal, Title, XMax):\n",
    "    plt.figure(figsize=(8,6))\n",
    "\n",
    "    plt.xlabel('Number of Events in ROI')\n",
    "    plt.ylabel('Counts/bin')\n",
    "\n",
    "    BkgHist = plt.hist(Background, bins=np.linspace(0,200,201), histtype='stepfilled', label='Background Only', color='grey', alpha=0.5)\n",
    "\n",
    "    color_ii = 0\n",
    "    for ii,Counts in enumerate(Signal.keys()):\n",
    "        if Counts in ['Median','Significance','Counts']:\n",
    "            continue\n",
    "        plt.hist(Signal[Counts], bins=np.linspace(0,200,201), histtype='step', label='%s Counts' % Counts, lw=1.5, color=colors[color_ii])\n",
    "        plt.axvline(x=np.median(sorted(Signal[Counts])), ymin=0, ymax=1000, ls='-', color=colors[color_ii])\n",
    "        color_ii += 1\n",
    "\n",
    "    for ii,zval in enumerate(zvals):  \n",
    "        index = int(st.norm.cdf(ii+1)*len(np.abs(Background)))\n",
    "        xpos = sorted(np.abs(Background))[index]\n",
    "        plt.axvline(x=xpos, ymin=0, ymax=1000, ls='--', color='grey')\n",
    "        plt.text(xpos+0.1, np.max(BkgHist[0])*5,r'%d $\\sigma$' % (ii+1), rotation=90, color='grey')\n",
    "\n",
    "    plt.xlim(0,XMax)\n",
    "    plt.ylim(1,np.max(BkgHist[0])*10.0)\n",
    "    plt.yscale('log')\n",
    "    plt.title(Title)\n",
    "    plt.legend()"
   ]
  },
  {
   "cell_type": "markdown",
   "metadata": {},
   "source": [
    "# Calculations"
   ]
  },
  {
   "cell_type": "code",
   "execution_count": 13,
   "metadata": {},
   "outputs": [],
   "source": [
    "Background = {}\n",
    "Signal = {}"
   ]
  },
  {
   "cell_type": "code",
   "execution_count": 38,
   "metadata": {
    "scrolled": false
   },
   "outputs": [
    {
     "name": "stdout",
     "output_type": "stream",
     "text": [
      "--------------------\n",
      "Running fiducial mass of 500 kg\n",
      "Running livetime of 1 yrs\n",
      "0.9986501019683699 1.0\n",
      "Running livetime of 2 yrs\n",
      "0.9986501019683699 2.0\n",
      "Running livetime of 3 yrs\n",
      "0.9986501019683699 2.0\n",
      "Running livetime of 4 yrs\n",
      "0.9986501019683699 2.0\n",
      "Running livetime of 5 yrs\n",
      "0.9986501019683699 2.0\n",
      "Running livetime of 6 yrs\n",
      "0.9986501019683699 3.0\n",
      "Running livetime of 7 yrs\n",
      "0.9986501019683699 3.0\n",
      "Running livetime of 8 yrs\n",
      "0.9986501019683699 3.0\n",
      "Running livetime of 9 yrs\n",
      "0.9986501019683699 3.0\n",
      "Running livetime of 10 yrs\n",
      "0.9986501019683699 3.0\n"
     ]
    }
   ],
   "source": [
    "for ii,Mass in enumerate(XenonMass[:1]): \n",
    "    print('-'*20)\n",
    "    print('Running fiducial mass of %d kg' % Mass)\n",
    "    \n",
    "    \n",
    "    Background[ii] = {} \n",
    "    Signal[ii] = {} \n",
    "    \n",
    "    \n",
    "    for jj,Time in enumerate(Livetime): \n",
    "        print('Running livetime of %d yrs' % Time)\n",
    "        Background[ii][jj] = {} \n",
    "        Signal[ii][jj] = {} \n",
    "        \n",
    "        \n",
    "        Background[ii][jj]['Mean'] = BkgIndex[Mass]*Mass*Time\n",
    "        Background[ii][jj]['3sigma'] = Get3SigmaCounts(Background[ii][jj]['Mean'])\n",
    "\n",
    "        print(ThreeSigma, Background[ii][jj]['3sigma'])\n",
    "#         print(Background[ii][jj]['3sigma'])\n",
    "        \n",
    "#         Signal[ii][jj]['Median'] = []\n",
    "#         Signal[ii][jj]['Significance'] = []\n",
    "#         Signal[ii][jj]['Counts'] = np.arange(1,UpperTestNumber[ii],UpperTestNumber[ii]/10.0)\n",
    "#         for kk,Counts in enumerate(np.arange(1,UpperTestNumber[ii],UpperTestNumber[ii]/10.0)):    \n",
    "#             Signal[ii][jj][Counts] = np.random.poisson(lam=Background[ii][jj]['BkgIndexTotal']+Counts, size=100000)\n",
    "#             Signal[ii][jj]['Median'].append(np.median(sorted(Signal[ii][jj][Counts])))\n",
    "#             Signal[ii][jj]['Significance'].append( GetMedianSignificance(Background[ii][jj]['BkgOnlyCounts'], Signal[ii][jj]['Median'][kk] ))\n",
    "        \n",
    "        \n",
    "#         PlotDistribution(Background[ii][jj]['BkgOnlyCounts'], Signal[ii][jj])\n",
    "        "
   ]
  },
  {
   "cell_type": "code",
   "execution_count": 27,
   "metadata": {
    "scrolled": false
   },
   "outputs": [
    {
     "ename": "KeyError",
     "evalue": "'Counts'",
     "output_type": "error",
     "traceback": [
      "\u001b[0;31m---------------------------------------------------------------------------\u001b[0m",
      "\u001b[0;31mKeyError\u001b[0m                                  Traceback (most recent call last)",
      "\u001b[0;32m<ipython-input-27-8a32d4bada38>\u001b[0m in \u001b[0;36m<module>\u001b[0;34m\u001b[0m\n\u001b[1;32m      9\u001b[0m     \u001b[0mplt\u001b[0m\u001b[0;34m.\u001b[0m\u001b[0mylabel\u001b[0m\u001b[0;34m(\u001b[0m\u001b[0;34mr'Significance in $\\sigma$'\u001b[0m\u001b[0;34m)\u001b[0m\u001b[0;34m\u001b[0m\u001b[0;34m\u001b[0m\u001b[0m\n\u001b[1;32m     10\u001b[0m     \u001b[0;32mfor\u001b[0m \u001b[0mjj\u001b[0m\u001b[0;34m,\u001b[0m\u001b[0mTime\u001b[0m \u001b[0;32min\u001b[0m \u001b[0menumerate\u001b[0m\u001b[0;34m(\u001b[0m\u001b[0mLivetime\u001b[0m\u001b[0;34m)\u001b[0m\u001b[0;34m:\u001b[0m\u001b[0;34m\u001b[0m\u001b[0;34m\u001b[0m\u001b[0m\n\u001b[0;32m---> 11\u001b[0;31m         \u001b[0mplt\u001b[0m\u001b[0;34m.\u001b[0m\u001b[0mscatter\u001b[0m\u001b[0;34m(\u001b[0m\u001b[0mSignal\u001b[0m\u001b[0;34m[\u001b[0m\u001b[0mii\u001b[0m\u001b[0;34m]\u001b[0m\u001b[0;34m[\u001b[0m\u001b[0mjj\u001b[0m\u001b[0;34m]\u001b[0m\u001b[0;34m[\u001b[0m\u001b[0;34m'Counts'\u001b[0m\u001b[0;34m]\u001b[0m\u001b[0;34m,\u001b[0m \u001b[0mSignal\u001b[0m\u001b[0;34m[\u001b[0m\u001b[0mii\u001b[0m\u001b[0;34m]\u001b[0m\u001b[0;34m[\u001b[0m\u001b[0mjj\u001b[0m\u001b[0;34m]\u001b[0m\u001b[0;34m[\u001b[0m\u001b[0;34m'Significance'\u001b[0m\u001b[0;34m]\u001b[0m\u001b[0;34m,\u001b[0m \u001b[0mlabel\u001b[0m\u001b[0;34m=\u001b[0m\u001b[0;34m'%d yrs'\u001b[0m \u001b[0;34m%\u001b[0m \u001b[0mTime\u001b[0m\u001b[0;34m,\u001b[0m \u001b[0mcolor\u001b[0m \u001b[0;34m=\u001b[0m \u001b[0mcolors\u001b[0m\u001b[0;34m[\u001b[0m\u001b[0mjj\u001b[0m\u001b[0;34m]\u001b[0m\u001b[0;34m,\u001b[0m \u001b[0ms\u001b[0m\u001b[0;34m=\u001b[0m\u001b[0;36m10\u001b[0m\u001b[0;34m,\u001b[0m \u001b[0mmarker\u001b[0m\u001b[0;34m=\u001b[0m\u001b[0;34m'x'\u001b[0m\u001b[0;34m)\u001b[0m\u001b[0;34m\u001b[0m\u001b[0;34m\u001b[0m\u001b[0m\n\u001b[0m\u001b[1;32m     12\u001b[0m \u001b[0;34m\u001b[0m\u001b[0m\n\u001b[1;32m     13\u001b[0m         \u001b[0mLinearCut\u001b[0m \u001b[0;34m=\u001b[0m \u001b[0mnp\u001b[0m\u001b[0;34m.\u001b[0m\u001b[0mwhere\u001b[0m\u001b[0;34m(\u001b[0m\u001b[0mnp\u001b[0m\u001b[0;34m.\u001b[0m\u001b[0marray\u001b[0m\u001b[0;34m(\u001b[0m\u001b[0mSignal\u001b[0m\u001b[0;34m[\u001b[0m\u001b[0mii\u001b[0m\u001b[0;34m]\u001b[0m\u001b[0;34m[\u001b[0m\u001b[0mjj\u001b[0m\u001b[0;34m]\u001b[0m\u001b[0;34m[\u001b[0m\u001b[0;34m'Significance'\u001b[0m\u001b[0;34m]\u001b[0m\u001b[0;34m)\u001b[0m\u001b[0;34m<\u001b[0m\u001b[0;36m10\u001b[0m\u001b[0;34m)\u001b[0m\u001b[0;34m[\u001b[0m\u001b[0;36m0\u001b[0m\u001b[0;34m]\u001b[0m\u001b[0;34m[\u001b[0m\u001b[0;34m-\u001b[0m\u001b[0;36m1\u001b[0m\u001b[0;34m]\u001b[0m\u001b[0;34m\u001b[0m\u001b[0;34m\u001b[0m\u001b[0m\n",
      "\u001b[0;31mKeyError\u001b[0m: 'Counts'"
     ]
    },
    {
     "data": {
      "image/png": "[encoded data removed]",
      "text/plain": [
       "<Figure size 576x432 with 1 Axes>"
      ]
     },
     "metadata": {
      "needs_background": "light"
     },
     "output_type": "display_data"
    }
   ],
   "source": [
    "\n",
    "Halflife = {}\n",
    "\n",
    "for ii,Mass in enumerate(XenonMass):  \n",
    "    Halflife[Mass] = []\n",
    "    \n",
    "    plt.figure(figsize=(8,6))\n",
    "    plt.xlabel(r'Number of $0\\nu\\beta\\beta$ events')\n",
    "    plt.ylabel(r'Significance in $\\sigma$')\n",
    "    for jj,Time in enumerate(Livetime): \n",
    "        plt.scatter(Signal[ii][jj]['Counts'], Signal[ii][jj]['Significance'], label='%d yrs' % Time, color = colors[jj], s=10, marker='x')\n",
    "        \n",
    "        LinearCut = np.where(np.array(Signal[ii][jj]['Significance'])<10)[0][-1]\n",
    "        XInterp = np.linspace(1,Signal[ii][jj]['Counts'][LinearCut],1000)\n",
    "\n",
    "        Interpolation = np.interp(XInterp, Signal[ii][jj]['Counts'][:LinearCut+1], Signal[ii][jj]['Significance'][:LinearCut+1])\n",
    "        Diff = np.abs(Interpolation - 3.0)\n",
    "        Cut = np.where(Diff == np.min(Diff))[0][0]\n",
    "        \n",
    "#         print(ii,jj,XInterp[Cut], Interpolation[Cut], GetHalflifeFromSignalCount(XInterp[Cut], Bb0nEfficiency, GetNumberOfXeAtoms(Mass), Time))\n",
    "\n",
    "        plt.plot(XInterp,Interpolation, ls='--', color=colors[jj])\n",
    "        \n",
    "        Halflife[Mass].append(GetHalflifeFromSignalCount(XInterp[Cut], Bb0nEfficiency, GetNumberOfXeAtoms(Mass), Time))\n",
    "        \n",
    "    plt.xlim(0,UpperTestNumber[ii])\n",
    "    plt.ylim(0,5)\n",
    "    plt.title('Fiducial Mass of %d kg' % Mass, fontsize=16)\n",
    "    plt.legend(loc='lower right')\n",
    "    plt.savefig('significance_%dkg_%dyrs.pdf' % (Mass,Time), bbox_inches='tight')"
   ]
  },
  {
   "cell_type": "code",
   "execution_count": 27,
   "metadata": {},
   "outputs": [
    {
     "data": {
      "image/png": "[encoded data removed]",
      "text/plain": [
       "<Figure size 576x432 with 1 Axes>"
      ]
     },
     "metadata": {
      "needs_background": "light"
     },
     "output_type": "display_data"
    },
    {
     "data": {
      "image/png": "[encoded data removed]",
      "text/plain": [
       "<Figure size 576x432 with 1 Axes>"
      ]
     },
     "metadata": {
      "needs_background": "light"
     },
     "output_type": "display_data"
    }
   ],
   "source": [
    "\n",
    "plt.figure(figsize=(8,6))\n",
    "plt.xlabel(r'Livetime [yrs]')\n",
    "plt.ylabel(r'Half-life [yrs]')\n",
    "for ii,key in enumerate(Halflife.keys()):\n",
    "    plt.plot(Livetime, Halflife[key], label=key)\n",
    "plt.legend(loc='upper left')\n",
    "plt.xlim(0,10)\n",
    "plt.savefig('halflife_vs_livetime.pdf', bbox_inches='tight')\n",
    "\n",
    "plt.figure(figsize=(8,6))\n",
    "plt.xlabel(r'Fiducial Mass [kg]')\n",
    "plt.ylabel(r'Half-life [yrs]')\n",
    "plt.ylim(1E27, 10E27)\n",
    "for ii,key in enumerate(Halflife.keys()):\n",
    "    plt.scatter(float(key), Halflife[key][-1], color='k', marker='D')\n",
    "plt.savefig('halflife_vs_mass.pdf', bbox_inches='tight')"
   ]
  },
  {
   "cell_type": "code",
   "execution_count": 17,
   "metadata": {
    "scrolled": false
   },
   "outputs": [
    {
     "name": "stdout",
     "output_type": "stream",
     "text": [
      "--------------------\n",
      "Running fiducial mass of 500 kg\n",
      "--------------------\n",
      "Running fiducial mass of 1000 kg\n",
      "--------------------\n",
      "Running fiducial mass of 1500 kg\n",
      "--------------------\n",
      "Running fiducial mass of 2000 kg\n",
      "--------------------\n",
      "Running fiducial mass of 2500 kg\n",
      "--------------------\n",
      "Running fiducial mass of 3000 kg\n",
      "--------------------\n",
      "Running fiducial mass of 4000 kg\n"
     ]
    }
   ],
   "source": [
    "for ii,Mass in enumerate(XenonMass): \n",
    "    print('-'*20)\n",
    "    print('Running fiducial mass of %d kg' % Mass)\n",
    "    \n",
    "    for jj,Time in enumerate(Livetime): \n",
    "        PlotDistribution(Background[ii][jj]['BkgOnlyCounts'], Signal[ii][jj], Title='Fiducial Mass of %d kg and Livetime of %d years' % (Mass,Time), XMax=25*(ii+1))\n",
    "        plt.savefig('hist_%dkg_%dyrs.pdf' % (Mass,Time), bbox_inches='tight')\n",
    "        plt.close()"
   ]
  },
  {
   "cell_type": "code",
   "execution_count": 18,
   "metadata": {},
   "outputs": [
    {
     "name": "stdout",
     "output_type": "stream",
     "text": [
      "10.0\n"
     ]
    },
    {
     "data": {
      "text/plain": [
       "(array([  0.,   0.,   3.,   6.,  14.,  38.,  55.,  98., 122., 115., 131.,\n",
       "        123.,  85.,  71.,  52.,  34.,  28.,   7.,  11.,   5.,   1.,   0.,\n",
       "          1.,   0.,   0.,   0.,   0.,   0.,   0.,   0.,   0.,   0.,   0.,\n",
       "          0.,   0.,   0.,   0.,   0.,   0.,   0.,   0.,   0.,   0.,   0.,\n",
       "          0.,   0.,   0.,   0.,   0.,   0.]),\n",
       " array([ 0.,  1.,  2.,  3.,  4.,  5.,  6.,  7.,  8.,  9., 10., 11., 12.,\n",
       "        13., 14., 15., 16., 17., 18., 19., 20., 21., 22., 23., 24., 25.,\n",
       "        26., 27., 28., 29., 30., 31., 32., 33., 34., 35., 36., 37., 38.,\n",
       "        39., 40., 41., 42., 43., 44., 45., 46., 47., 48., 49., 50.]),\n",
       " <a list of 50 Patch objects>)"
      ]
     },
     "execution_count": 18,
     "metadata": {},
     "output_type": "execute_result"
    },
    {
     "data": {
      "image/png": "[encoded data removed]",
      "text/plain": [
       "<Figure size 432x288 with 1 Axes>"
      ]
     },
     "metadata": {
      "needs_background": "light"
     },
     "output_type": "display_data"
    }
   ],
   "source": [
    "mu=10\n",
    "test = st.poisson.rvs(mu=mu, size=1000)\n",
    "print(st.poisson.median(mu=mu, loc=0))\n",
    "plt.hist(test, bins=np.linspace(0,50,51))"
   ]
  },
  {
   "cell_type": "code",
   "execution_count": null,
   "metadata": {},
   "outputs": [],
   "source": []
  },
  {
   "cell_type": "code",
   "execution_count": 19,
   "metadata": {},
   "outputs": [
    {
     "name": "stdout",
     "output_type": "stream",
     "text": [
      "0.1991482734714558\n",
      "10.0\n",
      "---\n",
      "0.42319008112684364\n",
      "10.0\n",
      "---\n",
      "0.6472318887822313\n",
      "10.0\n",
      "---\n",
      "0.8152632445237722\n",
      "10.0\n",
      "---\n",
      "0.9160820579686966\n",
      "10.0\n",
      "---\n"
     ]
    },
    {
     "data": {
      "image/png": "[encoded data removed]",
      "text/plain": [
       "<Figure size 432x288 with 1 Axes>"
      ]
     },
     "metadata": {
      "needs_background": "light"
     },
     "output_type": "display_data"
    }
   ],
   "source": [
    "zvals = 1 - np.array([0.158655, 0.02275, 0.00135])\n",
    "for val in [1,2,3,4,5]: \n",
    "    print(st.poisson.cdf(val, mu=3, loc=0))\n",
    "    plt.axvline(x=st.poisson.cdf(val, mu=3, loc=0), ymin=0, ymax=1000, ls='--', color='grey')\n",
    "    print(st.poisson.median(mu=10, loc=0))\n",
    "    print('---')\n"
   ]
  },
  {
   "cell_type": "code",
   "execution_count": 8,
   "metadata": {},
   "outputs": [],
   "source": [
    "import scipy.stats as st \n",
    "import numpy as np"
   ]
  },
  {
   "cell_type": "code",
   "execution_count": 13,
   "metadata": {},
   "outputs": [
    {
     "name": "stdout",
     "output_type": "stream",
     "text": [
      "0.8413447460685429\n",
      "0.9772498680518208\n",
      "0.9986501019683699\n"
     ]
    }
   ],
   "source": [
    "print(st.norm.cdf(1))\n",
    "print(st.norm.cdf(2))\n",
    "print(st.norm.cdf(3))"
   ]
  },
  {
   "cell_type": "code",
   "execution_count": 10,
   "metadata": {},
   "outputs": [
    {
     "name": "stdout",
     "output_type": "stream",
     "text": [
      "0.0 0.006737946999085468\n",
      "1.0 0.04042768199451279\n",
      "2.0 0.12465201948308108\n",
      "3.0 0.2650259152973616\n",
      "4.0 0.44049328506521257\n",
      "5.0 0.615960654833063\n",
      "6.0 0.7621834629729387\n",
      "7.0 0.8666283259299925\n",
      "8.0 0.9319063652781516\n",
      "9.0 0.9681719426937951\n",
      "10.0 0.9863047314016171\n",
      "11.0 0.9945469080869906\n",
      "12.0 0.997981148372563\n",
      "13.0 0.99930201002086\n",
      "14.0 0.9997737463238232\n",
      "15.0 0.9999309917581444\n",
      "16.0 0.9999801309563696\n",
      "17.0 0.99999458366173\n",
      "18.0 0.9999985983021079\n",
      "19.0 0.999999654786418\n",
      "20.0 0.9999999189074954\n",
      "21.0 0.9999999817934663\n",
      "22.0 0.9999999960857323\n",
      "23.0 0.9999999991927467\n",
      "24.0 0.9999999998400414\n",
      "25.0 0.9999999999695003\n",
      "26.0 0.9999999999943963\n",
      "27.0 0.9999999999990066\n",
      "28.0 0.9999999999998299\n",
      "29.0 0.9999999999999718\n",
      "30.0 0.9999999999999954\n",
      "31.0 0.9999999999999993\n",
      "32.0 0.9999999999999999\n",
      "33.0 1.0\n",
      "34.0 1.0\n",
      "35.0 1.0\n",
      "36.0 1.0\n",
      "37.0 1.0\n",
      "38.0 1.0\n",
      "39.0 1.0\n",
      "40.0 1.0\n",
      "41.0 1.0\n",
      "42.0 1.0\n",
      "43.0 1.0\n",
      "44.0 1.0\n",
      "45.0 1.0\n",
      "46.0 1.0\n",
      "47.0 1.0\n",
      "48.0 1.0\n",
      "49.0 1.0\n",
      "50.0 1.0\n",
      "51.0 1.0\n",
      "52.0 1.0\n",
      "53.0 1.0\n",
      "54.0 1.0\n",
      "55.0 1.0\n",
      "56.0 1.0\n",
      "57.0 1.0\n",
      "58.0 1.0\n",
      "59.0 1.0\n",
      "60.0 1.0\n",
      "61.0 1.0\n",
      "62.0 1.0\n",
      "63.0 1.0\n",
      "64.0 1.0\n",
      "65.0 1.0\n",
      "66.0 1.0\n",
      "67.0 1.0\n",
      "68.0 1.0\n",
      "69.0 1.0\n",
      "70.0 1.0\n",
      "71.0 1.0\n",
      "72.0 1.0\n",
      "73.0 1.0\n",
      "74.0 1.0\n",
      "75.0 1.0\n",
      "76.0 1.0\n",
      "77.0 1.0\n",
      "78.0 1.0\n",
      "79.0 1.0\n",
      "80.0 1.0\n",
      "81.0 1.0\n",
      "82.0 1.0\n",
      "83.0 1.0\n",
      "84.0 1.0\n",
      "85.0 1.0\n",
      "86.0 1.0\n",
      "87.0 1.0\n",
      "88.0 1.0\n",
      "89.0 1.0\n",
      "90.0 1.0\n",
      "91.0 1.0\n",
      "92.0 1.0\n",
      "93.0 1.0\n",
      "94.0 1.0\n",
      "95.0 1.0\n",
      "96.0 1.0\n",
      "97.0 1.0\n",
      "98.0 1.0\n",
      "99.0 1.0\n",
      "100.0 1.0\n"
     ]
    }
   ],
   "source": [
    "for x in np.linspace(0,100,101):\n",
    "    print(x,st.poisson.cdf(k=x, mu=5))\n",
    "    "
   ]
  },
  {
   "cell_type": "code",
   "execution_count": null,
   "metadata": {},
   "outputs": [],
   "source": []
  }
 ],
 "metadata": {
  "kernelspec": {
   "display_name": "Python 3",
   "language": "python",
   "name": "python3"
  },
  "language_info": {
   "codemirror_mode": {
    "name": "ipython",
    "version": 3
   },
   "file_extension": ".py",
   "mimetype": "text/x-python",
   "name": "python",
   "nbconvert_exporter": "python",
   "pygments_lexer": "ipython3",
   "version": "3.7.2"
  }
 },
 "nbformat": 4,
 "nbformat_minor": 4
}
