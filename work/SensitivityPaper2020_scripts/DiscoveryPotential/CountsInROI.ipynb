{
 "cells": [
  {
   "cell_type": "code",
   "execution_count": 1,
   "metadata": {},
   "outputs": [
    {
     "data": {
      "text/html": [
       "<style>.container { width:90% !important; }</style>"
      ],
      "text/plain": [
       "<IPython.core.display.HTML object>"
      ]
     },
     "metadata": {},
     "output_type": "display_data"
    }
   ],
   "source": [
    "from IPython.core.display import display, HTML\n",
    "display(HTML(\"<style>.container { width:90% !important; }</style>\"))"
   ]
  },
  {
   "cell_type": "code",
   "execution_count": 2,
   "metadata": {},
   "outputs": [],
   "source": [
    "import matplotlib as mpl\n",
    "# print(mpl.rcParams.keys())\n",
    "mpl.rcParams['lines.linewidth'] = 1\n",
    "mpl.rcParams['xtick.labelsize'] = 16\n",
    "mpl.rcParams['ytick.labelsize'] = 16\n",
    "mpl.rcParams['legend.fontsize'] = 12\n",
    "mpl.rcParams['legend.loc'] = 'upper right'\n",
    "mpl.rcParams['axes.labelsize'] = 16\n",
    "mpl.rcParams['font.family'] = 'serif'"
   ]
  },
  {
   "cell_type": "code",
   "execution_count": 3,
   "metadata": {},
   "outputs": [],
   "source": [
    "# Import sys, then tell python where to find the nEXO-specific classes\n",
    "import sys\n",
    "sys.path.append('/g/g99/jamil1/lustre1/sensitivity/modules')"
   ]
  },
  {
   "cell_type": "code",
   "execution_count": 4,
   "metadata": {},
   "outputs": [],
   "source": [
    "bkg_shape_err = 2.5\n",
    "input_table = '/usr/workspace/wsa/nexo/lenardo1/baseline2019_third_pass/ComponentsTable_D-023_merged-v5_final_cuts_finer_binning.h5' \n",
    "xe137_scale_factor = 1.0"
   ]
  },
  {
   "cell_type": "markdown",
   "metadata": {},
   "source": [
    "Number from the 2017 sensitivity paper, gotten from digitizing Figure 8 from https://arxiv.org/abs/1710.05075"
   ]
  },
  {
   "cell_type": "code",
   "execution_count": 5,
   "metadata": {},
   "outputs": [],
   "source": [
    "Mass2017 = [0.503834,1.00329,1.50274,2.00219,2.50164,3.00110,3.87295]\n",
    "Bkg2017 = [0.000105991,0.000138291,0.000207821,0.000353783,0.000563511,0.000853902,0.00188091]"
   ]
  },
  {
   "cell_type": "code",
   "execution_count": 6,
   "metadata": {},
   "outputs": [],
   "source": [
    "# Import useful libraries for analysis\n",
    "import pandas as pd\n",
    "import histlite as hl\n",
    "import numpy as np\n",
    "from matplotlib import pyplot as plt"
   ]
  },
  {
   "cell_type": "code",
   "execution_count": 7,
   "metadata": {},
   "outputs": [],
   "source": [
    "# Import the nEXO sensitivity classes\n",
    "import nEXOFitWorkspace\n",
    "import nEXOFitModel\n",
    "import nEXOFitLikelihood"
   ]
  },
  {
   "cell_type": "code",
   "execution_count": 8,
   "metadata": {},
   "outputs": [
    {
     "name": "stdout",
     "output_type": "stream",
     "text": [
      "\n",
      "Loading input data froma previously-generated components table....\n",
      "\n",
      "Loaded dataframe with 171 components.\n",
      "Contains the following quantities of interest:\n",
      "\tPDFName\n",
      "\tComponent\n",
      "\tIsotope\n",
      "\tMC ID\n",
      "\tTotal Mass or Area\n",
      "\tActivity ID\n",
      "\tSpecActiv\n",
      "\tSpecActivErr\n",
      "\tSpecActivErrorType\n",
      "\tRawActiv\n",
      "\tRawActivErr\n",
      "\tTotalHitEff_N\n",
      "\tHistogram\n",
      "\tHistogramAxisNames\n",
      "\tTotalHitEff_K\n",
      "\tGroup\n",
      "\tExpected Counts\n",
      "\n",
      "Fit variables:\n",
      "\t['DNN', 'Energy (keV)', 'Standoff (mm)']\n",
      "\n",
      "Creating grouped PDFs....\n",
      "\tGroup:               \tExpected Counts:\n",
      "\tFar                  \t       14577.08\n",
      "\tVessel_Th232         \t        3033.41\n",
      "\tVessel_U238          \t       17225.12\n",
      "\tInternals_U238       \t       21515.41\n",
      "\tInternals_Th232      \t        4255.53\n",
      "\tFullTPC_Co60         \t         186.43\n",
      "\tFullTPC_K40          \t    39908168.08\n",
      "\tRn222                \t       18706.27\n",
      "\tFullLXeBb2n          \t    14544525.50\n",
      "\tFullLXeBb0n          \t           0.00\n",
      "\tB8nu                 \t          11.88\n",
      "\tXe137                \t          51.21\n",
      "\tTotal Sum            \t    54532255.92\n"
     ]
    }
   ],
   "source": [
    "# Create the workspace\n",
    "workspace = nEXOFitWorkspace.nEXOFitWorkspace('../../config/Sensitivity2020_config.yaml')\n",
    "workspace.livetime = 10.0 * 365. * 24. * 60. * 60.\n",
    "workspace.LoadComponentsTableFromFile(input_table)\n",
    "workspace.CreateGroupedPDFs()"
   ]
  },
  {
   "cell_type": "code",
   "execution_count": 9,
   "metadata": {},
   "outputs": [],
   "source": [
    "rho_xe = 3.057 # in g/cm^3\n",
    "\n",
    "tpc_diam = 127.7 # in cm\n",
    "tpc_height = 118.3 # in cm\n",
    "ring_gap = 7.185 # in cm\n",
    "\n",
    "def GetXenonMass(ZStandoff, RStandoff):\n",
    "    Mass = rho_xe * ( np.pi * (tpc_diam/2.0 - ring_gap - RStandoff)**2 * (tpc_height - 2*ZStandoff) )\n",
    "    return Mass/1000.0"
   ]
  },
  {
   "cell_type": "code",
   "execution_count": 10,
   "metadata": {},
   "outputs": [],
   "source": [
    "MassXe = []\n",
    "Standoff = np.arange(2,50,0.1)\n",
    "for x in Standoff:\n",
    "    MassXe.append(GetXenonMass(x,x))\n",
    "MassXe = np.array(MassXe)"
   ]
  },
  {
   "cell_type": "code",
   "execution_count": 11,
   "metadata": {},
   "outputs": [
    {
     "name": "stdout",
     "output_type": "stream",
     "text": [
      "500 501.71371814577196 27.800000000000022\n",
      "1000 1002.8304231905673 20.100000000000016\n",
      "1500 1503.5626445375349 14.700000000000012\n",
      "2000 2004.2646195712946 10.400000000000007\n",
      "2500 2500.251173876373 6.800000000000004\n",
      "3000 3004.52420757976 3.6000000000000014\n",
      "3281 3280.274944309186 2.0\n"
     ]
    }
   ],
   "source": [
    "StandoffVals = []\n",
    "FiducialMass = [500,1000,1500,2000,2500,3000,3281]\n",
    "# FiducialMass = np.arange(100,3001,100)\n",
    "# FiducialMass = np.append(FiducialMass,3281)\n",
    "\n",
    "for ii in FiducialMass: \n",
    "    Diff = np.abs(MassXe - ii)\n",
    "    Cut = np.where(Diff == np.min(Diff))[0][0]\n",
    "    print(ii, MassXe[Cut], Standoff[Cut])\n",
    "    StandoffVals.append(Standoff[Cut])\n",
    "StandoffVals = np.array(StandoffVals)*10"
   ]
  },
  {
   "cell_type": "code",
   "execution_count": 20,
   "metadata": {
    "scrolled": false
   },
   "outputs": [
    {
     "name": "stdout",
     "output_type": "stream",
     "text": [
      "DNN:\n",
      "\tInput ROI boundaries:      0.85,      1.0\n",
      "\tActual ROI boundaries:     0.85,      1.0\n",
      "Energy (keV):\n",
      "\tInput ROI boundaries:    2435.0,   2475.0\n",
      "\tActual ROI boundaries:   2435.0,   2475.0\n",
      "Standoff (mm):\n",
      "\tInput ROI boundaries:     278.0,   1000.0\n",
      "\tActual ROI boundaries:    280.0,    650.0\n",
      "0 500 0.44382172329152336\n",
      "DNN:\n",
      "\tInput ROI boundaries:      0.85,      1.0\n",
      "\tActual ROI boundaries:     0.85,      1.0\n",
      "Energy (keV):\n",
      "\tInput ROI boundaries:    2435.0,   2475.0\n",
      "\tActual ROI boundaries:   2435.0,   2475.0\n",
      "Standoff (mm):\n",
      "\tInput ROI boundaries:     201.0,   1000.0\n",
      "\tActual ROI boundaries:    210.0,    650.0\n",
      "1 1000 1.6454382729717751\n",
      "DNN:\n",
      "\tInput ROI boundaries:      0.85,      1.0\n",
      "\tActual ROI boundaries:     0.85,      1.0\n",
      "Energy (keV):\n",
      "\tInput ROI boundaries:    2435.0,   2475.0\n",
      "\tActual ROI boundaries:   2435.0,   2475.0\n",
      "Standoff (mm):\n",
      "\tInput ROI boundaries:     147.0,   1000.0\n",
      "\tActual ROI boundaries:    150.0,    650.0\n",
      "2 1500 3.732435485605653\n",
      "DNN:\n",
      "\tInput ROI boundaries:      0.85,      1.0\n",
      "\tActual ROI boundaries:     0.85,      1.0\n",
      "Energy (keV):\n",
      "\tInput ROI boundaries:    2435.0,   2475.0\n",
      "\tActual ROI boundaries:   2435.0,   2475.0\n",
      "Standoff (mm):\n",
      "\tInput ROI boundaries:     104.0,   1000.0\n",
      "\tActual ROI boundaries:    110.0,    650.0\n",
      "3 2000 7.324981251534796\n",
      "DNN:\n",
      "\tInput ROI boundaries:      0.85,      1.0\n",
      "\tActual ROI boundaries:     0.85,      1.0\n",
      "Energy (keV):\n",
      "\tInput ROI boundaries:    2435.0,   2475.0\n",
      "\tActual ROI boundaries:   2435.0,   2475.0\n",
      "Standoff (mm):\n",
      "\tInput ROI boundaries:      68.0,   1000.0\n",
      "\tActual ROI boundaries:     70.0,    650.0\n",
      "4 2500 14.242818165161225\n",
      "DNN:\n",
      "\tInput ROI boundaries:      0.85,      1.0\n",
      "\tActual ROI boundaries:     0.85,      1.0\n",
      "Energy (keV):\n",
      "\tInput ROI boundaries:    2435.0,   2475.0\n",
      "\tActual ROI boundaries:   2435.0,   2475.0\n",
      "Standoff (mm):\n",
      "\tInput ROI boundaries:      36.0,   1000.0\n",
      "\tActual ROI boundaries:     40.0,    650.0\n",
      "5 3000 26.01177736820713\n",
      "DNN:\n",
      "\tInput ROI boundaries:      0.85,      1.0\n",
      "\tActual ROI boundaries:     0.85,      1.0\n",
      "Energy (keV):\n",
      "\tInput ROI boundaries:    2435.0,   2475.0\n",
      "\tActual ROI boundaries:   2435.0,   2475.0\n",
      "Standoff (mm):\n",
      "\tInput ROI boundaries:      20.0,   1000.0\n",
      "\tActual ROI boundaries:     20.0,    650.0\n",
      "6 3281 40.14151936093431\n"
     ]
    }
   ],
   "source": [
    "BkgIndex = {}\n",
    "bb0n_count = {} \n",
    "for ii,FM in enumerate(FiducialMass): \n",
    "#     roi_dict = { 'DNN':         [0.85,1.],\n",
    "#              'Energy (keV)':  [ 2428.89, 2486.77 ], \n",
    "#              'Standoff (mm)': [ StandoffVals[ii], 650. ] }\n",
    "    roi_dict = { 'DNN':         [0.85,1.],\n",
    "             'Energy (keV)':  [ 2435.0, 2475.0 ], \n",
    "             'Standoff (mm)': [ StandoffVals[ii], 1000. ] }\n",
    "    BkgIndex[FM] = {}\n",
    "    BkgIndex[FM]['std'] = StandoffVals[ii]\n",
    "    BkgIndex[FM]['dict'] = roi_dict\n",
    "    \n",
    "    \n",
    "    workspace.DefineROI( roi_dict )\n",
    "    \n",
    "    likelihood = nEXOFitLikelihood.nEXOFitLikelihood()\n",
    "    likelihood.AddPDFDataframeToModel(workspace.df_group_pdfs)\n",
    "    \n",
    "#     sig_idx = likelihood.model.GetVariableIndexByName( 'Bb0n' )\n",
    "#     likelihood.model.variable_list[sig_idx]['Value'] = 0.0\n",
    "    \n",
    "    likelihood.model.GenerateModelDistribution()\n",
    "    bkg_in_roi = likelihood.model.GetIntegralInBinRange( workspace.GetROIBinIndices() )\n",
    "    print(ii,FM, bkg_in_roi)\n",
    "    \n",
    "    BkgIndex[FM]['cts'] = bkg_in_roi/FM/10.0\n",
    "    \n",
    "    \n",
    "#     for component in likelihood.model.variable_list:\n",
    "# #         print('****************************************************************************************\\n')\n",
    "#         if 'Shape' in component['Name']: continue\n",
    "#         num_counts_in_roi = likelihood.model.GetComponentIntegralInBinRange( \\\n",
    "#                                                 component['Name'], workspace.GetROIBinIndices() )\n",
    "#         print('{:<20}\\t{:>10.4}\\t{:>10.4}%'.format( component['Name']+':', num_counts_in_roi, int(1000*num_counts_in_roi/total_bkg_in_roi)/10. ) )\n",
    "#         if component['Name'] == 'Num_FullLXeBb0n': \n",
    "#             bb0n_count[FM] = num_counts_in_roi\n",
    "#     print('****************************************************************************************\\n')\n",
    "\n",
    "\n"
   ]
  },
  {
   "cell_type": "code",
   "execution_count": 21,
   "metadata": {},
   "outputs": [
    {
     "name": "stdout",
     "output_type": "stream",
     "text": [
      "{}\n"
     ]
    }
   ],
   "source": [
    "print(bb0n_count)\n",
    "for ii,key in enumerate(bb0n_count.keys()):\n",
    "#     print(key, bb0n_count[key]/bb0n_count[3281] , bb0n_count[key]/bb0n_count[3281]*96.3)\n",
    "    print(\"%.2f\" % (bb0n_count[key]/bb0n_count[3281]*0.963))"
   ]
  },
  {
   "cell_type": "code",
   "execution_count": 22,
   "metadata": {},
   "outputs": [
    {
     "name": "stdout",
     "output_type": "stream",
     "text": [
      "[8.876434465830467e-05, 0.0001645438272971775, 0.0002488290323737102, 0.0003662490625767398, 0.0005697127266064489, 0.0008670592456069043, 0.0012234538055755657]\n",
      "[ 500 1000 1500 2000 2500 3000 3281]\n"
     ]
    },
    {
     "data": {
      "image/png": "[encoded data removed]",
      "text/plain": [
       "<Figure size 576x432 with 1 Axes>"
      ]
     },
     "metadata": {
      "needs_background": "light"
     },
     "output_type": "display_data"
    }
   ],
   "source": [
    "Mass2020 = [x/1000.0 for x in BkgIndex.keys()]\n",
    "Bkg2020 = [BkgIndex[x]['cts'] for x in BkgIndex.keys()]\n",
    "print(Bkg2020)\n",
    "print(np.array(FiducialMass))\n",
    "\n",
    "plt.figure(figsize=(8,6))\n",
    "plt.scatter(Mass2020, Bkg2020, color='k', label='2020', marker='D')\n",
    "plt.scatter(Mass2017, Bkg2017, color='r', label='2017', marker='x')\n",
    "\n",
    "plt.yscale('log')\n",
    "plt.xlim(0,4)\n",
    "plt.ylim(2E-5,5E-3)\n",
    "plt.xticks(fontsize=16)\n",
    "plt.yticks(fontsize=16)\n",
    "plt.xlabel('LXe Mass [tons]', fontsize=16)\n",
    "plt.ylabel(r'Bkg. Index [$\\mathrm{cts}\\cdot \\mathrm{FWHM}^{-1}\\cdot \\mathrm{kg}^{-1} \\cdot \\mathrm{yr}^{-1}$]', fontsize=16)\n",
    "plt.legend(loc='upper left', fontsize=16)\n",
    "plt.savefig('bkg_index_comparison.pdf', bbox_inches='tight')\n"
   ]
  },
  {
   "cell_type": "code",
   "execution_count": 23,
   "metadata": {},
   "outputs": [
    {
     "name": "stdout",
     "output_type": "stream",
     "text": [
      "1.0477137205409568\n"
     ]
    },
    {
     "data": {
      "image/png": "[encoded data removed]",
      "text/plain": [
       "<Figure size 576x432 with 1 Axes>"
      ]
     },
     "metadata": {
      "needs_background": "light"
     },
     "output_type": "display_data"
    }
   ],
   "source": [
    "plt.figure(figsize=(8,6))\n",
    "plt.scatter(Mass2020[:-1], np.array(Bkg2020[:-1])/np.array(Bkg2017[:-1]), color='k', label='2020', marker='D')\n",
    "# plt.scatter(Mass2017, Bkg2017, color='r', label='2017', marker='x')\n",
    "\n",
    "# plt.yscale('log')\n",
    "plt.xlim(0,4)\n",
    "plt.ylim(0.5,1.5)\n",
    "plt.xticks(fontsize=16)\n",
    "plt.yticks(fontsize=16)\n",
    "plt.xlabel('LXe Mass [tons]', fontsize=16)\n",
    "plt.ylabel(r'$\\frac{\\mathrm{Bkd. Index 2020}}{\\mathrm{Bkd. Index 2017}}$', fontsize=16)\n",
    "plt.legend(loc='upper left', fontsize=16)\n",
    "plt.savefig('bkg_index_comparison_rel.pdf', bbox_inches='tight')\n",
    "\n",
    "print(np.mean(np.array(Bkg2020[:-1])/np.array(Bkg2017[:-1])))"
   ]
  },
  {
   "cell_type": "code",
   "execution_count": null,
   "metadata": {},
   "outputs": [],
   "source": []
  }
 ],
 "metadata": {
  "kernelspec": {
   "display_name": "sensitivity",
   "language": "python",
   "name": "sensitivity"
  },
  "language_info": {
   "codemirror_mode": {
    "name": "ipython",
    "version": 3
   },
   "file_extension": ".py",
   "mimetype": "text/x-python",
   "name": "python",
   "nbconvert_exporter": "python",
   "pygments_lexer": "ipython3",
   "version": "3.7.2"
  }
 },
 "nbformat": 4,
 "nbformat_minor": 4
}
