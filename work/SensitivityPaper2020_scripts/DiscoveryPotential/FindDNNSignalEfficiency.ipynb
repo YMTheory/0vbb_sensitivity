{
 "cells": [
  {
   "cell_type": "markdown",
   "metadata": {},
   "source": [
    "# Signal Efficiency in the Region of Interest for nEXO\n",
    "This Juptyer notebook calculates the signal efficiency, i.e. the fraction of $ 0\\nu\\beta\\beta$ events that fall within the region of interest (ROI) as defined below. This number will be used in the counting experiment calculations in this [Jupyter Notebook](https://github.com/nEXO-collaboration/sensitivity/blob/sensitivity2020/work/SensitivityPaper2020_scripts/DiscoveryPotential/Counting_Experiment.ipynb)"
   ]
  },
  {
   "cell_type": "markdown",
   "metadata": {},
   "source": [
    "### Adjusting cell width"
   ]
  },
  {
   "cell_type": "code",
   "execution_count": 1,
   "metadata": {},
   "outputs": [
    {
     "data": {
      "text/html": [
       "<style>.container { width:95% !important; }</style>"
      ],
      "text/plain": [
       "<IPython.core.display.HTML object>"
      ]
     },
     "metadata": {},
     "output_type": "display_data"
    }
   ],
   "source": [
    "from IPython.core.display import display, HTML\n",
    "display(HTML(\"<style>.container { width:95% !important; }</style>\"))"
   ]
  },
  {
   "cell_type": "markdown",
   "metadata": {},
   "source": [
    "### Importing packages"
   ]
  },
  {
   "cell_type": "code",
   "execution_count": 2,
   "metadata": {},
   "outputs": [],
   "source": [
    "import numpy as np\n",
    "import matplotlib.pyplot as plt\n",
    "import uproot # uproot examples: https://indico.cern.ch/event/686641/contributions/2894906/attachments/1606247/2548596/pivarski-uproot.pdf"
   ]
  },
  {
   "cell_type": "markdown",
   "metadata": {},
   "source": [
    "### Defining cuts\n",
    "Define cut that selects events that are within the ROI, i.e. passing all standoff quality cuts, the charge-over-light cut, be within the FWHM region around the Q-value as defined in this [Jupyter Notebook](https://github.com/nEXO-collaboration/sensitivity/blob/sensitivity2020/work/SensitivityPaper2020_scripts/DiscoveryPotential/FindEnergyROI.ipynb)."
   ]
  },
  {
   "cell_type": "code",
   "execution_count": 3,
   "metadata": {},
   "outputs": [],
   "source": [
    "def GetQualityCut(tree):\n",
    "    cut = np.where((tree['passed_xy_thresh'].array() == True) \\\n",
    "                   & (tree['passed_z_thresh'].array() == True) \\\n",
    "                   & (tree['n_x_ch_abovenoise'].array() > 0) \\\n",
    "                   & (tree['n_y_ch_abovenoise'].array() > 0) \\\n",
    "                   & (tree['m_nOPCal'].array() < (1.077*tree['m_nQ'].array()+313)) \\\n",
    "                   & (tree['m_nOPCal'].array() > (0.597*tree['m_nQ'].array()-216)) \\\n",
    "                   & (tree['standoff'].array() > 20.0) \\\n",
    "                   & (tree['NESTBugFound'].array() == False) \\\n",
    "                  )\n",
    "    return cut        "
   ]
  },
  {
   "cell_type": "code",
   "execution_count": 4,
   "metadata": {},
   "outputs": [],
   "source": [
    "def GetNestBugCut(tree):\n",
    "    cut = np.where((tree['NESTBugFound'].array() == False) & (tree['standoff'].array() > 20.0))\n",
    "    return cut         "
   ]
  },
  {
   "cell_type": "code",
   "execution_count": 5,
   "metadata": {},
   "outputs": [],
   "source": [
    "def GetFullCut(tree):\n",
    "    cut = np.where((tree['passed_xy_thresh'].array() == True) \\\n",
    "                   & (tree['passed_z_thresh'].array() == True) \\\n",
    "                   & (tree['n_x_ch_abovenoise'].array() > 0) \\\n",
    "                   & (tree['n_y_ch_abovenoise'].array() > 0) \\\n",
    "                   & (tree['m_nOPCal'].array() < (1.077*tree['m_nQ'].array()+313)) \\\n",
    "                   & (tree['m_nOPCal'].array() > (0.597*tree['m_nQ'].array()-216)) \\\n",
    "                   & (tree['standoff'].array() > 20.0) \\\n",
    "                   & (tree['energy'].array() > 2435) \\\n",
    "                   & (tree['energy'].array() < 2481) \\\n",
    "                   & (tree['NESTBugFound'].array() == False) \\\n",
    "                  )\n",
    "    return cut        "
   ]
  },
  {
   "cell_type": "markdown",
   "metadata": {},
   "source": [
    "### Reading in data from ROOT files"
   ]
  },
  {
   "cell_type": "code",
   "execution_count": 6,
   "metadata": {},
   "outputs": [],
   "source": [
    "bb0n = uproot.open(\"/p/vast1/nexo/data/merged-v8/Baseline2019_bb0n_FullLXe.root\")['tree']"
   ]
  },
  {
   "cell_type": "code",
   "execution_count": 7,
   "metadata": {},
   "outputs": [],
   "source": [
    "bkg = uproot.open(\"/p/vast1/nexo/data/merged-v8/Baseline2019_U238_TPCVessel.root\")['tree']"
   ]
  },
  {
   "cell_type": "markdown",
   "metadata": {},
   "source": [
    "### Applying cuts"
   ]
  },
  {
   "cell_type": "code",
   "execution_count": 8,
   "metadata": {},
   "outputs": [],
   "source": [
    "bb0n_cut = GetFullCut(bb0n)"
   ]
  },
  {
   "cell_type": "code",
   "execution_count": 9,
   "metadata": {},
   "outputs": [],
   "source": [
    "bkg_cut = GetFullCut(bkg)"
   ]
  },
  {
   "cell_type": "markdown",
   "metadata": {},
   "source": [
    "### Signal efficiency after applying precuts"
   ]
  },
  {
   "cell_type": "code",
   "execution_count": 10,
   "metadata": {},
   "outputs": [
    {
     "name": "stdout",
     "output_type": "stream",
     "text": [
      "Efficiency for signal events to pass the quality cuts: 0.9697\n"
     ]
    }
   ],
   "source": [
    "DetectionEfficiency2020 = len(bb0n['energy'].array()[GetQualityCut(bb0n)]) / len(bb0n['energy'].array()[GetNestBugCut(bb0n)])\n",
    "print('Efficiency for signal events to pass the quality cuts: %.4f' % DetectionEfficiency2020)"
   ]
  },
  {
   "cell_type": "markdown",
   "metadata": {},
   "source": [
    "### Signal efficiency in 2017 analysis"
   ]
  },
  {
   "cell_type": "code",
   "execution_count": 11,
   "metadata": {},
   "outputs": [],
   "source": [
    "SSFraction = 0.79\n",
    "DetectionEfficiency = 0.98\n",
    "SignalEfficiency2017 = DetectionEfficiency*SSFraction"
   ]
  },
  {
   "cell_type": "markdown",
   "metadata": {},
   "source": [
    "### Getting the ROC curve"
   ]
  },
  {
   "cell_type": "code",
   "execution_count": 12,
   "metadata": {},
   "outputs": [
    {
     "name": "stdout",
     "output_type": "stream",
     "text": [
      "0.00 1.000 1.000\n",
      "0.01 0.999 0.936\n",
      "0.02 0.998 0.815\n",
      "0.03 0.996 0.721\n",
      "0.04 0.994 0.650\n",
      "0.05 0.991 0.595\n",
      "0.06 0.989 0.551\n",
      "0.07 0.987 0.514\n",
      "0.08 0.984 0.481\n",
      "0.09 0.982 0.451\n",
      "0.10 0.979 0.426\n",
      "0.11 0.977 0.403\n",
      "0.12 0.974 0.383\n",
      "0.13 0.971 0.365\n",
      "0.14 0.968 0.349\n",
      "0.15 0.965 0.334\n",
      "0.16 0.963 0.320\n",
      "0.17 0.960 0.306\n",
      "0.18 0.957 0.294\n",
      "0.19 0.953 0.281\n",
      "0.20 0.950 0.269\n",
      "0.21 0.947 0.258\n",
      "0.22 0.944 0.247\n",
      "0.23 0.941 0.237\n",
      "0.24 0.938 0.227\n",
      "0.25 0.935 0.218\n",
      "0.26 0.931 0.209\n",
      "0.27 0.928 0.202\n",
      "0.28 0.925 0.193\n",
      "0.29 0.922 0.186\n",
      "0.30 0.919 0.178\n",
      "0.31 0.916 0.172\n",
      "0.32 0.913 0.166\n",
      "0.33 0.910 0.160\n",
      "0.34 0.907 0.154\n",
      "0.35 0.904 0.149\n",
      "0.36 0.901 0.143\n",
      "0.37 0.899 0.138\n",
      "0.38 0.896 0.133\n",
      "0.39 0.893 0.129\n",
      "0.40 0.891 0.124\n",
      "0.41 0.888 0.120\n",
      "0.42 0.886 0.116\n",
      "0.43 0.883 0.113\n",
      "0.44 0.881 0.109\n",
      "0.45 0.879 0.105\n",
      "0.46 0.876 0.102\n",
      "0.47 0.874 0.100\n",
      "0.48 0.872 0.097\n",
      "0.49 0.870 0.095\n",
      "0.50 0.868 0.092\n",
      "0.51 0.866 0.090\n",
      "0.52 0.864 0.088\n",
      "0.53 0.862 0.086\n",
      "0.54 0.860 0.084\n",
      "0.55 0.858 0.082\n",
      "0.56 0.857 0.080\n",
      "0.57 0.855 0.079\n",
      "0.58 0.853 0.077\n",
      "0.59 0.851 0.076\n",
      "0.60 0.850 0.074\n",
      "0.61 0.848 0.073\n",
      "0.62 0.847 0.072\n",
      "0.63 0.845 0.071\n",
      "0.64 0.843 0.069\n",
      "0.65 0.842 0.068\n",
      "0.66 0.840 0.067\n",
      "0.67 0.839 0.066\n",
      "0.68 0.837 0.065\n",
      "0.69 0.835 0.063\n",
      "0.70 0.834 0.062\n",
      "0.71 0.832 0.061\n",
      "0.72 0.830 0.060\n",
      "0.73 0.828 0.059\n",
      "0.74 0.827 0.058\n",
      "0.75 0.825 0.057\n",
      "0.76 0.822 0.056\n",
      "0.77 0.820 0.054\n",
      "0.78 0.818 0.053\n",
      "0.79 0.815 0.052\n",
      "0.80 0.812 0.050\n",
      "0.81 0.809 0.049\n",
      "0.82 0.805 0.047\n",
      "0.83 0.800 0.046\n",
      "0.84 0.795 0.045\n",
      "0.85 0.789 0.043\n",
      "0.86 0.781 0.042\n",
      "0.87 0.771 0.040\n",
      "0.88 0.759 0.037\n",
      "0.89 0.744 0.035\n",
      "0.90 0.723 0.032\n",
      "0.91 0.694 0.029\n",
      "0.92 0.654 0.025\n",
      "0.93 0.597 0.020\n",
      "0.94 0.516 0.015\n",
      "0.95 0.404 0.010\n",
      "0.96 0.260 0.005\n",
      "0.97 0.110 0.001\n",
      "0.98 0.016 0.000\n",
      "0.99 0.000 0.000\n"
     ]
    }
   ],
   "source": [
    "SignalEfficiency = []\n",
    "BackgroundMisID = []\n",
    "\n",
    "bb0n_events = np.array(bb0n['m_DNNvalue'].array()[bb0n_cut])\n",
    "bkg_events = np.array(bkg['m_DNNvalue'].array()[bkg_cut])\n",
    "\n",
    "DNNVals = np.arange(0,1,0.01)\n",
    "for x in DNNVals: \n",
    "    bb0n_dnn_cut = np.where(bb0n_events > x)\n",
    "    bkg_dnn_cut = np.where(bkg_events > x)\n",
    "\n",
    "    signal = len(bb0n_events[bb0n_dnn_cut]) / len(bb0n_events)\n",
    "    background = len(bkg_events[bkg_dnn_cut]) / len(bkg_events)\n",
    "    print(\"%.2f\" % x, \"%.3f\" % signal, \"%.3f\" % background)\n",
    "    \n",
    "    SignalEfficiency.append(signal)\n",
    "    BackgroundMisID.append(background)\n",
    "    \n",
    "SignalEfficiency = np.array(SignalEfficiency)\n",
    "BackgroundMisID = np.array(BackgroundMisID)"
   ]
  },
  {
   "cell_type": "markdown",
   "metadata": {},
   "source": [
    "Find point in the ROC curve where the combined signal efficiency in 2017 is equal to the signal efficiency for the DNN discriminator times the quality cut efficiency (DetectionEfficiency2020) from above"
   ]
  },
  {
   "cell_type": "code",
   "execution_count": 13,
   "metadata": {},
   "outputs": [],
   "source": [
    "Diff = np.abs(SignalEfficiency*DetectionEfficiency2020 - SignalEfficiency2017)\n",
    "DNNValCut = np.where(Diff == np.min(Diff))[0][0]"
   ]
  },
  {
   "cell_type": "markdown",
   "metadata": {},
   "source": [
    "### Plotting the ROC curve"
   ]
  },
  {
   "cell_type": "code",
   "execution_count": 14,
   "metadata": {},
   "outputs": [
    {
     "name": "stdout",
     "output_type": "stream",
     "text": [
      "The DNN value that yields the same signal efficient of 0.78 x 0.98 = 0.764 as in the last analysis is: DNN = 0.83\n"
     ]
    },
    {
     "data": {
      "image/png": "[encoded data removed]",
      "text/plain": [
       "<Figure size 576x432 with 2 Axes>"
      ]
     },
     "metadata": {
      "needs_background": "light"
     },
     "output_type": "display_data"
    }
   ],
   "source": [
    "fig, ax1 = plt.subplots(figsize=(8, 6))\n",
    "\n",
    "plt.xticks(fontsize=16)\n",
    "plt.yticks(np.arange(0,1.01,0.1), fontsize=16)\n",
    "plt.xlim(0,0.45)\n",
    "plt.ylim(0,1)\n",
    "plt.xlabel('Background misidentification', fontsize=16)\n",
    "plt.ylabel('Signal efficiency', fontsize=16)\n",
    "\n",
    "ax1.plot(BackgroundMisID, SignalEfficiency, color='k', label='ROC')\n",
    "plt.legend(loc='lower left', fontsize=16)\n",
    "\n",
    "ax2 = ax1.twinx()\n",
    "ax2.plot(BackgroundMisID, np.arange(0,1,0.01), color='orange', label ='DNN')\n",
    "plt.ylim(0,1)\n",
    "plt.ylabel('DNN Value', fontsize=16)\n",
    "plt.yticks(np.arange(0,1.01,0.1), fontsize=16)\n",
    "plt.legend(loc='lower right', fontsize=16)\n",
    "\n",
    "ax2.scatter(BackgroundMisID[DNNValCut], SignalEfficiency[DNNValCut], color='red', s=50)\n",
    "ax2.axvline(BackgroundMisID[DNNValCut], ymin=SignalEfficiency[DNNValCut], ymax=DNNVals[DNNValCut], color='red', ls ='--')\n",
    "ax2.axhline(DNNVals[DNNValCut], xmin=BackgroundMisID[DNNValCut]/0.45, xmax=1, color='red', ls ='--')\n",
    "ax2.text(x=0.2, y=DNNVals[DNNValCut]-0.05, s='DNN=%.2f' % DNNVals[DNNValCut], color='red')\n",
    "ax2.text(x=BackgroundMisID[DNNValCut], y=SignalEfficiency[DNNValCut]-0.05, s='Efficiency = %.3f' % SignalEfficiency2017, color='k')\n",
    "plt.savefig('signal_efficiency.pdf', bbox_inches='tight')\n",
    "\n",
    "print('The DNN value that yields the same signal efficient of 0.78 x 0.98 = 0.764 as in the last analysis is: DNN = %.2f' % DNNVals[DNNValCut])"
   ]
  },
  {
   "cell_type": "code",
   "execution_count": null,
   "metadata": {},
   "outputs": [],
   "source": []
  }
 ],
 "metadata": {
  "kernelspec": {
   "display_name": "py37",
   "language": "python",
   "name": "py37"
  },
  "language_info": {
   "codemirror_mode": {
    "name": "ipython",
    "version": 3
   },
   "file_extension": ".py",
   "mimetype": "text/x-python",
   "name": "python",
   "nbconvert_exporter": "python",
   "pygments_lexer": "ipython3",
   "version": "3.7.8"
  }
 },
 "nbformat": 4,
 "nbformat_minor": 4
}
