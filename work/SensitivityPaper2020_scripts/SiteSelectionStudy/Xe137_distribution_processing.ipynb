{
 "cells": [
  {
   "cell_type": "code",
   "execution_count": null,
   "id": "3cc7aeb3-ee37-48a6-ab2c-55b6e9f1da04",
   "metadata": {},
   "outputs": [],
   "source": [
    "import numpy as np\n",
    "import matplotlib.pyplot as plt\n",
    "from hist import Hist\n",
    "from lmfit.models import SkewedGaussianModel\n",
    "from scipy.stats import skewnorm\n",
    "from pathlib import Path"
   ]
  },
  {
   "cell_type": "markdown",
   "id": "47384f50-ec7a-47ab-8364-8cd080e522e3",
   "metadata": {},
   "source": [
    "This notebook is part of the analysis of the cosmogenic background analysis at different underground sites. \n",
    "The purpose is to process the distribution of xenon-137 atoms generated from the toy MC code that includes the efficiencies for muon tagging and the n-capture tagging. The processing here is to transform the distributions in a way that can be used by the sensitivity code "
   ]
  },
  {
   "cell_type": "markdown",
   "id": "fd212f06-5373-48be-81fe-a774fab0030d",
   "metadata": {
    "tags": []
   },
   "source": [
    "# Distributions"
   ]
  },
  {
   "cell_type": "markdown",
   "id": "c674c615-e579-4799-993a-863b4436d85b",
   "metadata": {},
   "source": [
    "These are the input data from the toy-MC in form of histogram. Bins are in units of counts in 10 years in the full LXe, so we normalize in units of kg/y"
   ]
  },
  {
   "cell_type": "code",
   "execution_count": null,
   "id": "c4d041a5-a785-4f65-97a2-3ff6b4055513",
   "metadata": {},
   "outputs": [],
   "source": [
    "dist_dict = {}"
   ]
  },
  {
   "cell_type": "code",
   "execution_count": null,
   "id": "3fc65713-4138-41fe-a743-594d6d894d1e",
   "metadata": {},
   "outputs": [],
   "source": [
    "counts = [6, 7, 27, 35, 85, 96, 119, 136, 116, 97, 84, 55, 48, 41, 18,  8, 13,  1,  6,  2]\n",
    "bins = [2533., 2566.3, 2599.6, 2632.9, 2666.2, 2699.5, 2732.8, 2766.1, 2799.4, 2832.7, 2866., 2899.3, 2932.6, 2965.9, 2999.2, 3032.5, 3065.8, 3099.1, 3132.4, 3165.7, 3199.]\n",
    "hints = {'amplitude': 1, 'center':1, 'sigma':0.4, 'gamma':1}\n",
    "dist_dict['LNGS_Eff70'] = {'counts':counts, 'bins':np.array(bins)/10./4896., 'hints':hints}"
   ]
  },
  {
   "cell_type": "code",
   "execution_count": null,
   "id": "38bfc75c-e392-4a9b-9a43-d4fcc0af1037",
   "metadata": {},
   "outputs": [],
   "source": [
    "counts = [3, 0, 2, 12, 8, 14, 20, 10, 12, 7, 1, 5, 2, 2, 1, 0, 0, 0, 0, 1]\n",
    "bins = [1426., 1446.95, 1467.9, 1488.85, 1509.8, 1530.75, 1551.7, 1572.65, 1593.6, 1614.55, 1635.5, 1656.45, 1677.4, 1698.35, 1719.3, 1740.25, 1761.2, 1782.15, 1803.1, 1824.05, 1845.]\n",
    "hints = {'amplitude': 1, 'center':1, 'sigma':0.4, 'gamma':1}\n",
    "dist_dict['LNGS_Eff80'] = {'counts':counts, 'bins':np.array(bins)/10./4896., 'hints':hints}"
   ]
  },
  {
   "cell_type": "code",
   "execution_count": null,
   "id": "cc8a04c2-f2f6-4841-a63b-f8838458fb6f",
   "metadata": {},
   "outputs": [],
   "source": [
    "counts = [1, 1, 2, 1, 5, 10, 6, 12, 13, 15, 14, 5, 4, 6, 3, 1, 0, 0, 0, 1]\n",
    "bins = [287., 293.7, 300.4, 307.1, 313.8, 320.5, 327.2, 333.9, 340.6, 347.3, 354., 360.7, 367.4, 374.1, 380.8, 387.5, 394.2, 400.9, 407.6, 414.3, 421., ]\n",
    "hints = {'amplitude': 1, 'center':1, 'sigma':0.4, 'gamma':1}\n",
    "dist_dict['SURF_Eff70'] = {'counts':counts, 'bins':np.array(bins)/10./4896., 'hints':hints}"
   ]
  },
  {
   "cell_type": "code",
   "execution_count": null,
   "id": "8d69d20c-f7e7-4f4b-8610-ca92879fbe25",
   "metadata": {},
   "outputs": [],
   "source": [
    "counts = [2, 1, 1, 3, 7, 6, 8, 12, 8, 7, 6, 8, 6, 7, 8, 5, 2, 2, 0, 1]\n",
    "bins = [193., 197.15, 201.3, 205.45, 209.6, 213.75, 217.9, 222.05, 226.2, 230.35, 234.5, 238.65, 242.8, 246.95, 251.1, 255.25, 259.4, 263.55, 267.7, 271.85, 276., ]\n",
    "hints = {'amplitude': 1, 'center':1, 'sigma':0.4, 'gamma':1}\n",
    "dist_dict['SURF_Eff80'] = {'counts':counts, 'bins':np.array(bins)/10./4896., 'hints':hints}"
   ]
  },
  {
   "cell_type": "code",
   "execution_count": null,
   "id": "2d28798c-ed38-41f2-9157-92c5e1c6e38d",
   "metadata": {},
   "outputs": [],
   "source": [
    "counts = [129, 1267, 3508, 3233, 1353, 373, 62, 27, 23, 9, 10, 0, 0, 0, 0, 0, 0, 1, 3, 2]\n",
    "bins = [9., 15.2, 21.4, 27.6, 33.8, 40., 46.2, 52.4, 58.6, 64.8, 71., 77.2, 83.4, 89.6, 95.8, 102., 108.2, 114.4, 120.6, 126.8, 133.]\n",
    "hints = {'amplitude': 1, 'center':1, 'sigma':0.4, 'gamma':1}\n",
    "dist_dict['SNOLAB_Eff70'] = {'counts':counts, 'bins':np.array(bins)/10./4896., 'hints':hints}"
   ]
  },
  {
   "cell_type": "code",
   "execution_count": null,
   "id": "f1680259-7c7d-4caf-a5ea-7f0387d0cb37",
   "metadata": {},
   "outputs": [],
   "source": [
    "counts = [1, 2, 2, 8, 9, 17, 18, 5, 15, 5, 6, 7, 2, 2, 0, 0, 0, 0, 0, 1]\n",
    "bins = [7., 8.6, 10.2, 11.8, 13.4, 15., 16.6, 18.2, 19.8, 21.4, 23., 24.6, 26.2, 27.8, 29.4, 31., 32.6, 34.2, 35.8, 37.4, 39., ]\n",
    "hints = {'amplitude': 1, 'center':1, 'sigma':0.4, 'gamma':1}\n",
    "dist_dict['SNOLAB_Eff80'] = {'counts':counts, 'bins':np.array(bins)/10./4896., 'hints':hints}"
   ]
  },
  {
   "cell_type": "code",
   "execution_count": null,
   "id": "fc4f3546-c954-4bec-83a2-4a9a632bcda6",
   "metadata": {},
   "outputs": [],
   "source": [
    "results = {}\n",
    "for label, v in dist_dict.items():\n",
    "    print(f'## {label}')\n",
    "    h = Hist.new.Regular(len(v['counts']), v['bins'][0], v['bins'][-1], name='cts/kg/y').Double()\n",
    "    h[:] = v['counts']\n",
    "    model = SkewedGaussianModel() \n",
    "    params = model.make_params(amplitude=1, center=1, sigma=0.4, gamma=1)\n",
    "    result = model.fit(v['counts'], params, x=h.axes[0].centers)\n",
    "    results[label] = result\n",
    "    print(\"Xe137DistributionModel: \")\n",
    "    print(\"    dist: 'skewnorm'\")\n",
    "    print(f\"    a: {result.best_values['gamma']}\")    \n",
    "    print(f\"    loc: {result.best_values['center']}\")\n",
    "    print(f\"    scale: {result.best_values['sigma']}\\n\\n\")\n",
    "    # print(result.fit_report())\n",
    "    # result.plot_fit(numpoints=100)\n",
    "    plt.show()"
   ]
  },
  {
   "cell_type": "code",
   "execution_count": null,
   "id": "9896c328-3fb7-4c1a-a42a-9b08732d679e",
   "metadata": {},
   "outputs": [],
   "source": [
    "ref_spec_activ = 2.684796228e-8 # mBq/kg, from R-088.1 materials db\n",
    "with open(Path('results') / 'spec_activities.txt', 'a') as f:\n",
    "    for label, r in results.items():\n",
    "        rv = skewnorm(r.best_values['gamma'],\n",
    "                    loc = r.best_values['center'],\n",
    "                    scale = r.best_values['sigma'])\n",
    "        mean_xe137_spec_activ = rv.mean() * 1000 / (365 * 24 * 3600)\n",
    "        print(f'{label}\\t{mean_xe137_spec_activ}\\t{mean_xe137_spec_activ/ref_spec_activ}')\n",
    "        print(f'{label}\\t{mean_xe137_spec_activ}\\t{mean_xe137_spec_activ/ref_spec_activ}', file=f)"
   ]
  },
  {
   "cell_type": "markdown",
   "id": "95d27a9e-5656-48e9-b518-9d0efa5cad50",
   "metadata": {},
   "source": [
    "Let's normalize and scale the units"
   ]
  },
  {
   "cell_type": "code",
   "execution_count": null,
   "id": "fb7558ed-52e5-4706-b31a-1a5daf988790",
   "metadata": {},
   "outputs": [],
   "source": [
    "pdf = np.array(counts) / float(sum(counts))\n",
    "bins = np.array(bins)/10./4896."
   ]
  },
  {
   "cell_type": "code",
   "execution_count": null,
   "id": "93c914a2-0bf9-4e35-a6af-c91497016d6f",
   "metadata": {},
   "outputs": [],
   "source": [
    "h = Hist.new.Regular(20, bins[0], bins[-1], name='cts/kg/y').Double()\n",
    "h[:] = counts\n",
    "h.plot()\n",
    "plt.show()"
   ]
  },
  {
   "cell_type": "markdown",
   "id": "6045cfe7-ad23-494d-ba79-6a383831d6e8",
   "metadata": {},
   "source": [
    "The output of the next cell can be copied in the sensitivity configuration file for use as a discrete distribution from which samples are drawn"
   ]
  },
  {
   "cell_type": "code",
   "execution_count": null,
   "id": "c3596261-4af6-42b2-b7ca-30c1a8e89b82",
   "metadata": {},
   "outputs": [],
   "source": [
    "bin_centers = h.axes[0].centers\n",
    "print(\"counts: [\", end='')\n",
    "print(*counts, sep=', ', end=']\\n')\n",
    "print(\"bin_centers: [\", end='')\n",
    "print(*bin_centers, sep=', ', end=']\\n')"
   ]
  },
  {
   "cell_type": "markdown",
   "id": "1211afbd-179c-4a09-ad96-750570907ac6",
   "metadata": {},
   "source": [
    "Now we fit with a function so we can use a continuous distribution from sampling. We use `lmfit` because it's so much more convenient"
   ]
  },
  {
   "cell_type": "code",
   "execution_count": null,
   "id": "0ea033ff-5862-4e28-b4d7-2ba15076409c",
   "metadata": {},
   "outputs": [],
   "source": [
    "from lmfit.models import SkewedGaussianModel\n",
    "model = SkewedGaussianModel() \n",
    "params = model.make_params(amplitude=1, center=1, sigma=0.4, gamma=1)\n",
    "result = model.fit(counts, params, x=bin_centers)\n",
    "print(result.fit_report())\n",
    "result.plot_fit(numpoints=100)\n",
    "h.plot()\n",
    "# plt.semilogy()"
   ]
  },
  {
   "cell_type": "markdown",
   "id": "44e3556f-78cb-4d08-829c-fe0d280fc2d3",
   "metadata": {},
   "source": [
    "We can now apply the fitting results to the scipy equivalent distribution, which has a fast implementation. "
   ]
  },
  {
   "cell_type": "code",
   "execution_count": null,
   "id": "668dc75c-8039-4ef4-8de4-619dfffff96b",
   "metadata": {},
   "outputs": [],
   "source": [
    "from scipy.stats import skewnorm\n",
    "x = np.linspace(bins[0], bins[-1], 100)\n",
    "h.plot()\n",
    "plt.plot(x, result.params['amplitude'].value*skewnorm.pdf(x, result.params['gamma'].value, \n",
    "                                                          loc=result.params['center'].value, \n",
    "                                                          scale=result.params['sigma'].value),\n",
    "                        'r-', lw=2, alpha=0.6, label='skewnorm pdf')\n"
   ]
  },
  {
   "cell_type": "markdown",
   "id": "1ddff427-6a33-42cd-b663-186159656d94",
   "metadata": {},
   "source": [
    "## Test Sampling"
   ]
  },
  {
   "cell_type": "markdown",
   "id": "cf16bd26-baed-412d-9c35-241a41512289",
   "metadata": {},
   "source": [
    "Here we show how one would reload and use the saved fitted function"
   ]
  },
  {
   "cell_type": "code",
   "execution_count": null,
   "id": "80d85439-8168-4ecd-9312-b81e3a056440",
   "metadata": {},
   "outputs": [],
   "source": [
    "rv = skewnorm(result.params['gamma'].value,loc=result.params['center'].value, \n",
    "                                            scale=result.params['sigma'].value)\n",
    "samples = rv.rvs(size=1000)\n",
    "h_sampled= Hist.new.Regular(20, min(samples), max(samples), name='E').Double()\n",
    "h_sampled.fill(samples)\n",
    "h_sampled.plot()\n",
    "plt.plot(x, result.params['amplitude'].value*rv.pdf(x),\n",
    "                        'r-', lw=2, alpha=0.6, label='skewnorm pdf')\n",
    "plt.show()"
   ]
  },
  {
   "cell_type": "code",
   "execution_count": null,
   "id": "b197e869-10aa-4f0e-af88-2ee86f99a4af",
   "metadata": {},
   "outputs": [],
   "source": [
    "rv.mean()"
   ]
  },
  {
   "cell_type": "markdown",
   "id": "f853f7ce-1519-42cd-9301-2ef06033d3ad",
   "metadata": {},
   "source": [
    "Here is how one could do the sampling from the discrete distribution"
   ]
  },
  {
   "cell_type": "code",
   "execution_count": null,
   "id": "3081018d-ec4b-411d-b685-cbcd41f52b94",
   "metadata": {},
   "outputs": [],
   "source": [
    "x = np.random.choice(len(pdf), size=1000, p=pdf)\n",
    "resampled = np.zeros(len(counts))\n",
    "for k in x:\n",
    "    resampled[k] += 1\n",
    "h_resampled = Hist.new.Regular(20, bins[0], bins[-1], name='cts/kg/y').Double()\n",
    "h_resampled[:] = resampled\n",
    "h_resampled.plot()\n",
    "plt.show()"
   ]
  },
  {
   "cell_type": "markdown",
   "id": "7042c757-b2bc-4374-9dbc-add14e050df2",
   "metadata": {},
   "source": [
    "# SNOLAB Xe137 Distribution"
   ]
  },
  {
   "cell_type": "code",
   "execution_count": null,
   "id": "2e782d69-7321-4c32-beef-a726f8e23824",
   "metadata": {},
   "outputs": [],
   "source": [
    "pdf = np.array(counts) / float(sum(counts))\n",
    "bins = np.array(bins)/10./4896."
   ]
  },
  {
   "cell_type": "code",
   "execution_count": null,
   "id": "016ce5d1-cfbc-4af6-a1b9-1d2ff0822b23",
   "metadata": {},
   "outputs": [],
   "source": [
    "import matplotlib.pyplot as plt\n",
    "from hist import Hist\n",
    "h = Hist.new.Regular(20, bins[0], bins[-1], name='E').Double()\n",
    "h[:] = counts\n",
    "h.plot()\n",
    "plt.show()"
   ]
  },
  {
   "cell_type": "markdown",
   "id": "321d3e0e-0c9b-4503-9482-f0165c4636f7",
   "metadata": {},
   "source": [
    "This can be copied in the sensitivity configuration file"
   ]
  },
  {
   "cell_type": "code",
   "execution_count": null,
   "id": "70c96120-636a-4990-93aa-62dbfe46032e",
   "metadata": {},
   "outputs": [],
   "source": [
    "bin_centers = h.axes[0].centers\n",
    "print(\"counts: [\", end='')\n",
    "print(*counts, sep=', ', end=']\\n')\n",
    "print(\"bin_centers: [\", end='')\n",
    "print(*bin_centers, sep=', ', end=']\\n')"
   ]
  },
  {
   "cell_type": "code",
   "execution_count": null,
   "id": "d0461ba2-1b85-4e59-9d60-9d45369bb7f7",
   "metadata": {},
   "outputs": [],
   "source": [
    "from lmfit.models import Model, LognormalModel, ExponentialGaussianModel, LinearModel, \\\n",
    "                         ConstantModel, GaussianModel, SkewedVoigtModel, SkewedGaussianModel\n",
    "model = SkewedGaussianModel()\n",
    "params = model.make_params(amplitude = 2000, center = -0.5, sigma=2, gamma=1)\n",
    "result = model.fit(counts, params, x=bin_centers)\n",
    "print(result.fit_report())\n",
    "result.plot_fit(numpoints=100)\n",
    "h.plot()\n",
    "plt.semilogy()"
   ]
  },
  {
   "cell_type": "code",
   "execution_count": null,
   "id": "87fc422d-ad4b-4a44-a181-aa524844f5a2",
   "metadata": {},
   "outputs": [],
   "source": [
    "from scipy.stats import skewnorm\n",
    "x = np.linspace(bins[0], bins[-1], 100)\n",
    "h.plot()\n",
    "plt.plot(x, result.params['amplitude'].value*skewnorm.pdf(x, result.params['gamma'].value, \n",
    "                                                          loc=result.params['center'].value, \n",
    "                                                          scale=result.params['sigma'].value),\n",
    "                        'r-', lw=2, alpha=0.6, label='skewnorm pdf')\n"
   ]
  },
  {
   "cell_type": "code",
   "execution_count": null,
   "id": "e3e8f5a1-d629-4746-9109-a8afe0d8dac3",
   "metadata": {},
   "outputs": [],
   "source": []
  }
 ],
 "metadata": {
  "kernelspec": {
   "display_name": "nEXO VirtualEnv",
   "language": "python",
   "name": "nexo_venv"
  },
  "language_info": {
   "codemirror_mode": {
    "name": "ipython",
    "version": 3
   },
   "file_extension": ".py",
   "mimetype": "text/x-python",
   "name": "python",
   "nbconvert_exporter": "python",
   "pygments_lexer": "ipython3",
   "version": "3.8.2"
  }
 },
 "nbformat": 4,
 "nbformat_minor": 5
}
