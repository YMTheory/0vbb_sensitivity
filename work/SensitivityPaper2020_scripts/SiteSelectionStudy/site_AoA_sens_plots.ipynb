{
 "cells": [
  {
   "cell_type": "code",
   "execution_count": null,
   "id": "9bb51dfb-8dfb-449e-a6f7-dfe41e13d4b3",
   "metadata": {},
   "outputs": [],
   "source": [
    "import numpy as np\n",
    "import matplotlib.pyplot as plt\n",
    "import seaborn as sns\n",
    "from pathlib import Path\n",
    "from scipy.interpolate import interp1d\n",
    "sns.set_style('white')\n",
    "sns.set_context('talk')"
   ]
  },
  {
   "cell_type": "code",
   "execution_count": null,
   "id": "006d2cec-5245-4360-960b-c1ba34f81ee7",
   "metadata": {},
   "outputs": [],
   "source": [
    "sens_xe137_scaling_d024 = np.genfromtxt('../PaperPlots/Data/d024_sensitivity_vs_xe137.csv',\\\n",
    "                                        delimiter=',',\\\n",
    "                                        skip_header=1)"
   ]
  },
  {
   "cell_type": "code",
   "execution_count": null,
   "id": "3722aeb3-81fe-428a-bc1d-36fd30ba4b18",
   "metadata": {},
   "outputs": [],
   "source": [
    "x = sens_xe137_scaling_d024[:,0]\n",
    "y = sens_xe137_scaling_d024[:,1]/1.e28"
   ]
  },
  {
   "cell_type": "code",
   "execution_count": null,
   "id": "a3badbca-7a9c-4a51-985d-63f8aef36a0f",
   "metadata": {},
   "outputs": [],
   "source": [
    "def log_interp1d(xx, yy, kind='linear'):\n",
    "    logx = np.log10(xx)\n",
    "    lin_interp = interp1d(logx, yy, kind=kind)\n",
    "    log_interp = lambda zz: lin_interp(np.log10(zz))\n",
    "    return log_interp"
   ]
  },
  {
   "cell_type": "code",
   "execution_count": null,
   "id": "175a67c9-0397-4807-aa57-9cdc203160f5",
   "metadata": {},
   "outputs": [],
   "source": [
    "log_interp = log_interp1d(x, y)"
   ]
  },
  {
   "cell_type": "code",
   "execution_count": null,
   "id": "feb3b7f4-927c-450e-8bcc-fd2858776864",
   "metadata": {},
   "outputs": [],
   "source": [
    "x_dense = np.linspace(0.01, 100, num=1001)"
   ]
  },
  {
   "cell_type": "code",
   "execution_count": null,
   "id": "3e8583d3-2b77-4a4c-a1a7-c5071adbb614",
   "metadata": {},
   "outputs": [],
   "source": [
    "fig, ax = plt.subplots(figsize=(8, 6))\n",
    "# plt.plot(x, y, 'o',linewidth=3,markersize=7,label='90\\% CL upper limit')\n",
    "plt.plot(x_dense, log_interp(x_dense), '-',linewidth=3,markersize=7,label=r'90% CL upper limit')\n",
    "plt.plot([0.2,], [log_interp(0.2),], 'o', label=\"SNOLAB Eff=97%\", markersize=12)\n",
    "plt.plot([0.45,], [log_interp(0.45),], 'o', label=\"SNOLAB Eff=80%\", markersize=12)\n",
    "plt.plot([0.68,], [log_interp(0.68),], 'o', label=\"SNOLAB Eff=70%\", markersize=12)\n",
    "plt.semilogx()\n",
    "plt.xlabel(r'$^{137}$Xe scaling compared to 2020 Sensitivity')\n",
    "plt.ylabel((r'Halflife ($\\times 10^{28}$ yrs)'))\n",
    "# plt.ylim(0.,3.)\n",
    "# plt.xlim(0.01,100.)\n",
    "# plt.legend(bbox_to_anchor=(1.05, 1.0), loc='upper left')\n",
    "plt.legend()\n",
    "plt.grid()\n",
    "plt.show()\n",
    "fig.savefig(Path(\"results\") / f\"sensitivity_Xe137_scaling.png\", bbox_inches=\"tight\", transparent=False, facecolor='white')"
   ]
  },
  {
   "cell_type": "code",
   "execution_count": null,
   "id": "ea2f71b0-2c2b-42f0-aa7b-5f9966ed1950",
   "metadata": {},
   "outputs": [],
   "source": [
    "fig, ax = plt.subplots(figsize=(8, 6))\n",
    "# plt.plot(x, y, 'o',linewidth=3,markersize=7,label='90\\% CL upper limit')\n",
    "plt.plot(x_dense, log_interp(x_dense), '-',linewidth=3,markersize=7,label=r'90% CL upper limit')\n",
    "plt.plot([2.5,], [log_interp(2.5),], 'X', label=\"SURF Eff=97%\", markersize=12)\n",
    "plt.plot([5.8,], [log_interp(5.8),], 'X', label=\"SURF Eff=80%\", markersize=12)\n",
    "plt.plot([8.3,], [log_interp(8.3),], 'X', label=\"SURF Eff=70%\", markersize=12)\n",
    "plt.semilogx()\n",
    "plt.xlabel(r'$^{137}$Xe scaling compared to 2020 Sensitivity')\n",
    "plt.ylabel((r'Halflife ($\\times 10^{28}$ yrs)'))\n",
    "# plt.ylim(0.,3.)\n",
    "# plt.xlim(0.01,100.)\n",
    "plt.legend(bbox_to_anchor=(1.05, 1.0), loc='upper left')\n",
    "# plt.legend()\n",
    "plt.grid()\n",
    "plt.show()\n",
    "fig.savefig(Path(\"results\") / f\"sensitivity_Xe137_scaling.png\", bbox_inches=\"tight\", transparent=False, facecolor='white')"
   ]
  },
  {
   "cell_type": "code",
   "execution_count": null,
   "id": "28cc5979-760e-45df-bf51-1faa66803910",
   "metadata": {},
   "outputs": [],
   "source": [
    "fig, ax = plt.subplots(figsize=(8, 6))\n",
    "# plt.plot(x, y, 'o',linewidth=3,markersize=7,label='90\\% CL upper limit')\n",
    "plt.plot(x_dense, log_interp(x_dense), '-',linewidth=3,markersize=7,label=r'90% CL upper limit')\n",
    "plt.plot([16,], [log_interp(16),], 's', label=\"LNGS Eff=97%\", markersize=12)\n",
    "plt.plot([38,], [log_interp(38),], 's', label=\"LNGS Eff=80%\", markersize=12)\n",
    "plt.plot([67,], [log_interp(67),], 's', label=\"LNGS Eff=70%\", markersize=12)\n",
    "# plt.plot([19,], [log_interp(19),], 'D', label=\"LNGS Eff=80% + $^{124}$Xe doping\", markersize=12)\n",
    "# plt.plot([4,], [log_interp(4),], 'D', label=\"LNGS Eff=80% + HFE doping\", markersize=12)\n",
    "plt.semilogx()\n",
    "plt.xlabel(r'$^{137}$Xe scaling compared to 2020 Sensitivity')\n",
    "plt.ylabel((r'Halflife ($\\times 10^{28}$ yrs)'))\n",
    "# plt.ylim(0.,3.)\n",
    "# plt.xlim(0.01,100.)\n",
    "plt.legend(bbox_to_anchor=(1.05, 1.0), loc='upper left')\n",
    "# plt.legend()\n",
    "plt.grid()\n",
    "plt.show()\n",
    "fig.savefig(Path(\"results\") / f\"sensitivity_Xe137_scaling.png\", bbox_inches=\"tight\", transparent=False, facecolor='white')"
   ]
  },
  {
   "cell_type": "code",
   "execution_count": null,
   "id": "bed902bf-d742-47b2-a3af-666e8b9cc886",
   "metadata": {},
   "outputs": [],
   "source": [
    "fig, ax = plt.subplots(figsize=(8, 6))\n",
    "# plt.plot(x, y, 'o',linewidth=3,markersize=7,label='90\\% CL upper limit')\n",
    "plt.plot(x_dense, log_interp(x_dense), '-',linewidth=1, markersize=7,label=r'90% CL upper limit', \n",
    "         color='black')\n",
    "plt.plot([0.2,], [log_interp(0.2),], 'o', label=\"SNOLAB Eff=97%\", markersize=14, color=sns.color_palette(\"dark\").as_hex()[0])\n",
    "plt.plot([0.45,], [log_interp(0.45),], 'o', label=\"SNOLAB Eff=80%\", markersize=14, color=sns.color_palette(\"tab10\").as_hex()[0])\n",
    "plt.plot([0.68,], [log_interp(0.68),], 'o', label=\"SNOLAB Eff=70%\", markersize=14, color=sns.color_palette(\"pastel\").as_hex()[0])\n",
    "plt.plot([2.5,], [log_interp(2.5),], 'X', label=\"SURF Eff=97%\", markersize=14, color=sns.color_palette(\"dark\").as_hex()[2])\n",
    "plt.plot([5.8,], [log_interp(5.8),], 'X', label=\"SURF Eff=80%\", markersize=14, color=sns.color_palette(\"tab10\").as_hex()[2])\n",
    "plt.plot([8.3,], [log_interp(8.3),], 'X', label=\"SURF Eff=70%\", markersize=14, color=sns.color_palette(\"pastel\").as_hex()[2])\n",
    "plt.plot([16,], [log_interp(16),], 's', label=\"LNGS Eff=97%\", markersize=14, color=sns.color_palette(\"dark\").as_hex()[3])\n",
    "plt.plot([38,], [log_interp(38),], 's', label=\"LNGS Eff=80%\", markersize=14, color=sns.color_palette(\"tab10\").as_hex()[3])\n",
    "plt.plot([67,], [log_interp(67),], 's', label=\"LNGS Eff=70%\", markersize=14, color=sns.color_palette(\"pastel\").as_hex()[3])\n",
    "plt.plot([19,], [log_interp(19),], 's', label=\"LNGS Eff=80% + $^{124}$Xe doping\", markersize=14, \n",
    "         color=sns.color_palette(\"tab10\").as_hex()[3], fillstyle='left')\n",
    "plt.plot([4,], [log_interp(4),], 's', label=\"LNGS Eff=80% + HFE doping\", markersize=14,\n",
    "        color=sns.color_palette(\"tab10\").as_hex()[3], fillstyle='top')\n",
    "plt.semilogx()\n",
    "plt.xlabel(r'$^{137}$Xe scaling compared to 2020 Sensitivity')\n",
    "plt.ylabel((r'Halflife ($\\times 10^{28}$ yrs)'))\n",
    "# plt.ylim(0.,3.)\n",
    "# plt.xlim(0.01,100.)\n",
    "plt.legend(bbox_to_anchor=(1.05, 1.0), loc='upper left')\n",
    "# plt.legend()\n",
    "plt.grid()\n",
    "plt.show()\n",
    "fig.savefig(Path(\"results\") / f\"sensitivity_Xe137_scaling.png\", bbox_inches=\"tight\", transparent=False, facecolor='white')"
   ]
  }
 ],
 "metadata": {
  "kernelspec": {
   "display_name": "nEXO VirtualEnv",
   "language": "python",
   "name": "nexo_venv"
  },
  "language_info": {
   "codemirror_mode": {
    "name": "ipython",
    "version": 3
   },
   "file_extension": ".py",
   "mimetype": "text/x-python",
   "name": "python",
   "nbconvert_exporter": "python",
   "pygments_lexer": "ipython3",
   "version": "3.8.2"
  }
 },
 "nbformat": 4,
 "nbformat_minor": 5
}
