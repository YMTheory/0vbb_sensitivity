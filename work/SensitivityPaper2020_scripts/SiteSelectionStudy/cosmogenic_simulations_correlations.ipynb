{
 "cells": [
  {
   "cell_type": "code",
   "execution_count": null,
   "id": "234e1dde-6fdb-4f8d-a37a-db73163f2b1d",
   "metadata": {},
   "outputs": [],
   "source": [
    "import uproot as up\n",
    "from hist import Hist, Stack\n",
    "import numpy as np\n",
    "import os\n",
    "import pandas as pd\n",
    "import awkward as ak\n",
    "import matplotlib.pyplot as plt\n",
    "import matplotlib.colors as colors\n",
    "import seaborn as sns\n",
    "from pathlib import Path\n",
    "from collections import namedtuple\n",
    "sns.set_style('white')\n",
    "sns.set_context('poster')"
   ]
  },
  {
   "cell_type": "code",
   "execution_count": null,
   "id": "8e78a38e-dabf-446a-bd4f-8a5d4534fd69",
   "metadata": {},
   "outputs": [],
   "source": [
    "outdir = Path(\"/g/g92/samuele/nEXO/sensitivity/work/SensitivityPaper2020_scripts/SiteSelectionStudy/results/\")"
   ]
  },
  {
   "cell_type": "code",
   "execution_count": null,
   "id": "2eb99033-d060-457f-ae30-f195883cec76",
   "metadata": {},
   "outputs": [],
   "source": [
    "Scenario = namedtuple('scenario', ['name', 'dir', 'muons_per_file'])\n",
    "\n",
    "case_list = [Scenario('LNGS',\n",
    "                      Path(\"/p/lustre2/nexouser/data/site_selection/LNGS_Shielding/large_run/cosmogenics_processed/data/\"),\n",
    "                      50e3),\n",
    "             Scenario('SNOLAB',\n",
    "                      Path(\"/p/lustre2/nexouser/data/site_selection/SNOLAB_Shielding_25TeV_v3/cosmo_analysis_data/data/\"),\n",
    "                      5e3)]"
   ]
  },
  {
   "cell_type": "code",
   "execution_count": null,
   "id": "7d344356-9b10-44ea-bba9-199f5304ba68",
   "metadata": {},
   "outputs": [],
   "source": [
    "branches = ['Xe137Count','Cu64Count','Cu66Count']\n",
    "events_filter = '(Xe137Count >0) | (Cu64Count >0) | (Cu66Count >0)'"
   ]
  },
  {
   "cell_type": "code",
   "execution_count": null,
   "id": "5fd6705a-615f-4a52-8119-8042adf3afb7",
   "metadata": {},
   "outputs": [],
   "source": [
    "%%time\n",
    "for case in case_list:\n",
    "    print(f\"Loading data for {case.name}...\")\n",
    "    \n",
    "    # if case.name == \"LNGS\":\n",
    "    #     file_list = list(x for x in case.dir.rglob('*.root') if x.is_file() and x.stat().st_size>1.1e9)\n",
    "    # else:\n",
    "    file_list = list(x for x in case.dir.rglob('*.root') if x.is_file())        \n",
    "    print(f'\\tFiles available: {len(file_list)}')\n",
    "    \n",
    "    upfile = up.open(file_list[0], object_cache=2000, array_cache='2000 MB')\n",
    "    tree = upfile[\"cosmoTree\"]\n",
    "    print(f'\\tEntries in the first file: {tree.num_entries}')\n",
    "    \n",
    "    events = ak.to_dataframe(up.concatenate(file_list, \n",
    "                                        branches, events_filter, allow_missing=True,\n",
    "                                        library='ak'))    \n",
    "    print(events.head(),'\\n')\n",
    "    \n",
    "    events.to_pickle(outdir / f\"{case.name}_activation_products.pkl\")"
   ]
  },
  {
   "cell_type": "code",
   "execution_count": null,
   "id": "48e0eadd-ecb6-481b-a948-bbcc7f8512b1",
   "metadata": {},
   "outputs": [],
   "source": [
    "# events = tree.arrays(branches, events_filter, library='pd')\n",
    "# for array in up.iterate(file_list[1:], branches, events_filter, library='pd'):\n",
    "    # events.append(array)"
   ]
  },
  {
   "cell_type": "code",
   "execution_count": null,
   "id": "f0ba6cd7-bf86-4835-9b49-c7ee4291680a",
   "metadata": {},
   "outputs": [],
   "source": [
    "# for file in file_list[1:]:\n",
    "    # with up.open(folder_path / file_name, object_cache=2000, array_cache='2000 MB') as upfile:\n",
    "        # print(file)\n",
    "        # tree = upfile[\"cosmoTree\"]\n",
    "        # events.append(tree.arrays(branches, events_filter, library='pd'))"
   ]
  },
  {
   "cell_type": "code",
   "execution_count": null,
   "id": "b9accb0b-e3ec-49f0-9a03-1a1a23cb0fc1",
   "metadata": {},
   "outputs": [],
   "source": [
    "events_dict = {}\n",
    "for case in case_list:\n",
    "    events_dict[case.name] = pd.read_pickle(outdir / f\"{case.name}_activation_products.pkl\")"
   ]
  },
  {
   "cell_type": "code",
   "execution_count": null,
   "id": "520af24b-b3fd-4d0b-bf70-73dd9d731478",
   "metadata": {},
   "outputs": [],
   "source": [
    "for case in case_list:\n",
    "    events = events_dict[case.name]\n",
    "    n_muons = case.muons_per_file * len(file_list)\n",
    "    Xe136ncapture_prob = events['Xe137Count'][events.Xe137Count > 0].count()/n_muons\n",
    "    print(f\"Probability of >1 136Xe n-capture per muon at {case.name}: {Xe136ncapture_prob:.2e}\")"
   ]
  },
  {
   "cell_type": "code",
   "execution_count": null,
   "id": "b4946f42-9f29-45bb-838c-fa33fa50e2e3",
   "metadata": {},
   "outputs": [],
   "source": [
    "for name, events in events_dict.items():\n",
    "    fig, ax = plt.subplots(figsize=(8, 6))\n",
    "    p = sns.histplot(events[(events.Xe137Count<30) & (events.Cu66Count<30) & (events.Cu64Count<30)], \n",
    "                 x='Xe137Count', y='Cu64Count', cmap=\"cividis\",  \n",
    "                 cbar = True, binwidth=1, binrange=((0,30),(0,30)),\n",
    "                 norm=colors.LogNorm(), vmin=None, vmax=None)\n",
    "    p.set(xlabel='$^{136}$Xe n-captures/muon')\n",
    "    p.set(ylabel='$^{63}$Cu n-captures/muon')\n",
    "    p.set(title=name)\n",
    "    fig.savefig(outdir / f\"{name}_63Cu_vs_136Xe.png\", bbox_inches=\"tight\", transparent=False, facecolor='white')"
   ]
  },
  {
   "cell_type": "code",
   "execution_count": null,
   "id": "ca5a9835-b460-4511-881d-ccfe425500b3",
   "metadata": {},
   "outputs": [],
   "source": [
    "for name, events in events_dict.items():\n",
    "    fig, ax = plt.subplots(figsize=(8, 6))\n",
    "    p = sns.histplot(events[(events.Xe137Count<30) & (events.Cu66Count<30) & (events.Cu64Count<30)], \n",
    "                 x='Xe137Count', y='Cu66Count', cmap=\"cividis\",  \n",
    "                 cbar = True, binwidth=1, binrange=((0,30),(0,30)),\n",
    "                 norm=colors.LogNorm(), vmin=None, vmax=None)\n",
    "    p.set(xlabel='$^{136}$Xe n-captures/muon')\n",
    "    p.set(ylabel='$^{65}$Cu n-captures/muon')\n",
    "    p.set(title=name)\n",
    "    fig.savefig(outdir / f\"{name}_65Cu_vs_136Xe.png\", bbox_inches=\"tight\", transparent=False, facecolor='white')"
   ]
  },
  {
   "cell_type": "code",
   "execution_count": null,
   "id": "c6a08690-92ca-4bac-b702-8680ccd350a4",
   "metadata": {},
   "outputs": [],
   "source": [
    "for name, events in events_dict.items():\n",
    "    fig, ax = plt.subplots(figsize=(8, 6))\n",
    "    p = sns.histplot(events[(events.Xe137Count<30) & (events.Cu66Count<30) & (events.Cu64Count<30)], \n",
    "                 x='Cu66Count', y='Cu64Count', cmap=\"cividis\", \n",
    "                 cbar = True, binwidth=1, binrange=((0,30),(0,30)),\n",
    "                 norm=colors.LogNorm(), vmin=None, vmax=None)\n",
    "    p.set(xlabel='$^{65}$Cu n-captures/muon')\n",
    "    p.set(ylabel='$^{63}$Cu n-captures/muon')\n",
    "    p.set(title=name)\n",
    "    fig.savefig(outdir / f\"{name}_63Cu_vs_65Cu.png\", bbox_inches=\"tight\", transparent=False, facecolor='white')"
   ]
  },
  {
   "cell_type": "code",
   "execution_count": null,
   "id": "6b84591d-6750-464a-bbea-a5c644065da9",
   "metadata": {},
   "outputs": [],
   "source": [
    "fig, ax = plt.subplots(figsize=(8, 6))\n",
    "hist_dict = {} \n",
    "for name, events in events_dict.items():\n",
    "    hist_dict[name] = Hist.new.Regular(150, 0, 150).Double()\n",
    "    hist_dict[name].fill(events[events.Xe137Count>0]['Xe137Count'])\n",
    "    hist_dict[name][:] = hist_dict[name].density()\n",
    "    print(name)\n",
    "    print(f\"\\t Mean: {events[events.Xe137Count>0]['Xe137Count'].mean()}\")\n",
    "    print(f\"\\t Median: {events[events.Xe137Count>0]['Xe137Count'].median()}\")\n",
    "s = Stack.from_dict(hist_dict)\n",
    "s.plot(histtype=\"fill\", alpha=0.7)\n",
    "plt.legend()\n",
    "plt.xlabel(r'$^{136}$Xe n-captures/muon')\n",
    "plt.ylabel('Probability')\n",
    "plt.semilogy()\n",
    "plt.show()\n",
    "fig.savefig(outdir / f\"136Xe_multiplicity_distr.png\", bbox_inches=\"tight\", transparent=False, facecolor='white')"
   ]
  },
  {
   "cell_type": "code",
   "execution_count": null,
   "id": "4eb32f80-ca6a-446e-8d1e-231d09db0976",
   "metadata": {},
   "outputs": [],
   "source": []
  }
 ],
 "metadata": {
  "kernelspec": {
   "display_name": "nEXO VirtualEnv",
   "language": "python",
   "name": "nexo_venv"
  },
  "language_info": {
   "codemirror_mode": {
    "name": "ipython",
    "version": 3
   },
   "file_extension": ".py",
   "mimetype": "text/x-python",
   "name": "python",
   "nbconvert_exporter": "python",
   "pygments_lexer": "ipython3",
   "version": "3.8.2"
  }
 },
 "nbformat": 4,
 "nbformat_minor": 5
}
