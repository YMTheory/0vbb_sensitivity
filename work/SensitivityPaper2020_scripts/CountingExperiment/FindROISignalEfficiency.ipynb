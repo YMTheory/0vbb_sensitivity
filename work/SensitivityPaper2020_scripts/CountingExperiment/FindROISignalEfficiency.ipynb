{
 "cells": [
  {
   "cell_type": "markdown",
   "metadata": {},
   "source": [
    "# Signal Efficiency in the Region of Interest for nEXO\n",
    "This Juptyer notebook calculates the signal efficiency, i.e. the fraction of $ 0\\nu\\beta\\beta$ events that fall within the region of interest (ROI) as defined below. This number will be used in the counting experiment calculations in this [Jupyter Notebook](https://github.com/nEXO-collaboration/sensitivity/blob/sensitivity2020/work/SensitivityPaper2020_scripts/DiscoveryPotential/Counting_Experiment.ipynb)"
   ]
  },
  {
   "cell_type": "markdown",
   "metadata": {},
   "source": [
    "### Adjusting cell width"
   ]
  },
  {
   "cell_type": "code",
   "execution_count": 1,
   "metadata": {},
   "outputs": [
    {
     "output_type": "display_data",
     "data": {
      "text/plain": "<IPython.core.display.HTML object>",
      "text/html": "<style>.container { width:95% !important; }</style>"
     },
     "metadata": {}
    }
   ],
   "source": [
    "from IPython.core.display import display, HTML\n",
    "display(HTML(\"<style>.container { width:95% !important; }</style>\"))"
   ]
  },
  {
   "cell_type": "markdown",
   "metadata": {},
   "source": [
    "### Importing packages"
   ]
  },
  {
   "cell_type": "code",
   "execution_count": 2,
   "metadata": {},
   "outputs": [],
   "source": [
    "import numpy as np\n",
    "import uproot # uproot examples: https://indico.cern.ch/event/686641/contributions/2894906/attachments/1606247/2548596/pivarski-uproot.pdf"
   ]
  },
  {
   "cell_type": "markdown",
   "metadata": {},
   "source": [
    "### Defining cuts\n",
    "Define cut that selects events that are within the ROI, i.e. passing all standoff quality cuts, the charge-over-light cut, be within the FWHM region around the Q-value as defined in this [Jupyter Notebook](https://github.com/nEXO-collaboration/sensitivity/blob/sensitivity2020/work/SensitivityPaper2020_scripts/DiscoveryPotential/FindEnergyROI.ipynb) and have a DNN value of larger than 0.85 (qualifying as Single-Site)."
   ]
  },
  {
   "cell_type": "code",
   "execution_count": 3,
   "metadata": {},
   "outputs": [],
   "source": [
    "def GetROICut(tree):\n",
    "    cut = np.where((tree['passed_xy_thresh'].array() == True) \\\n",
    "               & (tree['passed_z_thresh'].array() == True) \\\n",
    "               & (tree['n_x_ch_abovenoise'].array() > 0) \\\n",
    "               & (tree['n_y_ch_abovenoise'].array() > 0) \\\n",
    "               & (tree['m_nOPCal'].array() < (1.077*tree['m_nQ'].array()+313)) \\\n",
    "               & (tree['m_nOPCal'].array() > (0.597*tree['m_nQ'].array()-216)) \\\n",
    "               & (tree['standoff'].array() > 0.0) \\\n",
    "               & (tree['m_DNNvalue'].array() > 0.85) \\\n",
    "               & (tree['energy'].array() > 2435) \\\n",
    "               & (tree['energy'].array() < 2481) \\\n",
    "               & (tree['NESTBugFound'].array() == False) \\\n",
    "               & (tree['NearAnodeBugFound'].array() == False) \\\n",
    "              )\n",
    "    return cut        "
   ]
  },
  {
   "cell_type": "markdown",
   "metadata": {},
   "source": [
    "Define cut that removes events in the denominator that we know are bad due to a bug in NEST"
   ]
  },
  {
   "cell_type": "code",
   "execution_count": 4,
   "metadata": {},
   "outputs": [],
   "source": [
    "def GetBugCut(tree):\n",
    "    cut = np.where((tree['NESTBugFound'].array() == False) \\\n",
    "               & (tree['NearAnodeBugFound'].array() == False) \\\n",
    "               & (tree['standoff'].array() > 0.0) \\\n",
    "               )\n",
    "    return cut         "
   ]
  },
  {
   "cell_type": "markdown",
   "metadata": {},
   "source": [
    "### Reading in data from ROOT files"
   ]
  },
  {
   "cell_type": "code",
   "execution_count": 5,
   "metadata": {},
   "outputs": [],
   "source": [
    "bb0n = uproot.open(\"/p/vast1/nexo/data/merged-v10b/Baseline2019_bb0n_FullLXe.root\")['tree']"
   ]
  },
  {
   "cell_type": "markdown",
   "metadata": {},
   "source": [
    "### Applying cuts"
   ]
  },
  {
   "cell_type": "code",
   "execution_count": 6,
   "metadata": {},
   "outputs": [],
   "source": [
    "AllEvents = bb0n['energy'].array()[GetBugCut(bb0n)]"
   ]
  },
  {
   "cell_type": "code",
   "execution_count": 7,
   "metadata": {},
   "outputs": [],
   "source": [
    "ROIEvents = bb0n['energy'].array()[GetROICut(bb0n)]"
   ]
  },
  {
   "cell_type": "markdown",
   "metadata": {},
   "source": [
    "### Calculating the signal efficiency "
   ]
  },
  {
   "cell_type": "code",
   "execution_count": 8,
   "metadata": {},
   "outputs": [
    {
     "output_type": "stream",
     "name": "stdout",
     "text": [
      "Number of total events: 75098801\nNumber of total events (after NestBug): 74007964\nNumber of events passing all cuts and are within ROI: 42598484\nROI signal efficiency: 57.56\n"
     ]
    }
   ],
   "source": [
    "print('Number of total events: %d' % len(bb0n['energy'].array()))\n",
    "print('Number of total events (after NestBug): %d' % len(AllEvents))\n",
    "print('Number of events passing all cuts and are within ROI: %d' % len(ROIEvents))\n",
    "print('ROI signal efficiency: %.2f' % (len(ROIEvents)/len(AllEvents)*100))"
   ]
  }
 ],
 "metadata": {
  "kernelspec": {
   "display_name": "py37",
   "language": "python",
   "name": "py37"
  },
  "language_info": {
   "codemirror_mode": {
    "name": "ipython",
    "version": 3
   },
   "file_extension": ".py",
   "mimetype": "text/x-python",
   "name": "python",
   "nbconvert_exporter": "python",
   "pygments_lexer": "ipython3",
   "version": "3.7.8-final"
  }
 },
 "nbformat": 4,
 "nbformat_minor": 4
}