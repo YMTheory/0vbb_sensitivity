{
 "cells": [
  {
   "cell_type": "markdown",
   "metadata": {},
   "source": [
    "# Critical Lambda and Limits Tutorial\n",
    "\n",
    "This tutorial is intended to show one how to calculate the critical lambda curve and then the 90% confidence limit on the number of 0nuBB counts for the 2020 nEXO sensitivity paper. These two calculations are carried out by two scripts:\n",
    "\n",
    "* `ComputeCriticalLambdaForFixedNumSignal.py`\n",
    "* `Compute90PercentLimit_PythonCode.py`\n",
    "\n",
    "Both scripts use the new python-based code and return the fit results in pandas dataframes, which are then written to HDF5 files. Below I will run one toy dataset with each and look at the output data.\n"
   ]
  },
  {
   "cell_type": "code",
   "execution_count": 1,
   "metadata": {},
   "outputs": [],
   "source": [
    "# Import useful libraries for analysis\n",
    "\n",
    "import pandas as pd\n",
    "import histlite as hl\n",
    "import numpy as np\n",
    "from matplotlib import pyplot as plt\n",
    "\n",
    "plt.rcParams.update({'font.size': 14})\n",
    "plt.rcParams['figure.figsize'] = (7,6)"
   ]
  },
  {
   "cell_type": "markdown",
   "metadata": {},
   "source": [
    "## Critical lambda calculation\n",
    "\n",
    "First, we'll start with the critical lambda calculation. This requires one to simulate an ensemble of datasets under a specific hypothesis (meaning some assumed number of signal counts), then compute the likelihood ratio for that hypothesis by fixing the signal value to the one used to generate the dataset. Doing this over and over again will generate a distribution, and the 90% quantile of that distribution represents a threshold for which the p-value of that hypothesis will be less than 10%. (For a better explanation of the statistics, check out the first nEXO sensitivity paper).\n",
    "\n",
    "We've wrapped this up into a python script that takes a few command line arguments and then runs all the necessary code to do this calculation. Let's take a look at that python script now. First, we need to `cd` into the directory where the script lives, since there are some hardcoded relative `PATH`s.\n"
   ]
  },
  {
   "cell_type": "code",
   "execution_count": 3,
   "metadata": {},
   "outputs": [
    {
     "name": "stdout",
     "output_type": "stream",
     "text": [
      "/g/g20/lenardo1/nEXO/sensitivity/work/SensitivityPaper2020_scripts\n"
     ]
    },
    {
     "data": {
      "text/plain": [
       "'/g/g20/lenardo1/nEXO/sensitivity/work/SensitivityPaper2020_scripts'"
      ]
     },
     "execution_count": 3,
     "metadata": {},
     "output_type": "execute_result"
    }
   ],
   "source": [
    "%cd ../SensitivityPaper2020_scripts/\n",
    "%pwd"
   ]
  },
  {
   "cell_type": "code",
   "execution_count": 4,
   "metadata": {},
   "outputs": [
    {
     "name": "stdout",
     "output_type": "stream",
     "text": [
      "\n",
      "\n",
      "ERROR: ComputeCriticalLambdaForNumSignal.py requires 3 arguments\n",
      "Usage:\n",
      "\tpython ComputeCriticalLambdaForNumSignal.py <iteration_num> <input_num_signal> <num_datasets_to_generate> </path/to/output/directory/>\n"
     ]
    },
    {
     "ename": "SystemExit",
     "evalue": "\n",
     "output_type": "error",
     "traceback": [
      "An exception has occurred, use %tb to see the full traceback.\n",
      "\u001b[0;31mSystemExit\u001b[0m\u001b[0;31m:\u001b[0m \n\n"
     ]
    }
   ],
   "source": [
    "# Running the script with no arguements will produce an error, and a message showing what\n",
    "# arguments need to be provided.\n",
    "%run ComputeCriticalLambdaForFixedNumSignal.py"
   ]
  },
  {
   "cell_type": "markdown",
   "metadata": {},
   "source": [
    "Quick explanation of the arguments:\n",
    "* `<iteration_num>` is just a number that gets appended to the output filename. This is used when submitting a bunch of parallel jobs, so the files don't overwrite each other. For now, we can use whatever we want.\n",
    "* `<input_num_signal>` is the input hypothesis, which is a number of signal counts.\n",
    "* `<num_datasets_to_generate>` is how many toy datasets will be created/fit\n",
    "* `</path/to/output/directory/>` is wherever you'd like the output to end up\n",
    "\n",
    "\n",
    "So let's try it:"
   ]
  },
  {
   "cell_type": "code",
   "execution_count": 5,
   "metadata": {},
   "outputs": [
    {
     "name": "stdout",
     "output_type": "stream",
     "text": [
      "\n",
      "Loading input data froma previously-generated components table....\n",
      "\n",
      "Loaded dataframe with 130 components.\n",
      "Contains the following quantities of interest:\n",
      "\tPDFName\n",
      "\tComponent\n",
      "\tIsotope\n",
      "\tMC ID\n",
      "\tHistogram\n",
      "\tHistogramAxisNames\n",
      "\tTotal Mass or Area\n",
      "\tHalflife\n",
      "\tSpecActiv\n",
      "\tSpecActivErr\n",
      "\tRawActiv\n",
      "\tRawActivErr\n",
      "\tActivity ID\n",
      "\tExpected Counts\n",
      "\tExpected Counts Err\n",
      "\tExpected Counts UL\n",
      "\tTotalHitEff_N\n",
      "\tTotalHitEff_K\n",
      "\tGroup\n",
      "\n",
      "Fit variables:\n",
      "\t['SS/MS', 'Energy (keV)', 'Standoff (mm)']\n",
      "\n",
      "Creating grouped PDFs....\n",
      "\tGroup:     \tExpected Counts:\n",
      "\tFar        \t        4882.22\n",
      "\tVessel_U238 \t       19053.03\n",
      "\tVessel_Th232 \t        2169.26\n",
      "\tOff        \t      139350.25\n",
      "\tInternals_U238 \t       46351.84\n",
      "\tInternals_Th232 \t        8667.26\n",
      "\tFullTPC_Co60 \t         216.19\n",
      "\tFullTPC_K40 \t    32572615.75\n",
      "\tRn222      \t        9107.27\n",
      "\tFullLXeBb2n \t    27949377.02\n",
      "\tFullLXeBb0n \t           0.00\n",
      "\tXe137      \t          46.52\n",
      "\tTotal Sum  \t    60612486.34\n",
      "\n",
      "\n",
      "Running dataset 0....\n",
      "\n",
      "Variable name:        Value:       IsFixed:  FitError   InputError:   IsConstrained: Limits:      \n",
      "Num_Far               4.882e+03    False     None       69.87         False          (0.0 ,48822.15158717998)\n",
      "Num_Vessel_U238       1.905e+04    False     None       138.0         False          (0.0 ,190530.2605959463)\n",
      "Num_Vessel_Th232      2.169e+03    False     None       46.58         False          (0.0 ,21692.59708083749)\n",
      "Num_Internals_U238    4.635e+04    False     None       215.3         False          (0.0 ,463518.4165649111)\n",
      "Num_Internals_Th232   8.667e+03    False     None       93.1          False          (0.0 ,86672.56708537013)\n",
      "Num_FullTPC_Co60      216.2        True      None       14.7          False          (0.0 ,2161.8837805932717)\n",
      "Num_FullTPC_K40       3.257e+07    False     None       5.707e+03     False          (0.0 ,325726157.48000866)\n",
      "Num_Rn222             9.107e+03    False     None       95.43         True           (0.0 ,91072.67168202484)\n",
      "Num_FullLXeBb2n       2.795e+07    False     None       5.287e+03     False          (0.0 ,279493770.20627487)\n",
      "Num_FullLXeBb0n       10.0         False     None       1e+03         False          (0.0 ,100.0)\n",
      "Num_Xe137             46.52        False     None       6.82          False          (0.0 ,465.16653485793006)\n",
      "Signal_Efficiency     1.0          False     None       0.01          True           (0.0 ,10.0)\n",
      "\n",
      "Constraints:\n",
      "\t{'Name': 'Num_Rn222', 'Index': 7, 'Value': 9797.477038277513, 'Width': 910.7267168202485}\n",
      "\t{'Name': 'Signal_Efficiency', 'Index': 11, 'Value': 1.0153668269625338, 'Width': 0.1}\n",
      "\n",
      "\n",
      "\n",
      "Running best fit...\n",
      "\n",
      "------------------------------------------------------------------\n",
      "| FCN = -9.237                  |     Ncalls=476 (476 total)     |\n",
      "| EDM = 5.94E-06 (Goal: 5E-06)  |            up = 0.5            |\n",
      "------------------------------------------------------------------\n",
      "|  Valid Min.   | Valid Param.  | Above EDM | Reached call limit |\n",
      "------------------------------------------------------------------\n",
      "|     True      |     True      |   False   |       False        |\n",
      "------------------------------------------------------------------\n",
      "| Hesse failed  |   Has cov.    | Accurate  | Pos. def. | Forced |\n",
      "------------------------------------------------------------------\n",
      "|     False     |     True      |   True    |   True    | False  |\n",
      "------------------------------------------------------------------\n",
      "Best fit result NLL: -9.237\n",
      "Variable name:        Value:       IsFixed:  FitError   InputError:   IsConstrained: Limits:      \n",
      "Num_Far               4.559e+03    False     1169       69.87         False          (0.0 ,48822.15158717998)\n",
      "Num_Vessel_U238       2.303e+04    False     3747       138.0         False          (0.0 ,190530.2605959463)\n",
      "Num_Vessel_Th232      1.48e+03     False     901.       46.58         False          (0.0 ,21692.59708083749)\n",
      "Num_Internals_U238    3.952e+04    False     4054       215.3         False          (0.0 ,463518.4165649111)\n",
      "Num_Internals_Th232   9.055e+03    False     1084       93.1          False          (0.0 ,86672.56708537013)\n",
      "Num_FullTPC_Co60      216.2        True      14.7       14.7          False          (0.0 ,2161.8837805932717)\n",
      "Num_FullTPC_K40       3.257e+07    False     6136       5.707e+03     False          (0.0 ,325726157.48000866)\n",
      "Num_Rn222             9.636e+03    False     852.       95.43         True           (0.0 ,91072.67168202484)\n",
      "Num_FullLXeBb2n       2.796e+07    False     5685       5.287e+03     False          (0.0 ,279493770.20627487)\n",
      "Num_FullLXeBb0n       4.708        False     5.01       1e+03         False          (0.0 ,100.0)\n",
      "Num_Xe137             73.03        False     28.8       6.82          False          (0.0 ,465.16653485793006)\n",
      "Signal_Efficiency     1.016        False     0.08       0.01          True           (0.0 ,10.0)\n",
      "\n",
      "\n",
      "Fit with Num_FullLXeBb0n fixed at 10.0 cts...\n",
      "\n",
      "------------------------------------------------------------------\n",
      "| FCN = -8.809                  |     Ncalls=546 (546 total)     |\n",
      "| EDM = 2.29E-06 (Goal: 5E-06)  |            up = 0.5            |\n",
      "------------------------------------------------------------------\n",
      "|  Valid Min.   | Valid Param.  | Above EDM | Reached call limit |\n",
      "------------------------------------------------------------------\n",
      "|     True      |     True      |   False   |       False        |\n",
      "------------------------------------------------------------------\n",
      "| Hesse failed  |   Has cov.    | Accurate  | Pos. def. | Forced |\n",
      "------------------------------------------------------------------\n",
      "|     False     |     True      |   False   |   False   |  True  |\n",
      "------------------------------------------------------------------\n",
      "Fit iteration 2\n",
      "------------------------------------------------------------------\n",
      "| FCN = -8.809                  |     Ncalls=525 (525 total)     |\n",
      "| EDM = 7.39E-07 (Goal: 5E-06)  |            up = 0.5            |\n",
      "------------------------------------------------------------------\n",
      "|  Valid Min.   | Valid Param.  | Above EDM | Reached call limit |\n",
      "------------------------------------------------------------------\n",
      "|     True      |     True      |   False   |       False        |\n",
      "------------------------------------------------------------------\n",
      "| Hesse failed  |   Has cov.    | Accurate  | Pos. def. | Forced |\n",
      "------------------------------------------------------------------\n",
      "|     False     |     True      |   True    |   True    | False  |\n",
      "------------------------------------------------------------------\n",
      "Variable values at end of loop:\n",
      "Variable name:        Value:       IsFixed:  FitError   InputError:   IsConstrained: Limits:      \n",
      "Num_Far               4.53e+03     False     996.       69.87         False          (0.0 ,48822.15158717998)\n",
      "Num_Vessel_U238       2.281e+04    False     2520       138.0         False          (0.0 ,190530.2605959463)\n",
      "Num_Vessel_Th232      1.486e+03    False     537.       46.58         False          (0.0 ,21692.59708083749)\n",
      "Num_Internals_U238    3.969e+04    False     2416       215.3         False          (0.0 ,463518.4165649111)\n",
      "Num_Internals_Th232   9.056e+03    False     601.       93.1          False          (0.0 ,86672.56708537013)\n",
      "Num_FullTPC_Co60      216.2        True      14.7       14.7          False          (0.0 ,2161.8837805932717)\n",
      "Num_FullTPC_K40       3.257e+07    False     6128       5.707e+03     False          (0.0 ,325726157.48000866)\n",
      "Num_Rn222             9.633e+03    False     724.       95.43         True           (0.0 ,91072.67168202484)\n",
      "Num_FullLXeBb2n       2.796e+07    False     5673       5.287e+03     False          (0.0 ,279493770.20627487)\n",
      "Num_FullLXeBb0n       10.0         False     1000       1e+03         False          (0.0 ,100.0)\n",
      "Num_Xe137             69.68        False     26.5       6.82          False          (0.0 ,465.16653485793006)\n",
      "Signal_Efficiency     1.005        False     0.08       0.01          True           (0.0 ,10.0)\n",
      "Dataset 0 finished at 1.82s\n",
      "Saving file to output directory: ./\n",
      "Elapsed: 1.879s\n"
     ]
    },
    {
     "name": "stderr",
     "output_type": "stream",
     "text": [
      "/collab/usr/gapps/python/build/spack-toss3.3/opt/spack/linux-rhel7-x86_64/gcc-4.9.3/python-3.7.2-asydydmavj2puklmx5t6cu3ruzmg2b3a/lib/python3.7/site-packages/pandas/core/generic.py:2378: PerformanceWarning: \n",
      "your performance may suffer as PyTables will pickle object types that it cannot\n",
      "map directly to c-types [inferred_type->mixed,key->block3_values] [items->['best_fit_errors', 'best_fit_parameters', 'fixed_fit_errors', 'fixed_fit_parameters', 'input_parameters']]\n",
      "\n",
      "  return pytables.to_hdf(path_or_buf, key, self, **kwargs)\n"
     ]
    }
   ],
   "source": [
    "%run ComputeCriticalLambdaForFixedNumSignal.py 1 10. 1 ./"
   ]
  },
  {
   "cell_type": "markdown",
   "metadata": {},
   "source": [
    "Looks like it worked! The output file will be called `critical_lambda_calculation_num_sig_10.0_file_1.h5`. \n",
    "\n",
    "The output data is stored in a `pandas` dataframe, which gets written to the output file using the `pandas.DataFrame.to_hdf()` method. Let's open that up and take a look:"
   ]
  },
  {
   "cell_type": "code",
   "execution_count": 19,
   "metadata": {},
   "outputs": [
    {
     "data": {
      "text/html": [
       "<div>\n",
       "<style scoped>\n",
       "    .dataframe tbody tr th:only-of-type {\n",
       "        vertical-align: middle;\n",
       "    }\n",
       "\n",
       "    .dataframe tbody tr th {\n",
       "        vertical-align: top;\n",
       "    }\n",
       "\n",
       "    .dataframe thead th {\n",
       "        text-align: right;\n",
       "    }\n",
       "</style>\n",
       "<table border=\"1\" class=\"dataframe\">\n",
       "  <thead>\n",
       "    <tr style=\"text-align: right;\">\n",
       "      <th></th>\n",
       "      <th>best_fit_converged</th>\n",
       "      <th>best_fit_covar</th>\n",
       "      <th>best_fit_errors</th>\n",
       "      <th>best_fit_iterations</th>\n",
       "      <th>best_fit_parameters</th>\n",
       "      <th>fixed_fit_converged</th>\n",
       "      <th>fixed_fit_covar</th>\n",
       "      <th>fixed_fit_errors</th>\n",
       "      <th>fixed_fit_iterations</th>\n",
       "      <th>fixed_fit_parameters</th>\n",
       "      <th>input_parameters</th>\n",
       "      <th>lambda</th>\n",
       "      <th>num_signal</th>\n",
       "    </tr>\n",
       "  </thead>\n",
       "  <tbody>\n",
       "    <tr>\n",
       "      <th>0</th>\n",
       "      <td>True</td>\n",
       "      <td>True</td>\n",
       "      <td>{'Num_Far': 1169.2487677269582, 'Num_Vessel_U2...</td>\n",
       "      <td>1</td>\n",
       "      <td>{'Num_Far': 4559.498409043134, 'Num_Vessel_U23...</td>\n",
       "      <td>True</td>\n",
       "      <td>True</td>\n",
       "      <td>{'Num_Far': 996.5507785848697, 'Num_Vessel_U23...</td>\n",
       "      <td>2</td>\n",
       "      <td>{'Num_Far': 4529.570475546009, 'Num_Vessel_U23...</td>\n",
       "      <td>{'Num_Far': 4882.215158717998, 'Num_Vessel_U23...</td>\n",
       "      <td>0.855804</td>\n",
       "      <td>10.0</td>\n",
       "    </tr>\n",
       "  </tbody>\n",
       "</table>\n",
       "</div>"
      ],
      "text/plain": [
       "   best_fit_converged  best_fit_covar  \\\n",
       "0                True            True   \n",
       "\n",
       "                                     best_fit_errors  best_fit_iterations  \\\n",
       "0  {'Num_Far': 1169.2487677269582, 'Num_Vessel_U2...                    1   \n",
       "\n",
       "                                 best_fit_parameters  fixed_fit_converged  \\\n",
       "0  {'Num_Far': 4559.498409043134, 'Num_Vessel_U23...                 True   \n",
       "\n",
       "   fixed_fit_covar                                   fixed_fit_errors  \\\n",
       "0             True  {'Num_Far': 996.5507785848697, 'Num_Vessel_U23...   \n",
       "\n",
       "   fixed_fit_iterations                               fixed_fit_parameters  \\\n",
       "0                     2  {'Num_Far': 4529.570475546009, 'Num_Vessel_U23...   \n",
       "\n",
       "                                    input_parameters    lambda  num_signal  \n",
       "0  {'Num_Far': 4882.215158717998, 'Num_Vessel_U23...  0.855804        10.0  "
      ]
     },
     "execution_count": 19,
     "metadata": {},
     "output_type": "execute_result"
    }
   ],
   "source": [
    "df = pd.read_hdf('critical_lambda_calculation_num_sig_10.0_file_1.h5')\n",
    "df.head()"
   ]
  },
  {
   "cell_type": "markdown",
   "metadata": {},
   "source": [
    "We only ran a single dataset, so the output dataframe has a single row. The `df.head()` table format can be a bit tricky to read, so we can directly list the names of the columns contained in the output (equivalent to branches in a TTree):"
   ]
  },
  {
   "cell_type": "code",
   "execution_count": 20,
   "metadata": {},
   "outputs": [
    {
     "name": "stdout",
     "output_type": "stream",
     "text": [
      "Index(['best_fit_converged', 'best_fit_covar', 'best_fit_errors',\n",
      "       'best_fit_iterations', 'best_fit_parameters', 'fixed_fit_converged',\n",
      "       'fixed_fit_covar', 'fixed_fit_errors', 'fixed_fit_iterations',\n",
      "       'fixed_fit_parameters', 'input_parameters', 'lambda', 'num_signal'],\n",
      "      dtype='object')\n"
     ]
    }
   ],
   "source": [
    "# Look at the columns:\n",
    "print(df.columns)"
   ]
  },
  {
   "cell_type": "markdown",
   "metadata": {},
   "source": [
    "Below I inspect a few of these:"
   ]
  },
  {
   "cell_type": "code",
   "execution_count": 21,
   "metadata": {},
   "outputs": [
    {
     "name": "stdout",
     "output_type": "stream",
     "text": [
      "Best fit converged? True\n",
      "Best fit has accurate covariance matrix? True\n",
      "\n",
      "\n",
      "Fixed fit parameter values:\n",
      "Num_Far:                4.53e+03 counts\n",
      "Num_Vessel_U238:        2.281e+04 counts\n",
      "Num_Vessel_Th232:       1.486e+03 counts\n",
      "Num_Internals_U238:     3.969e+04 counts\n",
      "Num_Internals_Th232:    9.056e+03 counts\n",
      "Num_FullTPC_Co60:       216.2 counts\n",
      "Num_FullTPC_K40:        3.257e+07 counts\n",
      "Num_Rn222:              9.633e+03 counts\n",
      "Num_FullLXeBb2n:        2.796e+07 counts\n",
      "Num_FullLXeBb0n:        10.0 counts\n",
      "Num_Xe137:              69.62 counts\n",
      "Signal_Efficiency:      1.005 counts\n",
      "\n",
      "\n",
      "What was the profile likelhood ratio for this hypothesis under the given dataset? \n",
      "\tLambda = 0.8558\n"
     ]
    }
   ],
   "source": [
    "# We can use the DataFrame.iloc[] method to look the results from a single toy dataset.\n",
    "this_evt_idx = 0\n",
    "this_row = df.iloc[this_evt_idx]\n",
    "\n",
    "\n",
    "# Did the best fit converge?\n",
    "print('Best fit converged? {}'.format( this_row['best_fit_converged'] ) )\n",
    "print('Best fit has accurate covariance matrix? {}'.format( this_row['best_fit_covar'] ) )\n",
    "\n",
    "\n",
    "\n",
    "# For the fit with a fixed num_signal, what did the parameters converge to?\n",
    "print('\\n\\nFixed fit parameter values:')\n",
    "for key,val in (this_row['fixed_fit_parameters']).items():\n",
    "    print('{:<23} {:4.4} counts'.format(key+':',val))\n",
    "    \n",
    "    \n",
    "    \n",
    "# What was lambda?\n",
    "print('\\n\\nWhat was the profile likelhood ratio for ' +\\\n",
    "      'this hypothesis under the given dataset? \\n' +\\\n",
    "      '\\tLambda = {:4.4}'.format(this_row['lambda']) )\n",
    "\n",
    "\n",
    "\n"
   ]
  },
  {
   "cell_type": "markdown",
   "metadata": {},
   "source": [
    "## Computing the 90% confidence limit\n",
    "\n",
    "In the next few days, I'll add the same thing here...."
   ]
  },
  {
   "cell_type": "code",
   "execution_count": null,
   "metadata": {},
   "outputs": [],
   "source": []
  }
 ],
 "metadata": {
  "kernelspec": {
   "display_name": "localpythonpackages",
   "language": "python",
   "name": "localpythonpackages"
  },
  "language_info": {
   "codemirror_mode": {
    "name": "ipython",
    "version": 3
   },
   "file_extension": ".py",
   "mimetype": "text/x-python",
   "name": "python",
   "nbconvert_exporter": "python",
   "pygments_lexer": "ipython3",
   "version": "3.7.2"
  }
 },
 "nbformat": 4,
 "nbformat_minor": 2
}
