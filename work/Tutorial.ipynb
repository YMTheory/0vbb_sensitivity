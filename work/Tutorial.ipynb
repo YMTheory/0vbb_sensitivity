{
 "cells": [
  {
   "cell_type": "markdown",
   "metadata": {},
   "source": [
    "# Sensitivity code tutorial\n",
    "\n",
    "This notebook is intended to demonstrate how the python-based sensitivity code works, and how one can run it. It is not intended to be used for a full calculation -- full calculations should be written up into a script and run in many parallel jobs on a cluster. Instead, this document is intended to walk you through a calculation start-to-finish, and show you what each step is doing. If there is something that is not explained well, or could be better documented, feel free to get in touch: blenardo@stanford.edu\n",
    "\n",
    "## Definitions/glossary\n",
    "\n",
    "There are a few words that have very specific meanings in the context of the sensitivity code.  We define them here:\n",
    "* **Component:** A \"component\" is a specific material/isotope pair. For instance, \"Field Ring U238\" is a single component. Each component has an associated specific activity, mass, and PDF.\n",
    "* **PDF:** This stands for \"probability density function,\" and in our context means the distribution in energy/standoff/whatever-space for events from a certain component. PDFs are generated using the processed (clustered & reconstructed) output from the Geant4 simulations.\n",
    "* **Material:** A \"material\" is exactly what it sounds like: copper, silicon, Al, etc. \n",
    "* **Isotope:** The parent isotope which produces the background PDF. For example, any backgrounds from the Th232 decay chain for a given material will be lumped together, and the events will all be contained in a PDF with the isotope Th232.\n",
    "* **Group:** A \"group\" is defined as a grouping of multiple components, with a single PDF corresponding to the weighted sum of each of the component PDFs. Generally, we'd like to form groups of components with similarly-shaped distributions, to avoid degeneracies in our fits. \n",
    "* **Livetime:** Our assumption for how long the experiment will run\n",
    "* **Specific Activity:** How many decays of a given isotope we will get per unit mass of the material. These values come from assay measurements.\n",
    "* **Mass:** Mass of the component in kg. Used in conjunction with Specific Activity to determine the weight (meaning number of counts) of the PDF for each component. \n",
    "* **Weight:** Here, the word \"weight\" does not refer to a physical property, but rather a coefficient that scales the PDF to the appropriate number of counts that we expect to see in our experiment.\n",
    "* **Hit Efficiency:** This isn't actually used in the sensitivity code, but is stored in the Materials Spreadsheet nonetheless; it quantifies what fraction of decays from a given component create an event in a specific energy region (e.g. the FWHM ROI) and mass (e.g. the inner two tons)\n",
    "\n",
    "\n",
    "\n",
    "## Import relevant libraries\n",
    "\n",
    "First, of course, we need to import the relevant libraries. The sensitivity code has several dependencies that you will need to install:\n",
    "* xlrd\n",
    "* uproot\n",
    "* pandas\n",
    "* histlite\n",
    "\n",
    "If you need help installing these, please contact Brian L. From here, I'll assume that you've installed all of these already.\n",
    "\n",
    "The nEXO-specific python classes are contained in the directory: \n",
    "<code>sensitivity/modules</code>\n",
    "To correctly import them, you'll need to append this directory to python's search path, as below.\n"
   ]
  },
  {
   "cell_type": "code",
   "execution_count": 1,
   "metadata": {},
   "outputs": [
    {
     "name": "stdout",
     "output_type": "stream",
     "text": [
      "/Users/brianlenardo/Research/nEXO/sensitivity/work\r\n"
     ]
    }
   ],
   "source": [
    "# Import sys, then tell python where to find the nEXO-specific classes\n",
    "\n",
    "import sys\n",
    "!pwd\n",
    "sys.path.append('../modules')"
   ]
  },
  {
   "cell_type": "code",
   "execution_count": 2,
   "metadata": {},
   "outputs": [],
   "source": [
    "# Import useful libraries for analysis\n",
    "\n",
    "import pandas as pd\n",
    "import histlite as hl\n",
    "import numpy as np\n",
    "from matplotlib import pyplot as plt"
   ]
  },
  {
   "cell_type": "code",
   "execution_count": 3,
   "metadata": {},
   "outputs": [],
   "source": [
    "# Import the nEXO sensitivity classes\n",
    "\n",
    "import nEXOFitWorkspace\n",
    "import nEXOFitModel\n",
    "import nEXOFitLikelihood"
   ]
  },
  {
   "cell_type": "markdown",
   "metadata": {},
   "source": [
    "## OPTIONAL: Converting the Excel spreadsheet and ROOT pdfs to HDF5 file formats.\n",
    "\n",
    "The Materials Spreadsheet is a document stored in the Materials Database, which contains relevant information of the activities, masses, and Geant4 hit efficiencies. To feed it into the sensitivity code, we need to parse the spreadsheet and turn it into a more readily machine-readable format. Here we accomplish this using a script called ```ConvertExcel2DataFrame.py``` contained in ```sensitivity/work/```. This script uses the Pandas python library to read and then store the information in the spreadsheet.\n",
    "\n",
    "The \n",
    "\n"
   ]
  },
  {
   "cell_type": "markdown",
   "metadata": {},
   "source": [
    "# Step 1: Creating a workspace\n",
    "\n",
    "The ```workspace``` class is a container that stores and organizes all of the various sub-objects and data tables that are required for the sensitivity calculation. These include:\n",
    "\n",
    "* **df_components**, which is a pandas-dataframe version of the Materials Spreadsheet from the Materials Database. This contains details for every component in the detector, including specific activities and masses, as well as the Geant4-generated distributions, which we need to generate an overall event distribution.\n",
    "* **df_group_pdfs**, which is a pandas dataframe containing the PDFs for each group that we'll use in the fit.\n",
    "* **neg_log_likelihood**, which is the object that contains the likelihood function and a list of the free parameters in the fit.\n",
    "* **minimizer**, which is the minimizer (we currently use iMinuit)\n",
    "* **livetime**, a variable storing the number of seconds that we expect the experiment to run\n",
    "* **histogram_axis_names**, which is a list storing the names of each dimension in the fit (e.g. \"energy\", \"standoff\", etc.)\n",
    "* **config**, a dict which contains configuration parameters, read in from a YAML configuration file. Most importantly, the YAML file contains the group assignments, i.e. which group each component will be added to to generated the summed PDFs. The YAML file can also contain things like custom user-defined weights for the PDFs, if you want to play around with activities and stuff.\n",
    "\n",
    "The ```workspace``` also has methods to populate the sub-objects.\n",
    "\n",
    "Below, we create a workspace, then load in the input dataframe and grouped PDFs from files generated by the materials database. \n"
   ]
  },
  {
   "cell_type": "code",
   "execution_count": 4,
   "metadata": {},
   "outputs": [],
   "source": [
    "workspace = nEXOFitWorkspace.nEXOFitWorkspace( config = 'config/TUTORIAL_config.yaml')"
   ]
  },
  {
   "cell_type": "markdown",
   "metadata": {},
   "source": [
    "If you want to change the groupings, etc, you should create a new configuration YAML file and add it here."
   ]
  },
  {
   "cell_type": "markdown",
   "metadata": {},
   "source": [
    "\n",
    "\n",
    "\n",
    "# Step 2: Generating or loading the components table\n",
    "\n",
    "The \"components table\" is the same as \"df_components\" described above - it should combine the information from the Materials Database (activities, hit efficiencies, etc.) with the Geant4-generated distributions into one easily-manipulated table. \n",
    "\n",
    "The components table can be included in three different ways:\n",
    "* Loading a previously-generated ComponentsTable file\n",
    "* Generating a new ComponentsTable file using an Excel spreadsheet downloaded from the Materials DB\n",
    "* Generating a new ComponentsTable file by directly reading the Materials DB (NOT YET IMPLEMENTED!!)\n",
    "\n",
    "**All** of these options require that you have the Geant4-generated distributions available as histlite objects, stored in a file. In this tutorial, the file containing all the histograms is the file ```tutorial/Histograms_Baseline2017Take2.h5```"
   ]
  },
  {
   "cell_type": "code",
   "execution_count": 5,
   "metadata": {},
   "outputs": [
    {
     "data": {
      "text/html": [
       "<div>\n",
       "<style scoped>\n",
       "    .dataframe tbody tr th:only-of-type {\n",
       "        vertical-align: middle;\n",
       "    }\n",
       "\n",
       "    .dataframe tbody tr th {\n",
       "        vertical-align: top;\n",
       "    }\n",
       "\n",
       "    .dataframe thead th {\n",
       "        text-align: right;\n",
       "    }\n",
       "</style>\n",
       "<table border=\"1\" class=\"dataframe\">\n",
       "  <thead>\n",
       "    <tr style=\"text-align: right;\">\n",
       "      <th></th>\n",
       "      <th>Filename</th>\n",
       "      <th>Histogram</th>\n",
       "      <th>HistogramAxisNames</th>\n",
       "    </tr>\n",
       "  </thead>\n",
       "  <tbody>\n",
       "    <tr>\n",
       "      <th>0</th>\n",
       "      <td>MC-073_Sens_K40_CalibrationGuideTube1.root</td>\n",
       "      <td>Hist(2 bins in [0,2], 280 bins in [700.0,3500....</td>\n",
       "      <td>[SS/MS, Energy (keV), Standoff (mm)]</td>\n",
       "    </tr>\n",
       "    <tr>\n",
       "      <th>1</th>\n",
       "      <td>MC-073_Sens_Co60_CalibrationGuideTube1.root</td>\n",
       "      <td>Hist(2 bins in [0,2], 280 bins in [700.0,3500....</td>\n",
       "      <td>[SS/MS, Energy (keV), Standoff (mm)]</td>\n",
       "    </tr>\n",
       "    <tr>\n",
       "      <th>2</th>\n",
       "      <td>MC-073_Sens_Th232_CalibrationGuideTube1.root</td>\n",
       "      <td>Hist(2 bins in [0,2], 280 bins in [700.0,3500....</td>\n",
       "      <td>[SS/MS, Energy (keV), Standoff (mm)]</td>\n",
       "    </tr>\n",
       "    <tr>\n",
       "      <th>3</th>\n",
       "      <td>MC-073_Sens_U238_CalibrationGuideTube1.root</td>\n",
       "      <td>Hist(2 bins in [0,2], 280 bins in [700.0,3500....</td>\n",
       "      <td>[SS/MS, Energy (keV), Standoff (mm)]</td>\n",
       "    </tr>\n",
       "    <tr>\n",
       "      <th>4</th>\n",
       "      <td>MC-074_Sens_Co60_CalibrationGuideTube2.root</td>\n",
       "      <td>Hist(2 bins in [0,2], 280 bins in [700.0,3500....</td>\n",
       "      <td>[SS/MS, Energy (keV), Standoff (mm)]</td>\n",
       "    </tr>\n",
       "  </tbody>\n",
       "</table>\n",
       "</div>"
      ],
      "text/plain": [
       "                                       Filename  \\\n",
       "0    MC-073_Sens_K40_CalibrationGuideTube1.root   \n",
       "1   MC-073_Sens_Co60_CalibrationGuideTube1.root   \n",
       "2  MC-073_Sens_Th232_CalibrationGuideTube1.root   \n",
       "3   MC-073_Sens_U238_CalibrationGuideTube1.root   \n",
       "4   MC-074_Sens_Co60_CalibrationGuideTube2.root   \n",
       "\n",
       "                                           Histogram  \\\n",
       "0  Hist(2 bins in [0,2], 280 bins in [700.0,3500....   \n",
       "1  Hist(2 bins in [0,2], 280 bins in [700.0,3500....   \n",
       "2  Hist(2 bins in [0,2], 280 bins in [700.0,3500....   \n",
       "3  Hist(2 bins in [0,2], 280 bins in [700.0,3500....   \n",
       "4  Hist(2 bins in [0,2], 280 bins in [700.0,3500....   \n",
       "\n",
       "                     HistogramAxisNames  \n",
       "0  [SS/MS, Energy (keV), Standoff (mm)]  \n",
       "1  [SS/MS, Energy (keV), Standoff (mm)]  \n",
       "2  [SS/MS, Energy (keV), Standoff (mm)]  \n",
       "3  [SS/MS, Energy (keV), Standoff (mm)]  \n",
       "4  [SS/MS, Energy (keV), Standoff (mm)]  "
      ]
     },
     "execution_count": 5,
     "metadata": {},
     "output_type": "execute_result"
    }
   ],
   "source": [
    "histograms_dataframe = pd.read_hdf('../tutorial/Histograms_Baseline2017Take2.h5')\n",
    "histograms_dataframe.head()"
   ]
  },
  {
   "cell_type": "markdown",
   "metadata": {},
   "source": [
    "You can see how this file is laid out - there are three columns: the name of the original Geant4 file (from which we can see which component is represented in the distribution), the actual histogram itself (a histlite object), and the names of each of the axes."
   ]
  },
  {
   "cell_type": "markdown",
   "metadata": {},
   "source": [
    "## a) Generating a new ComponentsTable from an Excel spreadsheet\n",
    "\n",
    "In this tutorial, we'll generate the components table from an Excel spreadsheet, downloaded from the Materials Database. For now, we will use the one located at ```tutorial/Summary_D-005_v25_2020-01-21.xls```\n",
    "\n",
    "> **Note**: if you download a new spreadsheet from the Materials DB, it won't work right out of the box. You have to open it in Excel and \"Save As\" a .xls file (old-school Excel), then use the .xls file with the sensitivity code. This is an inconveniet bug, but I haven't yet figured out how to fix it."
   ]
  },
  {
   "cell_type": "code",
   "execution_count": 6,
   "metadata": {},
   "outputs": [
    {
     "name": "stdout",
     "output_type": "stream",
     "text": [
      "Loading sheets...\n",
      "\tReading SpecificActivities...\n",
      "\tReading DetectorSpecifications...\n",
      "\tReading SS_ExpectedCounts\n",
      "\tReading MS_ExpectedCounts\n",
      "\tReading MC_RawCounts_SS_Integrals\n",
      "\tReading MC_RawCounts_MS_Integrals\n",
      "Sheets loaded.\n"
     ]
    },
    {
     "name": "stderr",
     "output_type": "stream",
     "text": [
      "../modules/nEXOExcelTableReader.py:119: RuntimeWarning: invalid value encountered in sqrt\n",
      "  thispdf['Expected Counts Err'] = np.sqrt( thispdf['Expected Counts'] ) #thisrowSS['Error'].iloc[0] + thisrowMS['Error'].iloc[0]\n"
     ]
    },
    {
     "name": "stdout",
     "output_type": "stream",
     "text": [
      "\n",
      "Loaded dataframe with 130 components.\n",
      "Contains the following quantities of interest:\n",
      "\tPDFName\n",
      "\tComponent\n",
      "\tIsotope\n",
      "\tMC ID\n",
      "\tHistogram\n",
      "\tHistogramAxisNames\n",
      "\tTotal Mass or Area\n",
      "\tHalflife\n",
      "\tSpecActiv\n",
      "\tSpecActivErr\n",
      "\tRawActiv\n",
      "\tRawActivErr\n",
      "\tActivity ID\n",
      "\tExpected Counts\n",
      "\tExpected Counts Err\n",
      "\tExpected Counts UL\n",
      "\tTotalHitEff_N\n",
      "\tTotalHitEff_K\n",
      "\tGroup\n",
      "\n",
      "Fit variables:\n",
      "\t['SS/MS', 'Energy (keV)', 'Standoff (mm)']\n",
      "\n",
      "\n",
      "Writing table to file ComponentsTable_D-005_v25_2020-01-21.h5\n",
      "\n",
      "Elapsed time = 9.49 seconds (0.158 minutes).\n"
     ]
    },
    {
     "name": "stderr",
     "output_type": "stream",
     "text": [
      "/anaconda3/lib/python3.7/site-packages/pandas/core/generic.py:2531: PerformanceWarning: \n",
      "your performance may suffer as PyTables will pickle object types that it cannot\n",
      "map directly to c-types [inferred_type->mixed-integer,key->block1_values] [items->['PDFName', 'Component', 'Isotope', 'MC ID', 'Histogram', 'HistogramAxisNames', 'Activity ID', 'TotalHitEff_N', 'Group']]\n",
      "\n",
      "  pytables.to_hdf(path_or_buf, key, self, **kwargs)\n"
     ]
    }
   ],
   "source": [
    "excelFile = '../tutorial/Summary_D-005_v25_2020-01-21.xls'\n",
    "histogramsFile = '../tutorial/Histograms_Baseline2017Take2.h5'\n",
    "\n",
    "workspace.CreateComponentsTableFromXLS( excelFile, histogramsFile )"
   ]
  },
  {
   "cell_type": "markdown",
   "metadata": {},
   "source": [
    "> **Note:** There are two warnings generated. The first is generated when we try to compute the uncertainty on the number of expected counts from a component with a negative activity. The second is an issue with storing the dataframe in HDF5 files. Neither affects the calculation here, so we'll ignore them for now."
   ]
  },
  {
   "cell_type": "markdown",
   "metadata": {},
   "source": [
    "Reading the output above, you can get an idea of what goes into the components table. The components table is now stored in ```workspace.df_components```, as shown below:"
   ]
  },
  {
   "cell_type": "code",
   "execution_count": 7,
   "metadata": {},
   "outputs": [
    {
     "data": {
      "text/html": [
       "<div>\n",
       "<style scoped>\n",
       "    .dataframe tbody tr th:only-of-type {\n",
       "        vertical-align: middle;\n",
       "    }\n",
       "\n",
       "    .dataframe tbody tr th {\n",
       "        vertical-align: top;\n",
       "    }\n",
       "\n",
       "    .dataframe thead th {\n",
       "        text-align: right;\n",
       "    }\n",
       "</style>\n",
       "<table border=\"1\" class=\"dataframe\">\n",
       "  <thead>\n",
       "    <tr style=\"text-align: right;\">\n",
       "      <th></th>\n",
       "      <th>PDFName</th>\n",
       "      <th>Component</th>\n",
       "      <th>Isotope</th>\n",
       "      <th>MC ID</th>\n",
       "      <th>Histogram</th>\n",
       "      <th>HistogramAxisNames</th>\n",
       "      <th>Total Mass or Area</th>\n",
       "      <th>Halflife</th>\n",
       "      <th>SpecActiv</th>\n",
       "      <th>SpecActivErr</th>\n",
       "      <th>RawActiv</th>\n",
       "      <th>RawActivErr</th>\n",
       "      <th>Activity ID</th>\n",
       "      <th>Expected Counts</th>\n",
       "      <th>Expected Counts Err</th>\n",
       "      <th>Expected Counts UL</th>\n",
       "      <th>TotalHitEff_N</th>\n",
       "      <th>TotalHitEff_K</th>\n",
       "      <th>Group</th>\n",
       "    </tr>\n",
       "  </thead>\n",
       "  <tbody>\n",
       "    <tr>\n",
       "      <th>0</th>\n",
       "      <td>U238_OuterCryostatSupportResin</td>\n",
       "      <td>Outer Cryostat Support (Resin)</td>\n",
       "      <td>U-238</td>\n",
       "      <td>MC-089</td>\n",
       "      <td>Hist(2 bins in [0,2], 280 bins in [700.0,3500....</td>\n",
       "      <td>[SS/MS, Energy (keV), Standoff (mm)]</td>\n",
       "      <td>345.0</td>\n",
       "      <td>4.468000e+09</td>\n",
       "      <td>-0.0229</td>\n",
       "      <td>0.0581</td>\n",
       "      <td>-0.007900</td>\n",
       "      <td>0.020044</td>\n",
       "      <td>R-016.3.4.1</td>\n",
       "      <td>-0.380705</td>\n",
       "      <td>NaN</td>\n",
       "      <td>1.584225</td>\n",
       "      <td>1000000000</td>\n",
       "      <td>1527.000000</td>\n",
       "      <td>Far</td>\n",
       "    </tr>\n",
       "    <tr>\n",
       "      <th>1</th>\n",
       "      <td>Th232_OuterCryostatSupportResin</td>\n",
       "      <td>Outer Cryostat Support (Resin)</td>\n",
       "      <td>Th-232</td>\n",
       "      <td>MC-089</td>\n",
       "      <td>Hist(2 bins in [0,2], 280 bins in [700.0,3500....</td>\n",
       "      <td>[SS/MS, Energy (keV), Standoff (mm)]</td>\n",
       "      <td>345.0</td>\n",
       "      <td>1.400000e+10</td>\n",
       "      <td>-0.0537</td>\n",
       "      <td>0.0468</td>\n",
       "      <td>-0.018526</td>\n",
       "      <td>0.016146</td>\n",
       "      <td>R-016.3.4.1</td>\n",
       "      <td>-2.638408</td>\n",
       "      <td>NaN</td>\n",
       "      <td>3.772107</td>\n",
       "      <td>1000000000</td>\n",
       "      <td>4512.880171</td>\n",
       "      <td>Far</td>\n",
       "    </tr>\n",
       "    <tr>\n",
       "      <th>2</th>\n",
       "      <td>K40_OuterCryostatSupportResin</td>\n",
       "      <td>Outer Cryostat Support (Resin)</td>\n",
       "      <td>K-40</td>\n",
       "      <td>MC-089</td>\n",
       "      <td>Hist(2 bins in [0,2], 280 bins in [700.0,3500....</td>\n",
       "      <td>[SS/MS, Energy (keV), Standoff (mm)]</td>\n",
       "      <td>345.0</td>\n",
       "      <td>1.248000e+09</td>\n",
       "      <td>-0.3110</td>\n",
       "      <td>0.5810</td>\n",
       "      <td>-0.107295</td>\n",
       "      <td>0.200445</td>\n",
       "      <td>R-016.3.4.1</td>\n",
       "      <td>-0.375835</td>\n",
       "      <td>NaN</td>\n",
       "      <td>1.154449</td>\n",
       "      <td>1000000000</td>\n",
       "      <td>111.000000</td>\n",
       "      <td>Far</td>\n",
       "    </tr>\n",
       "    <tr>\n",
       "      <th>3</th>\n",
       "      <td>Co60_OuterCryostatSupportResin</td>\n",
       "      <td>Outer Cryostat Support (Resin)</td>\n",
       "      <td>Co-60</td>\n",
       "      <td>MC-089</td>\n",
       "      <td>Hist(2 bins in [0,2], 280 bins in [700.0,3500....</td>\n",
       "      <td>[SS/MS, Energy (keV), Standoff (mm)]</td>\n",
       "      <td>345.0</td>\n",
       "      <td>5.270000e+00</td>\n",
       "      <td>-0.0375</td>\n",
       "      <td>0.0168</td>\n",
       "      <td>-0.012937</td>\n",
       "      <td>0.005796</td>\n",
       "      <td>R-016.3.4.1</td>\n",
       "      <td>-0.300308</td>\n",
       "      <td>NaN</td>\n",
       "      <td>0.222038</td>\n",
       "      <td>1000000000</td>\n",
       "      <td>785.000000</td>\n",
       "      <td>Far</td>\n",
       "    </tr>\n",
       "    <tr>\n",
       "      <th>4</th>\n",
       "      <td>U238_OuterCryostatSupportFiber</td>\n",
       "      <td>Outer Cryostat Support (Fiber)</td>\n",
       "      <td>U-238</td>\n",
       "      <td>MC-089</td>\n",
       "      <td>Hist(2 bins in [0,2], 280 bins in [700.0,3500....</td>\n",
       "      <td>[SS/MS, Energy (keV), Standoff (mm)]</td>\n",
       "      <td>345.0</td>\n",
       "      <td>4.468000e+09</td>\n",
       "      <td>0.5010</td>\n",
       "      <td>0.1910</td>\n",
       "      <td>0.172845</td>\n",
       "      <td>0.065895</td>\n",
       "      <td>R-017.3.3.1</td>\n",
       "      <td>8.328956</td>\n",
       "      <td>2.885993</td>\n",
       "      <td>13.513572</td>\n",
       "      <td>1000000000</td>\n",
       "      <td>1527.000000</td>\n",
       "      <td>Far</td>\n",
       "    </tr>\n",
       "  </tbody>\n",
       "</table>\n",
       "</div>"
      ],
      "text/plain": [
       "                           PDFName                       Component Isotope  \\\n",
       "0   U238_OuterCryostatSupportResin  Outer Cryostat Support (Resin)   U-238   \n",
       "1  Th232_OuterCryostatSupportResin  Outer Cryostat Support (Resin)  Th-232   \n",
       "2    K40_OuterCryostatSupportResin  Outer Cryostat Support (Resin)    K-40   \n",
       "3   Co60_OuterCryostatSupportResin  Outer Cryostat Support (Resin)   Co-60   \n",
       "4   U238_OuterCryostatSupportFiber  Outer Cryostat Support (Fiber)   U-238   \n",
       "\n",
       "    MC ID                                          Histogram  \\\n",
       "0  MC-089  Hist(2 bins in [0,2], 280 bins in [700.0,3500....   \n",
       "1  MC-089  Hist(2 bins in [0,2], 280 bins in [700.0,3500....   \n",
       "2  MC-089  Hist(2 bins in [0,2], 280 bins in [700.0,3500....   \n",
       "3  MC-089  Hist(2 bins in [0,2], 280 bins in [700.0,3500....   \n",
       "4  MC-089  Hist(2 bins in [0,2], 280 bins in [700.0,3500....   \n",
       "\n",
       "                     HistogramAxisNames  Total Mass or Area      Halflife  \\\n",
       "0  [SS/MS, Energy (keV), Standoff (mm)]               345.0  4.468000e+09   \n",
       "1  [SS/MS, Energy (keV), Standoff (mm)]               345.0  1.400000e+10   \n",
       "2  [SS/MS, Energy (keV), Standoff (mm)]               345.0  1.248000e+09   \n",
       "3  [SS/MS, Energy (keV), Standoff (mm)]               345.0  5.270000e+00   \n",
       "4  [SS/MS, Energy (keV), Standoff (mm)]               345.0  4.468000e+09   \n",
       "\n",
       "   SpecActiv  SpecActivErr  RawActiv  RawActivErr  Activity ID  \\\n",
       "0    -0.0229        0.0581 -0.007900     0.020044  R-016.3.4.1   \n",
       "1    -0.0537        0.0468 -0.018526     0.016146  R-016.3.4.1   \n",
       "2    -0.3110        0.5810 -0.107295     0.200445  R-016.3.4.1   \n",
       "3    -0.0375        0.0168 -0.012937     0.005796  R-016.3.4.1   \n",
       "4     0.5010        0.1910  0.172845     0.065895  R-017.3.3.1   \n",
       "\n",
       "   Expected Counts  Expected Counts Err  Expected Counts UL TotalHitEff_N  \\\n",
       "0        -0.380705                  NaN            1.584225    1000000000   \n",
       "1        -2.638408                  NaN            3.772107    1000000000   \n",
       "2        -0.375835                  NaN            1.154449    1000000000   \n",
       "3        -0.300308                  NaN            0.222038    1000000000   \n",
       "4         8.328956             2.885993           13.513572    1000000000   \n",
       "\n",
       "   TotalHitEff_K Group  \n",
       "0    1527.000000   Far  \n",
       "1    4512.880171   Far  \n",
       "2     111.000000   Far  \n",
       "3     785.000000   Far  \n",
       "4    1527.000000   Far  "
      ]
     },
     "execution_count": 7,
     "metadata": {},
     "output_type": "execute_result"
    }
   ],
   "source": [
    "workspace.df_components.head()"
   ]
  },
  {
   "cell_type": "markdown",
   "metadata": {},
   "source": [
    "## b) Alternative option: reading the components table from an existing file\n",
    "\n",
    "\n",
    "We can also just read in the components table, if we've already generated it in a previous run. To illustrate this, we'll load in the file that was created when we ran the ```CreateComponentsTableFromXLS``` method in part **a)**. \n",
    "\n",
    "In the above example, this file was named ```ComponentsTable_D-005_v25_2020-01-21.h5```. It can be loaded using the ```LoadCompontentsTableFromFile``` method:"
   ]
  },
  {
   "cell_type": "code",
   "execution_count": 8,
   "metadata": {},
   "outputs": [
    {
     "name": "stdout",
     "output_type": "stream",
     "text": [
      "\n",
      "Loading input data froma previously-generated components table....\n",
      "\n",
      "WARNING: There is already an input dataframe loaded. It will be overwritten.\n",
      "\n",
      "Loaded dataframe with 130 components.\n",
      "Contains the following quantities of interest:\n",
      "\tPDFName\n",
      "\tComponent\n",
      "\tIsotope\n",
      "\tMC ID\n",
      "\tHistogram\n",
      "\tHistogramAxisNames\n",
      "\tTotal Mass or Area\n",
      "\tHalflife\n",
      "\tSpecActiv\n",
      "\tSpecActivErr\n",
      "\tRawActiv\n",
      "\tRawActivErr\n",
      "\tActivity ID\n",
      "\tExpected Counts\n",
      "\tExpected Counts Err\n",
      "\tExpected Counts UL\n",
      "\tTotalHitEff_N\n",
      "\tTotalHitEff_K\n",
      "\tGroup\n",
      "\n",
      "Fit variables:\n",
      "\t['SS/MS', 'Energy (keV)', 'Standoff (mm)']\n"
     ]
    }
   ],
   "source": [
    "workspace.LoadComponentsTableFromFile( 'ComponentsTable_D-005_v25_2020-01-21.h5' )"
   ]
  },
  {
   "cell_type": "markdown",
   "metadata": {},
   "source": [
    "# Step 3: Generate grouped PDFs\n",
    "\n",
    "The fit that we're eventually going to do requires us to be able to fit a distribution to several PDFs (probability density function), leaving the amplitude of those PDFs free to float in the fit. If we did this with the Geant4-generated distributions from each individual component, we would have way too many free parameters and degenerate distributions, and the fits would never converge. To fix this, we group the distributions into PDFs which represent some aggregate background source. For example, we group the U238 contributions from anything inside the TPC (e.g. the field rings, cathode, etc.) into a single PDF, called \"Internals_U238\". The Th232 contributions produce a different-enough spectrum that we can fit them separately; they are contained in the \"Internals_Th232\" group.\n",
    "\n",
    "> **Note:** Groups are assigned to each component in the configuration file that you loaded in when you constructed the ```workspace``` object.\n",
    "> **Note:** Components can be omitted from the fit by assigning them to the \"Off\" group.\n",
    "\n",
    "Grouping is accomplished using the ```CreateGroupedPDFs()``` method, and the grouped PDFs are stored in ```workspace.df_group_pdfs```, as shown below:\n",
    "\n",
    "\n"
   ]
  },
  {
   "cell_type": "code",
   "execution_count": 9,
   "metadata": {},
   "outputs": [
    {
     "name": "stdout",
     "output_type": "stream",
     "text": [
      "\n",
      "Creating grouped PDFs....\n",
      "\tGroup:     \tExpected Counts:\n",
      "\tFar        \t        4882.22\n",
      "\tVessel_U238 \t       19053.03\n",
      "\tVessel_Th232 \t        2169.26\n",
      "\tOff        \t    32712182.19\n",
      "\tInternals_U238 \t       46351.84\n",
      "\tInternals_Th232 \t        8667.26\n",
      "\tRn222      \t        9107.27\n",
      "\tFullLXeBb2n \t    27949377.02\n",
      "\tFullLXeBb0n \t           0.00\n",
      "\tXe137      \t          46.52\n",
      "\tTotal Sum  \t    28034772.19\n"
     ]
    },
    {
     "data": {
      "text/html": [
       "<div>\n",
       "<style scoped>\n",
       "    .dataframe tbody tr th:only-of-type {\n",
       "        vertical-align: middle;\n",
       "    }\n",
       "\n",
       "    .dataframe tbody tr th {\n",
       "        vertical-align: top;\n",
       "    }\n",
       "\n",
       "    .dataframe thead th {\n",
       "        text-align: right;\n",
       "    }\n",
       "</style>\n",
       "<table border=\"1\" class=\"dataframe\">\n",
       "  <thead>\n",
       "    <tr style=\"text-align: right;\">\n",
       "      <th></th>\n",
       "      <th>Group</th>\n",
       "      <th>Histogram</th>\n",
       "      <th>TotalExpectedCounts</th>\n",
       "    </tr>\n",
       "  </thead>\n",
       "  <tbody>\n",
       "    <tr>\n",
       "      <th>0</th>\n",
       "      <td>Far</td>\n",
       "      <td>Hist(2 bins in [0,2], 280 bins in [700.0,3500....</td>\n",
       "      <td>4882.22</td>\n",
       "    </tr>\n",
       "    <tr>\n",
       "      <th>1</th>\n",
       "      <td>Vessel_U238</td>\n",
       "      <td>Hist(2 bins in [0,2], 280 bins in [700.0,3500....</td>\n",
       "      <td>19053</td>\n",
       "    </tr>\n",
       "    <tr>\n",
       "      <th>2</th>\n",
       "      <td>Vessel_Th232</td>\n",
       "      <td>Hist(2 bins in [0,2], 280 bins in [700.0,3500....</td>\n",
       "      <td>2169.26</td>\n",
       "    </tr>\n",
       "    <tr>\n",
       "      <th>3</th>\n",
       "      <td>Off</td>\n",
       "      <td>Hist(2 bins in [0,2], 280 bins in [700.0,3500....</td>\n",
       "      <td>3.27122e+07</td>\n",
       "    </tr>\n",
       "    <tr>\n",
       "      <th>4</th>\n",
       "      <td>Internals_U238</td>\n",
       "      <td>Hist(2 bins in [0,2], 280 bins in [700.0,3500....</td>\n",
       "      <td>46351.8</td>\n",
       "    </tr>\n",
       "  </tbody>\n",
       "</table>\n",
       "</div>"
      ],
      "text/plain": [
       "            Group                                          Histogram  \\\n",
       "0             Far  Hist(2 bins in [0,2], 280 bins in [700.0,3500....   \n",
       "1     Vessel_U238  Hist(2 bins in [0,2], 280 bins in [700.0,3500....   \n",
       "2    Vessel_Th232  Hist(2 bins in [0,2], 280 bins in [700.0,3500....   \n",
       "3             Off  Hist(2 bins in [0,2], 280 bins in [700.0,3500....   \n",
       "4  Internals_U238  Hist(2 bins in [0,2], 280 bins in [700.0,3500....   \n",
       "\n",
       "  TotalExpectedCounts  \n",
       "0             4882.22  \n",
       "1               19053  \n",
       "2             2169.26  \n",
       "3         3.27122e+07  \n",
       "4             46351.8  "
      ]
     },
     "execution_count": 9,
     "metadata": {},
     "output_type": "execute_result"
    }
   ],
   "source": [
    "workspace.CreateGroupedPDFs()\n",
    "\n",
    "workspace.df_group_pdfs.head()\n"
   ]
  },
  {
   "cell_type": "markdown",
   "metadata": {},
   "source": [
    "The grouped PDFs should be normalized to 1. We can check this explicitly:"
   ]
  },
  {
   "cell_type": "code",
   "execution_count": 10,
   "metadata": {},
   "outputs": [
    {
     "name": "stdout",
     "output_type": "stream",
     "text": [
      "Hist(2 bins in [0,2], 280 bins in [700.0,3500.0], 25 bins in [0.0,650.0]) with sum 0.9999999999999999, 7709 empty bins, and 0 non-finite values\n"
     ]
    }
   ],
   "source": [
    "# Check and make sure any component is normalized to one total count.\n",
    "h_intu238 = workspace.df_group_pdfs['Histogram'].loc[ \\\n",
    "                      workspace.df_group_pdfs['Group']=='Internals_U238' ].values[0]\n",
    "print(h_intu238)"
   ]
  },
  {
   "cell_type": "markdown",
   "metadata": {},
   "source": [
    "We see that this histogram is indeed normalized to 1, and we can also see the binning information."
   ]
  },
  {
   "cell_type": "markdown",
   "metadata": {},
   "source": [
    "# Step 4: Create a model object, use it to generate fake data.\n",
    "\n",
    "The ```nEXOFitModel``` class is a way of organizing all of the various grouped PDFs and the free parameters (e.g. the number of events in each PDF) and combining them into a single distribution which can be plotted, sampled, and fit to data.\n",
    "\n",
    "We first create the model object, then fill it using the DataFrame containing the grouped PDFs."
   ]
  },
  {
   "cell_type": "code",
   "execution_count": 11,
   "metadata": {},
   "outputs": [],
   "source": [
    "model = nEXOFitModel.nEXOFitModel()\n",
    "model.AddPDFsFromDataframe( workspace.df_group_pdfs )\n"
   ]
  },
  {
   "cell_type": "markdown",
   "metadata": {},
   "source": [
    "Once we've added the PDFs, we can sum them together (weighting them appropriately) to create a full model of the data. This is done with the ```GenerateModelDistribution()``` method. We can also sample it using the ```GenerateDataset()```, which just Poisson-samples each weighted bin."
   ]
  },
  {
   "cell_type": "code",
   "execution_count": 12,
   "metadata": {},
   "outputs": [],
   "source": [
    "initial_model = model.GenerateModelDistribution()\n",
    "fake_data = model.GenerateDataset()"
   ]
  },
  {
   "cell_type": "markdown",
   "metadata": {},
   "source": [
    "Let's take a look at our model compared to the fake dataset that we just created. To do so, we'll project all the events onto the energy axis:"
   ]
  },
  {
   "cell_type": "code",
   "execution_count": 13,
   "metadata": {},
   "outputs": [
    {
     "data": {
      "text/plain": [
       "<matplotlib.legend.Legend at 0x103e4cb38>"
      ]
     },
     "execution_count": 13,
     "metadata": {},
     "output_type": "execute_result"
    },
    {
     "data": {
      "image/png": "[encoded data removed]",
      "text/plain": [
       "<Figure size 576x432 with 1 Axes>"
      ]
     },
     "metadata": {
      "needs_background": "light"
     },
     "output_type": "display_data"
    }
   ],
   "source": [
    "plt.rcParams.update({'font.size': 14})\n",
    "fig, ax = plt.subplots (1, 1, figsize=(8, 6))\n",
    "\n",
    "hl.plot1d(ax, initial_model.project([1]).log10(), color=(0.,0.,1.), linewidth=1, label='Full model')\n",
    "hl.plot1d(ax, fake_data.project([1]).log10(), color=(0.,0.,0.), crosses=True, label='Generated dataset')\n",
    "\n",
    "plt.xlabel('Energy (keV)')\n",
    "plt.ylabel('Log10 (Counts)')\n",
    "plt.legend()"
   ]
  },
  {
   "cell_type": "markdown",
   "metadata": {},
   "source": [
    "# Step 5: Create likelihood object\n",
    "\n",
    "The ```nEXOFitLikelihood``` contains a model object like the one created above, and allows us to compute a Poisson-based likelihood by comparing this model to a given dataset. We'll minimize the value of this likelihood in the next step."
   ]
  },
  {
   "cell_type": "code",
   "execution_count": 14,
   "metadata": {},
   "outputs": [],
   "source": [
    "likelihood = nEXOFitLikelihood.nEXOFitLikelihood()"
   ]
  },
  {
   "cell_type": "code",
   "execution_count": 17,
   "metadata": {},
   "outputs": [
    {
     "name": "stdout",
     "output_type": "stream",
     "text": [
      "Name:                     Value:\n",
      "Num_Vessel_U238           1.905e+04\n",
      "Num_Vessel_Th232          2.169e+03\n",
      "Num_Internals_U238        4.635e+04\n",
      "Num_Internals_Th232       8.667e+03\n",
      "Num_Rn222                 9.107e+03\n",
      "Num_FullLXeBb2n           2.795e+07\n",
      "Num_FullLXeBb0n           0.0001\n",
      "Num_Xe137                 46.52\n"
     ]
    }
   ],
   "source": [
    "# Load PDFs into the model contained in the likelihood object. This also\n",
    "# executes the GenerateModelDistribution() method under the hood.\n",
    "\n",
    "likelihood.AddPDFDataframeToModel( workspace.df_group_pdfs )\n",
    "likelihood.PrintVariableList()\n"
   ]
  },
  {
   "cell_type": "code",
   "execution_count": 16,
   "metadata": {},
   "outputs": [
    {
     "name": "stdout",
     "output_type": "stream",
     "text": [
      "[1.90530261e+04 2.16925971e+03 4.63518417e+04 8.66725671e+03\n",
      " 9.10726717e+03 2.79493770e+07 1.00000000e-04 4.65166535e+01]\n"
     ]
    }
   ],
   "source": [
    "\n",
    "initial_guess = np.ones(len(likelihood.variable_list))\n",
    "for i in range(len(likelihood.variable_list)):\n",
    "    initial_guess[i] = (likelihood.variable_list[i]['Value'])\n",
    "print(initial_guess)"
   ]
  },
  {
   "cell_type": "code",
   "execution_count": null,
   "metadata": {},
   "outputs": [],
   "source": [
    "likelihood.AddDataset( likelihood.model_obj.GenerateDataset() )"
   ]
  },
  {
   "cell_type": "code",
   "execution_count": null,
   "metadata": {},
   "outputs": [],
   "source": [
    "variable_values = np.ones(len(likelihood.variable_list))\n",
    "for i in range(0,len(variable_values)):\n",
    "    variable_values[i] = likelihood.variable_list[i]['Value']"
   ]
  },
  {
   "cell_type": "code",
   "execution_count": null,
   "metadata": {},
   "outputs": [],
   "source": [
    "print(likelihood.variable_list[-2]['Name'])"
   ]
  },
  {
   "cell_type": "code",
   "execution_count": null,
   "metadata": {},
   "outputs": [],
   "source": []
  },
  {
   "cell_type": "code",
   "execution_count": null,
   "metadata": {},
   "outputs": [],
   "source": [
    "from iminuit import Minuit"
   ]
  },
  {
   "cell_type": "code",
   "execution_count": null,
   "metadata": {},
   "outputs": [],
   "source": [
    "def NegLogLikelihood(parameter_values):\n",
    "    return likelihood.ComputeNegLogLikelihood(parameter_values)"
   ]
  },
  {
   "cell_type": "code",
   "execution_count": null,
   "metadata": {},
   "outputs": [],
   "source": [
    "initial_values = initial_guess\n",
    "variable_names = tuple(var['Name'] for var in likelihood.initial_values)\n",
    "error_tuple = tuple( 0.02*var['Value'] for var in likelihood.initial_values )\n",
    "par_fix_list = [ False for i in range(len(likelihood.initial_values)) ]\n",
    "#par_fix_list[-2] = True\n",
    "par_fix_tuple = tuple( x for x in par_fix_list )\n",
    "\n",
    "\n",
    "m = Minuit.from_array_func( NegLogLikelihood, \\\n",
    "                            initial_values, \\\n",
    "                            error=error_tuple, \\\n",
    "                            fix=par_fix_tuple, \\\n",
    "                            name=variable_names, \\\n",
    "                            errordef = 0.5 )\n",
    "m.get_param_states()"
   ]
  },
  {
   "cell_type": "code",
   "execution_count": null,
   "metadata": {},
   "outputs": [],
   "source": [
    "m.migrad()"
   ]
  },
  {
   "cell_type": "code",
   "execution_count": null,
   "metadata": {},
   "outputs": [],
   "source": [
    "nll_best = m.fval\n",
    "\n",
    "par_values_best = np.array([value for key,value in m.values.items()])\n",
    "\n",
    "print(nll_best)\n",
    "print(par_values_best)"
   ]
  },
  {
   "cell_type": "code",
   "execution_count": null,
   "metadata": {},
   "outputs": [],
   "source": [
    "num_datasets = 200\n",
    "num_hypotheses = 15\n",
    "xvals = np.linspace(0,28,15)\n",
    "lambdas = np.zeros((num_datasets,num_hypotheses))\n",
    "converged = np.ones(num_datasets,dtype=bool)\n"
   ]
  },
  {
   "cell_type": "code",
   "execution_count": null,
   "metadata": {},
   "outputs": [],
   "source": [
    "import time\n",
    "\n",
    "start = time.time()\n",
    "\n",
    "for j in range(0,num_datasets):\n",
    "    print('Running dataset {}'.format(j))\n",
    "    likelihood.model_obj.UpdateVariables(initial_guess)\n",
    "    likelihood.model_obj.GenerateModelDistribution()\n",
    "    likelihood.AddDataset( likelihood.model_obj.GenerateDataset() )\n",
    "\n",
    "    initial_values = np.copy(initial_guess)\n",
    "    variable_names = tuple(var['Name'] for var in likelihood.initial_values)\n",
    "    error_tuple = tuple( 0.02*var['Value'] for var in likelihood.initial_values )\n",
    "    par_fix_list = [ False for i in range(len(likelihood.initial_values)) ]\n",
    "    #par_fix_list[-2] = True\n",
    "    par_fix_tuple = tuple( x for x in par_fix_list )\n",
    "\n",
    "\n",
    "    m = Minuit.from_array_func( NegLogLikelihood, \\\n",
    "                            initial_values, \\\n",
    "                            error=error_tuple, \\\n",
    "                            fix=par_fix_tuple, \\\n",
    "                            name=variable_names, \\\n",
    "                            errordef = 0.5 )\n",
    "    m.migrad()\n",
    "    nll_best = m.fval\n",
    "    if not m.get_fmin()['is_valid']:\n",
    "        converged[j] = False\n",
    "    \n",
    "    \n",
    "    for i in (range(0,num_hypotheses)):\n",
    "        \n",
    "        initial_values = np.copy(initial_guess)\n",
    "        initial_values[-2] = float(i)*2.+0.000001\n",
    "        variable_names = tuple(var['Name'] for var in likelihood.initial_values)\n",
    "        error_tuple = tuple( 0.02*var['Value'] for var in likelihood.initial_values )\n",
    "        par_fix_list = [ False for i in range(len(likelihood.initial_values)) ]\n",
    "        par_fix_list[-2] = True\n",
    "        par_fix_tuple = tuple( x for x in par_fix_list )\n",
    "    \n",
    "\n",
    "        m = Minuit.from_array_func( NegLogLikelihood, \\\n",
    "                            initial_values, \\\n",
    "                            error=error_tuple, \\\n",
    "                            fix=par_fix_tuple, \\\n",
    "                            name=variable_names, \\\n",
    "                            errordef = 0.5 )\n",
    "        m.migrad()\n",
    "        lambdas[j,i] = 2*(m.fval - nll_best)\n",
    "        if not m.get_fmin()['is_valid']:\n",
    "            converged[j] = False\n",
    "            \n",
    "print('Elapsed: {:4.4}s'.format(time.time()-start))"
   ]
  },
  {
   "cell_type": "code",
   "execution_count": null,
   "metadata": {},
   "outputs": [],
   "source": [
    "for i in range(0,20):\n",
    "    if converged[i]:\n",
    "        plt.plot(xvals,lambdas[i],'-',label='Run{}'.format(i))\n",
    "plt.plot(xvals,np.ones(len(xvals))*2.706,'--k')\n",
    "plt.text(7.,2.9,'90% confidence threshold',fontsize=10)\n",
    "plt.axis([0.,30.,0.,10.])\n",
    "plt.legend(loc='upper left',fontsize=10,ncol=2,labelspacing=0.1)\n",
    "plt.ylabel('Test statistic')\n",
    "plt.xlabel('Number of 0nuBB counts')\n",
    "print('Num converged: {}'.format(np.sum(converged)))"
   ]
  },
  {
   "cell_type": "code",
   "execution_count": null,
   "metadata": {},
   "outputs": [],
   "source": [
    "plt.plot(xvals,lambdas[8],'-',label='Example toy experiment')\n",
    "plt.plot(xvals,np.ones(len(xvals))*2.706,'--k')\n",
    "plt.text(12.,2.9,'90% confidence threshold',fontsize=10)\n",
    "plt.text(13.5,2.3,'(Wilks\\' theorem)',fontsize=10)\n",
    "plt.axis([0.,20.,0.,6.])\n",
    "plt.legend(loc='upper left',fontsize=11,ncol=2,labelspacing=0.1)\n",
    "plt.ylabel('Likelihood ratio test statistic')\n",
    "plt.xlabel('Assumed number of 0nuBB counts')\n",
    "plt.savefig('example_toy_experiment_test_statistic.png',dpi=400,bbox_inches='tight')"
   ]
  },
  {
   "cell_type": "code",
   "execution_count": null,
   "metadata": {},
   "outputs": [],
   "source": [
    "crossings = np.zeros(20)\n",
    "\n",
    "for i in range(0,20):\n",
    "    if converged[i]:\n",
    "        p = np.polyfit(xvals,lambdas[i],2.)\n",
    "        crossings[i] = (-p[1] + np.sqrt( p[1]**2 - 4*(p[0])*(p[2]-2.706) ))/(2*p[0])\n",
    "\n",
    "\n"
   ]
  },
  {
   "cell_type": "code",
   "execution_count": null,
   "metadata": {},
   "outputs": [],
   "source": [
    "fig,ax = plt.subplots(1,1)\n",
    "hteststats = hl.hist(crossings[crossings>0.],bins=np.linspace(0,30,31))\n",
    "hl.plot1d(ax,hteststats,color='r')\n",
    "ax.set_ylabel('Counts (20 trials total)')\n",
    "ax.set_xlabel('0nuBB counts at 90% confidence limit')\n",
    "plt.savefig('example_sensitivity_distribution.png',dpi=400,bbox_inches='tight')"
   ]
  },
  {
   "cell_type": "code",
   "execution_count": null,
   "metadata": {},
   "outputs": [],
   "source": [
    "hcdf = hl.Hist(hteststats.bins,np.cumsum(hteststats.values)/np.sum(hteststats.values))\n",
    "hl.plot1d(hcdf)\n",
    "plt.axis([0.,30.,0.,1.])\n",
    "plt.grid()"
   ]
  },
  {
   "cell_type": "code",
   "execution_count": null,
   "metadata": {},
   "outputs": [],
   "source": [
    "initial_model"
   ]
  },
  {
   "cell_type": "code",
   "execution_count": null,
   "metadata": {},
   "outputs": [],
   "source": [
    "df_variables = pd.DataFrame(columns=['PDF','Value','Function'])\n",
    "\n",
    "df_variables = df_variables.append({'PDF':'Initial Model','Value':10.,'Function': lambda pdf, norm: norm*pdf},ignore_index=True)"
   ]
  },
  {
   "cell_type": "code",
   "execution_count": null,
   "metadata": {},
   "outputs": [],
   "source": [
    "parameter = lambda pdf,norm: norm*pdf\n",
    "df_variables.head()"
   ]
  },
  {
   "cell_type": "code",
   "execution_count": null,
   "metadata": {},
   "outputs": [],
   "source": [
    "scaledhist = df_variables['Function'].iloc[0](initial_model,20.)\n",
    "\n",
    "hl.plot1d(initial_model.project([1]).log10(),color=(0.,0.,1.),linewidth=1)\n",
    "hl.plot1d(scaledhist.project([1]).log10(),color=(1.,0.,0.),linewidth=1)\n"
   ]
  },
  {
   "cell_type": "code",
   "execution_count": null,
   "metadata": {},
   "outputs": [],
   "source": []
  },
  {
   "cell_type": "code",
   "execution_count": null,
   "metadata": {},
   "outputs": [],
   "source": []
  },
  {
   "cell_type": "code",
   "execution_count": null,
   "metadata": {},
   "outputs": [],
   "source": []
  }
 ],
 "metadata": {
  "kernelspec": {
   "display_name": "Python 3",
   "language": "python",
   "name": "python3"
  },
  "language_info": {
   "codemirror_mode": {
    "name": "ipython",
    "version": 3
   },
   "file_extension": ".py",
   "mimetype": "text/x-python",
   "name": "python",
   "nbconvert_exporter": "python",
   "pygments_lexer": "ipython3",
   "version": "3.7.3"
  }
 },
 "nbformat": 4,
 "nbformat_minor": 2
}
